{
 "cells": [
  {
   "cell_type": "markdown",
   "metadata": {},
   "source": [
    "# 파이썬 프로그래밍 기초 1부"
   ]
  },
  {
   "cell_type": "markdown",
   "metadata": {},
   "source": [
    "## 기본 자료형: 정수, 문자열\n",
    "\n",
    "**주의:** 문자 자료형은 따로 없음. C, Java와 다름.\n",
    "\n",
    "* `print()` 함수: 지정된 값을 화면에 출력하는 함수"
   ]
  },
  {
   "cell_type": "code",
   "execution_count": 1,
   "metadata": {},
   "outputs": [],
   "source": [
    "a = 3\n",
    "b = '42'\n",
    "\n",
    "print(a)\n",
    "print(b)\n",
    "print(type(a))\n",
    "print(type(b))"
   ]
  },
  {
   "cell_type": "code",
   "execution_count": 2,
   "metadata": {},
   "outputs": [
    {
     "name": "stdout",
     "output_type": "stream",
     "text": [
      "6\n",
      "9\n",
      "4242\n",
      "424242\n"
     ]
    }
   ],
   "source": [
    "print(a + a)\n",
    "print(a*3)\n",
    "print(b + b)\n",
    "print(b * 3)"
   ]
  },
  {
   "cell_type": "code",
   "execution_count": 9,
   "metadata": {},
   "outputs": [
    {
     "ename": "TypeError",
     "evalue": "unsupported operand type(s) for +: 'int' and 'str'",
     "output_type": "error",
     "traceback": [
      "\u001b[0;31m---------------------------------------------------------------------------\u001b[0m",
      "\u001b[0;31mTypeError\u001b[0m                                 Traceback (most recent call last)",
      "\u001b[0;32m<ipython-input-9-bd58363a63fc>\u001b[0m in \u001b[0;36m<module>\u001b[0;34m\u001b[0m\n\u001b[0;32m----> 1\u001b[0;31m \u001b[0ma\u001b[0m \u001b[0;34m+\u001b[0m \u001b[0mb\u001b[0m\u001b[0;34m\u001b[0m\u001b[0;34m\u001b[0m\u001b[0m\n\u001b[0m",
      "\u001b[0;31mTypeError\u001b[0m: unsupported operand type(s) for +: 'int' and 'str'"
     ]
    }
   ],
   "source": [
    "a + b"
   ]
  },
  {
   "cell_type": "code",
   "execution_count": 10,
   "metadata": {},
   "outputs": [
    {
     "name": "stdout",
     "output_type": "stream",
     "text": [
      "45\n",
      "342\n"
     ]
    }
   ],
   "source": [
    "print(a + int(b))\n",
    "print(str(a) + b)"
   ]
  },
  {
   "cell_type": "markdown",
   "metadata": {},
   "source": [
    "## 문자열 다루기\n",
    "\n",
    "문자열을 다루는 다양한 도구들의 사용법을 살펴본다."
   ]
  },
  {
   "cell_type": "markdown",
   "metadata": {},
   "source": [
    "### 인덱싱"
   ]
  },
  {
   "cell_type": "code",
   "execution_count": 11,
   "metadata": {},
   "outputs": [
    {
     "name": "stdout",
     "output_type": "stream",
     "text": [
      "P\n",
      "y\n",
      "n\n",
      "n\n"
     ]
    }
   ],
   "source": [
    "lang = 'Python'\n",
    "print(lang[0])\n",
    "print(lang[1])\n",
    "print(lang[5])\n",
    "print(lang[-1])"
   ]
  },
  {
   "cell_type": "markdown",
   "metadata": {},
   "source": [
    "### 슬라이싱"
   ]
  },
  {
   "cell_type": "code",
   "execution_count": 12,
   "metadata": {},
   "outputs": [
    {
     "name": "stdout",
     "output_type": "stream",
     "text": [
      "yth\n",
      "Python\n",
      "Pyt\n",
      "th\n",
      "yhn\n",
      "Pto\n"
     ]
    }
   ],
   "source": [
    "print(lang[1:4])\n",
    "print(lang[:])\n",
    "print(lang[:3])\n",
    "print(lang[2:4])\n",
    "print(lang[1:6:2])\n",
    "print(lang[::2])\n"
   ]
  },
  {
   "cell_type": "markdown",
   "metadata": {},
   "source": [
    "#### 주의:\n",
    "인덱싱과 슬라이싱은 정수 자료형에는 적용할 수 없다."
   ]
  },
  {
   "cell_type": "code",
   "execution_count": 13,
   "metadata": {},
   "outputs": [
    {
     "ename": "TypeError",
     "evalue": "'int' object is not subscriptable",
     "output_type": "error",
     "traceback": [
      "\u001b[0;31m---------------------------------------------------------------------------\u001b[0m",
      "\u001b[0;31mTypeError\u001b[0m                                 Traceback (most recent call last)",
      "\u001b[0;32m<ipython-input-13-94f1dfc62b27>\u001b[0m in \u001b[0;36m<module>\u001b[0;34m\u001b[0m\n\u001b[1;32m      1\u001b[0m \u001b[0ma\u001b[0m \u001b[0;34m=\u001b[0m \u001b[0;36m357\u001b[0m\u001b[0;34m\u001b[0m\u001b[0;34m\u001b[0m\u001b[0m\n\u001b[0;32m----> 2\u001b[0;31m \u001b[0ma\u001b[0m\u001b[0;34m[\u001b[0m\u001b[0;36m1\u001b[0m\u001b[0;34m]\u001b[0m\u001b[0;34m\u001b[0m\u001b[0;34m\u001b[0m\u001b[0m\n\u001b[0m",
      "\u001b[0;31mTypeError\u001b[0m: 'int' object is not subscriptable"
     ]
    }
   ],
   "source": [
    "a = 357\n",
    "a[1]"
   ]
  },
  {
   "cell_type": "code",
   "execution_count": null,
   "metadata": {},
   "outputs": [],
   "source": [
    "b = str(a)\n",
    "print(b[1])"
   ]
  },
  {
   "cell_type": "markdown",
   "metadata": {},
   "source": [
    "### `len()` 메소드: 문자열 길이값 구하기"
   ]
  },
  {
   "cell_type": "code",
   "execution_count": null,
   "metadata": {},
   "outputs": [],
   "source": [
    "print(len(lang))"
   ]
  },
  {
   "cell_type": "markdown",
   "metadata": {},
   "source": [
    "### `count()` 메소드: 특정 문자열 출현 횟수 확인하기"
   ]
  },
  {
   "cell_type": "code",
   "execution_count": null,
   "metadata": {},
   "outputs": [],
   "source": [
    "langLearning = lang + \" Learning\"\n",
    "print(langLearning.count('n'))\n",
    "print(langLearning.count('yt'))"
   ]
  },
  {
   "cell_type": "markdown",
   "metadata": {},
   "source": [
    "## 리스트 자료형"
   ]
  },
  {
   "cell_type": "markdown",
   "metadata": {},
   "source": [
    "* 파이썬에서 기본으로 제공하는 자료형이다.\n",
    "* 임의의 데이터를 하나로 모아 함께 움직이도록 한다.\n",
    "    이런 의미로 **모둠** 자료형(collection data types)이라 불린다.\n",
    "* 원소들 사이의 순서는 절대적으로 중요하다."
   ]
  },
  {
   "cell_type": "code",
   "execution_count": null,
   "metadata": {},
   "outputs": [],
   "source": [
    "a = [ ]\n",
    "b = [1, 2, 3]\n",
    "c = [1, 2, 'Math', 'Coding']\n",
    "d = [1, 2, ['Math', 'Coding']]\n",
    "\n",
    "print(type(d))"
   ]
  },
  {
   "cell_type": "markdown",
   "metadata": {},
   "source": [
    "### 리스트 자료형 다루기\n",
    "\n",
    "리스트를 다루는 다양한 도구들의 사용법을 살펴본다."
   ]
  },
  {
   "cell_type": "markdown",
   "metadata": {},
   "source": [
    "### `len()` 메소드: 리스트 길이 구하기\n",
    "\n",
    "* 문자열의 `len()` 메소드와 유사한 기능 수행"
   ]
  },
  {
   "cell_type": "code",
   "execution_count": null,
   "metadata": {},
   "outputs": [],
   "source": [
    "# c와 d의 길이가 다르다\n",
    "\n",
    "print(len(c))\n",
    "print(len(d))"
   ]
  },
  {
   "cell_type": "markdown",
   "metadata": {},
   "source": [
    "### `count()` 메소드: 특정 원소 출현 횟수 구하기\n",
    "\n",
    "* 문자열의 `count()` 메소드와 유사한 기능 수행"
   ]
  },
  {
   "cell_type": "code",
   "execution_count": null,
   "metadata": {},
   "outputs": [],
   "source": [
    "f = [2, 4, 6, 3, 6, 3, 7, 3, 2, 7, 3, 7]\n",
    "f.count(3)"
   ]
  },
  {
   "cell_type": "markdown",
   "metadata": {},
   "source": [
    "### 인덱싱\n",
    "\n",
    "* 문자열의 인덱싱과 유사"
   ]
  },
  {
   "cell_type": "code",
   "execution_count": null,
   "metadata": {},
   "outputs": [],
   "source": [
    "a = [ ]\n",
    "b = [1, 2, 3]\n",
    "c = ['Coding', 'is', 'not', 'difficult']\n",
    "d = [1, 2, 'Math', 'Coding']\n",
    "e = [1, 2, ['Math', 'Coding']]\n",
    "print(b[0])  # 0은 b의 첫 원소를 가르킵니다.\n",
    "print(b[2]) # 2는 b의 세벗째 원소를 가르킵니다.\n",
    "print(b[-1])  # -1은 b의 마지막 원소를 가르킵니다.\n",
    "print(c[2])\n",
    "print(e[2])\n",
    "\n",
    "# 중첩 리스트의 인덱싱은 중첩된 방식으로!\n",
    "#[2][1]은 3의 두번째 원소인 ['Math', 'Coding'] list의 두번째 원소를 가르킵니다.\n",
    "print(e[2][1]) "
   ]
  },
  {
   "cell_type": "markdown",
   "metadata": {},
   "source": [
    "### 슬라이싱\n",
    "\n",
    "* 문자열의 슬라이싱과 유사"
   ]
  },
  {
   "cell_type": "code",
   "execution_count": null,
   "metadata": {},
   "outputs": [],
   "source": [
    "a = [1,2,3,4,5,6,7,8,9]\n",
    "print(a[0:5])\n",
    "print(a[3:])\n",
    "print(a[:])\n",
    "print(e[2][:])"
   ]
  },
  {
   "cell_type": "markdown",
   "metadata": {},
   "source": [
    "### 리스트 연산자\n",
    "\n",
    "* 덧셈, 곱셈이 문자열의 경우와 유사하게 기능"
   ]
  },
  {
   "cell_type": "code",
   "execution_count": null,
   "metadata": {},
   "outputs": [],
   "source": [
    "a = [3,5]\n",
    "b = [4,7]\n",
    "\n",
    "print (a + b)\n",
    "print (a * 3)\n",
    "print (a * 2 + b * 3)"
   ]
  },
  {
   "cell_type": "markdown",
   "metadata": {},
   "source": [
    "### 리스트 원소 변경/삭제/추가\n",
    "\n",
    "* 인덱싱을 활용하여 리스트의 원소를 변경 및 삭제할 수 있음.\n",
    "* 기존의 리스트에 원소를 추가할 수 있음."
   ]
  },
  {
   "cell_type": "code",
   "execution_count": null,
   "metadata": {},
   "outputs": [],
   "source": [
    "# 변경\n",
    "a = [1,3,3,3,3,5,8,9]\n",
    "a[3] = 7\n",
    "print(a)\n",
    "\n",
    "# 삭제\n",
    "del a[6]\n",
    "print(a)\n",
    "\n",
    "a.remove(3) # 맨 처음 것만 삭제됨\n",
    "print(a)\n",
    "\n",
    "# 추가\n",
    "a.append(4)\n",
    "print (a)"
   ]
  },
  {
   "cell_type": "markdown",
   "metadata": {},
   "source": [
    "### 리스트 정렬"
   ]
  },
  {
   "cell_type": "code",
   "execution_count": null,
   "metadata": {},
   "outputs": [],
   "source": [
    "a = [1,5,4,3,9]  # 정렬이 안된 상태\n",
    "a.sort()        # 오름차순으로 정렬\n",
    "print(a) \n",
    "\n",
    "a.reverse()     # 오름차순의 반대방향으로 정렬, 즉 내림차순\n",
    "print(a)"
   ]
  },
  {
   "cell_type": "code",
   "execution_count": null,
   "metadata": {},
   "outputs": [],
   "source": [
    "# 내림차순 정렬 다른 방식\n",
    "a = [1,5,4,3,9]  \n",
    "a.sort(reverse=True)\n",
    "print(a) "
   ]
  },
  {
   "cell_type": "markdown",
   "metadata": {},
   "source": [
    "* 문자열도 정렬 가능.\n",
    "* 알파벳 순서 (사전처럼)"
   ]
  },
  {
   "cell_type": "code",
   "execution_count": null,
   "metadata": {},
   "outputs": [],
   "source": [
    "a = ['totamo', 'mango',  'watermellon', 'apple',]\n",
    "a.sort()\n",
    "print (a)\n",
    "a.reverse()\n",
    "print (a)"
   ]
  },
  {
   "cell_type": "markdown",
   "metadata": {},
   "source": [
    "### 리스트 원소의 인덱스 구하기"
   ]
  },
  {
   "cell_type": "code",
   "execution_count": null,
   "metadata": {},
   "outputs": [],
   "source": [
    "a = ['영희', '철수', 'Charles']\n",
    "a.index('철수')"
   ]
  },
  {
   "cell_type": "markdown",
   "metadata": {},
   "source": [
    "### 원소 포함 여부 확인"
   ]
  },
  {
   "cell_type": "code",
   "execution_count": 14,
   "metadata": {},
   "outputs": [
    {
     "name": "stdout",
     "output_type": "stream",
     "text": [
      "True\n",
      "False\n"
     ]
    }
   ],
   "source": [
    "a = [3,1,6,4,9]\n",
    "print(1 in a)\n",
    "print(0 in a)"
   ]
  },
  {
   "cell_type": "markdown",
   "metadata": {},
   "source": [
    "## `for` 반복문"
   ]
  },
  {
   "cell_type": "markdown",
   "metadata": {},
   "source": [
    "* 지정된 구간 내에서 동일한 명령문을 반복 수행.\n",
    "* 반복되는 명령문 자체는 동일하지만 사용되는 변수들의 값이 반복실행될 때마다 변경됨.\n",
    "* 반복구간 지정: 문자열, 리스트 등 모둠 자료형 활용"
   ]
  },
  {
   "cell_type": "markdown",
   "metadata": {},
   "source": [
    "**주의: 들여쓰기와 콜론(`:`)**\n",
    "\n",
    "* 들여쓰기와 콜론의 사용에 주의할 것\n",
    "    * 선택 아닌 필수.\n",
    "* 들여쓰기가 맞지 않으면 오류가 발생하거나 원하지 않는 방식으로 실행될 수 있음."
   ]
  },
  {
   "cell_type": "markdown",
   "metadata": {},
   "source": [
    "#### 리스트 및 문자열 항목 나열하기"
   ]
  },
  {
   "cell_type": "code",
   "execution_count": 15,
   "metadata": {},
   "outputs": [
    {
     "name": "stdout",
     "output_type": "stream",
     "text": [
      "0\n",
      "1\n",
      "2\n",
      "3\n",
      "4\n"
     ]
    }
   ],
   "source": [
    "a = [0,1,2,3,4]\n",
    "for i in a:\n",
    "    print(i)"
   ]
  },
  {
   "cell_type": "code",
   "execution_count": 16,
   "metadata": {},
   "outputs": [
    {
     "name": "stdout",
     "output_type": "stream",
     "text": [
      "P\n",
      "y\n",
      "t\n",
      "h\n",
      "o\n",
      "n\n"
     ]
    }
   ],
   "source": [
    "lang = \"Python\"\n",
    "for char in lang:\n",
    "    print(char)"
   ]
  },
  {
   "cell_type": "code",
   "execution_count": 17,
   "metadata": {},
   "outputs": [
    {
     "name": "stdout",
     "output_type": "stream",
     "text": [
      "list a의 요소들의 합은 10 이다.\n"
     ]
    }
   ],
   "source": [
    "b = 0\n",
    "for i in a:\n",
    "    b = b + i \n",
    "print('list a의 요소들의 합은 {} 이다.'.format(b))"
   ]
  },
  {
   "cell_type": "code",
   "execution_count": 18,
   "metadata": {},
   "outputs": [
    {
     "name": "stdout",
     "output_type": "stream",
     "text": [
      "[0, 1, 2, 3, 4]\n"
     ]
    }
   ],
   "source": [
    "b = []\n",
    "for i in a:\n",
    "    b.append(i)\n",
    "print (b)"
   ]
  },
  {
   "cell_type": "markdown",
   "metadata": {},
   "source": [
    "#### 중첩 반복문 예제: 구구단 외우기"
   ]
  },
  {
   "cell_type": "code",
   "execution_count": 19,
   "metadata": {},
   "outputs": [
    {
     "name": "stdout",
     "output_type": "stream",
     "text": [
      "2 2는(은) 4\n",
      "2 3는(은) 6\n",
      "2 4는(은) 8\n",
      "2 5는(은) 10\n",
      "2 6는(은) 12\n",
      "2 7는(은) 14\n",
      "2 8는(은) 16\n",
      "2 9는(은) 18\n",
      "3 2는(은) 6\n",
      "3 3는(은) 9\n",
      "3 4는(은) 12\n",
      "3 5는(은) 15\n",
      "3 6는(은) 18\n",
      "3 7는(은) 21\n",
      "3 8는(은) 24\n",
      "3 9는(은) 27\n"
     ]
    }
   ],
   "source": [
    "level = [2,3]\n",
    "nums = [2,3,4,5,6,7,8,9]\n",
    "\n",
    "for i in level:\n",
    "    for j in nums:\n",
    "        print('{} {}는(은) {}'.format(i, j, i*j))"
   ]
  },
  {
   "cell_type": "markdown",
   "metadata": {},
   "source": [
    "## `if` 조건문"
   ]
  },
  {
   "cell_type": "markdown",
   "metadata": {},
   "source": [
    "* 경우에 따라 서로 다른 명령문 실행"
   ]
  },
  {
   "cell_type": "code",
   "execution_count": 20,
   "metadata": {},
   "outputs": [
    {
     "name": "stdout",
     "output_type": "stream",
     "text": [
      "3은 0보다 크다\n"
     ]
    }
   ],
   "source": [
    "a = 3\n",
    "if a > 0:\n",
    "    print('{}은 0보다 크다'.format(a))"
   ]
  },
  {
   "cell_type": "code",
   "execution_count": 21,
   "metadata": {},
   "outputs": [
    {
     "name": "stdout",
     "output_type": "stream",
     "text": [
      "4\n",
      "5\n"
     ]
    }
   ],
   "source": [
    "for i in [1,2,3,4,5]:\n",
    "    if i > 3:        \n",
    "        print(i)     "
   ]
  },
  {
   "cell_type": "markdown",
   "metadata": {},
   "source": [
    "#### `if ... else ...`"
   ]
  },
  {
   "cell_type": "code",
   "execution_count": 22,
   "metadata": {},
   "outputs": [
    {
     "name": "stdout",
     "output_type": "stream",
     "text": [
      "4 is not less than zero\n"
     ]
    }
   ],
   "source": [
    "a = 4\n",
    "if a < 0:\n",
    "    print('{} is less than zero'.format(a))\n",
    "else:\n",
    "    print('{} is not less than zero'.format(a))"
   ]
  },
  {
   "cell_type": "code",
   "execution_count": 23,
   "metadata": {},
   "outputs": [
    {
     "name": "stdout",
     "output_type": "stream",
     "text": [
      "지하철 타고가자.\n"
     ]
    }
   ],
   "source": [
    "money = 4900\n",
    "if money >= 5000:\n",
    "    print ('택시 타고가자.')\n",
    "else:\n",
    "    print ('지하철 타고가자.')"
   ]
  },
  {
   "cell_type": "markdown",
   "metadata": {},
   "source": [
    "### 다중 조건문: `if ... elif ... elif ... else ...`"
   ]
  },
  {
   "cell_type": "code",
   "execution_count": 24,
   "metadata": {},
   "outputs": [
    {
     "name": "stdout",
     "output_type": "stream",
     "text": [
      "오이는 야채\n",
      "아이폰는 야채도 아니고 과일도 아니고 고기도 아니다.\n"
     ]
    }
   ],
   "source": [
    "a = ['오이', '상추', '고추']\n",
    "b = ['사과', '수박']\n",
    "c = ['닭', '소', '돼지']\n",
    "d = '오이'\n",
    "\n",
    "if d in a:\n",
    "    print ('{}는 야채'.format(d) )\n",
    "elif d in b:\n",
    "    print ('{} 는 과일'.format(d))\n",
    "elif d in c:\n",
    "    print ('{}는 고기'.format(d))\n",
    "else:\n",
    "    print ('{}는 야채도 아니고 과일도 아니고 고기도 아니다.'.format(d))\n",
    "\n",
    "d = '아이폰'\n",
    "if d in a:\n",
    "    print ('{}는 야채'.format(d))\n",
    "elif d in b:\n",
    "    print ('{}는 과일'.format(d))\n",
    "elif d in c:\n",
    "    print ('{}는 고기' .format(d))\n",
    "else:\n",
    "    print ('{}는 야채도 아니고 과일도 아니고 고기도 아니다.' .format(d))"
   ]
  },
  {
   "cell_type": "markdown",
   "metadata": {},
   "source": [
    "## 집합"
   ]
  },
  {
   "cell_type": "markdown",
   "metadata": {},
   "source": [
    "* 리스트를 이용하여 집합을 구현할 수 있다.\n",
    "* **주의:** 파이썬 자체에 집합(set) 자료형을 제공한다.\n",
    "* 데이터분석 분야에서 리스트의 역할이 훨씬 중요하다. \n",
    "* 따라서 리스트의 활용을 보여주는 예제 정도로 생각하면 된다."
   ]
  },
  {
   "cell_type": "markdown",
   "metadata": {},
   "source": [
    "### 집합 생성\n",
    "\n",
    "리스트를 이용하여 집합을 생성하는 방법은 리스트를 생성하는 과정과 거의 비슷하다."
   ]
  },
  {
   "cell_type": "markdown",
   "metadata": {},
   "source": [
    "#### 0부터 5까지 자연수들의 집합"
   ]
  },
  {
   "cell_type": "code",
   "execution_count": 25,
   "metadata": {},
   "outputs": [],
   "source": [
    "set0to10 = [0, 1, 2, 3, 4, 5]"
   ]
  },
  {
   "cell_type": "markdown",
   "metadata": {},
   "source": [
    "하지만 위 집합은 다음 집합과 동일하지 않다."
   ]
  },
  {
   "cell_type": "code",
   "execution_count": 26,
   "metadata": {},
   "outputs": [],
   "source": [
    "set0to10_a = [1, 0, 2, 3, 4, 5]"
   ]
  },
  {
   "cell_type": "code",
   "execution_count": 27,
   "metadata": {},
   "outputs": [
    {
     "name": "stdout",
     "output_type": "stream",
     "text": [
      "False\n"
     ]
    }
   ],
   "source": [
    "print(set0to10 == set0to10_a)"
   ]
  },
  {
   "cell_type": "markdown",
   "metadata": {},
   "source": [
    "따라서 순서를 무시하도록 만들어야 한다. \n",
    "리스트 자료형에서 제공하는 정렬 도구인 `sort()` 메소드를 활용한다.\n",
    "\n",
    "**주의:** 특정 자료형에만 사용할 수 있는 함수를 **메소드**라 부른다.\n",
    "메소드는 특정 자료형값 뒤에 `값.메소드()` 형식으로 사용된다.\n",
    "\n",
    "`sort()` 메소드는 기존 리스트를 정렬하여 변환시킨다."
   ]
  },
  {
   "cell_type": "code",
   "execution_count": 28,
   "metadata": {},
   "outputs": [
    {
     "data": {
      "text/plain": [
       "[0, 1, 2, 3, 4, 5]"
      ]
     },
     "execution_count": 28,
     "metadata": {},
     "output_type": "execute_result"
    }
   ],
   "source": [
    "set0to10.sort()\n",
    "set0to10"
   ]
  },
  {
   "cell_type": "code",
   "execution_count": 29,
   "metadata": {},
   "outputs": [
    {
     "data": {
      "text/plain": [
       "[0, 1, 2, 3, 4, 5]"
      ]
     },
     "execution_count": 29,
     "metadata": {},
     "output_type": "execute_result"
    }
   ],
   "source": [
    "set0to10_a.sort()\n",
    "set0to10"
   ]
  },
  {
   "cell_type": "markdown",
   "metadata": {},
   "source": [
    "이제 두 값이 같음을 알 수 있다."
   ]
  },
  {
   "cell_type": "code",
   "execution_count": 30,
   "metadata": {},
   "outputs": [
    {
     "data": {
      "text/plain": [
       "True"
      ]
     },
     "execution_count": 30,
     "metadata": {},
     "output_type": "execute_result"
    }
   ],
   "source": [
    "set0to10 == set0to10_a"
   ]
  },
  {
   "cell_type": "markdown",
   "metadata": {},
   "source": [
    "그런데 중복 원소들은 어떻게 할까?"
   ]
  },
  {
   "cell_type": "code",
   "execution_count": 31,
   "metadata": {},
   "outputs": [],
   "source": [
    "set0to10_b = [0, 1, 0, 2, 3, 4, 5]"
   ]
  },
  {
   "cell_type": "markdown",
   "metadata": {},
   "source": [
    "정렬만으로는 부족하다."
   ]
  },
  {
   "cell_type": "code",
   "execution_count": 32,
   "metadata": {},
   "outputs": [
    {
     "data": {
      "text/plain": [
       "[0, 0, 1, 2, 3, 4, 5]"
      ]
     },
     "execution_count": 32,
     "metadata": {},
     "output_type": "execute_result"
    }
   ],
   "source": [
    "set0to10_b.sort()\n",
    "set0to10_b"
   ]
  },
  {
   "cell_type": "code",
   "execution_count": 33,
   "metadata": {},
   "outputs": [
    {
     "data": {
      "text/plain": [
       "False"
      ]
     },
     "execution_count": 33,
     "metadata": {},
     "output_type": "execute_result"
    }
   ],
   "source": [
    "set0to10 == set0to10_b"
   ]
  },
  {
   "cell_type": "markdown",
   "metadata": {},
   "source": [
    "따라서 중복 원소를 제거해야 하는데\n",
    "다음과 같이 `for` 반복문을 이용하는 수 밖에 없다."
   ]
  },
  {
   "cell_type": "code",
   "execution_count": 34,
   "metadata": {},
   "outputs": [],
   "source": [
    "set0to10_b1 = []\n",
    "\n",
    "for item in set0to10_b:\n",
    "    if item not in set0to10_b1:\n",
    "        set0to10_b1.append(item)\n",
    "    else:\n",
    "        pass\n",
    "\n",
    "set0to10_b = set0to10_b1"
   ]
  },
  {
   "cell_type": "markdown",
   "metadata": {},
   "source": [
    "이제 두 리스트가 집합으로 동일해졌다."
   ]
  },
  {
   "cell_type": "code",
   "execution_count": 35,
   "metadata": {},
   "outputs": [
    {
     "data": {
      "text/plain": [
       "True"
      ]
     },
     "execution_count": 35,
     "metadata": {},
     "output_type": "execute_result"
    }
   ],
   "source": [
    "set0to10 == set0to10_b"
   ]
  },
  {
   "cell_type": "markdown",
   "metadata": {},
   "source": [
    "**결론:** 리스트를 집합처럼 다루려면 두 과정을 거쳐야 한다.\n",
    "\n",
    "* 정렬\n",
    "* 중복 원소 제거"
   ]
  },
  {
   "cell_type": "markdown",
   "metadata": {},
   "source": [
    "### 리스트 조건제시법(List Comprehension)\n",
    "\n",
    "앞서 살펴 본 것처럼 정렬되어 있으며 중복이 없는 원소들로 구성된 리스트는 집합으로 간주될 수 있다.\n",
    "여기서는 집합을 정의할 때 사용되는 조건제시법을 활용하여 정렬되어 있으며, 중복 원소가 없는 리스트를 간단하게 \n",
    "생성할 수 있는 방법을 소개한다."
   ]
  },
  {
   "cell_type": "markdown",
   "metadata": {},
   "source": [
    "먼저 0부터 5까지의 자연수로 구성된 리스트를 조건제십으로 정의하면 다음과 같다."
   ]
  },
  {
   "cell_type": "code",
   "execution_count": 36,
   "metadata": {},
   "outputs": [
    {
     "name": "stdout",
     "output_type": "stream",
     "text": [
      "[0, 1, 2, 3, 4, 5]\n"
     ]
    }
   ],
   "source": [
    "set0to10_com = [num for num in range(6)]\n",
    "print(set0to10_com)"
   ]
  },
  {
   "cell_type": "code",
   "execution_count": 37,
   "metadata": {},
   "outputs": [
    {
     "data": {
      "text/plain": [
       "True"
      ]
     },
     "execution_count": 37,
     "metadata": {},
     "output_type": "execute_result"
    }
   ],
   "source": [
    "set0to10 == set0to10_com"
   ]
  },
  {
   "cell_type": "markdown",
   "metadata": {},
   "source": [
    "리스트 조건제시법을 사용하면 리스트의 크기에 구애받지 않고 유한집합을 정의할 수 있다.\n",
    "단, 리스트 원소들의 특징을 정확하게 **명세(specification)**해 주어야 한다.\n",
    "\n",
    "아래 정의는 다음 집합에 해당한다.\n",
    "\n",
    "```\n",
    "{x | 100 <= x <= 1,000,000, 단 x 는 짝수}\n",
    "```\n",
    "\n",
    "* `if`: '단' 에 해당\n",
    "* `x % 2 == 0` : 'x 는 짝수' 에 해당"
   ]
  },
  {
   "cell_type": "code",
   "execution_count": 38,
   "metadata": {},
   "outputs": [],
   "source": [
    "# 100부터 100만까지의 짝수들의 집합(리스트)\n",
    "\n",
    "set100to1M = [ x for x in range(100,1000000) if x % 2 == 0 ]"
   ]
  },
  {
   "cell_type": "markdown",
   "metadata": {},
   "source": [
    "**주의:** `set100to1M`은 50만개 정도의 원소를 갖고 있다. \n",
    "따라서 `print` 함수를 아래와 같이 실행하는 일은 피해야 한다.\n",
    "\n",
    "```python\n",
    "print(set100to1M)\n",
    "```\n",
    "\n",
    "대신에 다음과 같이 `set100to1M`의 원소의 갯수와 첫 10 개 원소를 확인할 수 있다."
   ]
  },
  {
   "cell_type": "code",
   "execution_count": 39,
   "metadata": {},
   "outputs": [
    {
     "data": {
      "text/plain": [
       "499950"
      ]
     },
     "execution_count": 39,
     "metadata": {},
     "output_type": "execute_result"
    }
   ],
   "source": [
    "len(set100to1M)"
   ]
  },
  {
   "cell_type": "code",
   "execution_count": 40,
   "metadata": {},
   "outputs": [
    {
     "data": {
      "text/plain": [
       "[100, 102, 104, 106, 108, 110, 112, 114, 116, 118]"
      ]
     },
     "execution_count": 40,
     "metadata": {},
     "output_type": "execute_result"
    }
   ],
   "source": [
    "set100to1M[:10]"
   ]
  },
  {
   "cell_type": "markdown",
   "metadata": {},
   "source": [
    "## 함수"
   ]
  },
  {
   "cell_type": "markdown",
   "metadata": {},
   "source": [
    "* 데이터를 입력 받아 처리하여 반환하는 프로그램\n",
    "    * 인자: 여러 개 받을 수 있음.\n",
    "    * 인자를 받지 않아도 됨\n",
    "    * 반환 값: `return` 키워드로 지정\n",
    "* 보통 이름을 지정하여 언제든지 재활용할 수 있게 함.\n",
    "* 특별한 경우 이름을 지정하지 않아도 되지만, 재활용 불가."
   ]
  },
  {
   "cell_type": "markdown",
   "metadata": {},
   "source": [
    "### 함수 활용\n",
    "\n",
    "* 여기서는 리스트란 도구를 이용하여 새로운 도구를 만드는 방법을 연습삼아 보여준다.\n",
    "* 도구는 보통 **함수**를 이용하여 만들어진다."
   ]
  },
  {
   "cell_type": "code",
   "execution_count": 41,
   "metadata": {},
   "outputs": [
    {
     "name": "stdout",
     "output_type": "stream",
     "text": [
      "27\n",
      "36\n"
     ]
    }
   ],
   "source": [
    "\"\"\" 함수의 정의\"\"\"\n",
    "def plus(a,b):       # 입력값 a, b 2개를 받아서\n",
    "    c = a + b       # a+b를 c에 저장하고\n",
    "    return c        # 결과값 c를 돌려줘라\n",
    "\n",
    "\"\"\" 함수의 사용 \"\"\"\n",
    "d = plus(10,17)      \n",
    "print(d)       \n",
    "\n",
    "print(plus(3, 33))"
   ]
  },
  {
   "cell_type": "markdown",
   "metadata": {},
   "source": [
    "### 합집합 함수"
   ]
  },
  {
   "cell_type": "code",
   "execution_count": 42,
   "metadata": {},
   "outputs": [],
   "source": [
    "def union(a,b):\n",
    "    c = []\n",
    "    for i in a:                # a에 속한 모든 요소 i에 대해서 순서대로 실행시키자. \n",
    "        if i not in b:         # 만약 i가 b에 속하지 않는다면\n",
    "            c.append(i)        # 합집합 c에 i를 추가하여라.\n",
    "    c = c + b                  # b에 속하지 않는 a와 b가 더해집니다. \n",
    "    c.sort()                 \n",
    "    return c"
   ]
  },
  {
   "cell_type": "code",
   "execution_count": 43,
   "metadata": {},
   "outputs": [
    {
     "data": {
      "text/plain": [
       "[0, 1, 2, 3, 4, 5, 6]"
      ]
     },
     "execution_count": 43,
     "metadata": {},
     "output_type": "execute_result"
    }
   ],
   "source": [
    "a = [1,3,4,5,6]\n",
    "b = [2,4,6,3,0]\n",
    "union(a,b)"
   ]
  },
  {
   "cell_type": "code",
   "execution_count": 44,
   "metadata": {},
   "outputs": [
    {
     "data": {
      "text/plain": [
       "[0, 2, 3, 4, 99]"
      ]
     },
     "execution_count": 44,
     "metadata": {},
     "output_type": "execute_result"
    }
   ],
   "source": [
    "a = [0,2,4]\n",
    "b = [3,0,99]\n",
    "c = union(a,b)\n",
    "c"
   ]
  },
  {
   "cell_type": "markdown",
   "metadata": {},
   "source": [
    "### 교집합 함수"
   ]
  },
  {
   "cell_type": "code",
   "execution_count": 45,
   "metadata": {},
   "outputs": [],
   "source": [
    "def intersection(a,b):\n",
    "    c = []               \n",
    "    for i in a:\n",
    "        if i  in b:\n",
    "            c.append(i)\n",
    "    c.sort()\n",
    "    return c"
   ]
  },
  {
   "cell_type": "code",
   "execution_count": 46,
   "metadata": {},
   "outputs": [
    {
     "data": {
      "text/plain": [
       "[3, 4, 6]"
      ]
     },
     "execution_count": 46,
     "metadata": {},
     "output_type": "execute_result"
    }
   ],
   "source": [
    "a = [1,3,4,5,6]\n",
    "b = [2,4,6,3,0]\n",
    "intersection(a,b)"
   ]
  },
  {
   "cell_type": "code",
   "execution_count": 47,
   "metadata": {},
   "outputs": [
    {
     "data": {
      "text/plain": [
       "[]"
      ]
     },
     "execution_count": 47,
     "metadata": {},
     "output_type": "execute_result"
    }
   ],
   "source": [
    "a = [1,3,5,7,9]\n",
    "b = [2,4,6,8,0]\n",
    "c = intersection(a,b)\n",
    "c"
   ]
  },
  {
   "cell_type": "markdown",
   "metadata": {},
   "source": [
    "###  차집합 함수, 여집합 함수"
   ]
  },
  {
   "cell_type": "code",
   "execution_count": 48,
   "metadata": {},
   "outputs": [],
   "source": [
    "def complement(a,b):\n",
    "    c = a + []\n",
    "    for i in b:   \n",
    "        if i in a: \n",
    "            c.remove(i) \n",
    "    c.sort()\n",
    "    return c"
   ]
  },
  {
   "cell_type": "code",
   "execution_count": 49,
   "metadata": {},
   "outputs": [
    {
     "name": "stdout",
     "output_type": "stream",
     "text": [
      "a - b = [1, 5]\n",
      "b - a = [0, 2]\n"
     ]
    }
   ],
   "source": [
    "a = [1,3,4,5,6]\n",
    "b = [2,4,6,3,0]\n",
    "\n",
    "c = complement(a,b)\n",
    "d = complement(b,a)\n",
    "print ('a - b = {}'.format(c))\n",
    "print ('b - a = {}'.format(d))"
   ]
  },
  {
   "cell_type": "markdown",
   "metadata": {},
   "source": [
    "### 연습: 차집합과 교집합으로부터 합집합 구하기"
   ]
  },
  {
   "cell_type": "code",
   "execution_count": 50,
   "metadata": {},
   "outputs": [
    {
     "name": "stdout",
     "output_type": "stream",
     "text": [
      "[0, 1, 2, 3, 4, 5, 6]\n"
     ]
    }
   ],
   "source": [
    "a = [1,3,4,5,6] \n",
    "b = [2,4,6,3,0]\n",
    "\n",
    "c = intersection(a,b) + complement(a,b) + complement(b,a)\n",
    "c.sort()\n",
    "print (c)"
   ]
  },
  {
   "cell_type": "markdown",
   "metadata": {},
   "source": [
    "### 합집합/교집합 일반화"
   ]
  },
  {
   "cell_type": "code",
   "execution_count": 51,
   "metadata": {},
   "outputs": [],
   "source": [
    "def multi_input(*args):\n",
    "    print (args[0])\n",
    "    print (args[1])\n",
    "    print (args[2])\n",
    "    print (args[3])\n",
    "    print (args[-1])"
   ]
  },
  {
   "cell_type": "code",
   "execution_count": 52,
   "metadata": {},
   "outputs": [
    {
     "name": "stdout",
     "output_type": "stream",
     "text": [
      "1\n",
      "2\n",
      "3\n",
      "4\n",
      "5\n"
     ]
    }
   ],
   "source": [
    "multi_input(1, 2, 3, 4, 5)"
   ]
  },
  {
   "cell_type": "code",
   "execution_count": 53,
   "metadata": {},
   "outputs": [
    {
     "name": "stdout",
     "output_type": "stream",
     "text": [
      "18\n",
      "26\n"
     ]
    }
   ],
   "source": [
    "\"\"\"함수의 정의\"\"\"\n",
    "def sum_all(*args):\n",
    "    total_sum = 0                    \n",
    "    for i in args: \n",
    "        total_sum = total_sum + i    \n",
    "    return total_sum\n",
    "\n",
    "print (sum_all(3,6,9))\n",
    "print (sum_all(3,1,5,6,4,7))"
   ]
  },
  {
   "cell_type": "code",
   "execution_count": 54,
   "metadata": {},
   "outputs": [],
   "source": [
    "def union_all(*lists):\n",
    "    u = union(lists[0], lists[1])   # 처음은 list[0]과 list[1]의 합집합을 구하여 u라 정의하고 \n",
    "    for i in lists[2:]:             # for 문에서 list[2]부터 다시 합집합을 구한다. \n",
    "        u = union(u, i) \n",
    "        u.sort()\n",
    "    return u\n",
    "\n",
    "def intersection_all(*lists):\n",
    "    d = intersection(lists[0], lists[1])   # 처음은 list[0]과 list[1]의 교집합을 구하여 c라 정의하고 \n",
    "    for i in lists[2:]:                    # for 문에서 list[2]부터 다시 교집합을 구한다. \n",
    "        d = intersection(d, i) \n",
    "        d.sort()\n",
    "    return d"
   ]
  },
  {
   "cell_type": "code",
   "execution_count": 55,
   "metadata": {},
   "outputs": [
    {
     "name": "stdout",
     "output_type": "stream",
     "text": [
      "[1, 2, 3, 4, 5, 6, 7, 8, 9]\n",
      "[5]\n"
     ]
    }
   ],
   "source": [
    "a = [1,3,6,5,7]\n",
    "b = [1,5,2,7,3]\n",
    "c = [4,2,8,9,5]\n",
    "print (union_all(a,b,c))\n",
    "print (intersection_all(a,b,c))"
   ]
  }
 ],
 "metadata": {
  "kernelspec": {
   "display_name": "Python 3",
   "language": "python",
   "name": "python3"
  },
  "language_info": {
   "codemirror_mode": {
    "name": "ipython",
    "version": 3
   },
   "file_extension": ".py",
   "mimetype": "text/x-python",
   "name": "python",
   "nbconvert_exporter": "python",
   "pygments_lexer": "ipython3",
   "version": "3.6.8"
  }
 },
 "nbformat": 4,
 "nbformat_minor": 2
}
