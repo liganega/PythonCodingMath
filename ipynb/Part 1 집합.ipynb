{
 "cells": [
  {
   "cell_type": "markdown",
   "metadata": {},
   "source": [
    "# Part 1 집합"
   ]
  },
  {
   "cell_type": "markdown",
   "metadata": {},
   "source": [
    "## Chapter 1 정수형, 문자형 자료형"
   ]
  },
  {
   "cell_type": "code",
   "execution_count": 2,
   "metadata": {},
   "outputs": [],
   "source": [
    "a = 3\n",
    "b = 'coding'"
   ]
  },
  {
   "cell_type": "code",
   "execution_count": 3,
   "metadata": {},
   "outputs": [
    {
     "data": {
      "text/plain": [
       "3"
      ]
     },
     "execution_count": 3,
     "metadata": {},
     "output_type": "execute_result"
    }
   ],
   "source": [
    "a  "
   ]
  },
  {
   "cell_type": "code",
   "execution_count": 4,
   "metadata": {},
   "outputs": [
    {
     "data": {
      "text/plain": [
       "'coding'"
      ]
     },
     "execution_count": 4,
     "metadata": {},
     "output_type": "execute_result"
    }
   ],
   "source": [
    "b"
   ]
  },
  {
   "cell_type": "code",
   "execution_count": 5,
   "metadata": {},
   "outputs": [
    {
     "data": {
      "text/plain": [
       "int"
      ]
     },
     "execution_count": 5,
     "metadata": {},
     "output_type": "execute_result"
    }
   ],
   "source": [
    "type(a)"
   ]
  },
  {
   "cell_type": "code",
   "execution_count": 6,
   "metadata": {},
   "outputs": [
    {
     "data": {
      "text/plain": [
       "str"
      ]
     },
     "execution_count": 6,
     "metadata": {},
     "output_type": "execute_result"
    }
   ],
   "source": [
    "type(b)"
   ]
  },
  {
   "cell_type": "code",
   "execution_count": 7,
   "metadata": {},
   "outputs": [
    {
     "data": {
      "text/plain": [
       "6"
      ]
     },
     "execution_count": 7,
     "metadata": {},
     "output_type": "execute_result"
    }
   ],
   "source": [
    "a + a"
   ]
  },
  {
   "cell_type": "code",
   "execution_count": 8,
   "metadata": {},
   "outputs": [
    {
     "data": {
      "text/plain": [
       "9"
      ]
     },
     "execution_count": 8,
     "metadata": {},
     "output_type": "execute_result"
    }
   ],
   "source": [
    "a*3"
   ]
  },
  {
   "cell_type": "code",
   "execution_count": 9,
   "metadata": {},
   "outputs": [
    {
     "data": {
      "text/plain": [
       "'codingcoding'"
      ]
     },
     "execution_count": 9,
     "metadata": {},
     "output_type": "execute_result"
    }
   ],
   "source": [
    "b + b"
   ]
  },
  {
   "cell_type": "code",
   "execution_count": 10,
   "metadata": {},
   "outputs": [
    {
     "data": {
      "text/plain": [
       "'codingcodingcoding'"
      ]
     },
     "execution_count": 10,
     "metadata": {},
     "output_type": "execute_result"
    }
   ],
   "source": [
    "b * 3"
   ]
  },
  {
   "cell_type": "code",
   "execution_count": 11,
   "metadata": {},
   "outputs": [
    {
     "ename": "TypeError",
     "evalue": "unsupported operand type(s) for +: 'int' and 'str'",
     "output_type": "error",
     "traceback": [
      "\u001b[0;31m---------------------------------------------------------------------------\u001b[0m",
      "\u001b[0;31mTypeError\u001b[0m                                 Traceback (most recent call last)",
      "\u001b[0;32m<ipython-input-11-bd58363a63fc>\u001b[0m in \u001b[0;36m<module>\u001b[0;34m\u001b[0m\n\u001b[0;32m----> 1\u001b[0;31m \u001b[0ma\u001b[0m \u001b[0;34m+\u001b[0m \u001b[0mb\u001b[0m\u001b[0;34m\u001b[0m\u001b[0;34m\u001b[0m\u001b[0m\n\u001b[0m",
      "\u001b[0;31mTypeError\u001b[0m: unsupported operand type(s) for +: 'int' and 'str'"
     ]
    }
   ],
   "source": [
    "a + b"
   ]
  },
  {
   "cell_type": "code",
   "execution_count": 12,
   "metadata": {},
   "outputs": [
    {
     "data": {
      "text/plain": [
       "str"
      ]
     },
     "execution_count": 12,
     "metadata": {},
     "output_type": "execute_result"
    }
   ],
   "source": [
    "c = '3'\n",
    "type(c)"
   ]
  },
  {
   "cell_type": "code",
   "execution_count": 13,
   "metadata": {},
   "outputs": [
    {
     "data": {
      "text/plain": [
       "3"
      ]
     },
     "execution_count": 13,
     "metadata": {},
     "output_type": "execute_result"
    }
   ],
   "source": [
    "d = int(c)\n",
    "d"
   ]
  },
  {
   "cell_type": "code",
   "execution_count": 14,
   "metadata": {},
   "outputs": [
    {
     "data": {
      "text/plain": [
       "'3'"
      ]
     },
     "execution_count": 14,
     "metadata": {},
     "output_type": "execute_result"
    }
   ],
   "source": [
    "e = str(d)\n",
    "e"
   ]
  },
  {
   "cell_type": "markdown",
   "metadata": {},
   "source": [
    "### 01 문자형 자료형 인덱싱 사용하기"
   ]
  },
  {
   "cell_type": "code",
   "execution_count": 15,
   "metadata": {},
   "outputs": [
    {
     "data": {
      "text/plain": [
       "'c'"
      ]
     },
     "execution_count": 15,
     "metadata": {},
     "output_type": "execute_result"
    }
   ],
   "source": [
    "b = 'coding'\n",
    "b[0]"
   ]
  },
  {
   "cell_type": "code",
   "execution_count": 16,
   "metadata": {},
   "outputs": [
    {
     "data": {
      "text/plain": [
       "'o'"
      ]
     },
     "execution_count": 16,
     "metadata": {},
     "output_type": "execute_result"
    }
   ],
   "source": [
    "b[1]"
   ]
  },
  {
   "cell_type": "code",
   "execution_count": 17,
   "metadata": {},
   "outputs": [
    {
     "data": {
      "text/plain": [
       "'g'"
      ]
     },
     "execution_count": 17,
     "metadata": {},
     "output_type": "execute_result"
    }
   ],
   "source": [
    "b[5]"
   ]
  },
  {
   "cell_type": "code",
   "execution_count": 18,
   "metadata": {},
   "outputs": [
    {
     "data": {
      "text/plain": [
       "'g'"
      ]
     },
     "execution_count": 18,
     "metadata": {},
     "output_type": "execute_result"
    }
   ],
   "source": [
    "b[-1]"
   ]
  },
  {
   "cell_type": "markdown",
   "metadata": {},
   "source": [
    "### 02 문자형 자료형 슬라이스(:) 사용하기"
   ]
  },
  {
   "cell_type": "code",
   "execution_count": 19,
   "metadata": {},
   "outputs": [
    {
     "data": {
      "text/plain": [
       "'odi'"
      ]
     },
     "execution_count": 19,
     "metadata": {},
     "output_type": "execute_result"
    }
   ],
   "source": [
    "b[1] + b[2] + b[3]"
   ]
  },
  {
   "cell_type": "code",
   "execution_count": 20,
   "metadata": {},
   "outputs": [
    {
     "data": {
      "text/plain": [
       "'odi'"
      ]
     },
     "execution_count": 20,
     "metadata": {},
     "output_type": "execute_result"
    }
   ],
   "source": [
    "b[1:4]"
   ]
  },
  {
   "cell_type": "code",
   "execution_count": 21,
   "metadata": {},
   "outputs": [
    {
     "data": {
      "text/plain": [
       "'coding'"
      ]
     },
     "execution_count": 21,
     "metadata": {},
     "output_type": "execute_result"
    }
   ],
   "source": [
    "b[:]"
   ]
  },
  {
   "cell_type": "code",
   "execution_count": 22,
   "metadata": {},
   "outputs": [
    {
     "data": {
      "text/plain": [
       "'cod'"
      ]
     },
     "execution_count": 22,
     "metadata": {},
     "output_type": "execute_result"
    }
   ],
   "source": [
    "b[:3]"
   ]
  },
  {
   "cell_type": "code",
   "execution_count": 23,
   "metadata": {},
   "outputs": [
    {
     "data": {
      "text/plain": [
       "'ding'"
      ]
     },
     "execution_count": 23,
     "metadata": {},
     "output_type": "execute_result"
    }
   ],
   "source": [
    "b[2:]"
   ]
  },
  {
   "cell_type": "code",
   "execution_count": 24,
   "metadata": {},
   "outputs": [
    {
     "data": {
      "text/plain": [
       "'oig'"
      ]
     },
     "execution_count": 24,
     "metadata": {},
     "output_type": "execute_result"
    }
   ],
   "source": [
    "b[1:6:2]"
   ]
  },
  {
   "cell_type": "code",
   "execution_count": 25,
   "metadata": {},
   "outputs": [
    {
     "data": {
      "text/plain": [
       "'cdn'"
      ]
     },
     "execution_count": 25,
     "metadata": {},
     "output_type": "execute_result"
    }
   ],
   "source": [
    "b[::2]"
   ]
  },
  {
   "cell_type": "code",
   "execution_count": 26,
   "metadata": {},
   "outputs": [
    {
     "ename": "TypeError",
     "evalue": "'int' object is not subscriptable",
     "output_type": "error",
     "traceback": [
      "\u001b[0;31m---------------------------------------------------------------------------\u001b[0m",
      "\u001b[0;31mTypeError\u001b[0m                                 Traceback (most recent call last)",
      "\u001b[0;32m<ipython-input-26-94f1dfc62b27>\u001b[0m in \u001b[0;36m<module>\u001b[0;34m\u001b[0m\n\u001b[1;32m      1\u001b[0m \u001b[0ma\u001b[0m \u001b[0;34m=\u001b[0m \u001b[0;36m357\u001b[0m\u001b[0;34m\u001b[0m\u001b[0;34m\u001b[0m\u001b[0m\n\u001b[0;32m----> 2\u001b[0;31m \u001b[0ma\u001b[0m\u001b[0;34m[\u001b[0m\u001b[0;36m1\u001b[0m\u001b[0;34m]\u001b[0m\u001b[0;34m\u001b[0m\u001b[0;34m\u001b[0m\u001b[0m\n\u001b[0m",
      "\u001b[0;31mTypeError\u001b[0m: 'int' object is not subscriptable"
     ]
    }
   ],
   "source": [
    "a = 357\n",
    "a[1]"
   ]
  },
  {
   "cell_type": "code",
   "execution_count": 27,
   "metadata": {},
   "outputs": [
    {
     "data": {
      "text/plain": [
       "'357'"
      ]
     },
     "execution_count": 27,
     "metadata": {},
     "output_type": "execute_result"
    }
   ],
   "source": [
    "b = str(a)\n",
    "b"
   ]
  },
  {
   "cell_type": "code",
   "execution_count": 28,
   "metadata": {},
   "outputs": [
    {
     "data": {
      "text/plain": [
       "'5'"
      ]
     },
     "execution_count": 28,
     "metadata": {},
     "output_type": "execute_result"
    }
   ],
   "source": [
    "b[1]"
   ]
  },
  {
   "cell_type": "code",
   "execution_count": 29,
   "metadata": {},
   "outputs": [],
   "source": [
    "c = int(b[1])"
   ]
  },
  {
   "cell_type": "code",
   "execution_count": 30,
   "metadata": {},
   "outputs": [
    {
     "data": {
      "text/plain": [
       "5"
      ]
     },
     "execution_count": 30,
     "metadata": {},
     "output_type": "execute_result"
    }
   ],
   "source": [
    "c = int(b[1])\n",
    "c"
   ]
  },
  {
   "cell_type": "code",
   "execution_count": 31,
   "metadata": {},
   "outputs": [
    {
     "data": {
      "text/plain": [
       "5"
      ]
     },
     "execution_count": 31,
     "metadata": {},
     "output_type": "execute_result"
    }
   ],
   "source": [
    "b = int(str(a)[1])\n",
    "b"
   ]
  },
  {
   "cell_type": "markdown",
   "metadata": {},
   "source": [
    "### 03 문자형 자료형의 문자 길이 세기 - len(문자형 자료형)"
   ]
  },
  {
   "cell_type": "code",
   "execution_count": 32,
   "metadata": {},
   "outputs": [
    {
     "data": {
      "text/plain": [
       "6"
      ]
     },
     "execution_count": 32,
     "metadata": {},
     "output_type": "execute_result"
    }
   ],
   "source": [
    "b = 'coding'\n",
    "len(b)"
   ]
  },
  {
   "cell_type": "markdown",
   "metadata": {},
   "source": [
    "### 04 원하는 문자가 몇 개 있는지 세기 - 변수.count('원하는 문자')"
   ]
  },
  {
   "cell_type": "code",
   "execution_count": 33,
   "metadata": {},
   "outputs": [
    {
     "data": {
      "text/plain": [
       "3"
      ]
     },
     "execution_count": 33,
     "metadata": {},
     "output_type": "execute_result"
    }
   ],
   "source": [
    "a = 'hallelujah'\n",
    "a.count('l')"
   ]
  },
  {
   "cell_type": "markdown",
   "metadata": {},
   "source": [
    "## Chapter 2 print"
   ]
  },
  {
   "cell_type": "code",
   "execution_count": 34,
   "metadata": {},
   "outputs": [
    {
     "data": {
      "text/plain": [
       "[1, 2, 3]"
      ]
     },
     "execution_count": 34,
     "metadata": {},
     "output_type": "execute_result"
    }
   ],
   "source": [
    "a = [ ]\n",
    "b = [1, 2, 3]\n",
    "c = ['Coding', 'is', 'not', 'difficult']\n",
    "d = [1, 2, 'Math', 'Coding']\n",
    "e = [1, 2, ['Math', 'Coding']]\n",
    "b"
   ]
  },
  {
   "cell_type": "code",
   "execution_count": 35,
   "metadata": {},
   "outputs": [
    {
     "data": {
      "text/plain": [
       "[1, 2, ['Math', 'Coding']]"
      ]
     },
     "execution_count": 35,
     "metadata": {},
     "output_type": "execute_result"
    }
   ],
   "source": [
    "a\n",
    "b\n",
    "c\n",
    "d\n",
    "e"
   ]
  },
  {
   "cell_type": "code",
   "execution_count": 36,
   "metadata": {},
   "outputs": [
    {
     "name": "stdout",
     "output_type": "stream",
     "text": [
      "[]\n",
      "[1, 2, 3]\n",
      "['Coding', 'is', 'not', 'difficult']\n",
      "[1, 2, 'Math', 'Coding']\n",
      "[1, 2, ['Math', 'Coding']]\n"
     ]
    }
   ],
   "source": [
    "print(a)\n",
    "print(b)\n",
    "print(c)\n",
    "print(d)\n",
    "print(e)"
   ]
  },
  {
   "cell_type": "code",
   "execution_count": 37,
   "metadata": {},
   "outputs": [
    {
     "name": "stdout",
     "output_type": "stream",
     "text": [
      "Coding is easy\n"
     ]
    }
   ],
   "source": [
    "print('Coding is easy')"
   ]
  },
  {
   "cell_type": "code",
   "execution_count": 38,
   "metadata": {},
   "outputs": [
    {
     "name": "stdout",
     "output_type": "stream",
     "text": [
      "a는 3 이다.\n",
      "a는 13 이다.\n"
     ]
    }
   ],
   "source": [
    "a = 3\n",
    "print ('a는 {} 이다.'.format(a)) \n",
    "a = a + 10\n",
    "print ('a는 {} 이다.'.format(a)) "
   ]
  },
  {
   "cell_type": "code",
   "execution_count": 39,
   "metadata": {},
   "outputs": [
    {
     "name": "stdout",
     "output_type": "stream",
     "text": [
      "나의 키는 180 cm이다.\n"
     ]
    }
   ],
   "source": [
    "number = 180\n",
    "\n",
    "print ('나의 키는 {} cm이다.'.format(number))"
   ]
  },
  {
   "cell_type": "code",
   "execution_count": 40,
   "metadata": {
    "scrolled": true
   },
   "outputs": [
    {
     "name": "stdout",
     "output_type": "stream",
     "text": [
      "3 더하기 4 은 7 이다\n"
     ]
    }
   ],
   "source": [
    "a = 3\n",
    "b = '더하기'\n",
    "c = 4\n",
    "d = '은'\n",
    "e = 7\n",
    "f = '이다'\n",
    "print ('{} {} {} {} {} {}'.format(a, b, c, d, e, f)) "
   ]
  },
  {
   "cell_type": "markdown",
   "metadata": {},
   "source": [
    "## Chapter 3 리스트"
   ]
  },
  {
   "cell_type": "code",
   "execution_count": 41,
   "metadata": {},
   "outputs": [],
   "source": [
    "a = [ ]\n",
    "b = [1, 2, 3]\n",
    "c = ['Coding', 'is', 'not', 'difficult']\n",
    "d = [1, 2, 'Math', 'Coding']\n",
    "e = [1, 2, ['Math', 'Coding']]"
   ]
  },
  {
   "cell_type": "code",
   "execution_count": 42,
   "metadata": {},
   "outputs": [
    {
     "data": {
      "text/plain": [
       "list"
      ]
     },
     "execution_count": 42,
     "metadata": {},
     "output_type": "execute_result"
    }
   ],
   "source": [
    "type(e)"
   ]
  },
  {
   "cell_type": "markdown",
   "metadata": {},
   "source": [
    "### 01 리스트 원소 개수 구하기 - len(리스트)"
   ]
  },
  {
   "cell_type": "code",
   "execution_count": 43,
   "metadata": {},
   "outputs": [
    {
     "data": {
      "text/plain": [
       "3"
      ]
     },
     "execution_count": 43,
     "metadata": {},
     "output_type": "execute_result"
    }
   ],
   "source": [
    "len(a)\n",
    "len(c)\n",
    "len(e)"
   ]
  },
  {
   "cell_type": "markdown",
   "metadata": {},
   "source": [
    "### 02 특정 원소 개수 구하기 - 리스트.count(특정 원소)"
   ]
  },
  {
   "cell_type": "code",
   "execution_count": 44,
   "metadata": {},
   "outputs": [
    {
     "data": {
      "text/plain": [
       "4"
      ]
     },
     "execution_count": 44,
     "metadata": {},
     "output_type": "execute_result"
    }
   ],
   "source": [
    "f = [2, 4, 6, 3, 6, 3, 7, 3, 2, 7, 3, 7]\n",
    "f.count(3)"
   ]
  },
  {
   "cell_type": "markdown",
   "metadata": {},
   "source": [
    "### 03 리스트의 인덱스 익히기"
   ]
  },
  {
   "cell_type": "code",
   "execution_count": 45,
   "metadata": {},
   "outputs": [
    {
     "name": "stdout",
     "output_type": "stream",
     "text": [
      "1\n",
      "3\n",
      "3\n",
      "not\n",
      "['Math', 'Coding']\n",
      "Coding\n"
     ]
    }
   ],
   "source": [
    "a = [ ]\n",
    "b = [1, 2, 3]\n",
    "c = ['Coding', 'is', 'not', 'difficult']\n",
    "d = [1, 2, 'Math', 'Coding']\n",
    "e = [1, 2, ['Math', 'Coding']]\n",
    "print (b[0])  # 0은 b의 첫 원소를 가르킵니다.\n",
    "print (b[2]) # 2는 b의 세벗째 원소를 가르킵니다.\n",
    "print (b[-1])  # -1은 b의 마지막 원소를 가르킵니다.\n",
    "print (c[2])\n",
    "print (e[2])\n",
    "print (e[2][1]) #[2][1]은 3의 두번째 원소인 ['Math', 'Coding'] list의 두번째 원소를 가르킵니다."
   ]
  },
  {
   "cell_type": "markdown",
   "metadata": {},
   "source": [
    "### 04 리스트에서 slice 사용하기"
   ]
  },
  {
   "cell_type": "code",
   "execution_count": 46,
   "metadata": {},
   "outputs": [
    {
     "name": "stdout",
     "output_type": "stream",
     "text": [
      "[1, 2, 3, 4, 5]\n",
      "[4, 5, 6, 7, 8, 9]\n",
      "[1, 2, 3, 4, 5, 6, 7, 8, 9]\n",
      "['Math', 'Coding']\n"
     ]
    }
   ],
   "source": [
    "a = [1,2,3,4,5,6,7,8,9]\n",
    "print (a[0:5])\n",
    "print (a[3:])\n",
    "print (a[:])\n",
    "print (e[2][:])"
   ]
  },
  {
   "cell_type": "markdown",
   "metadata": {},
   "source": [
    "### 05 리스트 연산하기"
   ]
  },
  {
   "cell_type": "code",
   "execution_count": 47,
   "metadata": {},
   "outputs": [],
   "source": [
    "a = [3,5]\n",
    "b = [4,7]"
   ]
  },
  {
   "cell_type": "code",
   "execution_count": 48,
   "metadata": {},
   "outputs": [
    {
     "name": "stdout",
     "output_type": "stream",
     "text": [
      "[3, 5, 4, 7]\n",
      "[3, 5, 3, 5, 3, 5]\n",
      "[3, 5, 3, 5, 4, 7, 4, 7, 4, 7]\n"
     ]
    }
   ],
   "source": [
    "print (a + b)\n",
    "print (a * 3)\n",
    "print (a * 2 + b * 3)"
   ]
  },
  {
   "cell_type": "markdown",
   "metadata": {},
   "source": [
    "### 06 리스트 요소 수정하기"
   ]
  },
  {
   "cell_type": "code",
   "execution_count": 49,
   "metadata": {},
   "outputs": [
    {
     "name": "stdout",
     "output_type": "stream",
     "text": [
      "[1, 3, 5, 7, 9]\n"
     ]
    }
   ],
   "source": [
    "a = [1,3,5,8,9]\n",
    "a[3] =7\n",
    "print (a)"
   ]
  },
  {
   "cell_type": "code",
   "execution_count": 50,
   "metadata": {},
   "outputs": [
    {
     "name": "stdout",
     "output_type": "stream",
     "text": [
      "[1, 3, 5, 9]\n"
     ]
    }
   ],
   "source": [
    "del a[3]\n",
    "print (a)"
   ]
  },
  {
   "cell_type": "code",
   "execution_count": 51,
   "metadata": {},
   "outputs": [
    {
     "name": "stdout",
     "output_type": "stream",
     "text": [
      "[1, 2]\n"
     ]
    }
   ],
   "source": [
    "a = [1,2,3]\n",
    "a.remove(3)\n",
    "print (a)"
   ]
  },
  {
   "cell_type": "code",
   "execution_count": 52,
   "metadata": {},
   "outputs": [
    {
     "name": "stdout",
     "output_type": "stream",
     "text": [
      "[1, 2, 1, 2, 3, 1, 2, 3]\n"
     ]
    }
   ],
   "source": [
    "a = [1,2,3,1,2,3,1,2,3]\n",
    "a.remove(3)\n",
    "print (a)"
   ]
  },
  {
   "cell_type": "code",
   "execution_count": 53,
   "metadata": {},
   "outputs": [
    {
     "name": "stdout",
     "output_type": "stream",
     "text": [
      "[1, 2, 1, 2, 3, 1, 2, 3, 4]\n"
     ]
    }
   ],
   "source": [
    "a.append(4)\n",
    "print (a)"
   ]
  },
  {
   "cell_type": "code",
   "execution_count": 54,
   "metadata": {},
   "outputs": [
    {
     "name": "stdout",
     "output_type": "stream",
     "text": [
      "[1, 2, 4]\n"
     ]
    }
   ],
   "source": [
    "a = [1,2]\n",
    "a = a +  [4]\n",
    "print(a)"
   ]
  },
  {
   "cell_type": "code",
   "execution_count": 55,
   "metadata": {},
   "outputs": [
    {
     "ename": "TypeError",
     "evalue": "can only concatenate list (not \"int\") to list",
     "output_type": "error",
     "traceback": [
      "\u001b[0;31m---------------------------------------------------------------------------\u001b[0m",
      "\u001b[0;31mTypeError\u001b[0m                                 Traceback (most recent call last)",
      "\u001b[0;32m<ipython-input-55-510797cc8027>\u001b[0m in \u001b[0;36m<module>\u001b[0;34m\u001b[0m\n\u001b[1;32m      1\u001b[0m \u001b[0ma\u001b[0m \u001b[0;34m=\u001b[0m \u001b[0;34m[\u001b[0m\u001b[0;36m1\u001b[0m\u001b[0;34m,\u001b[0m\u001b[0;36m2\u001b[0m\u001b[0;34m]\u001b[0m\u001b[0;34m\u001b[0m\u001b[0;34m\u001b[0m\u001b[0m\n\u001b[0;32m----> 2\u001b[0;31m \u001b[0ma\u001b[0m \u001b[0;34m+\u001b[0m \u001b[0;36m4\u001b[0m\u001b[0;34m\u001b[0m\u001b[0;34m\u001b[0m\u001b[0m\n\u001b[0m",
      "\u001b[0;31mTypeError\u001b[0m: can only concatenate list (not \"int\") to list"
     ]
    }
   ],
   "source": [
    "a = [1,2]\n",
    "a + 4"
   ]
  },
  {
   "cell_type": "markdown",
   "metadata": {},
   "source": [
    "### 07 리스트 정렬하기"
   ]
  },
  {
   "cell_type": "code",
   "execution_count": 56,
   "metadata": {},
   "outputs": [
    {
     "name": "stdout",
     "output_type": "stream",
     "text": [
      "[1, 3, 4, 5, 9]\n",
      "[9, 5, 4, 3, 1]\n"
     ]
    }
   ],
   "source": [
    "a = [1,5,4,3,9]  # 정렬이 안된 상태\n",
    "a.sort()        # 오름차순으로 정렬\n",
    "print (a) \n",
    "a.reverse()     # 오름차순의 반대방향으로 정렬, 즉 내림차순\n",
    "print (a)"
   ]
  },
  {
   "cell_type": "code",
   "execution_count": 57,
   "metadata": {},
   "outputs": [
    {
     "name": "stdout",
     "output_type": "stream",
     "text": [
      "['apple', 'mango', 'totamo', 'watermellon']\n",
      "['watermellon', 'totamo', 'mango', 'apple']\n"
     ]
    }
   ],
   "source": [
    "a = ['totamo', 'mango',  'watermellon', 'apple',]\n",
    "a.sort()\n",
    "print (a)\n",
    "a.reverse()\n",
    "print (a)"
   ]
  },
  {
   "cell_type": "code",
   "execution_count": 58,
   "metadata": {},
   "outputs": [
    {
     "name": "stdout",
     "output_type": "stream",
     "text": [
      "['민수', '서준', '영희', '철수', '필립']\n"
     ]
    }
   ],
   "source": [
    "a = ['서준', '민수', '영희', '철수', '필립']\n",
    "a.sort()\n",
    "print (a)"
   ]
  },
  {
   "cell_type": "markdown",
   "metadata": {},
   "source": [
    "### 08 리스트 원소의 인덱스 구하기"
   ]
  },
  {
   "cell_type": "code",
   "execution_count": 59,
   "metadata": {},
   "outputs": [
    {
     "data": {
      "text/plain": [
       "3"
      ]
     },
     "execution_count": 59,
     "metadata": {},
     "output_type": "execute_result"
    }
   ],
   "source": [
    "a.index('철수')"
   ]
  },
  {
   "cell_type": "markdown",
   "metadata": {},
   "source": [
    "### 09 리스트 안의 원소 유무 판별하기"
   ]
  },
  {
   "cell_type": "code",
   "execution_count": 60,
   "metadata": {},
   "outputs": [
    {
     "data": {
      "text/plain": [
       "True"
      ]
     },
     "execution_count": 60,
     "metadata": {},
     "output_type": "execute_result"
    }
   ],
   "source": [
    "a = [3,1,6,4,9]\n",
    "1 in a"
   ]
  },
  {
   "cell_type": "code",
   "execution_count": 61,
   "metadata": {},
   "outputs": [
    {
     "data": {
      "text/plain": [
       "False"
      ]
     },
     "execution_count": 61,
     "metadata": {},
     "output_type": "execute_result"
    }
   ],
   "source": [
    "0 in a"
   ]
  },
  {
   "cell_type": "markdown",
   "metadata": {},
   "source": [
    "## Chapter 4 for 반복문"
   ]
  },
  {
   "cell_type": "code",
   "execution_count": 62,
   "metadata": {},
   "outputs": [
    {
     "name": "stdout",
     "output_type": "stream",
     "text": [
      "0\n",
      "1\n",
      "2\n",
      "3\n",
      "4\n"
     ]
    }
   ],
   "source": [
    "a = [0,1,2,3,4]\n",
    "for i in a:  # list a의 원소 0,1,2,3,4를 i라 하고\n",
    "    print (i)  # 매번 i를 출력시켜라\n",
    "####           # for문 다음 문장은 항상 4칸 띄워쓰기를 하거나 tab키를 눌러서 사용하여야 합니다."
   ]
  },
  {
   "cell_type": "code",
   "execution_count": 63,
   "metadata": {},
   "outputs": [
    {
     "name": "stdout",
     "output_type": "stream",
     "text": [
      "list a의 요소들의 합은 10 이다.\n"
     ]
    }
   ],
   "source": [
    "b = 0           # b의 초기값을 0으로 설정하고\n",
    "for i in a:     # list a의 원소 0,1,2,3,4을 i라 하고\n",
    "    b = b + i   # 매 i를 b에 더하라.  \n",
    "print ('list a의 요소들의 합은 {} 이다.'.format(b))"
   ]
  },
  {
   "cell_type": "code",
   "execution_count": 64,
   "metadata": {},
   "outputs": [
    {
     "name": "stdout",
     "output_type": "stream",
     "text": [
      "list a의 요소들의 합은 10 이다.\n"
     ]
    }
   ],
   "source": [
    "b = 0\n",
    "for i in a: # list a의 원소 0,1,2,3,4를 i라 하고\n",
    "    b += i   # 매 i를 b에 더하라.  \n",
    "print ('list a의 요소들의 합은 {} 이다.'.format(b))"
   ]
  },
  {
   "cell_type": "code",
   "execution_count": 65,
   "metadata": {},
   "outputs": [
    {
     "name": "stdout",
     "output_type": "stream",
     "text": [
      "[0, 1, 2, 3, 4]\n"
     ]
    }
   ],
   "source": [
    "b = []\n",
    "for i in a:  # list a의 원소 0,1,2,3,4를 i라 하고\n",
    "    b.append(i)   # 매번 빈 list b에 0,1,2,3,4를 추가시켜라\n",
    "print (b)"
   ]
  },
  {
   "cell_type": "code",
   "execution_count": 66,
   "metadata": {},
   "outputs": [
    {
     "name": "stdout",
     "output_type": "stream",
     "text": [
      "[11, 12, 13, 14, 15, 21, 22, 23, 24, 25, 31, 32, 33, 34, 35, 41, 42, 43, 44, 45, 51, 52, 53, 54, 55]\n"
     ]
    }
   ],
   "source": [
    "a = [1,2,3,4,5]\n",
    "b = [10, 20, 30, 40, 50]\n",
    "ab_sum = []\n",
    "for i in b:\n",
    "    for j in a:\n",
    "        ab_sum.append(i+j)\n",
    "print(ab_sum)"
   ]
  },
  {
   "cell_type": "markdown",
   "metadata": {},
   "source": [
    "## Chapter 5 조건문 if"
   ]
  },
  {
   "cell_type": "code",
   "execution_count": 67,
   "metadata": {},
   "outputs": [
    {
     "name": "stdout",
     "output_type": "stream",
     "text": [
      "3은 0보다 크다\n"
     ]
    }
   ],
   "source": [
    "a = 3\n",
    "if a > 0:                            # a가 0보다 크면\n",
    "    print ('{}은 0보다 크다'.format(a)) # 이 문장을 출력시카라."
   ]
  },
  {
   "cell_type": "code",
   "execution_count": 68,
   "metadata": {},
   "outputs": [
    {
     "name": "stdout",
     "output_type": "stream",
     "text": [
      "[1, 2, 3, 4, 5]\n"
     ]
    }
   ],
   "source": [
    "a = [1,2,3,4,5]\n",
    "if 2 in a:     # 2가 list a에 속하면, True이면\n",
    "    print (a)  # a를 보여줘라"
   ]
  },
  {
   "cell_type": "code",
   "execution_count": 69,
   "metadata": {},
   "outputs": [
    {
     "name": "stdout",
     "output_type": "stream",
     "text": [
      "4\n",
      "5\n"
     ]
    }
   ],
   "source": [
    "for i in [1,2,3,4,5]:     # [1,2,3,4,5] 중에\n",
    "    if i > 3:             # 3보다 큰 원소를\n",
    "        print(i)          # 출력시켜라"
   ]
  },
  {
   "cell_type": "markdown",
   "metadata": {},
   "source": [
    "### 01 조건이 맞지 않을 경우 다른 명령 수행하기 - if else"
   ]
  },
  {
   "cell_type": "code",
   "execution_count": 70,
   "metadata": {},
   "outputs": [
    {
     "name": "stdout",
     "output_type": "stream",
     "text": [
      "4 is not less than zero\n"
     ]
    }
   ],
   "source": [
    "a = 4\n",
    "if a < 0:  # a가 0보다 작으면\n",
    "    print ('{} is less than zero'.format(a))  # 이 문장을 보여주고\n",
    "else:      # a가 0보다 작지 않으면\n",
    "    print ('{} is not less than zero'.format(a))  #이 문장을 보여줘라\n",
    "        "
   ]
  },
  {
   "cell_type": "code",
   "execution_count": 71,
   "metadata": {},
   "outputs": [
    {
     "name": "stdout",
     "output_type": "stream",
     "text": [
      "지하철 타고가자.\n"
     ]
    }
   ],
   "source": [
    "money = 4900\n",
    "if money >= 5000:\n",
    "    print ('택시 타고가자.')\n",
    "else:\n",
    "    print ('지하철 타고가자.')"
   ]
  },
  {
   "cell_type": "markdown",
   "metadata": {},
   "source": [
    "### 02 여러 조건에 대한 명령 수행하기 - if elif else"
   ]
  },
  {
   "cell_type": "code",
   "execution_count": 72,
   "metadata": {},
   "outputs": [
    {
     "name": "stdout",
     "output_type": "stream",
     "text": [
      "오이는 야채\n",
      "아이폰는 야채도 아니고 과일도 아니고 고기도 아니다.\n"
     ]
    }
   ],
   "source": [
    "a = ['오이', '상추', '고추']\n",
    "b = ['사과', '수박']\n",
    "c = ['닭', '소', '돼지']\n",
    "d = '오이'\n",
    "\n",
    "if d in a:\n",
    "    print ('{}는 야채'.format(d) )\n",
    "elif d in b:\n",
    "    print ('{} 는 과일'.format(d))\n",
    "elif d in c:\n",
    "    print ('{}는 고기'.format(d))\n",
    "else:\n",
    "    print ('{}는 야채도 아니고 과일도 아니고 고기도 아니다.'.format(d))\n",
    "\n",
    "d = '아이폰'\n",
    "if d in a:\n",
    "    print ('{}는 야채'.format(d))\n",
    "elif d in b:\n",
    "    print ('{}는 과일'.format(d))\n",
    "elif d in c:\n",
    "    print ('{}는 고기' .format(d))\n",
    "else:\n",
    "    print ('{}는 야채도 아니고 과일도 아니고 고기도 아니다.' .format(d))"
   ]
  },
  {
   "cell_type": "code",
   "execution_count": 73,
   "metadata": {},
   "outputs": [
    {
     "name": "stdout",
     "output_type": "stream",
     "text": [
      "걸어가야겠다.\n"
     ]
    }
   ],
   "source": [
    "money = 0\n",
    "if money >= 5000:\n",
    "    print ('택시 타고가자.')\n",
    "elif money > 800:\n",
    "    print ('지하철 타고가자.')\n",
    "else:\n",
    "    print ('걸어가야겠다.')"
   ]
  },
  {
   "cell_type": "markdown",
   "metadata": {},
   "source": [
    "## Chapter 6 집합 \n",
    "\n",
    "### 01 중복된 원소 제거하기"
   ]
  },
  {
   "cell_type": "code",
   "execution_count": 74,
   "metadata": {},
   "outputs": [],
   "source": [
    "a = [1,2,3]\n",
    "b = [4,5,6]"
   ]
  },
  {
   "cell_type": "code",
   "execution_count": 75,
   "metadata": {},
   "outputs": [
    {
     "name": "stdout",
     "output_type": "stream",
     "text": [
      "[1, 2, 3]\n"
     ]
    }
   ],
   "source": [
    "a = [1,2,3,1]\n",
    "new_a = []                # 공집합을 만들어 new_a로 지장하고\n",
    "for i in a:               # a의 원소에대해\n",
    "    if i not in new_a:    # i가 new_a에 없으면\n",
    "        new_a.append(i)   # new_a에 i를 추가하여라\n",
    "print (new_a)"
   ]
  },
  {
   "cell_type": "markdown",
   "metadata": {},
   "source": [
    "### 02 합집합 구현하기"
   ]
  },
  {
   "cell_type": "code",
   "execution_count": 76,
   "metadata": {},
   "outputs": [
    {
     "name": "stdout",
     "output_type": "stream",
     "text": [
      "[1, 2, 3, 4, 5, 6]\n"
     ]
    }
   ],
   "source": [
    "a = [1,2,3]\n",
    "b = [4,5,6]\n",
    "c = a + b\n",
    "print (c)"
   ]
  },
  {
   "cell_type": "code",
   "execution_count": 77,
   "metadata": {},
   "outputs": [
    {
     "name": "stdout",
     "output_type": "stream",
     "text": [
      "[1, 2, 3, 3, 4, 5]\n"
     ]
    }
   ],
   "source": [
    "a = [1,2,3]\n",
    "b = [3,4,5]\n",
    "print (a + b)"
   ]
  },
  {
   "cell_type": "code",
   "execution_count": 78,
   "metadata": {},
   "outputs": [
    {
     "name": "stdout",
     "output_type": "stream",
     "text": [
      "[1, 2, 3, 4, 5]\n"
     ]
    }
   ],
   "source": [
    "c = []                     \n",
    "for i in a:                \n",
    "    if i not in b:         \n",
    "        c.append(i)        \n",
    "c = c + b\n",
    "c.sort()\n",
    "print (c)"
   ]
  },
  {
   "cell_type": "code",
   "execution_count": 79,
   "metadata": {},
   "outputs": [
    {
     "name": "stdout",
     "output_type": "stream",
     "text": [
      "[1, 2, 3, 4, 5]\n"
     ]
    }
   ],
   "source": [
    "c = []                     # 합집합을 우선 공집합으로 만들어 놓고\n",
    "for i in a:                # a의 원소 i에 대해\n",
    "    if i not in c:         # c에 없으면\n",
    "        c.append(i)        # c에 그 원소 i를 넣어라\n",
    "\n",
    "for i in b:                # b의 원소 i에 대해\n",
    "    if i not in c:         # c에 없으면\n",
    "        c.append(i)        # c에 그 원소 i를 넣어라\n",
    "c.sort()\n",
    "print(c)"
   ]
  },
  {
   "cell_type": "markdown",
   "metadata": {},
   "source": [
    "#### Question 1.1 "
   ]
  },
  {
   "cell_type": "code",
   "execution_count": 80,
   "metadata": {},
   "outputs": [],
   "source": [
    "a = ['apple', 'melon', 'orange'] \n",
    "b = ['chicken', 'pig', 'cow']"
   ]
  },
  {
   "cell_type": "code",
   "execution_count": 81,
   "metadata": {},
   "outputs": [
    {
     "name": "stdout",
     "output_type": "stream",
     "text": [
      "['apple', 'melon', 'orange', 'chicken', 'pig', 'cow']\n"
     ]
    }
   ],
   "source": [
    "c = a + b\n",
    "print (c)"
   ]
  },
  {
   "cell_type": "code",
   "execution_count": 82,
   "metadata": {},
   "outputs": [
    {
     "name": "stdout",
     "output_type": "stream",
     "text": [
      "['apple', 'chicken', 'cow', 'melon', 'orange', 'pig']\n"
     ]
    }
   ],
   "source": [
    "c = []                     #\n",
    "for i in a:                # a에 속한 모든 요소 i에 대해서 순서대로 실행시키자. \n",
    "    if i not in b:         # 만약 i가 b에 속하지 않는다면\n",
    "        c.append(i)        # 합집합 c에 i를 추가하여라.\n",
    "c = c + b\n",
    "c.sort()\n",
    "print (c)"
   ]
  },
  {
   "cell_type": "code",
   "execution_count": 83,
   "metadata": {},
   "outputs": [],
   "source": [
    "b[1] = 'melon'"
   ]
  },
  {
   "cell_type": "code",
   "execution_count": 84,
   "metadata": {},
   "outputs": [
    {
     "name": "stdout",
     "output_type": "stream",
     "text": [
      "['chicken', 'melon', 'cow']\n"
     ]
    }
   ],
   "source": [
    "print(b)"
   ]
  },
  {
   "cell_type": "code",
   "execution_count": 85,
   "metadata": {},
   "outputs": [
    {
     "name": "stdout",
     "output_type": "stream",
     "text": [
      "['apple', 'chicken', 'cow', 'melon', 'orange']\n"
     ]
    }
   ],
   "source": [
    "c = []\n",
    "for i in a:                # a에 속한 모든 요소 i에 대해서 순서대로 실행시키자. \n",
    "    if i not in b:         # 만약 i가 b에 속하지 않는다면\n",
    "        c.append(i)        # 합집합 c에 i를 추가하여라.\n",
    "c = c + b\n",
    "c.sort()\n",
    "print (c)"
   ]
  },
  {
   "cell_type": "markdown",
   "metadata": {},
   "source": [
    "### 03 교집합 구현하기"
   ]
  },
  {
   "cell_type": "code",
   "execution_count": 86,
   "metadata": {},
   "outputs": [
    {
     "name": "stdout",
     "output_type": "stream",
     "text": [
      "[3]\n"
     ]
    }
   ],
   "source": [
    "a = [1,2,3]\n",
    "b = [3,4,5]\n",
    "\n",
    "c = []               # 교집합을 우선 공집합으로 만들어 놓고\n",
    "for i in a:          # a에 속한 모든 요소 i에 대해서 순서대로 실행시키자. \n",
    "    if i in b:       # i가 b에 속한다면\n",
    "        c.append(i)  # 교집합 c에 추가시켜라\n",
    "print (c)"
   ]
  },
  {
   "cell_type": "markdown",
   "metadata": {},
   "source": [
    "### 04 차집합 구현하기"
   ]
  },
  {
   "cell_type": "code",
   "execution_count": 87,
   "metadata": {},
   "outputs": [
    {
     "name": "stdout",
     "output_type": "stream",
     "text": [
      "[1, 2]\n"
     ]
    }
   ],
   "source": [
    "a = [1,2,3]\n",
    "b = [3,4,5]\n",
    "\n",
    "c = a + []           # c는 a와 똑같은 list가 되게 복사\n",
    "for i in b:          # b원소가\n",
    "    if i in a:       #i가 a에 속한다면\n",
    "        c.remove(i)  #c에서 i를 지워라\n",
    "print (c)"
   ]
  },
  {
   "cell_type": "code",
   "execution_count": 88,
   "metadata": {},
   "outputs": [
    {
     "name": "stdout",
     "output_type": "stream",
     "text": [
      "[1, 2]\n",
      "[1, 2]\n"
     ]
    }
   ],
   "source": [
    "a = [1,2,3]\n",
    "b = [3,4,5]\n",
    "\n",
    "c = a                # c는 a와 똑같은 list가 되게 복사\n",
    "for i in b:          # b원소가\n",
    "    if i in a:       #i가 a에 속한다면\n",
    "        c.remove(i)  #c에서 i를 지워라\n",
    "print (c)\n",
    "print (a)"
   ]
  },
  {
   "cell_type": "code",
   "execution_count": 89,
   "metadata": {},
   "outputs": [
    {
     "name": "stdout",
     "output_type": "stream",
     "text": [
      "[1, 2]\n",
      "[1, 2, 3]\n"
     ]
    }
   ],
   "source": [
    "a = [1,2,3]\n",
    "b = [3,4,5]\n",
    "c = a.copy()\n",
    "\n",
    "for i in b:          # b원소가\n",
    "    if i in a:       #i가 a에 속한다면\n",
    "        c.remove(i)  #c에서 i를 지워라\n",
    "print (c)\n",
    "print (a)"
   ]
  },
  {
   "cell_type": "markdown",
   "metadata": {},
   "source": [
    "### 05 여집합 구현하기"
   ]
  },
  {
   "cell_type": "code",
   "execution_count": 90,
   "metadata": {},
   "outputs": [
    {
     "name": "stdout",
     "output_type": "stream",
     "text": [
      "[0, 2, 4, 6, 8]\n"
     ]
    }
   ],
   "source": [
    "u = [0,1,2,3,4,5,6,7,8,9]\n",
    "a = [1,3,5,7,9]\n",
    "rest = u + []            # 여집합 rest를 전체집합 u와 똑같이 만들고, \n",
    "for i in a:              # a에 속한 모든 요소 i에 대해서 순서대로 실행시키자. \n",
    "    if i in u:           # i가 u에 속한다면 \n",
    "        rest.remove(i)   # rest에서 i를 지워라\n",
    "print (rest)"
   ]
  },
  {
   "cell_type": "code",
   "execution_count": 91,
   "metadata": {},
   "outputs": [
    {
     "name": "stdout",
     "output_type": "stream",
     "text": [
      "[1, 4, 5, 2, 4, 6, 3, 0]\n"
     ]
    }
   ],
   "source": [
    "a = [1,3,4,5,6]\n",
    "b = [2,4,6,3,0]\n",
    "\n",
    "for i in a:    \n",
    "    if i in b:    \n",
    "        a.remove(i)   \n",
    "c = a + b\n",
    "print (c)"
   ]
  },
  {
   "cell_type": "markdown",
   "metadata": {},
   "source": [
    "## Chapter 7 코딩 함수"
   ]
  },
  {
   "cell_type": "code",
   "execution_count": 92,
   "metadata": {},
   "outputs": [
    {
     "name": "stdout",
     "output_type": "stream",
     "text": [
      "27\n"
     ]
    }
   ],
   "source": [
    "\"\"\" 함수의 정의\"\"\"\n",
    "def plus(a,b):       # 입력값 a, b 2개를 받아서\n",
    "    c = a + b       # a+b를 c에 저장하고\n",
    "    return c        # 결과값 c를 돌려줘라\n",
    "\n",
    "\"\"\" 함수의 사용 \"\"\"\n",
    "d = plus(10,17)      \n",
    "print (d)       "
   ]
  },
  {
   "cell_type": "markdown",
   "metadata": {},
   "source": [
    "### 01 코딩 함수로 합집합 만들기"
   ]
  },
  {
   "cell_type": "code",
   "execution_count": 93,
   "metadata": {},
   "outputs": [],
   "source": [
    "def union(a,b):\n",
    "    c = []\n",
    "    for i in a:                # a에 속한 모든 요소 i에 대해서 순서대로 실행시키자. \n",
    "        if i not in b:         # 만약 i가 b에 속하지 않는다면\n",
    "            c.append(i)        # 합집합 c에 i를 추가하여라.\n",
    "    c = c + b                  # b에 속하지 않는 a와 b가 더해집니다. \n",
    "    c.sort()                 \n",
    "    return c"
   ]
  },
  {
   "cell_type": "code",
   "execution_count": 94,
   "metadata": {},
   "outputs": [
    {
     "data": {
      "text/plain": [
       "[0, 1, 2, 3, 4, 5, 6]"
      ]
     },
     "execution_count": 94,
     "metadata": {},
     "output_type": "execute_result"
    }
   ],
   "source": [
    "a = [1,3,4,5,6]\n",
    "b = [2,4,6,3,0]\n",
    "union(a,b)"
   ]
  },
  {
   "cell_type": "code",
   "execution_count": 95,
   "metadata": {},
   "outputs": [
    {
     "data": {
      "text/plain": [
       "[0, 2, 3, 4, 99]"
      ]
     },
     "execution_count": 95,
     "metadata": {},
     "output_type": "execute_result"
    }
   ],
   "source": [
    "a = [0,2,4]\n",
    "b = [3,0,99]\n",
    "c = union(a,b)\n",
    "c"
   ]
  },
  {
   "cell_type": "markdown",
   "metadata": {},
   "source": [
    "### 02 교집합을 코딩 함수로 만들기"
   ]
  },
  {
   "cell_type": "code",
   "execution_count": 96,
   "metadata": {},
   "outputs": [],
   "source": [
    "def intersection(a,b):\n",
    "    c = []               \n",
    "    for i in a:\n",
    "        if i  in b:\n",
    "            c.append(i)\n",
    "    c.sort()\n",
    "    return c"
   ]
  },
  {
   "cell_type": "code",
   "execution_count": 97,
   "metadata": {},
   "outputs": [
    {
     "data": {
      "text/plain": [
       "[3, 4, 6]"
      ]
     },
     "execution_count": 97,
     "metadata": {},
     "output_type": "execute_result"
    }
   ],
   "source": [
    "a = [1,3,4,5,6]\n",
    "b = [2,4,6,3,0]\n",
    "intersection(a,b)"
   ]
  },
  {
   "cell_type": "code",
   "execution_count": 98,
   "metadata": {},
   "outputs": [
    {
     "data": {
      "text/plain": [
       "[]"
      ]
     },
     "execution_count": 98,
     "metadata": {},
     "output_type": "execute_result"
    }
   ],
   "source": [
    "a = [1,3,5,7,9]\n",
    "b = [2,4,6,8,0]\n",
    "c = intersection(a,b)\n",
    "c"
   ]
  },
  {
   "cell_type": "markdown",
   "metadata": {},
   "source": [
    "###  03 차집합, 여집합을 코딩 함수로 만들기"
   ]
  },
  {
   "cell_type": "code",
   "execution_count": 99,
   "metadata": {},
   "outputs": [],
   "source": [
    "def complement(a,b):\n",
    "    c = a + []\n",
    "    for i in b:   \n",
    "        if i in a: \n",
    "            c.remove(i) \n",
    "    c.sort()\n",
    "    return c"
   ]
  },
  {
   "cell_type": "code",
   "execution_count": 100,
   "metadata": {},
   "outputs": [
    {
     "name": "stdout",
     "output_type": "stream",
     "text": [
      "a - b = [1, 5]\n",
      "b - a = [0, 2]\n"
     ]
    }
   ],
   "source": [
    "a = [1,3,4,5,6]\n",
    "b = [2,4,6,3,0]\n",
    "\n",
    "c = complement(a,b)\n",
    "d = complement(b,a)\n",
    "print ('a - b = {}'.format(c))\n",
    "print ('b - a = {}'.format(d))"
   ]
  },
  {
   "cell_type": "markdown",
   "metadata": {},
   "source": [
    "### 04 차집합과 교집합으로부터 합집합 구하기"
   ]
  },
  {
   "cell_type": "code",
   "execution_count": 101,
   "metadata": {},
   "outputs": [
    {
     "name": "stdout",
     "output_type": "stream",
     "text": [
      "[0, 1, 2, 3, 4, 5, 6]\n"
     ]
    }
   ],
   "source": [
    "a = [1,3,4,5,6] \n",
    "b = [2,4,6,3,0]\n",
    "\n",
    "c = intersection(a,b) + complement(a,b) + complement(b,a)\n",
    "c.sort()\n",
    "print (c)"
   ]
  },
  {
   "cell_type": "markdown",
   "metadata": {},
   "source": [
    "### 04 차집합과 교집합으로부터 합집합 구하기"
   ]
  },
  {
   "cell_type": "code",
   "execution_count": 102,
   "metadata": {},
   "outputs": [],
   "source": [
    "def multi_input(*args):\n",
    "    print (args[0])\n",
    "    print (args[1])\n",
    "    print (args[2])\n",
    "    print (args[3])\n",
    "    print (args[-1])"
   ]
  },
  {
   "cell_type": "code",
   "execution_count": 103,
   "metadata": {},
   "outputs": [
    {
     "name": "stdout",
     "output_type": "stream",
     "text": [
      "1\n",
      "2\n",
      "3\n",
      "4\n",
      "5\n"
     ]
    }
   ],
   "source": [
    "multi_input(1, 2, 3, 4, 5)"
   ]
  },
  {
   "cell_type": "code",
   "execution_count": 104,
   "metadata": {},
   "outputs": [
    {
     "name": "stdout",
     "output_type": "stream",
     "text": [
      "18\n",
      "26\n"
     ]
    }
   ],
   "source": [
    "\"\"\"함수의 정의\"\"\"\n",
    "def sum_all(*args):\n",
    "    total_sum = 0                    \n",
    "    for i in args: \n",
    "        total_sum = total_sum + i    \n",
    "    return total_sum\n",
    "\n",
    "print (sum_all(3,6,9))\n",
    "print (sum_all(3,1,5,6,4,7))"
   ]
  },
  {
   "cell_type": "code",
   "execution_count": 105,
   "metadata": {},
   "outputs": [],
   "source": [
    "def union_all(*lists):\n",
    "    u = union(lists[0], lists[1])   # 처음은 list[0]과 list[1]의 합집합을 구하여 u라 정의하고 \n",
    "    for i in lists[2:]:             # for 문에서 list[2]부터 다시 합집합을 구한다. \n",
    "        u = union(u, i) \n",
    "        u.sort()\n",
    "    return u\n",
    "\n",
    "def intersection_all(*lists):\n",
    "    d = intersection(lists[0], lists[1])   # 처음은 list[0]과 list[1]의 교집합을 구하여 c라 정의하고 \n",
    "    for i in lists[2:]:                    # for 문에서 list[2]부터 다시 교집합을 구한다. \n",
    "        d = intersection(d, i) \n",
    "        d.sort()\n",
    "    return d"
   ]
  },
  {
   "cell_type": "code",
   "execution_count": 106,
   "metadata": {},
   "outputs": [
    {
     "name": "stdout",
     "output_type": "stream",
     "text": [
      "[1, 2, 3, 4, 5, 6, 7, 8, 9]\n",
      "[5]\n"
     ]
    }
   ],
   "source": [
    "a = [1,3,6,5,7]\n",
    "b = [1,5,2,7,3]\n",
    "c = [4,2,8,9,5]\n",
    "print (union_all(a,b,c))\n",
    "print (intersection_all(a,b,c))"
   ]
  },
  {
   "cell_type": "markdown",
   "metadata": {},
   "source": [
    "## Chapter 8 클래스"
   ]
  },
  {
   "cell_type": "markdown",
   "metadata": {},
   "source": [
    "* 객체지향프로그래밍의 기본 요소\n",
    "    * C 언어에는 클래스 없음.\n",
    "    * 거의 모든 최신 언어의 기본 요소로 포함됨.\n",
    "* 클래스 활용\n",
    "\n"
   ]
  },
  {
   "cell_type": "code",
   "execution_count": 107,
   "metadata": {},
   "outputs": [
    {
     "name": "stdout",
     "output_type": "stream",
     "text": [
      "[0, 1, 2, 3, 4, 5, 6]\n",
      "[3, 4, 6]\n",
      "[1, 5]\n"
     ]
    }
   ],
   "source": [
    "a = [1,3,4,5,6]\n",
    "b = [2,4,6,3,0]\n",
    "c = union(a,b)\n",
    "d = intersection(a,b)\n",
    "e = complement(a,b)\n",
    "\n",
    "print(c)\n",
    "print(d)\n",
    "print(e)"
   ]
  },
  {
   "cell_type": "code",
   "execution_count": 111,
   "metadata": {},
   "outputs": [],
   "source": [
    "class Sets():                  # 집합의 연산을 Sets이라는 이름의 class로 정의\n",
    "    def setdata(self,a,b):     # class의 def는 코딩함수가 아니라 매써드 (method)라고 부르며\n",
    "                               # method는 입력값으로 항상 self를 맨 앞에 써 줘야함 \n",
    "        self.a = a             # a를 class의 객체변수로 만든다.\n",
    "        self.b = b             # b를 class의 객체변수로 만든다.\n",
    "    \n",
    "    def union(self):           # 합집합을 구하는 매써드\n",
    "        result = self.b + []\n",
    "        for i in self.a:  \n",
    "            if i not in self.b:    \n",
    "                result.append(i) \n",
    "        result.sort()\n",
    "        return result\n",
    "    \n",
    "    def intersection(self):    # 교집합을 구하는 매써드\n",
    "        result = []\n",
    "        for i in self.a:\n",
    "            if i  in self.b:\n",
    "                result.append(i)\n",
    "        result.sort()\n",
    "        return result\n",
    "    \n",
    "    def complement(self):      # 차집합을 구하는 매써드\n",
    "        result = self.a + []\n",
    "        for i in self.b:    \n",
    "            if i in self.a:    \n",
    "                result.remove(i)   \n",
    "        result.sort()\n",
    "        return result"
   ]
  },
  {
   "cell_type": "code",
   "execution_count": 112,
   "metadata": {},
   "outputs": [
    {
     "name": "stdout",
     "output_type": "stream",
     "text": [
      "['apple', 'banana', 'melon', 'mango', 'tomato'] ['watermelon', 'strawberry', 'orange', 'apple', 'banana']\n",
      "['apple', 'banana', 'melon', 'mango', 'tomato']와 ['watermelon', 'strawberry', 'orange', 'apple', 'banana']의 합집합은 ['apple', 'banana', 'mango', 'melon', 'orange', 'strawberry', 'tomato', 'watermelon']이다.\n",
      "['apple', 'banana', 'melon', 'mango', 'tomato']와 ['watermelon', 'strawberry', 'orange', 'apple', 'banana']의 교집합은 ['apple', 'banana']이다.\n",
      "['apple', 'banana', 'melon', 'mango', 'tomato']와 ['watermelon', 'strawberry', 'orange', 'apple', 'banana']의 차집합은 ['mango', 'melon', 'tomato']이다.\n"
     ]
    }
   ],
   "source": [
    "c = Sets()                # c를 Sets 이라는 class의 객체로 정의합니다.\n",
    "c.setdata(a,b)            # c라는 객체가 연산할때 필요한 data인 a,b라는 입력값을 넣어서 setdata란 매써드가 a,b를 개체변수로 만듭니다.\n",
    "                          # 만들어진 객체변수 a,b는 합집합, 교집합, 차집합 매써드로 계산할때 쓰입니다.\n",
    "print (c.a, c.b)          # c의 객체변수 c.a, c.b를 출력합니다.\n",
    "print ('{}와 {}의 합집합은 {}이다.'.format(c.a, c.b, c.union()))         \n",
    "print ('{}와 {}의 교집합은 {}이다.'.format(c.a, c.b, c.intersection()))  \n",
    "print ('{}와 {}의 차집합은 {}이다.'.format(c.a, c.b, c.complement()))   "
   ]
  },
  {
   "cell_type": "code",
   "execution_count": 113,
   "metadata": {},
   "outputs": [
    {
     "name": "stdout",
     "output_type": "stream",
     "text": [
      "['apple', 'banana', 'melon', 'mango', 'tomato'] ['watermelon', 'strawberry', 'orange', 'apple', 'banana']\n",
      "['apple', 'banana', 'mango', 'melon', 'orange', 'strawberry', 'tomato', 'watermelon']\n",
      "['apple', 'banana']\n",
      "['mango', 'melon', 'tomato']\n"
     ]
    }
   ],
   "source": [
    "a = ['apple', 'banana', 'melon', 'mango', 'tomato']\n",
    "b = ['watermelon', 'strawberry', 'orange', 'apple', 'banana']\n",
    "\n",
    "d = Sets()\n",
    "d.setdata(a,b)\n",
    "\n",
    "print (d.a, d.b)          # d의 객체변수 d.a, d.b를 출력합니다.\n",
    "print (d.union())         # d라는 객체의 변수 a,b를 가지고 합집합을 구한다.\n",
    "print (d.intersection())  # d라는 객체의 변수 a,b를 가지고 교집합을 구한다.\n",
    "print (d.complement())    # d라는 객체의 변수 a,b를 가지고 a-b의 차집합을 구한다."
   ]
  },
  {
   "cell_type": "markdown",
   "metadata": {},
   "source": [
    "### 01 임의의 집합 문제 생성기 만들기"
   ]
  },
  {
   "cell_type": "code",
   "execution_count": 120,
   "metadata": {},
   "outputs": [],
   "source": [
    "import numpy as np\n",
    "\n",
    "class Sets():   # 집합의 class인 sets를 정의\n",
    "    def question(self):\n",
    "        self.select = np.random.randint(3)  # 0이면 교집합, 1이면 합집합, 2이면 차집합을 계산하는 0,1,2중 하나의 숫자를 발생\n",
    "        n_a = np.random.randint(10)    # list a의 갯수를 0~10 중 하나 발생\n",
    "        n_b = np.random.randint(10)    # list b의 갯수를 0~10 중 하나 발생\n",
    "        \n",
    "        self.a = []\n",
    "        self.b = []\n",
    "        for i in np.arange(n_a):  # 중복되지 않는 n_a 갯수를 가진 집합 a를 생성\n",
    "            temp = np.random.randint(10)\n",
    "            if temp not in self.a:\n",
    "                self.a.append(temp)\n",
    "                \n",
    "        for i in np.arange(n_b):  # 중복되지 않는 n_b 갯수를 가진 집합 a를 생성\n",
    "            temp = np.random.randint(10)\n",
    "            if temp not in self.b:\n",
    "                self.b.append(temp)\n",
    "        print ('a: [{}]'.format(','.join(map(str, self.a))))     \n",
    "        print ('b: [{}]'.format(','.join(map(str, self.b))))   \n",
    "        #print('a: [%s]' % ', '.join(map(str, self.a)))\n",
    "        #print('b: [%s]' % ', '.join(map(str, self.b)))\n",
    "        #print(*L, sep=', ')\n",
    "        if self.select == 0:\n",
    "            print ('a, b가 위와 같고 두 집합의 교집합을 구하시오')\n",
    "        elif self.select == 1:\n",
    "            print ('a, b가 위와 같고 두 집합의 합집합을 구하시오')\n",
    "        elif self.select == 2:\n",
    "            print ('a, b가 위와 같고 차집합 a-b를 구하시오')\n",
    "                \n",
    "    def setdata(self,a,b):\n",
    "        self.a = a\n",
    "        self.b = b\n",
    "        \n",
    "    def intersection(self):   # 집합을 class sets로 정의하고 그 중 교집합구하는 함수를 정의\n",
    "        result = []\n",
    "        for i in self.a:\n",
    "            if i  in self.b:\n",
    "                result.append(i)\n",
    "        return result\n",
    "    \n",
    "    def union(self):\n",
    "        result = self.b + []\n",
    "        for i in self.a:  # a에 속한 모든 요소 i에 대해서 순서대로 실행시키자. \n",
    "            if i not in self.b:   # 만약 i가 b에 속하지 않는다면\n",
    "                result.append(i) \n",
    "        return result\n",
    "    \n",
    "    def complement(self):\n",
    "        result = self.a + []\n",
    "        for i in self.b:   # a에 속한 모든 요소 i에 대해서 순서대로 실행시키자. \n",
    "            if i in self.a:   #i가 a에 속한다면\n",
    "                result.remove(i)  #a에서 i를 지워라\n",
    "        return result\n",
    "    \n",
    "    def answer(self):\n",
    "        if self.select == 0:\n",
    "            result = self.intersection()\n",
    "            result.sort()\n",
    "            print (result)\n",
    "        elif self.select == 1:\n",
    "            result = self.union()\n",
    "            result.sort()\n",
    "            print (result)\n",
    "        elif self.select == 2:\n",
    "            result = self.complement()\n",
    "            result.sort()\n",
    "            print (result)"
   ]
  },
  {
   "cell_type": "code",
   "execution_count": 121,
   "metadata": {},
   "outputs": [],
   "source": [
    "q1 = Sets()"
   ]
  },
  {
   "cell_type": "code",
   "execution_count": 122,
   "metadata": {},
   "outputs": [
    {
     "name": "stdout",
     "output_type": "stream",
     "text": [
      "a: []\n",
      "b: [7,3]\n",
      "a, b가 위와 같고 차집합 a-b를 구하시오\n"
     ]
    }
   ],
   "source": [
    "q1.question()"
   ]
  },
  {
   "cell_type": "code",
   "execution_count": 123,
   "metadata": {},
   "outputs": [
    {
     "name": "stdout",
     "output_type": "stream",
     "text": [
      "[]\n"
     ]
    }
   ],
   "source": [
    "q1.answer()"
   ]
  },
  {
   "cell_type": "code",
   "execution_count": 124,
   "metadata": {},
   "outputs": [
    {
     "name": "stdout",
     "output_type": "stream",
     "text": [
      "a: [2,0,3,9,4]\n",
      "b: [1,5,8,0]\n",
      "a, b가 위와 같고 두 집합의 합집합을 구하시오\n"
     ]
    }
   ],
   "source": [
    "q2 = Sets()\n",
    "q2.question()"
   ]
  },
  {
   "cell_type": "code",
   "execution_count": 125,
   "metadata": {},
   "outputs": [
    {
     "name": "stdout",
     "output_type": "stream",
     "text": [
      "[0, 1, 2, 3, 4, 5, 8, 9]\n"
     ]
    }
   ],
   "source": [
    "q2.answer()"
   ]
  },
  {
   "cell_type": "code",
   "execution_count": 126,
   "metadata": {},
   "outputs": [
    {
     "name": "stdout",
     "output_type": "stream",
     "text": [
      "[]\n"
     ]
    }
   ],
   "source": [
    "q1.answer()"
   ]
  },
  {
   "cell_type": "markdown",
   "metadata": {},
   "source": [
    "## 02 built-in 집합 클래스 사용하기 - sets"
   ]
  },
  {
   "cell_type": "markdown",
   "metadata": {},
   "source": [
    "#### Question 1.2"
   ]
  },
  {
   "cell_type": "code",
   "execution_count": 127,
   "metadata": {},
   "outputs": [],
   "source": [
    "def digit(number):\n",
    "    str_number = str(number)\n",
    "    n = len(str_number)\n",
    "    return n"
   ]
  },
  {
   "cell_type": "code",
   "execution_count": 128,
   "metadata": {},
   "outputs": [
    {
     "data": {
      "text/plain": [
       "8"
      ]
     },
     "execution_count": 128,
     "metadata": {},
     "output_type": "execute_result"
    }
   ],
   "source": [
    "digit(13836382)"
   ]
  },
  {
   "cell_type": "markdown",
   "metadata": {},
   "source": [
    "#### Question 1.3"
   ]
  },
  {
   "cell_type": "code",
   "execution_count": 129,
   "metadata": {},
   "outputs": [],
   "source": [
    "def number_intersection(a,b):\n",
    "    str_a = str(a)\n",
    "    str_b = str(b)\n",
    "    c = []\n",
    "    c = intersection(str_a, str_b)   # 교집합은 미리 만들어 놓았으니 불러오기만 하면 됩니다.\n",
    "    c.sort()\n",
    "    return c"
   ]
  },
  {
   "cell_type": "code",
   "execution_count": 130,
   "metadata": {},
   "outputs": [
    {
     "name": "stdout",
     "output_type": "stream",
     "text": [
      "['3', '7']\n"
     ]
    }
   ],
   "source": [
    "a = 38472\n",
    "b = 173\n",
    "c = number_intersection(a,b)\n",
    "print (c)"
   ]
  },
  {
   "cell_type": "markdown",
   "metadata": {},
   "source": [
    "#### Question 1.4"
   ]
  },
  {
   "cell_type": "code",
   "execution_count": 131,
   "metadata": {},
   "outputs": [],
   "source": [
    "def double_complement(a,b):\n",
    "    c = union(a,b) \n",
    "    d = intersection(a,b)\n",
    "    e = complement(c,d)\n",
    "    e.sort()\n",
    "    return e"
   ]
  },
  {
   "cell_type": "code",
   "execution_count": 132,
   "metadata": {},
   "outputs": [
    {
     "data": {
      "text/plain": [
       "[0, 1, 3, 4, 5, 6, 8, 9]"
      ]
     },
     "execution_count": 132,
     "metadata": {},
     "output_type": "execute_result"
    }
   ],
   "source": [
    "a = [1,3,5,7,9,2]\n",
    "b = [2,4,6,8,0,7]\n",
    "\n",
    "double_complement(a,b)"
   ]
  },
  {
   "cell_type": "markdown",
   "metadata": {},
   "source": [
    "#### Question 1.5"
   ]
  },
  {
   "cell_type": "code",
   "execution_count": 133,
   "metadata": {},
   "outputs": [],
   "source": [
    "def xor(a,b):\n",
    "    if a + b == 1:\n",
    "        return 1\n",
    "    else:\n",
    "        return 0"
   ]
  },
  {
   "cell_type": "markdown",
   "metadata": {},
   "source": [
    "위 조건문 a+b == 1에서 '=='는 같다라는 의미입니다.\n",
    "\n",
    "다음 챕터에서 더 자세히 알아보겠습니다."
   ]
  },
  {
   "cell_type": "code",
   "execution_count": 134,
   "metadata": {},
   "outputs": [
    {
     "name": "stdout",
     "output_type": "stream",
     "text": [
      "0\n",
      "1\n",
      "1\n",
      "0\n"
     ]
    }
   ],
   "source": [
    "print (xor(0,0))\n",
    "print (xor(0,1))\n",
    "print (xor(1,0))\n",
    "print (xor(1,1))"
   ]
  },
  {
   "cell_type": "markdown",
   "metadata": {},
   "source": [
    "#### Question 1.6\n",
    "\n",
    "<img src = 'https://upload.wikimedia.org/wikipedia/commons/thumb/a/ae/Venn_0110_1001.svg/200px-Venn_0110_1001.svg.png'>\n"
   ]
  },
  {
   "cell_type": "code",
   "execution_count": 135,
   "metadata": {},
   "outputs": [],
   "source": [
    "def xor3(a,b,c):\n",
    "    d = complement(a,union(b,c)) + complement(b, union(a,c)) + complement(c, union(a,b))\n",
    "    d = d + intersection_all(a,b,c)\n",
    "    d.sort()\n",
    "    return d"
   ]
  },
  {
   "cell_type": "code",
   "execution_count": 136,
   "metadata": {},
   "outputs": [
    {
     "data": {
      "text/plain": [
       "[1, 3, 5, 7]"
      ]
     },
     "execution_count": 136,
     "metadata": {},
     "output_type": "execute_result"
    }
   ],
   "source": [
    "a = [1,2,3,4]\n",
    "b = [5,2,3,6]\n",
    "c = [7,6,3,4]\n",
    "\n",
    "xor3(a,b,c)"
   ]
  },
  {
   "cell_type": "markdown",
   "metadata": {},
   "source": [
    "#### Question 1.7"
   ]
  },
  {
   "cell_type": "code",
   "execution_count": 137,
   "metadata": {},
   "outputs": [],
   "source": [
    "def subset_or_not(a,b):\n",
    "    a.sort()\n",
    "    if intersection(a,b) == a:\n",
    "        print ('a는 b의 부분집합')\n",
    "    else:\n",
    "        print ('a는 b의 부분집합이 아니다.')"
   ]
  },
  {
   "cell_type": "code",
   "execution_count": 138,
   "metadata": {},
   "outputs": [
    {
     "name": "stdout",
     "output_type": "stream",
     "text": [
      "a는 b의 부분집합\n",
      "None\n"
     ]
    }
   ],
   "source": [
    "a = [1,3,5,7]\n",
    "b = [1,3,5,7,9]\n",
    "print (subset_or_not(a,b))"
   ]
  },
  {
   "cell_type": "code",
   "execution_count": 139,
   "metadata": {},
   "outputs": [
    {
     "name": "stdout",
     "output_type": "stream",
     "text": [
      "a는 b의 부분집합이 아니다.\n",
      "None\n"
     ]
    }
   ],
   "source": [
    "b.remove(3)\n",
    "print (subset_or_not(a,b))"
   ]
  },
  {
   "cell_type": "markdown",
   "metadata": {},
   "source": [
    "#### Question 1.8"
   ]
  },
  {
   "cell_type": "markdown",
   "metadata": {},
   "source": [
    "하키를 A\n",
    "\n",
    "야구를 B\n",
    "\n",
    "축구를 C라 하고\n",
    "\n",
    "$n(A \\cap B) = 7$\n",
    "\n",
    "$n(B \\cap C) = 4$\n",
    "\n",
    "$n(C \\cap A) = 5$\n",
    "\n",
    "$n(A) + n(B) + n(C) - n(A \\cap B) - n(B \\cap C) - n(C \\cap A) + n(A \\cap B \\cap C) +  18 = 50$\n",
    "\n",
    "$ 20 + 15 + 11 - 7 - 4 - 5 + n(A \\cap B \\cap C) = 32$\n",
    "\n",
    "$n(A \\cap B \\cap C) = 2 $\n",
    "\n",
    "따라서 \n",
    "\n",
    "$n(A \\cap B) -  n(A \\cap B \\cap C) $\n",
    "\n",
    "$+ n(B \\cap C) -  n(A \\cap B \\cap C)$\n",
    "\n",
    "$+ n(C \\cap A) -  n(A \\cap B \\cap C) = 7 -2 + 4 - 2 + 5 - 2 = 10$\n"
   ]
  },
  {
   "cell_type": "markdown",
   "metadata": {},
   "source": [
    "#### Question 1.9\n"
   ]
  },
  {
   "cell_type": "code",
   "execution_count": 140,
   "metadata": {},
   "outputs": [
    {
     "data": {
      "text/plain": [
       "[9, 1, 2, 3, 4, 5, 6, 7, 8]"
      ]
     },
     "execution_count": 140,
     "metadata": {},
     "output_type": "execute_result"
    }
   ],
   "source": [
    "def rotation(list_a):\n",
    "    new_list = []\n",
    "    new_list.append(list_a[-1])\n",
    "    new_list = new_list + (list_a[:-1])\n",
    "    return new_list\n",
    "a = [1,2,3,4,5,6,7,8,9]\n",
    "rotation(a)"
   ]
  },
  {
   "cell_type": "markdown",
   "metadata": {},
   "source": [
    "#### Question 1.10"
   ]
  },
  {
   "cell_type": "code",
   "execution_count": 141,
   "metadata": {},
   "outputs": [
    {
     "data": {
      "text/plain": [
       "[7, 8, 9, 1, 2, 3, 4, 5, 6]"
      ]
     },
     "execution_count": 141,
     "metadata": {},
     "output_type": "execute_result"
    }
   ],
   "source": [
    "def n_rot(list_a, n):\n",
    "    for i in range(n):\n",
    "        list_a = rotation(list_a)\n",
    "    return list_a\n",
    "a = [1,2,3,4,5,6,7,8,9]\n",
    "n_rot(a,3)"
   ]
  },
  {
   "cell_type": "markdown",
   "metadata": {},
   "source": [
    "#### Question 1.11"
   ]
  },
  {
   "cell_type": "markdown",
   "metadata": {},
   "source": [
    "해답)\n",
    "\n",
    "$n(A) = 5$\n",
    "\n",
    "$n(B) = 7$\n",
    "\n",
    "$n(C) = 9$\n",
    "\n",
    "$n(A \\cap B \\cap C) = 2$\n",
    "\n",
    "$n(A \\cap B +B \\cap C + C \\cap A-  A \\cap B \\cap C) = 3$\n",
    "\n",
    "$20 - (n(A) + n(B)+ n(C) - n(A \\cap B \\cap C)- n(A \\cap B +B \\cap C + C \\cap A-  A \\cap B \\cap C) - n(A \\cap B \\cap C) \\times 2) $\n",
    "\n",
    "$ =20 - (5 + 7 + 9 - 3 - 2 \\times 2 ) = 6 $"
   ]
  }
 ],
 "metadata": {
  "kernelspec": {
   "display_name": "Python 3",
   "language": "python",
   "name": "python3"
  },
  "language_info": {
   "codemirror_mode": {
    "name": "ipython",
    "version": 3
   },
   "file_extension": ".py",
   "mimetype": "text/x-python",
   "name": "python",
   "nbconvert_exporter": "python",
   "pygments_lexer": "ipython3",
   "version": "3.6.8"
  }
 },
 "nbformat": 4,
 "nbformat_minor": 2
}
