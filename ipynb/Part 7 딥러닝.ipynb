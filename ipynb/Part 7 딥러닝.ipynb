{
 "cells": [
  {
   "cell_type": "markdown",
   "metadata": {},
   "source": [
    "# Part 7 딥러닝\n",
    "## Chapter 1 인공신경망 원리\n",
    "## Chapter 2 수학적 인공신경망 표현"
   ]
  },
  {
   "cell_type": "code",
   "execution_count": 5,
   "metadata": {},
   "outputs": [],
   "source": [
    "%matplotlib inline\n",
    "import numpy as np\n",
    "import matplotlib.pyplot as plt"
   ]
  },
  {
   "cell_type": "code",
   "execution_count": 6,
   "metadata": {},
   "outputs": [],
   "source": [
    "XR = 0\n",
    "XG = 0\n",
    "XB = 0\n",
    "\n",
    "WR = 0\n",
    "WG = 0\n",
    "WB = 0\n",
    "\n",
    "X = np.array([XR, XG, XB])\n",
    "W = np.array([WR, WG, WB])"
   ]
  },
  {
   "cell_type": "code",
   "execution_count": 7,
   "metadata": {},
   "outputs": [
    {
     "data": {
      "text/plain": [
       "0"
      ]
     },
     "execution_count": 7,
     "metadata": {},
     "output_type": "execute_result"
    }
   ],
   "source": [
    "def input_total(X,W):\n",
    "    y = np.multiply(X,W)\n",
    "    return np.sum(y)\n",
    "\n",
    "y = input_total(X,W)\n",
    "y"
   ]
  },
  {
   "cell_type": "markdown",
   "metadata": {},
   "source": [
    "## Chapter 3 활성화 함수를 이용한 인공신경망 코딩"
   ]
  },
  {
   "cell_type": "code",
   "execution_count": 8,
   "metadata": {},
   "outputs": [
    {
     "data": {
      "image/png": "[encoded data removed]",
      "text/plain": [
       "<Figure size 432x288 with 1 Axes>"
      ]
     },
     "metadata": {
      "needs_background": "light"
     },
     "output_type": "display_data"
    }
   ],
   "source": [
    "xx = np.arange(-10,11)\n",
    "yy = np.zeros(len(xx))\n",
    "for i in range(len(xx)):\n",
    "    if xx[i] >= 1:\n",
    "        yy[i] = 1\n",
    "plt.plot(xx,yy)\n",
    "plt.grid()"
   ]
  },
  {
   "cell_type": "code",
   "execution_count": 9,
   "metadata": {},
   "outputs": [],
   "source": [
    "def activation_func(y):\n",
    "    if y >= 1:\n",
    "        return 1\n",
    "    else:\n",
    "        return 0"
   ]
  },
  {
   "cell_type": "code",
   "execution_count": 10,
   "metadata": {},
   "outputs": [
    {
     "data": {
      "text/plain": [
       "0"
      ]
     },
     "execution_count": 10,
     "metadata": {},
     "output_type": "execute_result"
    }
   ],
   "source": [
    "activation_func(y)"
   ]
  },
  {
   "cell_type": "code",
   "execution_count": 11,
   "metadata": {},
   "outputs": [
    {
     "name": "stdout",
     "output_type": "stream",
     "text": [
      "expectation : 0\n",
      "error : 0\n"
     ]
    }
   ],
   "source": [
    "t = 0\n",
    "def error(y, t):\n",
    "    return t - y\n",
    "e = error(y, t)\n",
    "print('expectation : {}'.format(y))\n",
    "print('error : {}'.format(e))\n",
    "                                "
   ]
  },
  {
   "cell_type": "code",
   "execution_count": 12,
   "metadata": {},
   "outputs": [
    {
     "name": "stdout",
     "output_type": "stream",
     "text": [
      "expectation : 0\n",
      "error : 0\n"
     ]
    }
   ],
   "source": [
    "t_R = 0\n",
    "X_R = np.array([1,0,0])\n",
    "Y_R = activation_func(input_total(X_R,W))\n",
    "e_R = error(Y_R, t_R)\n",
    "print('expectation : {}'.format(Y_R))\n",
    "print('error : {}'.format(e_R))"
   ]
  },
  {
   "cell_type": "code",
   "execution_count": 13,
   "metadata": {},
   "outputs": [
    {
     "data": {
      "text/plain": [
       "0.0"
      ]
     },
     "execution_count": 13,
     "metadata": {},
     "output_type": "execute_result"
    }
   ],
   "source": [
    "learning_rate = 0.01\n",
    "learning = learning_rate*e_R\n",
    "learning"
   ]
  },
  {
   "cell_type": "code",
   "execution_count": 14,
   "metadata": {},
   "outputs": [
    {
     "data": {
      "text/plain": [
       "array([0., 0., 0.])"
      ]
     },
     "execution_count": 14,
     "metadata": {},
     "output_type": "execute_result"
    }
   ],
   "source": [
    "W = W + learning * X_R\n",
    "W"
   ]
  },
  {
   "cell_type": "code",
   "execution_count": 15,
   "metadata": {},
   "outputs": [
    {
     "name": "stdout",
     "output_type": "stream",
     "text": [
      "expectation : 0\n",
      "error : 1\n"
     ]
    }
   ],
   "source": [
    "t_G = 1\n",
    "X_G = np.array([0,1,0])\n",
    "Y_G = activation_func(input_total(X_G,W))\n",
    "e_G = error(Y_G, t_G)\n",
    "print('expectation : {}'.format(Y_G))\n",
    "print('error : {}'.format(e_G))"
   ]
  },
  {
   "cell_type": "code",
   "execution_count": 16,
   "metadata": {},
   "outputs": [
    {
     "data": {
      "text/plain": [
       "array([0.  , 0.01, 0.  ])"
      ]
     },
     "execution_count": 16,
     "metadata": {},
     "output_type": "execute_result"
    }
   ],
   "source": [
    "learning = learning_rate * e_G\n",
    "W = W + learning * X_G\n",
    "W"
   ]
  },
  {
   "cell_type": "code",
   "execution_count": 17,
   "metadata": {},
   "outputs": [
    {
     "name": "stdout",
     "output_type": "stream",
     "text": [
      "expectation : 0\n",
      "error : 0\n"
     ]
    }
   ],
   "source": [
    "t_B = 0\n",
    "X_B = np.array([0,0,1])\n",
    "Y_B = activation_func(input_total(X_B,W))\n",
    "e_B = error(Y_B, t_B)\n",
    "print('expectation : {}'.format(Y_B))\n",
    "print('error : {}'.format(e_B))"
   ]
  },
  {
   "cell_type": "code",
   "execution_count": 18,
   "metadata": {},
   "outputs": [
    {
     "data": {
      "text/plain": [
       "array([0.  , 0.01, 0.  ])"
      ]
     },
     "execution_count": 18,
     "metadata": {},
     "output_type": "execute_result"
    }
   ],
   "source": [
    "learning = learning_rate * e_B\n",
    "W = W + learning * X_B\n",
    "W"
   ]
  },
  {
   "cell_type": "code",
   "execution_count": 19,
   "metadata": {},
   "outputs": [
    {
     "data": {
      "text/plain": [
       "1"
      ]
     },
     "execution_count": 19,
     "metadata": {},
     "output_type": "execute_result"
    }
   ],
   "source": [
    "light = np.random.randint(3)\n",
    "light"
   ]
  },
  {
   "cell_type": "code",
   "execution_count": 20,
   "metadata": {},
   "outputs": [
    {
     "name": "stdout",
     "output_type": "stream",
     "text": [
      "0번째 학습이며 이때 가중치 W는 [0. 0. 0.]\n",
      "50번째 학습이며 이때 가중치 W는 [0.   0.18 0.  ]\n",
      "100번째 학습이며 이때 가중치 W는 [0.   0.33 0.  ]\n",
      "150번째 학습이며 이때 가중치 W는 [0.   0.46 0.  ]\n",
      "200번째 학습이며 이때 가중치 W는 [0.   0.66 0.  ]\n",
      "250번째 학습이며 이때 가중치 W는 [0.   0.83 0.  ]\n",
      "300번째 학습이며 이때 가중치 W는 [0.   0.94 0.  ]\n",
      "350번째 학습이며 이때 가중치 W는 [0. 1. 0.]\n",
      "400번째 학습이며 이때 가중치 W는 [0. 1. 0.]\n",
      "450번째 학습이며 이때 가중치 W는 [0. 1. 0.]\n",
      "500번째 학습이며 이때 가중치 W는 [0. 1. 0.]\n",
      "550번째 학습이며 이때 가중치 W는 [0. 1. 0.]\n",
      "600번째 학습이며 이때 가중치 W는 [0. 1. 0.]\n",
      "650번째 학습이며 이때 가중치 W는 [0. 1. 0.]\n",
      "700번째 학습이며 이때 가중치 W는 [0. 1. 0.]\n",
      "750번째 학습이며 이때 가중치 W는 [0. 1. 0.]\n",
      "800번째 학습이며 이때 가중치 W는 [0. 1. 0.]\n",
      "850번째 학습이며 이때 가중치 W는 [0. 1. 0.]\n",
      "900번째 학습이며 이때 가중치 W는 [0. 1. 0.]\n",
      "950번째 학습이며 이때 가중치 W는 [0. 1. 0.]\n"
     ]
    }
   ],
   "source": [
    "n = 1000\n",
    "W = np.array([0, 0, 0])\n",
    "learning_rate = 0.01\n",
    "for i in range(n):\n",
    "    light = np.random.randint(3)\n",
    "    if light == 0:\n",
    "        X = np.array([1, 0, 0])\n",
    "        t = 0\n",
    "    elif light == 1:\n",
    "        X = np.array([0, 1, 0])\n",
    "        t = 1\n",
    "    elif light == 2:\n",
    "        X = np.array([0, 0, 1])\n",
    "        t = 0\n",
    "    y = activation_func(input_total(X, W))\n",
    "    e = error(y, t)\n",
    "    learning = learning_rate * e\n",
    "    W = W + learning * X\n",
    "    \n",
    "    if i % 50 == 0:\n",
    "        print ('{}번째 학습이며 이때 가중치 W는 {}'.format(i, W))"
   ]
  },
  {
   "cell_type": "code",
   "execution_count": 21,
   "metadata": {},
   "outputs": [],
   "source": [
    "light = np.random.randint(2, size = 3)\n",
    "X = light.copy()"
   ]
  },
  {
   "cell_type": "code",
   "execution_count": 22,
   "metadata": {},
   "outputs": [
    {
     "name": "stdout",
     "output_type": "stream",
     "text": [
      "[0. 1. 0.]\n"
     ]
    }
   ],
   "source": [
    "X = np.random.randint(2, size = 3)\n",
    "if X[1] == 1:\n",
    "    t = 1\n",
    "y = activation_func(input_total(X, W))\n",
    "e = error(y, t)\n",
    "learning = learning_rate * e\n",
    "W = W + learning * X\n",
    "\n",
    "print (W)"
   ]
  },
  {
   "cell_type": "code",
   "execution_count": 23,
   "metadata": {
    "scrolled": false
   },
   "outputs": [
    {
     "name": "stdout",
     "output_type": "stream",
     "text": [
      "0번째 학습이며 이때 가중치 W는 [0.   0.05 0.  ]\n",
      "10번째 학습이며 이때 가중치 W는 [0.15 0.35 0.2 ]\n",
      "20번째 학습이며 이때 가중치 W는 [0.3 0.7 0.4]\n",
      "30번째 학습이며 이때 가중치 W는 [0.3 0.7 0.4]\n",
      "40번째 학습이며 이때 가중치 W는 [0.3 0.8 0.4]\n",
      "50번째 학습이며 이때 가중치 W는 [0.3 0.8 0.4]\n",
      "60번째 학습이며 이때 가중치 W는 [0.3 0.9 0.4]\n",
      "70번째 학습이며 이때 가중치 W는 [0.3 1.  0.4]\n",
      "80번째 학습이며 이때 가중치 W는 [0.3 1.  0.4]\n",
      "90번째 학습이며 이때 가중치 W는 [0.3 1.  0.4]\n",
      "100번째 학습이며 이때 가중치 W는 [0.3 1.  0.4]\n",
      "110번째 학습이며 이때 가중치 W는 [0.3 1.  0.4]\n",
      "120번째 학습이며 이때 가중치 W는 [0.3 1.  0.4]\n",
      "130번째 학습이며 이때 가중치 W는 [0.3 1.  0.4]\n",
      "140번째 학습이며 이때 가중치 W는 [0.3 1.  0.4]\n",
      "150번째 학습이며 이때 가중치 W는 [0.3 1.  0.4]\n",
      "160번째 학습이며 이때 가중치 W는 [0.3 1.  0.4]\n",
      "170번째 학습이며 이때 가중치 W는 [0.3 1.  0.4]\n",
      "180번째 학습이며 이때 가중치 W는 [0.3 1.  0.4]\n",
      "190번째 학습이며 이때 가중치 W는 [0.3 1.  0.4]\n"
     ]
    }
   ],
   "source": [
    "n = 200\n",
    "W = np.array([0, 0, 0])\n",
    "learning_rate = 0.05\n",
    "\n",
    "for i in range(n):\n",
    "    t = 0\n",
    "    X = np.random.randint(2, size = 3)\n",
    "    if X[1] == 1:\n",
    "        t = 1\n",
    "    y = activation_func(input_total(X, W))\n",
    "    e = error(y, t)\n",
    "    learning = learning_rate * e\n",
    "    W = W + learning * X\n",
    "    \n",
    "    if i % 10 == 0:\n",
    "        print ('{}번째 학습이며 이때 가중치 W는 {}'.format(i, W))"
   ]
  },
  {
   "cell_type": "markdown",
   "metadata": {},
   "source": [
    "### Chapter 4 ReLU 함수를 이용한 코딩 함수"
   ]
  },
  {
   "cell_type": "code",
   "execution_count": 24,
   "metadata": {},
   "outputs": [
    {
     "data": {
      "image/png": "[encoded data removed]",
      "text/plain": [
       "<Figure size 432x288 with 1 Axes>"
      ]
     },
     "metadata": {
      "needs_background": "light"
     },
     "output_type": "display_data"
    }
   ],
   "source": [
    "xx = np.arange(-10,11)\n",
    "yy = np.zeros(len(xx))\n",
    "for i in range(len(xx)):\n",
    "    if xx[i] >= 0:\n",
    "        yy[i] = xx[i]\n",
    "plt.plot(xx,yy)\n",
    "plt.grid()"
   ]
  },
  {
   "cell_type": "code",
   "execution_count": 25,
   "metadata": {},
   "outputs": [],
   "source": [
    "def ReLU(y):\n",
    "    if y > 0:\n",
    "        return y\n",
    "    else:\n",
    "        return 0"
   ]
  },
  {
   "cell_type": "code",
   "execution_count": 26,
   "metadata": {},
   "outputs": [],
   "source": [
    "for j in range(len(W)):\n",
    "    if W[j] > 1:\n",
    "        W[j] = 1"
   ]
  },
  {
   "cell_type": "code",
   "execution_count": 27,
   "metadata": {},
   "outputs": [
    {
     "name": "stdout",
     "output_type": "stream",
     "text": [
      "0번째 학습이며 이때 가중치 W는 [0.   0.05 0.05]\n",
      "50번째 학습이며 이때 가중치 W는 [0.16614312 0.62345488 0.24389534]\n",
      "100번째 학습이며 이때 가중치 W는 [0.07265406 0.80124158 0.13524516]\n",
      "150번째 학습이며 이때 가중치 W는 [0.04530993 0.90382065 0.08802053]\n",
      "200번째 학습이며 이때 가중치 W는 [0.01284532 0.9441409  0.04038191]\n",
      "250번째 학습이며 이때 가중치 W는 [9.19162364e-04 9.70096377e-01 2.32681674e-02]\n",
      "300번째 학습이며 이때 가중치 W는 [-5.18278825e-04  9.85893609e-01  1.21170187e-02]\n",
      "350번째 학습이며 이때 가중치 W는 [1.00977182e-04 9.92564510e-01 6.34799741e-03]\n"
     ]
    }
   ],
   "source": [
    "n = 400\n",
    "W = np.array([0, 0, 0])\n",
    "learning_rate = 0.05\n",
    "\n",
    "for i in range(n):\n",
    "    t = 0\n",
    "    X = np.random.randint(2, size = 3)\n",
    "    if X[1] == 1:\n",
    "        t = 1\n",
    "    y = ReLU(input_total(X, W))\n",
    "    e = error(y, t)\n",
    "    learning = learning_rate * e\n",
    "    W = W + learning * X\n",
    "    \n",
    "    for j in range(len(W)):\n",
    "        if W[j] > 1:\n",
    "            W[j] = 1\n",
    "    \n",
    "    if i % 50 == 0:\n",
    "        print ('{}번째 학습이며 이때 가중치 W는 {}'.format(i, W))"
   ]
  },
  {
   "cell_type": "code",
   "execution_count": 28,
   "metadata": {},
   "outputs": [
    {
     "name": "stdout",
     "output_type": "stream",
     "text": [
      "0번째 학습이며 이때 가중치 W는 [0. 0. 0.]\n",
      "50번째 학습이며 이때 가중치 W는 [0.16007068 0.57789595 0.08330122]\n",
      "100번째 학습이며 이때 가중치 W는 [0.12271884 0.80138514 0.07328802]\n",
      "150번째 학습이며 이때 가중치 W는 [0.07232034 0.88806059 0.02802563]\n",
      "200번째 학습이며 이때 가중치 W는 [0.04613214 0.94290926 0.00810493]\n",
      "250번째 학습이며 이때 가중치 W는 [0.02175216 0.97615341 0.00810182]\n",
      "300번째 학습이며 이때 가중치 W는 [0.0107762  0.98570009 0.00308222]\n",
      "350번째 학습이며 이때 가중치 W는 [4.38956606e-03 9.93366704e-01 4.39014677e-06]\n"
     ]
    }
   ],
   "source": [
    "n = 400\n",
    "W = np.array([0, 0, 0])\n",
    "learning_rate = 0.05\n",
    "\n",
    "WR_save = []\n",
    "WG_save = []\n",
    "WB_save = []\n",
    "for i in range(n):\n",
    "    t = 0\n",
    "    X = np.random.randint(2, size = 3)\n",
    "    if X[1] == 1:\n",
    "        t = 1\n",
    "    y = ReLU(input_total(X, W))\n",
    "    e = error(y, t)\n",
    "    learning = learning_rate * e\n",
    "    W = W + learning * X\n",
    "    \n",
    "    for j in range(len(W)):\n",
    "        if W[j] > 1:\n",
    "            W[j] = 1\n",
    "    WR_save.append(W[0])\n",
    "    WG_save.append(W[1])\n",
    "    WB_save.append(W[2])\n",
    "    if i % 50 == 0:\n",
    "        print ('{}번째 학습이며 이때 가중치 W는 {}'.format(i, W))"
   ]
  },
  {
   "cell_type": "code",
   "execution_count": 29,
   "metadata": {},
   "outputs": [
    {
     "data": {
      "text/plain": [
       "Text(0, 0.5, 'Accuracy')"
      ]
     },
     "execution_count": 29,
     "metadata": {},
     "output_type": "execute_result"
    },
    {
     "data": {
      "image/png": "[encoded data removed]",
      "text/plain": [
       "<Figure size 432x288 with 1 Axes>"
      ]
     },
     "metadata": {
      "needs_background": "light"
     },
     "output_type": "display_data"
    }
   ],
   "source": [
    "plt.plot(range(n), WR_save, 'r', label = 'Red learning')\n",
    "plt.plot(range(n), WG_save, 'g', label = 'Green learning')\n",
    "plt.plot(range(n), WB_save, 'b', label = 'Blue learning')\n",
    "plt.legend(fontsize = 15)\n",
    "plt.grid()\n",
    "plt.xticks(fontsize = 15)\n",
    "plt.yticks(fontsize = 15)\n",
    "plt.xlabel('number of learning', fontsize = 15)\n",
    "plt.ylabel('Accuracy', fontsize = 15)"
   ]
  }
 ],
 "metadata": {
  "kernelspec": {
   "display_name": "Python 3",
   "language": "python",
   "name": "python3"
  },
  "language_info": {
   "codemirror_mode": {
    "name": "ipython",
    "version": 3
   },
   "file_extension": ".py",
   "mimetype": "text/x-python",
   "name": "python",
   "nbconvert_exporter": "python",
   "pygments_lexer": "ipython3",
   "version": "3.7.1"
  }
 },
 "nbformat": 4,
 "nbformat_minor": 2
}
