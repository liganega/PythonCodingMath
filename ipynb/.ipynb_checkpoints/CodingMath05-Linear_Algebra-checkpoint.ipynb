{
 "cells": [
  {
   "cell_type": "markdown",
   "metadata": {},
   "source": [
    "# 선형대수 기초"
   ]
  },
  {
   "cell_type": "code",
   "execution_count": 2,
   "metadata": {},
   "outputs": [],
   "source": [
    "import numpy as np\n",
    "from fractions import Fraction"
   ]
  },
  {
   "cell_type": "markdown",
   "metadata": {},
   "source": [
    "## Chapter 1 lambda, filter"
   ]
  },
  {
   "cell_type": "markdown",
   "metadata": {},
   "source": [
    "### 01 lambda로 간단한 코딩 함수 만들기"
   ]
  },
  {
   "cell_type": "code",
   "execution_count": 3,
   "metadata": {},
   "outputs": [
    {
     "data": {
      "text/plain": [
       "12"
      ]
     },
     "execution_count": 3,
     "metadata": {},
     "output_type": "execute_result"
    }
   ],
   "source": [
    "plus_5 = lambda x: x+5 \n",
    "plus_5(7)"
   ]
  },
  {
   "cell_type": "code",
   "execution_count": 4,
   "metadata": {},
   "outputs": [
    {
     "data": {
      "text/plain": [
       "array([ 6,  7,  8,  9, 10])"
      ]
     },
     "execution_count": 4,
     "metadata": {},
     "output_type": "execute_result"
    }
   ],
   "source": [
    "plus_5(np.array([1,2,3,4,5]))"
   ]
  },
  {
   "cell_type": "code",
   "execution_count": 5,
   "metadata": {},
   "outputs": [
    {
     "data": {
      "text/plain": [
       "8"
      ]
     },
     "execution_count": 5,
     "metadata": {},
     "output_type": "execute_result"
    }
   ],
   "source": [
    "a = lambda x, y: x+y\n",
    "a(2,6)"
   ]
  },
  {
   "cell_type": "markdown",
   "metadata": {},
   "source": [
    "#### Question 3.1"
   ]
  },
  {
   "cell_type": "code",
   "execution_count": 6,
   "metadata": {},
   "outputs": [
    {
     "data": {
      "text/plain": [
       "array([[False,  True, False,  True, False,  True, False,  True, False,\n",
       "         True]])"
      ]
     },
     "execution_count": 6,
     "metadata": {},
     "output_type": "execute_result"
    }
   ],
   "source": [
    "even = lambda x : x % 2 == 0\n",
    "even(np.array([range(1,11)]))"
   ]
  },
  {
   "cell_type": "markdown",
   "metadata": {},
   "source": [
    "#### Question 3.2\n"
   ]
  },
  {
   "cell_type": "code",
   "execution_count": 7,
   "metadata": {},
   "outputs": [
    {
     "data": {
      "text/plain": [
       "22.20408163265306"
      ]
     },
     "execution_count": 7,
     "metadata": {},
     "output_type": "execute_result"
    }
   ],
   "source": [
    "BMI = lambda weight, height : weight / (height)**2\n",
    "BMI(68,1.75)"
   ]
  },
  {
   "cell_type": "code",
   "execution_count": 8,
   "metadata": {},
   "outputs": [],
   "source": [
    "def fat_or_not(weight, height):\n",
    "    bmi = BMI(weight, height)\n",
    "    print ('당신의 BMI는 {}입니다'.format(bmi))\n",
    "    if bmi > 35:\n",
    "        print ('당신은 고도비만입니다.')\n",
    "    elif 30 <= bmi < 35:\n",
    "        print ('당신은 중등도비만입니다.')\n",
    "    elif 25 <= bmi < 30:\n",
    "        print ('당신은 경도비만입니다.')\n",
    "    elif 23 <= bmi < 25:\n",
    "        print ('당신은 과체중입니다.')\n",
    "    elif 18.5 <= bmi < 22.9:\n",
    "        print ('당신은 정상입니다.')\n",
    "    elif bmi < 18.5:\n",
    "        print ('당신은 저체중입니다.')"
   ]
  },
  {
   "cell_type": "code",
   "execution_count": 9,
   "metadata": {},
   "outputs": [
    {
     "name": "stdout",
     "output_type": "stream",
     "text": [
      "당신의 BMI는 22.20408163265306입니다\n",
      "당신은 정상입니다.\n"
     ]
    }
   ],
   "source": [
    "fat_or_not(68,1.75)"
   ]
  },
  {
   "cell_type": "markdown",
   "metadata": {},
   "source": [
    "### 02 filter로 참 값 걸러 내기"
   ]
  },
  {
   "cell_type": "code",
   "execution_count": 12,
   "metadata": {},
   "outputs": [
    {
     "data": {
      "text/plain": [
       "[2, 4, 6, 8, 10]"
      ]
     },
     "execution_count": 12,
     "metadata": {},
     "output_type": "execute_result"
    }
   ],
   "source": [
    "list(filter(even, range(1,11)))"
   ]
  },
  {
   "cell_type": "code",
   "execution_count": 13,
   "metadata": {},
   "outputs": [
    {
     "data": {
      "text/plain": [
       "[4, 2]"
      ]
     },
     "execution_count": 13,
     "metadata": {},
     "output_type": "execute_result"
    }
   ],
   "source": [
    "list(filter(lambda x: x % 2 == 0, [3, 1, 4, 2, 9]))"
   ]
  },
  {
   "cell_type": "code",
   "execution_count": 14,
   "metadata": {},
   "outputs": [
    {
     "name": "stdout",
     "output_type": "stream",
     "text": [
      "[4, 2]\n"
     ]
    }
   ],
   "source": [
    "a = [3,1,4,2,9]\n",
    "\n",
    "def even(n):\n",
    "    if n % 2 == 0:\n",
    "        return True\n",
    "    else:\n",
    "        return False\n",
    "\n",
    "even_numbers = []\n",
    "for i in a:\n",
    "    if even(i):\n",
    "        even_numbers.append(i)\n",
    "print(even_numbers)"
   ]
  },
  {
   "cell_type": "markdown",
   "metadata": {},
   "source": [
    "## Chapter 2 for와 if로 리스트 만들기 \n",
    "### 01 for 문을 이용한 리스트 만들기"
   ]
  },
  {
   "cell_type": "code",
   "execution_count": 15,
   "metadata": {},
   "outputs": [
    {
     "data": {
      "text/plain": [
       "[6, 10, 12, 16, 18]"
      ]
     },
     "execution_count": 15,
     "metadata": {},
     "output_type": "execute_result"
    }
   ],
   "source": [
    "a = [2*x for x in [3,5,6,8,9]]\n",
    "a"
   ]
  },
  {
   "cell_type": "code",
   "execution_count": 16,
   "metadata": {},
   "outputs": [
    {
     "data": {
      "text/plain": [
       "[3, 4, 5, 6, 0, 1, 2, 3, 4, 5]"
      ]
     },
     "execution_count": 16,
     "metadata": {},
     "output_type": "execute_result"
    }
   ],
   "source": [
    "b = [x % 7 for x in range(10,20)]\n",
    "b"
   ]
  },
  {
   "cell_type": "markdown",
   "metadata": {},
   "source": [
    "### 02 for와 if 둘 다 사용한 리스트 만들기"
   ]
  },
  {
   "cell_type": "code",
   "execution_count": 27,
   "metadata": {},
   "outputs": [
    {
     "data": {
      "text/plain": [
       "[12, 16]"
      ]
     },
     "execution_count": 27,
     "metadata": {},
     "output_type": "execute_result"
    }
   ],
   "source": [
    "a = [2*x for x in [3,5,6,8,9] if x % 2 == 0]\n",
    "a"
   ]
  },
  {
   "cell_type": "markdown",
   "metadata": {},
   "source": [
    "#### Question 3.4"
   ]
  },
  {
   "cell_type": "code",
   "execution_count": 33,
   "metadata": {},
   "outputs": [],
   "source": [
    "def is_prime(a):\n",
    "    b = range(2, a)\n",
    "    for i in b:    \n",
    "        if a % i == 0:  \n",
    "            return False\n",
    "    return True"
   ]
  },
  {
   "cell_type": "code",
   "execution_count": 37,
   "metadata": {},
   "outputs": [
    {
     "data": {
      "text/plain": [
       "[1, 4, 9, 25, 49, 121, 169, 289, 361, 529, 841, 961, 1369, 1681, 1849, 2209]"
      ]
     },
     "execution_count": 37,
     "metadata": {},
     "output_type": "execute_result"
    }
   ],
   "source": [
    "d = [x**2 for x in range(1,50) if is_prime(x)]\n",
    "d"
   ]
  },
  {
   "cell_type": "markdown",
   "metadata": {},
   "source": [
    "## Chapter 3 if의 and와 or "
   ]
  },
  {
   "cell_type": "code",
   "execution_count": 26,
   "metadata": {},
   "outputs": [
    {
     "data": {
      "text/plain": [
       "True"
      ]
     },
     "execution_count": 26,
     "metadata": {},
     "output_type": "execute_result"
    }
   ],
   "source": [
    "a = 3\n",
    "b = 10\n",
    "\n",
    "(a > 0) and (b > 5)"
   ]
  },
  {
   "cell_type": "code",
   "execution_count": 27,
   "metadata": {},
   "outputs": [
    {
     "data": {
      "text/plain": [
       "bool"
      ]
     },
     "execution_count": 27,
     "metadata": {},
     "output_type": "execute_result"
    }
   ],
   "source": [
    "type((a > 0) and (b > 5))"
   ]
  },
  {
   "cell_type": "code",
   "execution_count": 28,
   "metadata": {},
   "outputs": [
    {
     "data": {
      "text/plain": [
       "False"
      ]
     },
     "execution_count": 28,
     "metadata": {},
     "output_type": "execute_result"
    }
   ],
   "source": [
    "(a > 5) and (b > 5)"
   ]
  },
  {
   "cell_type": "code",
   "execution_count": 29,
   "metadata": {},
   "outputs": [
    {
     "data": {
      "text/plain": [
       "True"
      ]
     },
     "execution_count": 29,
     "metadata": {},
     "output_type": "execute_result"
    }
   ],
   "source": [
    "(a > 5) or (b > 5)"
   ]
  },
  {
   "cell_type": "code",
   "execution_count": 40,
   "metadata": {},
   "outputs": [
    {
     "data": {
      "text/plain": [
       "[2, 3, 4, 6, 8, 9, 10, 12, 14, 15, 16, 18]"
      ]
     },
     "execution_count": 40,
     "metadata": {},
     "output_type": "execute_result"
    }
   ],
   "source": [
    "[i for i in range(1,20) if (i % 2 == 0) or (i % 3 == 0)]"
   ]
  },
  {
   "cell_type": "markdown",
   "metadata": {},
   "source": [
    "## Chapter 4 numpy "
   ]
  },
  {
   "cell_type": "markdown",
   "metadata": {},
   "source": [
    "### 01 다차원 배열 만들기"
   ]
  },
  {
   "cell_type": "code",
   "execution_count": 32,
   "metadata": {},
   "outputs": [
    {
     "name": "stdout",
     "output_type": "stream",
     "text": [
      "[1 2 3 4 5]\n"
     ]
    },
    {
     "data": {
      "text/plain": [
       "numpy.ndarray"
      ]
     },
     "execution_count": 32,
     "metadata": {},
     "output_type": "execute_result"
    }
   ],
   "source": [
    "a = [1,2,3,4,5]   # list a를 만들어서\n",
    "b = np.array(a)   # array 자료형으로 바꾸자\n",
    "\n",
    "print(b)\n",
    "type(b)"
   ]
  },
  {
   "cell_type": "code",
   "execution_count": 33,
   "metadata": {},
   "outputs": [
    {
     "data": {
      "text/plain": [
       "array([[ 1,  2,  3,  4,  5],\n",
       "       [ 6,  7,  8,  9, 10],\n",
       "       [11, 12, 13, 14, 15],\n",
       "       [16, 17, 18, 19, 20],\n",
       "       [21, 22, 23, 24, 25]])"
      ]
     },
     "execution_count": 33,
     "metadata": {},
     "output_type": "execute_result"
    }
   ],
   "source": [
    "c = np.array([[1,2,3,4,5],[6,7,8,9,10],[11,12,13,14,15],[16,17,18,19,20],[21,22,23,24,25]])\n",
    "c"
   ]
  },
  {
   "cell_type": "markdown",
   "metadata": {},
   "source": [
    "#### shape로 numpy의 ndarray 크기 구하기 \n"
   ]
  },
  {
   "cell_type": "code",
   "execution_count": 34,
   "metadata": {},
   "outputs": [
    {
     "data": {
      "text/plain": [
       "(5, 5)"
      ]
     },
     "execution_count": 34,
     "metadata": {},
     "output_type": "execute_result"
    }
   ],
   "source": [
    "c.shape"
   ]
  },
  {
   "cell_type": "markdown",
   "metadata": {},
   "source": [
    "#### 2차원 배열의 index 사용하기"
   ]
  },
  {
   "cell_type": "code",
   "execution_count": 35,
   "metadata": {},
   "outputs": [
    {
     "name": "stdout",
     "output_type": "stream",
     "text": [
      "1 2 6 18 21 5 25\n"
     ]
    }
   ],
   "source": [
    "print (c[0,0], c[0,1], c[1,0], c[3,2], c[-1,0], c[0,-1], c[-1,-1])"
   ]
  },
  {
   "cell_type": "markdown",
   "metadata": {},
   "source": [
    "다음은 연속된 원소를 불러내는 slice를 해보겠습니다."
   ]
  },
  {
   "cell_type": "code",
   "execution_count": 36,
   "metadata": {},
   "outputs": [
    {
     "name": "stdout",
     "output_type": "stream",
     "text": [
      "[ 1  6 11 16 21]\n",
      "[ 5 10 15 20 25]\n",
      "[1 2 3 4 5]\n",
      "[11 12 13 14 15]\n"
     ]
    }
   ],
   "source": [
    "print (c[:,0])\n",
    "print (c[:,4])\n",
    "print (c[0,:])\n",
    "print (c[2,:])"
   ]
  },
  {
   "cell_type": "code",
   "execution_count": 37,
   "metadata": {},
   "outputs": [
    {
     "name": "stdout",
     "output_type": "stream",
     "text": [
      "[[ 1  2  3  4  5]\n",
      " [ 6  7  8  9 10]\n",
      " [11 12 13 14 15]\n",
      " [16 17 18 19 20]\n",
      " [21 22 23 24 25]]\n"
     ]
    }
   ],
   "source": [
    "print (c[:])"
   ]
  },
  {
   "cell_type": "code",
   "execution_count": 38,
   "metadata": {},
   "outputs": [
    {
     "data": {
      "text/plain": [
       "array([[ 8,  9],\n",
       "       [13, 14]])"
      ]
     },
     "execution_count": 38,
     "metadata": {},
     "output_type": "execute_result"
    }
   ],
   "source": [
    "c[1:3, 2:4]"
   ]
  },
  {
   "cell_type": "code",
   "execution_count": 39,
   "metadata": {},
   "outputs": [
    {
     "name": "stdout",
     "output_type": "stream",
     "text": [
      "(25,)\n",
      "[ 1  2  3  4  5  6  7  8  9 10 11 12 13 14 15 16 17 18 19 20 21 22 23 24\n",
      " 25]\n"
     ]
    }
   ],
   "source": [
    "c = range(1,26)    # range로 1부터 25까지를 만들고\n",
    "c = np.array(c)    # numpy의 array자료형으로 바꾼다음\n",
    "print (c.shape)    # 25 크기의 1차원 배열이 만들어지고\n",
    "print (c)"
   ]
  },
  {
   "cell_type": "markdown",
   "metadata": {},
   "source": [
    "#### reshape으로 array 크기 변경하기"
   ]
  },
  {
   "cell_type": "code",
   "execution_count": 40,
   "metadata": {},
   "outputs": [
    {
     "data": {
      "text/plain": [
       "array([[ 1,  2,  3,  4,  5],\n",
       "       [ 6,  7,  8,  9, 10],\n",
       "       [11, 12, 13, 14, 15],\n",
       "       [16, 17, 18, 19, 20],\n",
       "       [21, 22, 23, 24, 25]])"
      ]
     },
     "execution_count": 40,
     "metadata": {},
     "output_type": "execute_result"
    }
   ],
   "source": [
    "c.reshape(5,5)     # 이를 5,5형태로 바꾸면"
   ]
  },
  {
   "cell_type": "markdown",
   "metadata": {},
   "source": [
    "#### Question 3.6"
   ]
  },
  {
   "cell_type": "code",
   "execution_count": 41,
   "metadata": {},
   "outputs": [
    {
     "data": {
      "text/plain": [
       "array([[  3,   6,   9,  12,  15],\n",
       "       [ 18,  21,  24,  27,  30],\n",
       "       [ 33,  36,  39,  42,  45],\n",
       "       [ 48,  51,  54,  57,  60],\n",
       "       [ 63,  66,  69,  72,  75],\n",
       "       [ 78,  81,  84,  87,  90],\n",
       "       [ 93,  96,  99, 102, 105],\n",
       "       [108, 111, 114, 117, 120]])"
      ]
     },
     "execution_count": 41,
     "metadata": {},
     "output_type": "execute_result"
    }
   ],
   "source": [
    "a = np.array(range(3,121,3))\n",
    "b = a.reshape(8,5)\n",
    "b"
   ]
  },
  {
   "cell_type": "code",
   "execution_count": 42,
   "metadata": {},
   "outputs": [
    {
     "data": {
      "text/plain": [
       "array([[  3,   6,   9,  12,  15,  18,  21,  24,  27,  30],\n",
       "       [ 33,  36,  39,  42,  45,  48,  51,  54,  57,  60],\n",
       "       [ 63,  66,  69,  72,  75,  78,  81,  84,  87,  90],\n",
       "       [ 93,  96,  99, 102, 105, 108, 111, 114, 117, 120]])"
      ]
     },
     "execution_count": 42,
     "metadata": {},
     "output_type": "execute_result"
    }
   ],
   "source": [
    "c = b.reshape(4,10)\n",
    "c"
   ]
  },
  {
   "cell_type": "markdown",
   "metadata": {},
   "source": [
    "### 02 zeros, ones 사용하기"
   ]
  },
  {
   "cell_type": "code",
   "execution_count": 43,
   "metadata": {},
   "outputs": [
    {
     "name": "stdout",
     "output_type": "stream",
     "text": [
      "[0. 0. 0. 0. 0.]\n",
      "[1. 1. 1. 1. 1.]\n"
     ]
    },
    {
     "data": {
      "text/plain": [
       "numpy.ndarray"
      ]
     },
     "execution_count": 43,
     "metadata": {},
     "output_type": "execute_result"
    }
   ],
   "source": [
    "print (np.zeros(5))\n",
    "print (np.ones(5))\n",
    "type(np.zeros(5))"
   ]
  },
  {
   "cell_type": "code",
   "execution_count": 44,
   "metadata": {},
   "outputs": [
    {
     "data": {
      "text/plain": [
       "array([[0., 0., 0., 0.],\n",
       "       [0., 0., 0., 0.]])"
      ]
     },
     "execution_count": 44,
     "metadata": {},
     "output_type": "execute_result"
    }
   ],
   "source": [
    "np.zeros((2,4))"
   ]
  },
  {
   "cell_type": "code",
   "execution_count": 45,
   "metadata": {},
   "outputs": [
    {
     "data": {
      "text/plain": [
       "array([[1., 1., 1.],\n",
       "       [1., 1., 1.],\n",
       "       [1., 1., 1.],\n",
       "       [1., 1., 1.],\n",
       "       [1., 1., 1.],\n",
       "       [1., 1., 1.],\n",
       "       [1., 1., 1.]])"
      ]
     },
     "execution_count": 45,
     "metadata": {},
     "output_type": "execute_result"
    }
   ],
   "source": [
    "np.ones((7,3))"
   ]
  },
  {
   "cell_type": "code",
   "execution_count": 46,
   "metadata": {},
   "outputs": [
    {
     "data": {
      "text/plain": [
       "array([[ 1.,  3.,  5.,  7.,  9.],\n",
       "       [ 6.,  8., 10., 12., 14.],\n",
       "       [11., 13., 15., 17., 19.],\n",
       "       [16., 18., 20., 22., 24.],\n",
       "       [21., 23., 25., 27., 29.]])"
      ]
     },
     "execution_count": 46,
     "metadata": {},
     "output_type": "execute_result"
    }
   ],
   "source": [
    "a = np.zeros((5,5))                                # (5x5) 크기를 가지는 a라는 변수를 우선 선언\n",
    "for idx1, val1 in enumerate(range(0,25,5)):\n",
    "    for idx2, val2 in enumerate(range(1,10,2)):\n",
    "        a[idx1,idx2] = val1 + val2\n",
    "a"
   ]
  },
  {
   "cell_type": "markdown",
   "metadata": {},
   "source": [
    "#### Question 3.7"
   ]
  },
  {
   "cell_type": "code",
   "execution_count": 47,
   "metadata": {},
   "outputs": [
    {
     "data": {
      "text/plain": [
       "array([[  0,   1,   2,   3],\n",
       "       [  5,   7,   9,  11],\n",
       "       [ 18,  21,  24,  27],\n",
       "       [ 39,  43,  47,  51],\n",
       "       [ 68,  73,  78,  83],\n",
       "       [105, 111, 117, 123]])"
      ]
     },
     "execution_count": 47,
     "metadata": {},
     "output_type": "execute_result"
    }
   ],
   "source": [
    "a = np.array(range(1,25))\n",
    "b = a.reshape(6,4)\n",
    "for i in range(6):\n",
    "    for j in range(4):\n",
    "        b[i,j] = (b[i,j]*i) + j\n",
    "b"
   ]
  },
  {
   "cell_type": "markdown",
   "metadata": {},
   "source": [
    "### 03 유용한 numpy 기타 함수 사용하기 - where, min, max, sum \n",
    "#### array에서 where를 사용하여 구하려는 원소의 index 찾기"
   ]
  },
  {
   "cell_type": "code",
   "execution_count": 48,
   "metadata": {},
   "outputs": [
    {
     "data": {
      "text/plain": [
       "3"
      ]
     },
     "execution_count": 48,
     "metadata": {},
     "output_type": "execute_result"
    }
   ],
   "source": [
    "b = [3,4,5,6,7]\n",
    "b.index(6)"
   ]
  },
  {
   "cell_type": "code",
   "execution_count": 56,
   "metadata": {},
   "outputs": [
    {
     "ename": "AttributeError",
     "evalue": "'numpy.ndarray' object has no attribute 'index'",
     "output_type": "error",
     "traceback": [
      "\u001b[1;31m---------------------------------------------------------------------------\u001b[0m",
      "\u001b[1;31mAttributeError\u001b[0m                            Traceback (most recent call last)",
      "\u001b[1;32m<ipython-input-56-b8e53367cf99>\u001b[0m in \u001b[0;36m<module>\u001b[1;34m\u001b[0m\n\u001b[0;32m      1\u001b[0m \u001b[0mc\u001b[0m \u001b[1;33m=\u001b[0m \u001b[0mnp\u001b[0m\u001b[1;33m.\u001b[0m\u001b[0marray\u001b[0m\u001b[1;33m(\u001b[0m\u001b[0mb\u001b[0m\u001b[1;33m)\u001b[0m\u001b[1;33m\u001b[0m\u001b[1;33m\u001b[0m\u001b[0m\n\u001b[1;32m----> 2\u001b[1;33m \u001b[0mc\u001b[0m\u001b[1;33m.\u001b[0m\u001b[0mindex\u001b[0m\u001b[1;33m(\u001b[0m\u001b[1;36m6\u001b[0m\u001b[1;33m)\u001b[0m\u001b[1;33m\u001b[0m\u001b[1;33m\u001b[0m\u001b[0m\n\u001b[0m",
      "\u001b[1;31mAttributeError\u001b[0m: 'numpy.ndarray' object has no attribute 'index'"
     ]
    }
   ],
   "source": [
    "c = np.array(b)\n",
    "c.index(6)"
   ]
  },
  {
   "cell_type": "code",
   "execution_count": 57,
   "metadata": {},
   "outputs": [
    {
     "data": {
      "text/plain": [
       "(array([3], dtype=int64),)"
      ]
     },
     "execution_count": 57,
     "metadata": {},
     "output_type": "execute_result"
    }
   ],
   "source": [
    "np.where(6 == c)"
   ]
  },
  {
   "cell_type": "code",
   "execution_count": 58,
   "metadata": {},
   "outputs": [
    {
     "data": {
      "text/plain": [
       "array([3], dtype=int64)"
      ]
     },
     "execution_count": 58,
     "metadata": {},
     "output_type": "execute_result"
    }
   ],
   "source": [
    "np.where(6 == c)[0]"
   ]
  },
  {
   "cell_type": "code",
   "execution_count": 59,
   "metadata": {},
   "outputs": [
    {
     "data": {
      "text/plain": [
       "3"
      ]
     },
     "execution_count": 59,
     "metadata": {},
     "output_type": "execute_result"
    }
   ],
   "source": [
    "np.where(6 == c)[0][0]"
   ]
  },
  {
   "cell_type": "code",
   "execution_count": 60,
   "metadata": {},
   "outputs": [
    {
     "data": {
      "text/plain": [
       "(array([0, 4, 6], dtype=int64),)"
      ]
     },
     "execution_count": 60,
     "metadata": {},
     "output_type": "execute_result"
    }
   ],
   "source": [
    "a = np.array([3,4,5,7,3,1,3])\n",
    "\n",
    "np.where(3 == a)"
   ]
  },
  {
   "cell_type": "markdown",
   "metadata": {},
   "source": [
    "#### np.max, np.min로 numpy array의 최대값 최소값 찾기 "
   ]
  },
  {
   "cell_type": "code",
   "execution_count": 61,
   "metadata": {},
   "outputs": [
    {
     "name": "stdout",
     "output_type": "stream",
     "text": [
      "7\n",
      "-3\n"
     ]
    }
   ],
   "source": [
    "a = np.array([-3,4,7,2,5])\n",
    "print (max(a))\n",
    "print (min(a))"
   ]
  },
  {
   "cell_type": "code",
   "execution_count": 62,
   "metadata": {},
   "outputs": [
    {
     "name": "stdout",
     "output_type": "stream",
     "text": [
      "최대값은 : 25\n",
      "최대값 25의 index는 (array([4], dtype=int64), array([4], dtype=int64))\n"
     ]
    }
   ],
   "source": [
    "c = np.array([[1,2,3,4,5],[6,7,8,9,10],[11,12,13,14,15],[16,17,18,19,20],[21,22,23,24,25]])\n",
    "\n",
    "cmax = np.max(c)\n",
    "print ('최대값은 : {}'.format(cmax))\n",
    "cmax_index = np.where(cmax == c)\n",
    "print ('최대값 {}의 index는 {}'.format(cmax, cmax_index))"
   ]
  },
  {
   "cell_type": "markdown",
   "metadata": {},
   "source": [
    "#### sum과 numpy의 sum으로 원소의 합 구하고 비교하기"
   ]
  },
  {
   "cell_type": "code",
   "execution_count": 63,
   "metadata": {},
   "outputs": [
    {
     "data": {
      "text/plain": [
       "9"
      ]
     },
     "execution_count": 63,
     "metadata": {},
     "output_type": "execute_result"
    }
   ],
   "source": [
    "sum([3,2,4])"
   ]
  },
  {
   "cell_type": "code",
   "execution_count": 64,
   "metadata": {},
   "outputs": [
    {
     "data": {
      "text/plain": [
       "9"
      ]
     },
     "execution_count": 64,
     "metadata": {},
     "output_type": "execute_result"
    }
   ],
   "source": [
    "sum(np.array([3,2,4]))"
   ]
  },
  {
   "cell_type": "code",
   "execution_count": 65,
   "metadata": {},
   "outputs": [
    {
     "data": {
      "text/plain": [
       "9"
      ]
     },
     "execution_count": 65,
     "metadata": {},
     "output_type": "execute_result"
    }
   ],
   "source": [
    "np.sum([3,2,4])"
   ]
  },
  {
   "cell_type": "code",
   "execution_count": 66,
   "metadata": {},
   "outputs": [
    {
     "data": {
      "text/plain": [
       "9"
      ]
     },
     "execution_count": 66,
     "metadata": {},
     "output_type": "execute_result"
    }
   ],
   "source": [
    "np.sum(np.array([3,2,4]))"
   ]
  },
  {
   "cell_type": "code",
   "execution_count": 67,
   "metadata": {},
   "outputs": [
    {
     "ename": "TypeError",
     "evalue": "data type not understood",
     "output_type": "error",
     "traceback": [
      "\u001b[1;31m---------------------------------------------------------------------------\u001b[0m",
      "\u001b[1;31mTypeError\u001b[0m                                 Traceback (most recent call last)",
      "\u001b[1;32m<ipython-input-67-ff3473a31751>\u001b[0m in \u001b[0;36m<module>\u001b[1;34m\u001b[0m\n\u001b[1;32m----> 1\u001b[1;33m \u001b[0mnp\u001b[0m\u001b[1;33m.\u001b[0m\u001b[0msum\u001b[0m\u001b[1;33m(\u001b[0m\u001b[1;36m3\u001b[0m\u001b[1;33m,\u001b[0m\u001b[1;36m2\u001b[0m\u001b[1;33m,\u001b[0m\u001b[1;36m4\u001b[0m\u001b[1;33m)\u001b[0m\u001b[1;33m\u001b[0m\u001b[1;33m\u001b[0m\u001b[0m\n\u001b[0m",
      "\u001b[1;32m~\\Anaconda3\\lib\\site-packages\\numpy\\core\\fromnumeric.py\u001b[0m in \u001b[0;36msum\u001b[1;34m(a, axis, dtype, out, keepdims, initial)\u001b[0m\n\u001b[0;32m   2074\u001b[0m \u001b[1;33m\u001b[0m\u001b[0m\n\u001b[0;32m   2075\u001b[0m     return _wrapreduction(a, np.add, 'sum', axis, dtype, out, keepdims=keepdims,\n\u001b[1;32m-> 2076\u001b[1;33m                           initial=initial)\n\u001b[0m\u001b[0;32m   2077\u001b[0m \u001b[1;33m\u001b[0m\u001b[0m\n\u001b[0;32m   2078\u001b[0m \u001b[1;33m\u001b[0m\u001b[0m\n",
      "\u001b[1;32m~\\Anaconda3\\lib\\site-packages\\numpy\\core\\fromnumeric.py\u001b[0m in \u001b[0;36m_wrapreduction\u001b[1;34m(obj, ufunc, method, axis, dtype, out, **kwargs)\u001b[0m\n\u001b[0;32m     84\u001b[0m                 \u001b[1;32mreturn\u001b[0m \u001b[0mreduction\u001b[0m\u001b[1;33m(\u001b[0m\u001b[0maxis\u001b[0m\u001b[1;33m=\u001b[0m\u001b[0maxis\u001b[0m\u001b[1;33m,\u001b[0m \u001b[0mout\u001b[0m\u001b[1;33m=\u001b[0m\u001b[0mout\u001b[0m\u001b[1;33m,\u001b[0m \u001b[1;33m**\u001b[0m\u001b[0mpasskwargs\u001b[0m\u001b[1;33m)\u001b[0m\u001b[1;33m\u001b[0m\u001b[1;33m\u001b[0m\u001b[0m\n\u001b[0;32m     85\u001b[0m \u001b[1;33m\u001b[0m\u001b[0m\n\u001b[1;32m---> 86\u001b[1;33m     \u001b[1;32mreturn\u001b[0m \u001b[0mufunc\u001b[0m\u001b[1;33m.\u001b[0m\u001b[0mreduce\u001b[0m\u001b[1;33m(\u001b[0m\u001b[0mobj\u001b[0m\u001b[1;33m,\u001b[0m \u001b[0maxis\u001b[0m\u001b[1;33m,\u001b[0m \u001b[0mdtype\u001b[0m\u001b[1;33m,\u001b[0m \u001b[0mout\u001b[0m\u001b[1;33m,\u001b[0m \u001b[1;33m**\u001b[0m\u001b[0mpasskwargs\u001b[0m\u001b[1;33m)\u001b[0m\u001b[1;33m\u001b[0m\u001b[1;33m\u001b[0m\u001b[0m\n\u001b[0m\u001b[0;32m     87\u001b[0m \u001b[1;33m\u001b[0m\u001b[0m\n\u001b[0;32m     88\u001b[0m \u001b[1;33m\u001b[0m\u001b[0m\n",
      "\u001b[1;31mTypeError\u001b[0m: data type not understood"
     ]
    }
   ],
   "source": [
    "np.sum(3,2,4)"
   ]
  },
  {
   "cell_type": "markdown",
   "metadata": {},
   "source": [
    "### 04 arange로 연속된 숫자 만들기 \n",
    "#### numpy의 arange 사용하기"
   ]
  },
  {
   "cell_type": "code",
   "execution_count": 68,
   "metadata": {},
   "outputs": [
    {
     "data": {
      "text/plain": [
       "array([0, 1, 2, 3, 4, 5, 6, 7, 8, 9])"
      ]
     },
     "execution_count": 68,
     "metadata": {},
     "output_type": "execute_result"
    }
   ],
   "source": [
    "np.arange(10)"
   ]
  },
  {
   "cell_type": "code",
   "execution_count": 69,
   "metadata": {},
   "outputs": [
    {
     "data": {
      "text/plain": [
       "numpy.ndarray"
      ]
     },
     "execution_count": 69,
     "metadata": {},
     "output_type": "execute_result"
    }
   ],
   "source": [
    "type(np.arange(10))"
   ]
  },
  {
   "cell_type": "code",
   "execution_count": 70,
   "metadata": {},
   "outputs": [
    {
     "data": {
      "text/plain": [
       "array([ 7,  8,  9, 10, 11, 12, 13, 14, 15, 16])"
      ]
     },
     "execution_count": 70,
     "metadata": {},
     "output_type": "execute_result"
    }
   ],
   "source": [
    "np.arange(10) + 7"
   ]
  },
  {
   "cell_type": "markdown",
   "metadata": {},
   "source": [
    "## Chapter 5 문자 사용과 식 계산 "
   ]
  },
  {
   "cell_type": "code",
   "execution_count": 71,
   "metadata": {},
   "outputs": [
    {
     "name": "stdout",
     "output_type": "stream",
     "text": [
      "55\n"
     ]
    }
   ],
   "source": [
    "a = 10\n",
    "c = 0\n",
    "\n",
    "while a > 0:  # a 가 0보다 클때까지\n",
    "    c += a    # c에다가는 a를 더하고\n",
    "    a -= 1    # a는 a-1의 숫자로 재정의한다.\n",
    "print (c)"
   ]
  },
  {
   "cell_type": "markdown",
   "metadata": {},
   "source": [
    "### 01 변수 표현 유의할 점 알아보기"
   ]
  },
  {
   "cell_type": "code",
   "execution_count": 72,
   "metadata": {},
   "outputs": [
    {
     "ename": "SyntaxError",
     "evalue": "invalid syntax (<ipython-input-72-f71acea7ca59>, line 2)",
     "output_type": "error",
     "traceback": [
      "\u001b[1;36m  File \u001b[1;32m\"<ipython-input-72-f71acea7ca59>\"\u001b[1;36m, line \u001b[1;32m2\u001b[0m\n\u001b[1;33m    4x\u001b[0m\n\u001b[1;37m     ^\u001b[0m\n\u001b[1;31mSyntaxError\u001b[0m\u001b[1;31m:\u001b[0m invalid syntax\n"
     ]
    }
   ],
   "source": [
    "x = 4\n",
    "4x"
   ]
  },
  {
   "cell_type": "markdown",
   "metadata": {},
   "source": [
    "#### Question 3.8"
   ]
  },
  {
   "cell_type": "code",
   "execution_count": 73,
   "metadata": {},
   "outputs": [],
   "source": [
    "def triangle_area(a,h):\n",
    "    return 1/2*a*h"
   ]
  },
  {
   "cell_type": "code",
   "execution_count": 74,
   "metadata": {},
   "outputs": [
    {
     "data": {
      "text/plain": [
       "7.5"
      ]
     },
     "execution_count": 74,
     "metadata": {},
     "output_type": "execute_result"
    }
   ],
   "source": [
    "a = 3\n",
    "h = 5\n",
    "triangle_area(a,h)"
   ]
  },
  {
   "cell_type": "code",
   "execution_count": 75,
   "metadata": {},
   "outputs": [
    {
     "name": "stdout",
     "output_type": "stream",
     "text": [
      "(10, 10)\n"
     ]
    },
    {
     "data": {
      "text/plain": [
       "array([[ 0.5,  1. ,  1.5,  2. ,  2.5,  3. ,  3.5,  4. ,  4.5,  5. ],\n",
       "       [ 1. ,  2. ,  3. ,  4. ,  5. ,  6. ,  7. ,  8. ,  9. , 10. ],\n",
       "       [ 1.5,  3. ,  4.5,  6. ,  7.5,  9. , 10.5, 12. , 13.5, 15. ],\n",
       "       [ 2. ,  4. ,  6. ,  8. , 10. , 12. , 14. , 16. , 18. , 20. ],\n",
       "       [ 2.5,  5. ,  7.5, 10. , 12.5, 15. , 17.5, 20. , 22.5, 25. ],\n",
       "       [ 3. ,  6. ,  9. , 12. , 15. , 18. , 21. , 24. , 27. , 30. ],\n",
       "       [ 3.5,  7. , 10.5, 14. , 17.5, 21. , 24.5, 28. , 31.5, 35. ],\n",
       "       [ 4. ,  8. , 12. , 16. , 20. , 24. , 28. , 32. , 36. , 40. ],\n",
       "       [ 4.5,  9. , 13.5, 18. , 22.5, 27. , 31.5, 36. , 40.5, 45. ],\n",
       "       [ 5. , 10. , 15. , 20. , 25. , 30. , 35. , 40. , 45. , 50. ]])"
      ]
     },
     "execution_count": 75,
     "metadata": {},
     "output_type": "execute_result"
    }
   ],
   "source": [
    "a = np.array(range(1,11))\n",
    "h = np.array(range(1,11))\n",
    "area = np.zeros((len(a), len(h)))\n",
    "print (area.shape)\n",
    "\n",
    "for i in a:\n",
    "    for j in h:\n",
    "        area[i-1,j-1] = triangle_area(i,j)\n",
    "area"
   ]
  },
  {
   "cell_type": "markdown",
   "metadata": {},
   "source": [
    "#### Question 3.9"
   ]
  },
  {
   "cell_type": "code",
   "execution_count": 76,
   "metadata": {},
   "outputs": [
    {
     "data": {
      "text/plain": [
       "25.0"
      ]
     },
     "execution_count": 76,
     "metadata": {},
     "output_type": "execute_result"
    }
   ],
   "source": [
    "triangle_area2 = lambda a, h: 0.5*a*h\n",
    "\n",
    "triangle_area2(10,5)"
   ]
  },
  {
   "cell_type": "markdown",
   "metadata": {},
   "source": [
    "#### Question 3.10"
   ]
  },
  {
   "cell_type": "code",
   "execution_count": 77,
   "metadata": {},
   "outputs": [
    {
     "data": {
      "text/plain": [
       "2"
      ]
     },
     "execution_count": 77,
     "metadata": {},
     "output_type": "execute_result"
    }
   ],
   "source": [
    "x = 1\n",
    "y = -2\n",
    "x*y + y**2"
   ]
  },
  {
   "cell_type": "markdown",
   "metadata": {},
   "source": [
    "#### Question 3.11\n",
    "\n",
    "(1) $3a + b$\n",
    "\n",
    "(2) $-2a + 5b$\n",
    "\n",
    "(3) $(-a)^2 + b$"
   ]
  },
  {
   "cell_type": "code",
   "execution_count": 78,
   "metadata": {},
   "outputs": [
    {
     "name": "stdout",
     "output_type": "stream",
     "text": [
      "-12\n",
      "25\n",
      "28\n"
     ]
    }
   ],
   "source": [
    "a = -5\n",
    "b = 3\n",
    "\n",
    "print (3 * a + b)\n",
    "print (-2 * a + 5 * b)\n",
    "print ((-a)**2 + b)"
   ]
  },
  {
   "cell_type": "markdown",
   "metadata": {},
   "source": [
    "#### Question 3.12"
   ]
  },
  {
   "cell_type": "code",
   "execution_count": 79,
   "metadata": {},
   "outputs": [
    {
     "data": {
      "text/plain": [
       "30"
      ]
     },
     "execution_count": 79,
     "metadata": {},
     "output_type": "execute_result"
    }
   ],
   "source": [
    "a = 2\n",
    "b = 3\n",
    "h = 5\n",
    "s = a*b*h\n",
    "s"
   ]
  },
  {
   "cell_type": "markdown",
   "metadata": {},
   "source": [
    "#### Question 3.13"
   ]
  },
  {
   "cell_type": "markdown",
   "metadata": {},
   "source": [
    "(10000-a)x"
   ]
  },
  {
   "cell_type": "markdown",
   "metadata": {},
   "source": [
    "이때 할인율 a를 5,10,15,20,25,30% 이고 5,6,7,8,9,10 일때 각 조합에서 계산값은?"
   ]
  },
  {
   "cell_type": "code",
   "execution_count": 80,
   "metadata": {},
   "outputs": [
    {
     "data": {
      "text/plain": [
       "array([[47500., 57000., 66500., 76000., 85500., 95000.],\n",
       "       [45000., 54000., 63000., 72000., 81000., 90000.],\n",
       "       [42500., 51000., 59500., 68000., 76500., 85000.],\n",
       "       [40000., 48000., 56000., 64000., 72000., 80000.],\n",
       "       [37500., 45000., 52500., 60000., 67500., 75000.],\n",
       "       [35000., 42000., 49000., 56000., 63000., 70000.]])"
      ]
     },
     "execution_count": 80,
     "metadata": {},
     "output_type": "execute_result"
    }
   ],
   "source": [
    "a = range(5,35,5)\n",
    "x = range(5,11,1)\n",
    "cost = np.zeros((len(a), len(x)))\n",
    "for i in range(len(a)):\n",
    "    for j in range(len(x)):\n",
    "        cost[i,j] = 10000*(1-a[i]/100)*x[j]\n",
    "cost"
   ]
  },
  {
   "cell_type": "markdown",
   "metadata": {},
   "source": [
    "가장 비싸게 지불할 경우의 몇권의 책을 얼마의 할인율로 사게 되는가?"
   ]
  },
  {
   "cell_type": "code",
   "execution_count": 81,
   "metadata": {},
   "outputs": [
    {
     "name": "stdout",
     "output_type": "stream",
     "text": [
      "(array([0], dtype=int64), array([5], dtype=int64))\n"
     ]
    }
   ],
   "source": [
    "print (np.where(np.max(cost) == cost))"
   ]
  },
  {
   "cell_type": "markdown",
   "metadata": {},
   "source": [
    "따라서 세로 첫번째 할인율 즉 5%, 가로 여섯번째 권수 즉 10권을 살때 가장 비싸게 사게 됩니다."
   ]
  },
  {
   "cell_type": "code",
   "execution_count": 82,
   "metadata": {},
   "outputs": [
    {
     "data": {
      "text/plain": [
       "95000.0"
      ]
     },
     "execution_count": 82,
     "metadata": {},
     "output_type": "execute_result"
    }
   ],
   "source": [
    "cost[0,5]"
   ]
  },
  {
   "cell_type": "markdown",
   "metadata": {},
   "source": [
    "#### Question 3.14"
   ]
  },
  {
   "cell_type": "code",
   "execution_count": 83,
   "metadata": {},
   "outputs": [
    {
     "data": {
      "text/plain": [
       "9.5"
      ]
     },
     "execution_count": 83,
     "metadata": {},
     "output_type": "execute_result"
    }
   ],
   "source": [
    "x = -3\n",
    "y = -1/2\n",
    "A = x**2 + 3*y\n",
    "B = -x - 4*y**2\n",
    "A + B"
   ]
  },
  {
   "cell_type": "code",
   "execution_count": 84,
   "metadata": {},
   "outputs": [
    {
     "name": "stdout",
     "output_type": "stream",
     "text": [
      "A+B의 크기는 (11, 11)\n"
     ]
    },
    {
     "data": {
      "text/plain": [
       "array([[ -85.,  -46.,  -15.,    8.,   23.,   30.,   29.,   20.,    3.,\n",
       "         -22.,  -55.],\n",
       "       [ -95.,  -56.,  -25.,   -2.,   13.,   20.,   19.,   10.,   -7.,\n",
       "         -32.,  -65.],\n",
       "       [-103.,  -64.,  -33.,  -10.,    5.,   12.,   11.,    2.,  -15.,\n",
       "         -40.,  -73.],\n",
       "       [-109.,  -70.,  -39.,  -16.,   -1.,    6.,    5.,   -4.,  -21.,\n",
       "         -46.,  -79.],\n",
       "       [-113.,  -74.,  -43.,  -20.,   -5.,    2.,    1.,   -8.,  -25.,\n",
       "         -50.,  -83.],\n",
       "       [-115.,  -76.,  -45.,  -22.,   -7.,    0.,   -1.,  -10.,  -27.,\n",
       "         -52.,  -85.],\n",
       "       [-115.,  -76.,  -45.,  -22.,   -7.,    0.,   -1.,  -10.,  -27.,\n",
       "         -52.,  -85.],\n",
       "       [-113.,  -74.,  -43.,  -20.,   -5.,    2.,    1.,   -8.,  -25.,\n",
       "         -50.,  -83.],\n",
       "       [-109.,  -70.,  -39.,  -16.,   -1.,    6.,    5.,   -4.,  -21.,\n",
       "         -46.,  -79.],\n",
       "       [-103.,  -64.,  -33.,  -10.,    5.,   12.,   11.,    2.,  -15.,\n",
       "         -40.,  -73.],\n",
       "       [ -95.,  -56.,  -25.,   -2.,   13.,   20.,   19.,   10.,   -7.,\n",
       "         -32.,  -65.]])"
      ]
     },
     "execution_count": 84,
     "metadata": {},
     "output_type": "execute_result"
    }
   ],
   "source": [
    "x = range(-5,6,1)\n",
    "y = range(-5,6,1)\n",
    "A_plus_B = np.zeros((len(x), len(y)))\n",
    "for i in range(len(x)):\n",
    "    for j in range(len(y)):\n",
    "        A = x[i]**2 + 3*y[j]\n",
    "        B = -x[i] - 4*y[j]**2\n",
    "        A_plus_B[i,j] = A + B\n",
    "print('A+B의 크기는 {}'.format(A_plus_B.shape))\n",
    "A_plus_B"
   ]
  },
  {
   "cell_type": "code",
   "execution_count": 85,
   "metadata": {},
   "outputs": [
    {
     "name": "stdout",
     "output_type": "stream",
     "text": [
      "30.0\n",
      "-115.0\n"
     ]
    }
   ],
   "source": [
    "print (np.max(A_plus_B))\n",
    "print (np.min(A_plus_B))"
   ]
  },
  {
   "cell_type": "code",
   "execution_count": 86,
   "metadata": {},
   "outputs": [
    {
     "data": {
      "text/plain": [
       "(array([0], dtype=int64), array([5], dtype=int64))"
      ]
     },
     "execution_count": 86,
     "metadata": {},
     "output_type": "execute_result"
    }
   ],
   "source": [
    "np.where (np.max(A_plus_B) == A_plus_B)"
   ]
  },
  {
   "cell_type": "code",
   "execution_count": 87,
   "metadata": {},
   "outputs": [
    {
     "data": {
      "text/plain": [
       "30.0"
      ]
     },
     "execution_count": 87,
     "metadata": {},
     "output_type": "execute_result"
    }
   ],
   "source": [
    "A_plus_B[0,5]"
   ]
  },
  {
   "cell_type": "code",
   "execution_count": 88,
   "metadata": {},
   "outputs": [
    {
     "data": {
      "text/plain": [
       "(array([5, 6], dtype=int64), array([0, 0], dtype=int64))"
      ]
     },
     "execution_count": 88,
     "metadata": {},
     "output_type": "execute_result"
    }
   ],
   "source": [
    "np.where (np.min(A_plus_B) == A_plus_B)"
   ]
  },
  {
   "cell_type": "code",
   "execution_count": 89,
   "metadata": {},
   "outputs": [
    {
     "name": "stdout",
     "output_type": "stream",
     "text": [
      "-115.0 -115.0\n"
     ]
    }
   ],
   "source": [
    "print (A_plus_B[5,0], A_plus_B[6,0])"
   ]
  },
  {
   "cell_type": "markdown",
   "metadata": {},
   "source": [
    "#### Question 3.15"
   ]
  },
  {
   "cell_type": "code",
   "execution_count": 90,
   "metadata": {},
   "outputs": [
    {
     "data": {
      "text/plain": [
       "array([[  1.,   2.,   3.,   4.,   5.,   6.,   7.,   8.,   9.,  10.,  11.,\n",
       "         12.,  13.,  14.,  15.,  16.,  17.,  18.,  19.,  20.],\n",
       "       [  2.,   4.,   6.,   8.,  10.,  12.,  14.,  16.,  18.,  20.,  22.,\n",
       "         24.,  26.,  28.,  30.,  32.,  34.,  36.,  38.,  40.],\n",
       "       [  3.,   6.,   9.,  12.,  15.,  18.,  21.,  24.,  27.,  30.,  33.,\n",
       "         36.,  39.,  42.,  45.,  48.,  51.,  54.,  57.,  60.],\n",
       "       [  4.,   8.,  12.,  16.,  20.,  24.,  28.,  32.,  36.,  40.,  44.,\n",
       "         48.,  52.,  56.,  60.,  64.,  68.,  72.,  76.,  80.],\n",
       "       [  5.,  10.,  15.,  20.,  25.,  30.,  35.,  40.,  45.,  50.,  55.,\n",
       "         60.,  65.,  70.,  75.,  80.,  85.,  90.,  95., 100.],\n",
       "       [  6.,  12.,  18.,  24.,  30.,  36.,  42.,  48.,  54.,  60.,  66.,\n",
       "         72.,  78.,  84.,  90.,  96., 102., 108., 114., 120.],\n",
       "       [  7.,  14.,  21.,  28.,  35.,  42.,  49.,  56.,  63.,  70.,  77.,\n",
       "         84.,  91.,  98., 105., 112., 119., 126., 133., 140.],\n",
       "       [  8.,  16.,  24.,  32.,  40.,  48.,  56.,  64.,  72.,  80.,  88.,\n",
       "         96., 104., 112., 120., 128., 136., 144., 152., 160.],\n",
       "       [  9.,  18.,  27.,  36.,  45.,  54.,  63.,  72.,  81.,  90.,  99.,\n",
       "        108., 117., 126., 135., 144., 153., 162., 171., 180.],\n",
       "       [ 10.,  20.,  30.,  40.,  50.,  60.,  70.,  80.,  90., 100., 110.,\n",
       "        120., 130., 140., 150., 160., 170., 180., 190., 200.],\n",
       "       [ 11.,  22.,  33.,  44.,  55.,  66.,  77.,  88.,  99., 110., 121.,\n",
       "        132., 143., 154., 165., 176., 187., 198., 209., 220.],\n",
       "       [ 12.,  24.,  36.,  48.,  60.,  72.,  84.,  96., 108., 120., 132.,\n",
       "        144., 156., 168., 180., 192., 204., 216., 228., 240.],\n",
       "       [ 13.,  26.,  39.,  52.,  65.,  78.,  91., 104., 117., 130., 143.,\n",
       "        156., 169., 182., 195., 208., 221., 234., 247., 260.],\n",
       "       [ 14.,  28.,  42.,  56.,  70.,  84.,  98., 112., 126., 140., 154.,\n",
       "        168., 182., 196., 210., 224., 238., 252., 266., 280.],\n",
       "       [ 15.,  30.,  45.,  60.,  75.,  90., 105., 120., 135., 150., 165.,\n",
       "        180., 195., 210., 225., 240., 255., 270., 285., 300.],\n",
       "       [ 16.,  32.,  48.,  64.,  80.,  96., 112., 128., 144., 160., 176.,\n",
       "        192., 208., 224., 240., 256., 272., 288., 304., 320.],\n",
       "       [ 17.,  34.,  51.,  68.,  85., 102., 119., 136., 153., 170., 187.,\n",
       "        204., 221., 238., 255., 272., 289., 306., 323., 340.],\n",
       "       [ 18.,  36.,  54.,  72.,  90., 108., 126., 144., 162., 180., 198.,\n",
       "        216., 234., 252., 270., 288., 306., 324., 342., 360.],\n",
       "       [ 19.,  38.,  57.,  76.,  95., 114., 133., 152., 171., 190., 209.,\n",
       "        228., 247., 266., 285., 304., 323., 342., 361., 380.],\n",
       "       [ 20.,  40.,  60.,  80., 100., 120., 140., 160., 180., 200., 220.,\n",
       "        240., 260., 280., 300., 320., 340., 360., 380., 400.]])"
      ]
     },
     "execution_count": 90,
     "metadata": {},
     "output_type": "execute_result"
    }
   ],
   "source": [
    "xy = np.zeros((20,20))\n",
    "\n",
    "for i in range(1,21):\n",
    "    for j in range(1,21):\n",
    "        xy[i-1,j-1] = i*j\n",
    "xy"
   ]
  },
  {
   "cell_type": "markdown",
   "metadata": {},
   "source": [
    "#### Question 3.16"
   ]
  },
  {
   "cell_type": "code",
   "execution_count": 91,
   "metadata": {},
   "outputs": [
    {
     "data": {
      "text/plain": [
       "-13.0"
      ]
     },
     "execution_count": 91,
     "metadata": {},
     "output_type": "execute_result"
    }
   ],
   "source": [
    "temp = 37 - 1*(5000/100)\n",
    "temp"
   ]
  },
  {
   "cell_type": "markdown",
   "metadata": {},
   "source": [
    "## Chapter 6 일차방정식"
   ]
  },
  {
   "cell_type": "code",
   "execution_count": 92,
   "metadata": {},
   "outputs": [
    {
     "data": {
      "text/plain": [
       "4.0"
      ]
     },
     "execution_count": 92,
     "metadata": {},
     "output_type": "execute_result"
    }
   ],
   "source": [
    "x = (5+3)/2\n",
    "x"
   ]
  },
  {
   "cell_type": "code",
   "execution_count": 93,
   "metadata": {},
   "outputs": [
    {
     "data": {
      "text/plain": [
       "-1.0"
      ]
     },
     "execution_count": 93,
     "metadata": {},
     "output_type": "execute_result"
    }
   ],
   "source": [
    "x = -10/(3 + 7)\n",
    "x"
   ]
  },
  {
   "cell_type": "code",
   "execution_count": 94,
   "metadata": {},
   "outputs": [],
   "source": [
    "def linear_eq(a,b,c):\n",
    "    x = Fraction((c-b),a)\n",
    "    return x"
   ]
  },
  {
   "cell_type": "code",
   "execution_count": 95,
   "metadata": {},
   "outputs": [
    {
     "data": {
      "text/plain": [
       "Fraction(4, 1)"
      ]
     },
     "execution_count": 95,
     "metadata": {},
     "output_type": "execute_result"
    }
   ],
   "source": [
    "linear_eq(2,-3,5)"
   ]
  },
  {
   "cell_type": "code",
   "execution_count": 96,
   "metadata": {},
   "outputs": [],
   "source": [
    "def linear_eq(a,b,c):\n",
    "    x = Fraction((c-b),a)\n",
    "    if x.denominator == 1:\n",
    "        x = int(Fraction(x))\n",
    "    return x"
   ]
  },
  {
   "cell_type": "code",
   "execution_count": 97,
   "metadata": {},
   "outputs": [
    {
     "data": {
      "text/plain": [
       "4"
      ]
     },
     "execution_count": 97,
     "metadata": {},
     "output_type": "execute_result"
    }
   ],
   "source": [
    "linear_eq(2,-3,5)"
   ]
  },
  {
   "cell_type": "code",
   "execution_count": 98,
   "metadata": {},
   "outputs": [],
   "source": [
    "def linear_eq(a,b,c):\n",
    "    if a == 0:\n",
    "        if b == c:\n",
    "            print ('해는 무수히 많다.')\n",
    "            return\n",
    "        else:\n",
    "            print ('해는 없다.')\n",
    "            return\n",
    "    else:\n",
    "        x = Fraction((c-b),a)\n",
    "        if x.denominator == 1:\n",
    "            x = int(Fraction(x))\n",
    "        return x"
   ]
  },
  {
   "cell_type": "code",
   "execution_count": 99,
   "metadata": {},
   "outputs": [
    {
     "data": {
      "text/plain": [
       "4"
      ]
     },
     "execution_count": 99,
     "metadata": {},
     "output_type": "execute_result"
    }
   ],
   "source": [
    "linear_eq(2,-3,5)"
   ]
  },
  {
   "cell_type": "code",
   "execution_count": 100,
   "metadata": {},
   "outputs": [
    {
     "name": "stdout",
     "output_type": "stream",
     "text": [
      "해는 없다.\n"
     ]
    }
   ],
   "source": [
    "linear_eq(0,3,4)"
   ]
  },
  {
   "cell_type": "code",
   "execution_count": 101,
   "metadata": {},
   "outputs": [
    {
     "name": "stdout",
     "output_type": "stream",
     "text": [
      "해는 무수히 많다.\n"
     ]
    }
   ],
   "source": [
    "linear_eq(0,3,3)"
   ]
  },
  {
   "cell_type": "markdown",
   "metadata": {},
   "source": [
    "### 01 임의의 일차방정식 문제 생성기 만들기"
   ]
  },
  {
   "cell_type": "code",
   "execution_count": 102,
   "metadata": {},
   "outputs": [],
   "source": [
    "from fractions import Fraction"
   ]
  },
  {
   "cell_type": "code",
   "execution_count": 103,
   "metadata": {},
   "outputs": [],
   "source": [
    "class Linear_equation:\n",
    "    def question(self):        \n",
    "        self.coefficient = np.random.randint(-10,10)  \n",
    "        self.constant1 = np.random.randint(-20, 20)\n",
    "        self.constant2 = np.random.randint(-20, 20)\n",
    "        self.pm = np.random.randint(2)\n",
    "        if self.pm == 0:\n",
    "            print ('{}x + {} = {}' .format(self.coefficient,  self.constant1, self.constant2))\n",
    "        elif self.pm == 1:\n",
    "            print ('{}x - {} = {}' .format(self.coefficient,  self.constant1, self.constant2))\n",
    "        \n",
    "    def answer(self):\n",
    "        if self.pm == 1:\n",
    "            self.constant1 *= -1\n",
    "        x = linear_eq(self.coefficient, self.constant1, self.constant2)\n",
    "        return x"
   ]
  },
  {
   "cell_type": "code",
   "execution_count": 104,
   "metadata": {},
   "outputs": [
    {
     "name": "stdout",
     "output_type": "stream",
     "text": [
      "-1x - -7 = 6\n"
     ]
    }
   ],
   "source": [
    "q1 = Linear_equation()\n",
    "q1.question()"
   ]
  },
  {
   "cell_type": "code",
   "execution_count": 105,
   "metadata": {},
   "outputs": [
    {
     "data": {
      "text/plain": [
       "1"
      ]
     },
     "execution_count": 105,
     "metadata": {},
     "output_type": "execute_result"
    }
   ],
   "source": [
    "q1.answer()"
   ]
  },
  {
   "cell_type": "markdown",
   "metadata": {},
   "source": [
    "#### Question 3.17"
   ]
  },
  {
   "cell_type": "code",
   "execution_count": 106,
   "metadata": {},
   "outputs": [
    {
     "name": "stdout",
     "output_type": "stream",
     "text": [
      "122\n"
     ]
    }
   ],
   "source": [
    "for i in range(1,100):\n",
    "    if ((i+100)//i == 10) and ((i+100)%i == 1):\n",
    "        print (2*i+100)"
   ]
  },
  {
   "cell_type": "markdown",
   "metadata": {},
   "source": [
    "#### Question 3.18"
   ]
  },
  {
   "cell_type": "markdown",
   "metadata": {},
   "source": [
    "중간을 x라고 하면 (x -1) + x + (x + 1) = 3x = 87\n",
    "\n",
    "x = 29\n",
    "\n",
    "따라서 가장 큰 수는 31"
   ]
  },
  {
   "cell_type": "markdown",
   "metadata": {},
   "source": [
    "#### Question 3.19"
   ]
  },
  {
   "cell_type": "markdown",
   "metadata": {},
   "source": [
    "원래 수 : 10*x + 4\n",
    "\n",
    "자리수를 바꾸면 : 40 + x\n",
    "\n",
    "원래 수 - 바뀐수 = 10x - 36 - x = 9\n",
    "\n",
    "9x = 45\n",
    "\n",
    "x = 5\n",
    "\n",
    "따라서 처음수는 54"
   ]
  },
  {
   "cell_type": "markdown",
   "metadata": {},
   "source": [
    "## Chapter 7 연립방정식 "
   ]
  },
  {
   "cell_type": "code",
   "execution_count": 107,
   "metadata": {},
   "outputs": [
    {
     "data": {
      "text/plain": [
       "[Fraction(1, 2), Fraction(1, 3), 4, Fraction(1, 2), Fraction(1, 3), 4]"
      ]
     },
     "execution_count": 107,
     "metadata": {},
     "output_type": "execute_result"
    }
   ],
   "source": [
    "a = [1,5,20]  \n",
    "b = [Fraction(1,2), Fraction(1,3), 4]\n",
    "c = b*2\n",
    "c"
   ]
  },
  {
   "cell_type": "code",
   "execution_count": 108,
   "metadata": {},
   "outputs": [
    {
     "data": {
      "text/plain": [
       "array([Fraction(1, 1), Fraction(2, 3), 8], dtype=object)"
      ]
     },
     "execution_count": 108,
     "metadata": {},
     "output_type": "execute_result"
    }
   ],
   "source": [
    "a = np.array(a)\n",
    "b = np.array(b)\n",
    "c = b*2\n",
    "c"
   ]
  },
  {
   "cell_type": "code",
   "execution_count": 109,
   "metadata": {},
   "outputs": [
    {
     "name": "stdout",
     "output_type": "stream",
     "text": [
      "80/13 36/13\n"
     ]
    }
   ],
   "source": [
    "d = a-c\n",
    "y = Fraction(d[2], d[1])\n",
    "x = Fraction((a[2]-a[1]*y),a[0])\n",
    "print (x, y)"
   ]
  },
  {
   "cell_type": "code",
   "execution_count": 110,
   "metadata": {},
   "outputs": [],
   "source": [
    "def simultaneous_eq(a,b):\n",
    "    a = np.array(a)\n",
    "    b = np.array(b)\n",
    "    c = b* Fraction(a[0],b[0])\n",
    "    d = a - c\n",
    "    y = Fraction(d[2],d[1])\n",
    "    x = Fraction(a[2]-a[1]*y,a[0])\n",
    "    return x, y"
   ]
  },
  {
   "cell_type": "code",
   "execution_count": 111,
   "metadata": {},
   "outputs": [
    {
     "name": "stdout",
     "output_type": "stream",
     "text": [
      "6 -8\n"
     ]
    }
   ],
   "source": [
    "a = [5,2,14]\n",
    "b = [2,1,4]\n",
    "x, y = simultaneous_eq(a,b)\n",
    "print (x, y)"
   ]
  },
  {
   "cell_type": "code",
   "execution_count": 112,
   "metadata": {},
   "outputs": [
    {
     "name": "stdout",
     "output_type": "stream",
     "text": [
      "4/17 20/17\n"
     ]
    }
   ],
   "source": [
    "a = [2, 3, 4]   \n",
    "b = [3, -4, -4]\n",
    "x, y = simultaneous_eq(a,b)\n",
    "print (x, y)"
   ]
  },
  {
   "cell_type": "code",
   "execution_count": 113,
   "metadata": {},
   "outputs": [],
   "source": [
    "def simultaneous_eq(a,b):\n",
    "    if a[0] == 0:\n",
    "        y = Fraction(a[2], a[1])\n",
    "        x = Fraction(b[2] - b[1]*y, b[0])\n",
    "    elif a[1] == 0:\n",
    "        x = Fraction(a[2], a[0])\n",
    "        y = Fraction(b[2] - b[0]*x, b[1])\n",
    "    elif b[0] == 0:\n",
    "        y = Fraction(b[2], b[1])\n",
    "        x = Fraction(a[2] - a[1]*y, a[0])\n",
    "    elif b[1] == 0:\n",
    "        x = Fraction(b[2], b[0])\n",
    "        y = Fraction(a[2] - a[0]*x, a[1])\n",
    "    else:\n",
    "        a = np.array(a)\n",
    "        b = np.array(b)\n",
    "        c = b* Fraction(a[0],b[0])\n",
    "        d = a - c\n",
    "        y = Fraction(d[2],d[1])\n",
    "        x = Fraction(a[2]-a[1]*y,a[0])\n",
    "    return x, y"
   ]
  },
  {
   "cell_type": "code",
   "execution_count": 114,
   "metadata": {},
   "outputs": [
    {
     "data": {
      "text/plain": [
       "(Fraction(-2, 1), Fraction(2, 1))"
      ]
     },
     "execution_count": 114,
     "metadata": {},
     "output_type": "execute_result"
    }
   ],
   "source": [
    "a = [1,3,4]\n",
    "b = [5,0,-10]\n",
    "simultaneous_eq(a,b)"
   ]
  },
  {
   "cell_type": "code",
   "execution_count": 115,
   "metadata": {},
   "outputs": [],
   "source": [
    "if 3 == 3 != 3:\n",
    "    print ('0')"
   ]
  },
  {
   "cell_type": "code",
   "execution_count": 116,
   "metadata": {},
   "outputs": [],
   "source": [
    "def simultaneous_eq(a,b):\n",
    "    if (a[0]/b[0]) == (a[1]/b[1]) != (a[2]/b[2]):\n",
    "        print ('해는 없다')\n",
    "        return None, None\n",
    "    elif (a[0]/b[0]) == (a[1]/b[1]) == (a[2]/b[2]):\n",
    "        print ('해는 무수히 많다')\n",
    "        return None, None\n",
    "    else:\n",
    "        if a[0] == 0:\n",
    "            y = Fraction(a[2], a[1])\n",
    "            x = Fraction(b[2] - b[1]*y, b[0])\n",
    "        elif a[1] == 0:\n",
    "            x = Fraction(a[2], a[0])\n",
    "            y = Fraction(b[2] - b[0]*x, b[1])\n",
    "        elif b[0] == 0:\n",
    "            y = Fraction(b[2], b[1])\n",
    "            x = Fraction(a[2] - a[1]*y, a[0])\n",
    "        elif b[1] == 0:\n",
    "            x = Fraction(b[2], b[0])\n",
    "            y = Fraction(a[2] - a[0]*x, a[1])\n",
    "        else:\n",
    "            a = np.array(a)\n",
    "            b = np.array(b)\n",
    "            c = b* Fraction(a[0],b[0])\n",
    "            d = a - c\n",
    "            y = Fraction(d[2],d[1])\n",
    "            x = Fraction(a[2]-a[1]*y,a[0])\n",
    "        return x, y"
   ]
  },
  {
   "cell_type": "markdown",
   "metadata": {},
   "source": [
    "### 01 임의의 연립방정식 문제 만들기"
   ]
  },
  {
   "cell_type": "code",
   "execution_count": 117,
   "metadata": {},
   "outputs": [],
   "source": [
    "class Linear_equation:\n",
    "    def question(self):        \n",
    "        self.number = np.random.randint(-10,10, size = 6)   \n",
    "        print ('다음 연립방정식을 푸시오')\n",
    "        print ('{}x + {}y = {}' .format(self.number[0],  self.number[1], self.number[2]))\n",
    "        print ('{}x + {}y = {}' .format(self.number[3],  self.number[4], self.number[5]))\n",
    "        \n",
    "    def answer(self):\n",
    "        a = [self.number[0], self.number[1], self.number[2]]\n",
    "        b = [self.number[3], self.number[4], self.number[5]]\n",
    "        x, y = simultaneous_eq(a,b)\n",
    "        return x, y"
   ]
  },
  {
   "cell_type": "code",
   "execution_count": 118,
   "metadata": {},
   "outputs": [
    {
     "name": "stdout",
     "output_type": "stream",
     "text": [
      "다음 연립방정식을 푸시오\n",
      "9x + 5y = 5\n",
      "-9x + 6y = -4\n"
     ]
    }
   ],
   "source": [
    "q1 = Linear_equation()\n",
    "q1.question()"
   ]
  },
  {
   "cell_type": "code",
   "execution_count": 119,
   "metadata": {},
   "outputs": [
    {
     "data": {
      "text/plain": [
       "(Fraction(50, 99), Fraction(1, 11))"
      ]
     },
     "execution_count": 119,
     "metadata": {},
     "output_type": "execute_result"
    }
   ],
   "source": [
    "q1.answer()"
   ]
  },
  {
   "cell_type": "code",
   "execution_count": 120,
   "metadata": {},
   "outputs": [],
   "source": [
    "a = [5,2,14]\n",
    "b = [2,1,4]"
   ]
  },
  {
   "cell_type": "code",
   "execution_count": 121,
   "metadata": {},
   "outputs": [],
   "source": [
    "c = [[5,2], [2,1]]\n",
    "d = [14,4]"
   ]
  },
  {
   "cell_type": "code",
   "execution_count": 122,
   "metadata": {},
   "outputs": [
    {
     "data": {
      "text/plain": [
       "array([ 6., -8.])"
      ]
     },
     "execution_count": 122,
     "metadata": {},
     "output_type": "execute_result"
    }
   ],
   "source": [
    "result = np.linalg.solve(c,d)\n",
    "result"
   ]
  },
  {
   "cell_type": "code",
   "execution_count": 123,
   "metadata": {},
   "outputs": [
    {
     "data": {
      "text/plain": [
       "array([ 2.06293706,  2.92307692, -2.16083916])"
      ]
     },
     "execution_count": 123,
     "metadata": {},
     "output_type": "execute_result"
    }
   ],
   "source": [
    "c = [[5,2,1], [2,-3,-4], [1,5,-2]]\n",
    "d = [14,4,21]\n",
    "result = np.linalg.solve(c,d)\n",
    "result"
   ]
  },
  {
   "cell_type": "markdown",
   "metadata": {},
   "source": [
    "#### Question 3.20"
   ]
  },
  {
   "cell_type": "code",
   "execution_count": 124,
   "metadata": {},
   "outputs": [
    {
     "name": "stdout",
     "output_type": "stream",
     "text": [
      "[[2, 3], [4, 2], [6, 1]]\n",
      "3\n"
     ]
    }
   ],
   "source": [
    "x = range(1,9,1)\n",
    "y = range(1,5,1)\n",
    "xy = []\n",
    "for i in x:\n",
    "    for j in y:\n",
    "        if i + 2*j == 8:\n",
    "            xy.append([i,j])\n",
    "print (xy)\n",
    "print (len(xy))"
   ]
  },
  {
   "cell_type": "markdown",
   "metadata": {},
   "source": [
    "#### Question 3.21"
   ]
  },
  {
   "cell_type": "markdown",
   "metadata": {},
   "source": [
    "$x + y = 60$\n",
    "\n",
    "$x + 12 = (y+12) \\times 2$\n",
    "\n",
    "두번쨰 식을 정리하면\n",
    "\n",
    "$x - 2y = 12$"
   ]
  },
  {
   "cell_type": "code",
   "execution_count": 125,
   "metadata": {},
   "outputs": [
    {
     "data": {
      "text/plain": [
       "Fraction(44, 1)"
      ]
     },
     "execution_count": 125,
     "metadata": {},
     "output_type": "execute_result"
    }
   ],
   "source": [
    "a = [1,1,60]\n",
    "b = [1,-2,12]\n",
    "x, y = simultaneous_eq(a,b)\n",
    "x"
   ]
  },
  {
   "cell_type": "markdown",
   "metadata": {},
   "source": [
    "#### Question 3.22"
   ]
  },
  {
   "cell_type": "markdown",
   "metadata": {},
   "source": [
    "2x - y = 7\n",
    "\n",
    "2y - x = -2"
   ]
  },
  {
   "cell_type": "code",
   "execution_count": 126,
   "metadata": {},
   "outputs": [
    {
     "data": {
      "text/plain": [
       "Fraction(4, 1)"
      ]
     },
     "execution_count": 126,
     "metadata": {},
     "output_type": "execute_result"
    }
   ],
   "source": [
    "a = [2,-1,7]\n",
    "b = [-1, 2, -2]\n",
    "x, y = simultaneous_eq(a,b)\n",
    "x"
   ]
  },
  {
   "cell_type": "markdown",
   "metadata": {},
   "source": [
    "#### Question 3.23"
   ]
  },
  {
   "cell_type": "markdown",
   "metadata": {},
   "source": [
    "$x + y = 600$\n",
    "\n",
    "$0.05x + 0.08y = 600 \\times 0.07$\n",
    "\n",
    "단 Fraction은 소수를 받을 수 없으므로, 100을 곱해야 한다."
   ]
  },
  {
   "cell_type": "code",
   "execution_count": 127,
   "metadata": {},
   "outputs": [
    {
     "data": {
      "text/plain": [
       "Fraction(200, 1)"
      ]
     },
     "execution_count": 127,
     "metadata": {},
     "output_type": "execute_result"
    }
   ],
   "source": [
    "a = [1,1,600]\n",
    "b = [5, 8, 4200]\n",
    "x, y = simultaneous_eq(a,b)\n",
    "x"
   ]
  },
  {
   "cell_type": "markdown",
   "metadata": {},
   "source": [
    "## Chapter 8 부등식 "
   ]
  },
  {
   "cell_type": "code",
   "execution_count": 128,
   "metadata": {},
   "outputs": [
    {
     "data": {
      "text/plain": [
       "[True, True, False, False]"
      ]
     },
     "execution_count": 128,
     "metadata": {},
     "output_type": "execute_result"
    }
   ],
   "source": [
    "x = [2,3,5,7]\n",
    "a = []\n",
    "for i in x:\n",
    "    if 3*i + 2 <= 11:\n",
    "        a.append(True)\n",
    "    else:\n",
    "        a.append(False)\n",
    "a"
   ]
  },
  {
   "cell_type": "code",
   "execution_count": 129,
   "metadata": {},
   "outputs": [
    {
     "data": {
      "text/plain": [
       "[True, True, False, False]"
      ]
     },
     "execution_count": 129,
     "metadata": {},
     "output_type": "execute_result"
    }
   ],
   "source": [
    "x = [2,3,5,7]\n",
    "a = [3*i + 2 <= 11 for i in x]   #x의 원소인 i에 대해 3*1 + 2 <=11 인지 판별하라\n",
    "a"
   ]
  },
  {
   "cell_type": "code",
   "execution_count": 130,
   "metadata": {},
   "outputs": [
    {
     "data": {
      "text/plain": [
       "[2, 3]"
      ]
     },
     "execution_count": 130,
     "metadata": {},
     "output_type": "execute_result"
    }
   ],
   "source": [
    "x = [2,3,5,7]\n",
    "a = [i for i in x if 3*i + 2 <= 11 ]   #x의 원소인 i에 대해 3*1 + 2 <=11 인지 판별하라\n",
    "a"
   ]
  },
  {
   "cell_type": "code",
   "execution_count": 131,
   "metadata": {},
   "outputs": [
    {
     "data": {
      "text/plain": [
       "[5, 7]"
      ]
     },
     "execution_count": 131,
     "metadata": {},
     "output_type": "execute_result"
    }
   ],
   "source": [
    "x = [2,3,5,7]\n",
    "a = [i for i in x if 4*i -5 > 13]\n",
    "a"
   ]
  },
  {
   "cell_type": "code",
   "execution_count": 132,
   "metadata": {},
   "outputs": [
    {
     "data": {
      "text/plain": [
       "[2, 3, 5]"
      ]
     },
     "execution_count": 132,
     "metadata": {},
     "output_type": "execute_result"
    }
   ],
   "source": [
    "a = [i for i in x if 2*i + 1 < 15]\n",
    "a"
   ]
  },
  {
   "cell_type": "code",
   "execution_count": 133,
   "metadata": {},
   "outputs": [
    {
     "data": {
      "text/plain": [
       "array([False, False, False, False, False, False, False, False, False,\n",
       "        True,  True,  True,  True,  True,  True,  True,  True,  True,\n",
       "        True,  True,  True])"
      ]
     },
     "execution_count": 133,
     "metadata": {},
     "output_type": "execute_result"
    }
   ],
   "source": [
    "x = np.arange(-10,11)\n",
    "b = lambda a: a + 5 >= 4\n",
    "b(x)"
   ]
  },
  {
   "cell_type": "code",
   "execution_count": 134,
   "metadata": {},
   "outputs": [
    {
     "data": {
      "text/plain": [
       "[-1, 0, 1, 2, 3, 4, 5, 6, 7, 8, 9, 10]"
      ]
     },
     "execution_count": 134,
     "metadata": {},
     "output_type": "execute_result"
    }
   ],
   "source": [
    "b = list(filter(lambda a: a + 5 >= 4, x))\n",
    "b"
   ]
  },
  {
   "cell_type": "code",
   "execution_count": 135,
   "metadata": {},
   "outputs": [
    {
     "data": {
      "text/plain": [
       "[-10, -9, -8, -7]"
      ]
     },
     "execution_count": 135,
     "metadata": {},
     "output_type": "execute_result"
    }
   ],
   "source": [
    "y = list(filter(lambda a: a - -4 <= -3,  np.arange(-10,11,1)))\n",
    "y"
   ]
  },
  {
   "cell_type": "code",
   "execution_count": 136,
   "metadata": {},
   "outputs": [
    {
     "data": {
      "text/plain": [
       "[-6, -5, -4, -3, -2, -1, 0, 1, 2, 3, 4, 5, 6, 7, 8, 9, 10]"
      ]
     },
     "execution_count": 136,
     "metadata": {},
     "output_type": "execute_result"
    }
   ],
   "source": [
    "y = list(filter(lambda a: 2/3*a >= -4,  np.arange(-10,11,1)))\n",
    "y"
   ]
  },
  {
   "cell_type": "code",
   "execution_count": 137,
   "metadata": {},
   "outputs": [
    {
     "name": "stdout",
     "output_type": "stream",
     "text": [
      "[-1, 0, 1, 2, 3, 4, 5, 6, 7, 8, 9, 10]\n"
     ]
    }
   ],
   "source": [
    "a = []\n",
    "for i in x:\n",
    "    if i + 5 >= 4:\n",
    "        a.append(i)\n",
    "print (a)"
   ]
  },
  {
   "cell_type": "markdown",
   "metadata": {},
   "source": [
    "#### Question 3.24\n",
    "\n",
    "-10부터 10까지 정수중 $ 3x - 7 \\le 3$을 앞에서 배운 세 가지 방법으로 코딩하세요."
   ]
  },
  {
   "cell_type": "code",
   "execution_count": 138,
   "metadata": {},
   "outputs": [
    {
     "data": {
      "text/plain": [
       "[-10, -9, -8, -7, -6, -5, -4, -3, -2, -1, 0, 1, 2, 3]"
      ]
     },
     "execution_count": 138,
     "metadata": {},
     "output_type": "execute_result"
    }
   ],
   "source": [
    "[i for i in range(-10,11) if 3*i - 7 <= 3]"
   ]
  },
  {
   "cell_type": "code",
   "execution_count": 139,
   "metadata": {},
   "outputs": [
    {
     "data": {
      "text/plain": [
       "[-10, -9, -8, -7, -6, -5, -4, -3, -2, -1, 0, 1, 2, 3]"
      ]
     },
     "execution_count": 139,
     "metadata": {},
     "output_type": "execute_result"
    }
   ],
   "source": [
    "list(filter(lambda i: 3*i -7 <= 3, range(-10,11,1)))"
   ]
  },
  {
   "cell_type": "code",
   "execution_count": 140,
   "metadata": {},
   "outputs": [
    {
     "data": {
      "text/plain": [
       "[-10, -9, -8, -7, -6, -5, -4, -3, -2, -1, 0, 1, 2, 3]"
      ]
     },
     "execution_count": 140,
     "metadata": {},
     "output_type": "execute_result"
    }
   ],
   "source": [
    "a = []\n",
    "for i in range(-10,11):\n",
    "    if 3*i - 7 <= 3:\n",
    "        a.append(i)\n",
    "a"
   ]
  },
  {
   "cell_type": "markdown",
   "metadata": {},
   "source": [
    "### 01 임의의 일차부등식 문제 생성기 만들기"
   ]
  },
  {
   "cell_type": "code",
   "execution_count": 141,
   "metadata": {},
   "outputs": [],
   "source": [
    "class Inequality:\n",
    "    def __init__(self):\n",
    "        print ('x는 -10부터 10까지의 정수이다. 다음 부등식을 만족하는 x를 구하시오.')\n",
    "        \n",
    "    def question(self):\n",
    "        self.coefficient = 0\n",
    "        self.constant = np.random.randint(low = -10, high = 10, size = 2)\n",
    "        while self.coefficient == 0:\n",
    "            self.coefficient = np.random.randint(low = -10, high = 10)\n",
    "        self.a = np.random.randint(4, size = 1)\n",
    "        \n",
    "        if np.random.randint(2) == 0:\n",
    "            self.symbol1 = '+'\n",
    "        else:\n",
    "            self.symbol1 = '-'\n",
    "            \n",
    "        if self.a % 4 == 0:\n",
    "            self.symbol2 = '>'\n",
    "        elif self.a % 4 == 1:\n",
    "            self.symbol2 = '>='\n",
    "        elif self.a % 4 == 2:\n",
    "            self.symbol2 = '<='\n",
    "        elif self.a % 4 == 3:\n",
    "            self.symbol2 = '<'\n",
    "    \n",
    "        print ('{}x {} {} {} {} '.format(self.coefficient, self.symbol1, self.constant[0], self.symbol2, self.constant[1]))\n",
    "\n",
    "    def answer(self):\n",
    "        if self.symbol1 == '-':\n",
    "            self.constant[0] *= -1\n",
    "        \n",
    "        if self.a % 4 == 0:\n",
    "            y = list(filter(lambda a: self.coefficient*a + self.constant[0] > self.constant[1],  np.arange(-10,11,1)))\n",
    "        elif self.a % 4 == 1:\n",
    "            y = list(filter(lambda a: self.coefficient*a + self.constant[0] >= self.constant[1],  np.arange(-10,11,1)))\n",
    "        elif self.a % 4 == 2:\n",
    "            y = list(filter(lambda a: self.coefficient*a + self.constant[0] <= self.constant[1],  np.arange(-10,11,1)))\n",
    "        elif self.a % 4 == 3:\n",
    "            y = list(filter(lambda a: self.coefficient*a + self.constant[0] < self.constant[1],  np.arange(-10,11,1)))\n",
    "        print (y)\n",
    "        \n",
    "#        return y"
   ]
  },
  {
   "cell_type": "code",
   "execution_count": 142,
   "metadata": {},
   "outputs": [
    {
     "name": "stdout",
     "output_type": "stream",
     "text": [
      "x는 -10부터 10까지의 정수이다. 다음 부등식을 만족하는 x를 구하시오.\n",
      "7x + -5 <= -5 \n"
     ]
    }
   ],
   "source": [
    "q1 = Inequality()\n",
    "q1.question()"
   ]
  },
  {
   "cell_type": "code",
   "execution_count": 143,
   "metadata": {},
   "outputs": [
    {
     "name": "stdout",
     "output_type": "stream",
     "text": [
      "[-10, -9, -8, -7, -6, -5, -4, -3, -2, -1, 0]\n"
     ]
    }
   ],
   "source": [
    "q1.answer()"
   ]
  },
  {
   "cell_type": "markdown",
   "metadata": {},
   "source": [
    "### 02 연립부등식 구하기"
   ]
  },
  {
   "cell_type": "code",
   "execution_count": 144,
   "metadata": {},
   "outputs": [
    {
     "name": "stdout",
     "output_type": "stream",
     "text": [
      "[-3, -2, -1, 0, 1, 2, 3, 4, 5, 6, 7, 8, 9, 10]\n",
      "[-10, -9, -8, -7, -6, -5, -4, -3, -2, -1, 0, 1, 2]\n"
     ]
    }
   ],
   "source": [
    "x1 = list(filter(lambda a: -4 < a,  np.arange(-10,11,1)))\n",
    "x2 = list(filter(lambda a: 5*a + 1 <= 4*a + 3,  np.arange(-10,11,1)))\n",
    "\n",
    "print (x1)\n",
    "print (x2)"
   ]
  },
  {
   "cell_type": "code",
   "execution_count": 145,
   "metadata": {},
   "outputs": [],
   "source": [
    "def intersection(a,b):\n",
    "    c = []\n",
    "    for i in a:\n",
    "        if i  in b:\n",
    "            c.append(i)\n",
    "    return c"
   ]
  },
  {
   "cell_type": "code",
   "execution_count": 146,
   "metadata": {},
   "outputs": [
    {
     "data": {
      "text/plain": [
       "[-3, -2, -1, 0, 1, 2]"
      ]
     },
     "execution_count": 146,
     "metadata": {},
     "output_type": "execute_result"
    }
   ],
   "source": [
    "intersection(x1, x2)"
   ]
  },
  {
   "cell_type": "markdown",
   "metadata": {},
   "source": [
    "### 03 임의의 연립부등식 문제 생성기 만들기"
   ]
  },
  {
   "cell_type": "code",
   "execution_count": 147,
   "metadata": {},
   "outputs": [],
   "source": [
    "class Simul_Inequality:\n",
    "    def __init__(self):\n",
    "        print ('x는 -10부터 10까지의 정수이다. 다음 연립 부등식을 만족하는 x를 구하시오.')\n",
    "        \n",
    "    def question(self):\n",
    "        self.coefficient = 0 , 0\n",
    "        self.constant = np.random.randint(low = -10, high = 10, size = 4)\n",
    "        while self.coefficient[0] == 0 or self.coefficient[1] == 0:\n",
    "            self.coefficient = np.random.randint(low = -10, high = 10, size = 2)\n",
    "        \n",
    "        self.a = np.random.randint(4, size = 2)\n",
    "        self.symbol = []\n",
    "        for i in self.a:\n",
    "            if i % 4 == 0:\n",
    "                self.symbol.append('>')\n",
    "            elif i % 4 == 1:\n",
    "                self.symbol.append('>=')\n",
    "            elif i % 4 == 2:\n",
    "                self.symbol.append('<=')\n",
    "            elif i % 4 == 3:\n",
    "                self.symbol.append('<')\n",
    "    \n",
    "        print ('{}x + {} {} {} '.format(self.coefficient[0], self.constant[0], self.symbol[0], self.constant[1]))\n",
    "        print ('{}x + {} {} {} '.format(self.coefficient[1], self.constant[2], self.symbol[1], self.constant[3]))\n",
    "        \n",
    "    def answer(self):\n",
    "        x = []\n",
    "        for i, val in enumerate(self.a):\n",
    "            if val % 4 == 0:\n",
    "                x.append(list(filter(lambda a: self.coefficient[i]*a + self.constant[2*i] > self.constant[2*i+1],  np.arange(-10,11,1))))\n",
    "            elif val % 4 == 1:\n",
    "                x.append(list(filter(lambda a: self.coefficient[i]*a + self.constant[2*i] >= self.constant[2*i+1],  np.arange(-10,11,1))))\n",
    "            elif val % 4 == 2:\n",
    "                x.append(list(filter(lambda a: self.coefficient[i]*a + self.constant[2*i] <= self.constant[2*i+1],  np.arange(-10,11,1))))\n",
    "            elif val % 4 == 3:\n",
    "                x.append(list(filter(lambda a: self.coefficient[i]*a + self.constant[2*i] < self.constant[2*i+1],  np.arange(-10,11,1))))\n",
    "                \n",
    "        x_common = intersection(x[0], x[1])\n",
    "        print (x_common)\n",
    "        \n",
    "#        return y"
   ]
  },
  {
   "cell_type": "code",
   "execution_count": 148,
   "metadata": {},
   "outputs": [
    {
     "name": "stdout",
     "output_type": "stream",
     "text": [
      "x는 -10부터 10까지의 정수이다. 다음 연립 부등식을 만족하는 x를 구하시오.\n",
      "8x + -3 > -3 \n",
      "-9x + 2 >= -6 \n"
     ]
    }
   ],
   "source": [
    "q1 = Simul_Inequality()\n",
    "q1.question()"
   ]
  },
  {
   "cell_type": "code",
   "execution_count": 149,
   "metadata": {},
   "outputs": [
    {
     "name": "stdout",
     "output_type": "stream",
     "text": [
      "[]\n"
     ]
    }
   ],
   "source": [
    "q1.answer()"
   ]
  },
  {
   "cell_type": "markdown",
   "metadata": {},
   "source": [
    "#### Question 3.25"
   ]
  },
  {
   "cell_type": "code",
   "execution_count": 150,
   "metadata": {},
   "outputs": [
    {
     "name": "stdout",
     "output_type": "stream",
     "text": [
      "30명이 할인받은 금액은 54000.00000000001 원\n",
      "[1, 2, 3, 4, 5, 6, 7, 8, 9]\n"
     ]
    }
   ],
   "source": [
    "a = []\n",
    "x = np.arange(1,31)\n",
    "discount = 6000*30*(1-0.7)\n",
    "print ('30명이 할인받은 금액은 {} 원'.format(discount))\n",
    "for i in x:\n",
    "    if i*6000 <= discount:\n",
    "        a.append(i)\n",
    "print(a)"
   ]
  },
  {
   "cell_type": "code",
   "execution_count": 151,
   "metadata": {},
   "outputs": [
    {
     "name": "stdout",
     "output_type": "stream",
     "text": [
      "9명 일때 단체권 사는게 유리하다\n"
     ]
    }
   ],
   "source": [
    "print ('{}명 일때 단체권 사는게 유리하다'.format(max(a)))"
   ]
  },
  {
   "cell_type": "markdown",
   "metadata": {},
   "source": [
    "#### Question 3.26"
   ]
  },
  {
   "cell_type": "code",
   "execution_count": 152,
   "metadata": {},
   "outputs": [
    {
     "name": "stdout",
     "output_type": "stream",
     "text": [
      "15\n"
     ]
    }
   ],
   "source": [
    "for i in np.arange(1,20):\n",
    "    if 39 < 3*i < 45:\n",
    "        print (i+1)"
   ]
  },
  {
   "cell_type": "markdown",
   "metadata": {},
   "source": [
    "#### Question 3.27"
   ]
  },
  {
   "cell_type": "code",
   "execution_count": 153,
   "metadata": {},
   "outputs": [
    {
     "data": {
      "text/plain": [
       "[6]"
      ]
     },
     "execution_count": 153,
     "metadata": {},
     "output_type": "execute_result"
    }
   ],
   "source": [
    "x1 = list(filter(lambda a: 2*a - 3 < 11,  np.arange(-10,11,1)))\n",
    "x2 = list(filter(lambda a: 3*a - 6 > 9,  np.arange(-10,11,1)))\n",
    "\n",
    "intersection(x1,x2)\n"
   ]
  },
  {
   "cell_type": "markdown",
   "metadata": {},
   "source": [
    "### 04 두 미지수가 포함된 연립부등식 구하기"
   ]
  },
  {
   "cell_type": "code",
   "execution_count": 154,
   "metadata": {},
   "outputs": [
    {
     "name": "stdout",
     "output_type": "stream",
     "text": [
      "-4 5\n",
      "-3 3\n",
      "-3 4\n",
      "-3 5\n",
      "-2 2\n",
      "-2 3\n",
      "-2 4\n",
      "-2 5\n",
      "-1 0\n",
      "-1 1\n",
      "-1 2\n",
      "-1 3\n",
      "-1 4\n",
      "-1 5\n",
      "0 -1\n",
      "0 0\n",
      "0 1\n",
      "0 2\n",
      "0 3\n",
      "0 4\n",
      "0 5\n",
      "1 -2\n",
      "1 -1\n",
      "1 0\n",
      "1 1\n",
      "1 2\n",
      "1 3\n",
      "1 4\n",
      "1 5\n",
      "2 -2\n",
      "2 -1\n",
      "2 0\n",
      "2 1\n",
      "2 2\n",
      "2 3\n",
      "2 4\n",
      "2 5\n",
      "3 -2\n",
      "3 -1\n",
      "3 0\n",
      "3 1\n",
      "3 2\n",
      "3 3\n",
      "3 4\n",
      "3 5\n",
      "4 -2\n",
      "4 -1\n",
      "4 0\n",
      "4 1\n",
      "4 2\n",
      "4 3\n",
      "4 4\n",
      "4 5\n",
      "5 -3\n",
      "5 -2\n",
      "5 -1\n",
      "5 0\n",
      "5 1\n",
      "5 2\n",
      "5 3\n",
      "5 4\n",
      "5 5\n"
     ]
    }
   ],
   "source": [
    "x = np.arange(-5,6)\n",
    "y = np.arange(-5,6)\n",
    "\n",
    "for i in range(len(x)):\n",
    "    for j in range(len(y)):\n",
    "        if (-3*x[i] - 2*y[j] < 4) and (x[i] + 5*y[j] > -11):\n",
    "            print (x[i], y[j])"
   ]
  }
 ],
 "metadata": {
  "kernelspec": {
   "display_name": "Python 3",
   "language": "python",
   "name": "python3"
  },
  "language_info": {
   "codemirror_mode": {
    "name": "ipython",
    "version": 3
   },
   "file_extension": ".py",
   "mimetype": "text/x-python",
   "name": "python",
   "nbconvert_exporter": "python",
   "pygments_lexer": "ipython3",
   "version": "3.6.8"
  }
 },
 "nbformat": 4,
 "nbformat_minor": 2
}
