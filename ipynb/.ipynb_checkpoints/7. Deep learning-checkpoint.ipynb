{
 "cells": [
  {
   "cell_type": "markdown",
   "metadata": {},
   "source": [
    "# Deep learning"
   ]
  },
  {
   "cell_type": "markdown",
   "metadata": {},
   "source": [
    "최근들어 AI, 인공지능, 머신러닝 이러한 용어들을 많이 들어보았을 것입니다.\n",
    "\n",
    "AI는 artificial intelligence 즉, 인공지능이란 뜻이고 이를 구현하기 위한 기술이 머신 러닝 입니다.\n",
    "\n",
    "머신 러닝은 말 그대로 기계가 data를 바탕으로 스스로 학습하여 원하는 예측 혹은 결론을 도출해 내는 기술입니다. \n",
    "\n",
    "deep learning은 머신러닝 기술 중 하나이며, 다층의 인공신경망을 통해 학습을 하는 방법입니다.\n",
    "\n",
    "컴퓨터에서 신경망이라니 이상하지 않나요?\n",
    "\n",
    "왜냐하면, 이 인공신경망이 사람의 신경망의 동작원리를 모방해서 만들었기 때문입니다.\n",
    "\n",
    "<img src = '7_3.png', width = 500>"
   ]
  },
  {
   "cell_type": "markdown",
   "metadata": {},
   "source": [
    "사람의 신경세포는 위의 그림처럼 생겼습니다.\n",
    "\n",
    "머리부분에는 여러가지 가지가 있고 이 각각의 가지에서 전기신호를 받습니다. \n",
    "\n",
    "이 전기신호들은 몸통 부위에서 다 더해진 다음, 특정 값보다 크게 되면 꼬리부분으로 전달이 됩니다.\n",
    "\n",
    "이 꼬리부분의 각 가지들은 다음 신경세포의 머리들로 전기신호를 전달합니다.\n",
    "\n",
    "이러한 신경세포는 사람의 머리속에는 약 천억개에가 있고, 각 신경세포는 다른 1000여개의 신경세포와 연결되어 있습니다.\n",
    "\n",
    "뇌에 어떤 자극이 들어오면 이렇게 거대한 신경세포들의 군집들이 서로 의사소통을 하게되어, 사고, 기억, 운동등의 반응을 일으키게 됩니다.\n",
    "\n",
    "또한 자극을 많이 받으면 받을수록, 해당 전기신호를 전달하는 신경세포들은 더 촘촘한 망을 이루게 됩니다. \n",
    "\n",
    "이를 학습이라 합니다.\n",
    "\n",
    "운동을 많이하면 할수록, 더 잘하게 되고, 공부를 하면 할수록 더 잘해지게 되는것과 같은 이치입니다.\n",
    "\n",
    "deep learning에 기반한 인공신경망도 이러한 자극을 학습시켜 작동하게 됩니다. \n",
    "\n",
    "따라서 자극을 많이 받으면 더 학습이 많이되게 됩니다.\n",
    "\n",
    "이때 자극은, 인경신경망에서 자료와 같습니다. 더 많은 자료를 학습시킴으로써 인공신경망은 더 정확한 결과를 내놓게 되는 것입니다.\n",
    "\n",
    "<img src = '7_1.png', width = 500>\n",
    "\n",
    "\n",
    "위의 상단 그림은 실제 신경세포망이고, 아래 그림은 인공지능망의 그림입니다. 비슷하지 않나요?\n",
    "\n",
    "우선 인공신경망의 원리를 아래 그림을 통해 배워보도록 하겠습니다."
   ]
  },
  {
   "cell_type": "markdown",
   "metadata": {},
   "source": [
    "<img src = '7_7.png', width = 500>"
   ]
  },
  {
   "cell_type": "markdown",
   "metadata": {},
   "source": [
    "닭고기를 보게 되면, 자극 1을 받으면 침을리는 신경세포에 x1의 가중치를 받아 최종 1 x 1 = 1의 신호를 전달하게 됩니다. \n",
    "\n",
    "이때 침흘리는 신경세포는 입력 전기신호의 합이 1보다 크면 침을 흘리게 됩니다.\n",
    "\n",
    "닭이 없으면 0의 신호가 들어오니 침을 흘리지 않습니다.\n",
    "\n",
    "<img src = '7_6.png', width = 500>"
   ]
  },
  {
   "cell_type": "markdown",
   "metadata": {},
   "source": [
    "반면 종소리는 신호가 들어와도 (1) 침흘리는 신경세포에 전달되는 가중치가 0 이므로, 총 입력 전기신호는 1 x 0 = 0 < 1이 되어 침을 흘리지 않습니다.\n",
    "\n",
    "다른 실험을 해보겠습니다.\n",
    "\n",
    "이번엔 종소리도 울리고 닭고기도 줘보겠습니다.\n",
    "\n",
    "<img src = '7_8.png', width = 500>"
   ]
  },
  {
   "cell_type": "markdown",
   "metadata": {},
   "source": [
    "종소리에서는 0의 입력신호가 들어가지만, 닭고기에서 1의 입력신호가 들어가 최종적으로 침을 흘리게 됩니다.\n",
    "\n",
    "닭고기에서 전달된 신호는 1이고, 침흘리는 신경세포의 output도 1이니 둘 사이에 차이 (error)는 없습니다.\n",
    "\n",
    "하지만 종소리의 신호는 0이고, 침흘리는 신경세포의 output은 1이니 둘 사이의 차이는 error = 1이 됩니다.\n",
    "\n",
    "이때 우리머리는 헷갈리게 됩니다.\n",
    "\n",
    "닭고기보면 침흘리는것은 당연한데, 내가 침흘리는게 종소리 때문인가? 라고 착각하게 되죠.\n",
    "\n",
    "이때 침흘리는 신경세포는 0.33의 학습률을 가지고 있다라고 한다면, \n",
    "\n",
    "종소리를 들어도 침을 흘리게끔 0.33의 학습률도 종소리 듣는 신경세포에서 침흘리는 신경세포망으로 망이 0.33만큼 강화되게 됩니다.\n",
    "\n",
    "이 과정이 두번 반복되면 0.66이 되고 3번 반복되면 1이 되게 됩니다.\n",
    "\n",
    "<img src = '7_9.png', width = 500>\n",
    "\n",
    "\n"
   ]
  },
  {
   "cell_type": "markdown",
   "metadata": {},
   "source": [
    "마지막으로는 닭고기가 없이 종소리만 들어도 침을 흘리게 됩니다.\n",
    "\n",
    "<img src = '7_10.png', width = 500>\n"
   ]
  },
  {
   "cell_type": "markdown",
   "metadata": {},
   "source": [
    "그럼 이 인공신경망을 수학적으로 표현해 보겠습니다.\n",
    "\n",
    "<img src = '7_11.png', width = 500>\n"
   ]
  },
  {
   "cell_type": "markdown",
   "metadata": {},
   "source": [
    "이 전 note 혹은, 입력값 x1, x2, x3 등이 있습니다.\n",
    "\n",
    "x1 입력값은 가중치 w1을 곱하여 다음 신경세포에 전달이 됩니다.\n",
    "\n",
    "각 입력값들은 다음 신경세포에서 다 더해 집니다.\n",
    "\n",
    "그 결과 값이 활성화 함수를 통과한 값이 다음 신경세포로 전달이 됩니다.\n",
    "\n",
    "다음 예제를 한 번 더 보겠습니다.\n",
    "\n",
    "<img src = '7_12.png', width = 500>\n"
   ]
  },
  {
   "cell_type": "markdown",
   "metadata": {},
   "source": [
    "초록색 버튼을 누를때만 1 닭고기가 나온다고 합시다.\n",
    "\n",
    "다만 처음 보는 상황이므로 초록색 신호가 닭고기가 나온다고 생각하는 뉴런은 아직 가중치가 0 입니다.\n",
    "\n",
    "이때 인공신경망을 코딩을 해보겠습니다."
   ]
  },
  {
   "cell_type": "markdown",
   "metadata": {},
   "source": [
    "입력값 [R, G, B] 라고 정의하고\n",
    "\n",
    "처음에 입력값 R,G,B의 가중치를 [0,0,0] 입니다.\n",
    "\n",
    "활성화 함수는 합이 1보다 크면 1이 나오고 작게되면 0이 나오는 함수를 쓰겠습니다.\n",
    "\n",
    "이는 챕터 4의 연습문제 4.4 처럼 생겼습니다. "
   ]
  },
  {
   "cell_type": "code",
   "execution_count": 1,
   "metadata": {},
   "outputs": [],
   "source": [
    "% matplotlib inline\n",
    "import numpy as np\n",
    "import matplotlib.pyplot as plt"
   ]
  },
  {
   "cell_type": "code",
   "execution_count": 2,
   "metadata": {},
   "outputs": [],
   "source": [
    "XR = 0\n",
    "XG = 0\n",
    "XB = 0\n",
    "\n",
    "WR = 0\n",
    "WG = 0\n",
    "WB = 0\n",
    "\n",
    "X = np.array([XR, XG, XB])\n",
    "W = np.array([WR, WG, WB])"
   ]
  },
  {
   "cell_type": "markdown",
   "metadata": {},
   "source": [
    "그럼 인풋 총합을 계산하는 함수를 만들어 보겠습니다.\n",
    "\n",
    "인풋 총합은 입력에 해당하는 X에 가중치 W가 곱해진 값들을 다 더한 것입니다."
   ]
  },
  {
   "cell_type": "code",
   "execution_count": 3,
   "metadata": {},
   "outputs": [
    {
     "data": {
      "text/plain": [
       "0"
      ]
     },
     "execution_count": 3,
     "metadata": {},
     "output_type": "execute_result"
    }
   ],
   "source": [
    "def input_total(X,W):\n",
    "    y = np.multiply(X,W)\n",
    "    return np.sum(y)\n",
    "\n",
    "y = input_total(X,W)\n",
    "y"
   ]
  },
  {
   "cell_type": "markdown",
   "metadata": {},
   "source": [
    "이 인풋총합 (y)을 활성화 함수에 넣어보겠습니다.\n",
    "\n",
    "활성화 함수는 아래처럼 생겼습니다."
   ]
  },
  {
   "cell_type": "markdown",
   "metadata": {},
   "source": [
    "#### 활성화 함수"
   ]
  },
  {
   "cell_type": "code",
   "execution_count": 4,
   "metadata": {},
   "outputs": [
    {
     "data": {
      "image/png": "[encoded data removed]",
      "text/plain": [
       "<Figure size 432x288 with 1 Axes>"
      ]
     },
     "metadata": {},
     "output_type": "display_data"
    }
   ],
   "source": [
    "xx = np.arange(-10,11)\n",
    "yy = np.zeros(len(xx))\n",
    "for i in range(len(xx)):\n",
    "    if xx[i] >= 1:\n",
    "        yy[i] = 1\n",
    "plt.plot(xx,yy)\n",
    "plt.grid()"
   ]
  },
  {
   "cell_type": "markdown",
   "metadata": {},
   "source": [
    "이를 코딩함수로 만들겠습니다."
   ]
  },
  {
   "cell_type": "code",
   "execution_count": 5,
   "metadata": {},
   "outputs": [],
   "source": [
    "def activation_func(y):\n",
    "    if y >= 1:\n",
    "        return 1\n",
    "    else:\n",
    "        return 0"
   ]
  },
  {
   "cell_type": "code",
   "execution_count": 6,
   "metadata": {},
   "outputs": [
    {
     "data": {
      "text/plain": [
       "0"
      ]
     },
     "execution_count": 6,
     "metadata": {},
     "output_type": "execute_result"
    }
   ],
   "source": [
    "activation_func(y)"
   ]
  },
  {
   "cell_type": "markdown",
   "metadata": {},
   "source": [
    "예상했듯이 Green 불이 켜지지 않았으므로 0이 나왔습니다.\n",
    "\n",
    "실제로 닭이 안나왔으므로, 실제결과 (t)는 0이고, 예상 결과 (y)는 0이므로\n",
    "\n",
    "이 둘 사이의 error = t - y는 0 입니다."
   ]
  },
  {
   "cell_type": "code",
   "execution_count": 7,
   "metadata": {},
   "outputs": [
    {
     "name": "stdout",
     "output_type": "stream",
     "text": [
      "expectation : 0\n",
      "error : 0\n"
     ]
    }
   ],
   "source": [
    "t = 0\n",
    "def error(y, t):\n",
    "    return t - y\n",
    "e = error(y, t)\n",
    "print('expectation : {}'.format(y))\n",
    "print('error : {}'.format(e))\n",
    "                                "
   ]
  },
  {
   "cell_type": "markdown",
   "metadata": {},
   "source": [
    "**다음으로는 R만 1일때 X = [1,0,0] 예상값을 구해보겠습니다.**"
   ]
  },
  {
   "cell_type": "code",
   "execution_count": 8,
   "metadata": {},
   "outputs": [
    {
     "name": "stdout",
     "output_type": "stream",
     "text": [
      "expectation : 0\n",
      "error : 0\n"
     ]
    }
   ],
   "source": [
    "t_R = 0\n",
    "X_R = np.array([1,0,0])\n",
    "Y_R = activation_func(input_total(X_R,W))\n",
    "e_R = error(Y_R, t_R)\n",
    "print('expectation : {}'.format(Y_R))\n",
    "print('error : {}'.format(e_R))"
   ]
  },
  {
   "cell_type": "markdown",
   "metadata": {},
   "source": [
    "이때 error는 실제 결과 (t_R = 0)과 예상값 (y_R = 0) 과의 차이입니다."
   ]
  },
  {
   "cell_type": "markdown",
   "metadata": {},
   "source": [
    "그리고 학습률을 0.01이라고 해봅시다.\n",
    "\n",
    "이 학습률에 error를 곱한 값을 learning이라 하겠습니다."
   ]
  },
  {
   "cell_type": "code",
   "execution_count": 9,
   "metadata": {},
   "outputs": [
    {
     "data": {
      "text/plain": [
       "0.0"
      ]
     },
     "execution_count": 9,
     "metadata": {},
     "output_type": "execute_result"
    }
   ],
   "source": [
    "learning_rate = 0.01\n",
    "learning = learning_rate*e_R\n",
    "learning"
   ]
  },
  {
   "cell_type": "markdown",
   "metadata": {},
   "source": [
    "이 learning값을 W에 더하겠습니다."
   ]
  },
  {
   "cell_type": "code",
   "execution_count": 10,
   "metadata": {},
   "outputs": [
    {
     "data": {
      "text/plain": [
       "array([0., 0., 0.])"
      ]
     },
     "execution_count": 10,
     "metadata": {},
     "output_type": "execute_result"
    }
   ],
   "source": [
    "W = W + learning * X_R\n",
    "W"
   ]
  },
  {
   "cell_type": "markdown",
   "metadata": {},
   "source": [
    "error가 없으므로, 가중치가 변하지 않습니다.\n",
    "\n",
    "즉 학습이 되지 않습니다."
   ]
  },
  {
   "cell_type": "markdown",
   "metadata": {},
   "source": [
    "**다음으로는 G만 1일때 X = [0,1,0] 예상값, error를 구해보겠습니다.**"
   ]
  },
  {
   "cell_type": "code",
   "execution_count": 11,
   "metadata": {},
   "outputs": [
    {
     "name": "stdout",
     "output_type": "stream",
     "text": [
      "expectation : 0\n",
      "error : 1\n"
     ]
    }
   ],
   "source": [
    "t_G = 1\n",
    "X_G = np.array([0,1,0])\n",
    "Y_G = activation_func(input_total(X_G,W))\n",
    "e_G = error(Y_G, t_G)\n",
    "print('expectation : {}'.format(Y_G))\n",
    "print('error : {}'.format(e_G))"
   ]
  },
  {
   "cell_type": "markdown",
   "metadata": {},
   "source": [
    "이때 error는 실제 결과 (t_G = 1)과 예상값 (y_G = 0) 과의 차이입니다.\n",
    "\n",
    "이 error에 학습률을 곱한값을 WG에 반영하겠습니다."
   ]
  },
  {
   "cell_type": "code",
   "execution_count": 12,
   "metadata": {},
   "outputs": [
    {
     "data": {
      "text/plain": [
       "array([0.  , 0.01, 0.  ])"
      ]
     },
     "execution_count": 12,
     "metadata": {},
     "output_type": "execute_result"
    }
   ],
   "source": [
    "learning = learning_rate * e_G\n",
    "W = W + learning * X_G\n",
    "W"
   ]
  },
  {
   "cell_type": "markdown",
   "metadata": {},
   "source": [
    "0.01만큼 학습이 된것을 확인하였습니다."
   ]
  },
  {
   "cell_type": "markdown",
   "metadata": {},
   "source": [
    "**다음으로는 B만 1일때 X = [0,0,1] 예상값, error를 구해보겠습니다.**"
   ]
  },
  {
   "cell_type": "code",
   "execution_count": 13,
   "metadata": {},
   "outputs": [
    {
     "name": "stdout",
     "output_type": "stream",
     "text": [
      "expectation : 0\n",
      "error : 0\n"
     ]
    }
   ],
   "source": [
    "t_B = 0\n",
    "X_B = np.array([0,0,1])\n",
    "Y_B = activation_func(input_total(X_B,W))\n",
    "e_B = error(Y_B, t_B)\n",
    "print('expectation : {}'.format(Y_B))\n",
    "print('error : {}'.format(e_B))"
   ]
  },
  {
   "cell_type": "code",
   "execution_count": 14,
   "metadata": {},
   "outputs": [
    {
     "data": {
      "text/plain": [
       "array([0.  , 0.01, 0.  ])"
      ]
     },
     "execution_count": 14,
     "metadata": {},
     "output_type": "execute_result"
    }
   ],
   "source": [
    "learning = learning_rate * e_B\n",
    "W = W + learning * X_B\n",
    "W"
   ]
  },
  {
   "cell_type": "markdown",
   "metadata": {},
   "source": [
    "역시 error는 0이 나왔으며, blue는 학습이 되지 않습니다."
   ]
  },
  {
   "cell_type": "markdown",
   "metadata": {},
   "source": [
    "자 그럼 이 과정을 랜덤하게 1000번 (n = 1000) 해보고 인공지능이 학습하는 것을 관찰해 보겠습니다.\n",
    "\n",
    "단 한번의 실험에는 R, G, B 중 한개의 불 만 켜지는 것으로 하겠습니다. "
   ]
  },
  {
   "cell_type": "markdown",
   "metadata": {},
   "source": [
    "random하게 켜지는 불을 코딩을 하면"
   ]
  },
  {
   "cell_type": "code",
   "execution_count": 15,
   "metadata": {},
   "outputs": [
    {
     "data": {
      "text/plain": [
       "2"
      ]
     },
     "execution_count": 15,
     "metadata": {},
     "output_type": "execute_result"
    }
   ],
   "source": [
    "light = np.random.randint(3)\n",
    "light"
   ]
  },
  {
   "cell_type": "markdown",
   "metadata": {},
   "source": [
    "light가\n",
    "\n",
    "0 이면 R, 이고 이떄 t = 0\n",
    "\n",
    "1 이면 G, 이고 이떄 t = 1\n",
    "\n",
    "2 이면 B, 이고 이떄 t = 2\n",
    "\n",
    "라고 정의하겠습니다."
   ]
  },
  {
   "cell_type": "code",
   "execution_count": 15,
   "metadata": {},
   "outputs": [
    {
     "name": "stdout",
     "output_type": "stream",
     "text": [
      "0번째 학습이며 이때 가중치 W는 [0. 0. 0.]\n",
      "50번째 학습이며 이때 가중치 W는 [0.  0.2 0. ]\n",
      "100번째 학습이며 이때 가중치 W는 [0.   0.36 0.  ]\n",
      "150번째 학습이며 이때 가중치 W는 [0.   0.48 0.  ]\n",
      "200번째 학습이며 이때 가중치 W는 [0.   0.61 0.  ]\n",
      "250번째 학습이며 이때 가중치 W는 [0.   0.76 0.  ]\n",
      "300번째 학습이며 이때 가중치 W는 [0.   0.92 0.  ]\n",
      "350번째 학습이며 이때 가중치 W는 [0. 1. 0.]\n",
      "400번째 학습이며 이때 가중치 W는 [0. 1. 0.]\n",
      "450번째 학습이며 이때 가중치 W는 [0. 1. 0.]\n",
      "500번째 학습이며 이때 가중치 W는 [0. 1. 0.]\n",
      "550번째 학습이며 이때 가중치 W는 [0. 1. 0.]\n",
      "600번째 학습이며 이때 가중치 W는 [0. 1. 0.]\n",
      "650번째 학습이며 이때 가중치 W는 [0. 1. 0.]\n",
      "700번째 학습이며 이때 가중치 W는 [0. 1. 0.]\n",
      "750번째 학습이며 이때 가중치 W는 [0. 1. 0.]\n",
      "800번째 학습이며 이때 가중치 W는 [0. 1. 0.]\n",
      "850번째 학습이며 이때 가중치 W는 [0. 1. 0.]\n",
      "900번째 학습이며 이때 가중치 W는 [0. 1. 0.]\n",
      "950번째 학습이며 이때 가중치 W는 [0. 1. 0.]\n"
     ]
    }
   ],
   "source": [
    "n = 1000\n",
    "W = np.array([0, 0, 0])\n",
    "learning_rate = 0.01\n",
    "for i in range(n):\n",
    "    light = np.random.randint(3)\n",
    "    if light == 0:\n",
    "        X = np.array([1, 0, 0])\n",
    "        t = 0\n",
    "    elif light == 1:\n",
    "        X = np.array([0, 1, 0])\n",
    "        t = 1\n",
    "    elif light == 2:\n",
    "        X = np.array([0, 0, 1])\n",
    "        t = 0\n",
    "    y = activation_func(input_total(X, W))\n",
    "    e = error(y, t)\n",
    "    learning = learning_rate * e\n",
    "    W = W + learning * X\n",
    "    \n",
    "    if i % 50 == 0:\n",
    "        print ('{}번째 학습이며 이때 가중치 W는 {}'.format(i, W))"
   ]
  },
  {
   "cell_type": "markdown",
   "metadata": {},
   "source": [
    "약 300에서 350번사이 가중치 W는 [0, 1, 0]으로 바뀌었으며 학습이 완료된 것을 볼 수 있습니다.\n",
    "\n",
    "다음으로는 불을 중복되게도 켜보고 안켜보기 해보겠습니다.\n",
    "\n",
    "결국 Green 빛이 들어오거나 다른 불도 Green 빛과 동시에 들어오면 학습이 되겠습니다.\n",
    "\n",
    "이때 켜지는 불은 아래와 같습니다."
   ]
  },
  {
   "cell_type": "code",
   "execution_count": 16,
   "metadata": {},
   "outputs": [],
   "source": [
    "light = np.random.randint(2, size = 3)\n",
    "X = light.copy()"
   ]
  },
  {
   "cell_type": "markdown",
   "metadata": {},
   "source": [
    "이 light를 그대로 X에 대입하면 됩니다."
   ]
  },
  {
   "cell_type": "code",
   "execution_count": 17,
   "metadata": {},
   "outputs": [
    {
     "name": "stdout",
     "output_type": "stream",
     "text": [
      "[0. 1. 0.]\n"
     ]
    }
   ],
   "source": [
    "X = np.random.randint(2, size = 3)\n",
    "if X[1] == 1:\n",
    "    t = 1\n",
    "y = activation_func(input_total(X, W))\n",
    "e = error(y, t)\n",
    "learning = learning_rate * e\n",
    "W = W + learning * X\n",
    "\n",
    "print (W)"
   ]
  },
  {
   "cell_type": "code",
   "execution_count": 18,
   "metadata": {
    "scrolled": false
   },
   "outputs": [
    {
     "name": "stdout",
     "output_type": "stream",
     "text": [
      "0번째 학습이며 이때 가중치 W는 [0. 0. 0.]\n",
      "10번째 학습이며 이때 가중치 W는 [0.2 0.3 0.1]\n",
      "20번째 학습이며 이때 가중치 W는 [0.25 0.55 0.2 ]\n",
      "30번째 학습이며 이때 가중치 W는 [0.35 0.75 0.2 ]\n",
      "40번째 학습이며 이때 가중치 W는 [0.35 0.85 0.2 ]\n",
      "50번째 학습이며 이때 가중치 W는 [0.35 0.9  0.2 ]\n",
      "60번째 학습이며 이때 가중치 W는 [0.35 0.95 0.2 ]\n",
      "70번째 학습이며 이때 가중치 W는 [0.35 1.   0.2 ]\n",
      "80번째 학습이며 이때 가중치 W는 [0.35 1.   0.2 ]\n",
      "90번째 학습이며 이때 가중치 W는 [0.35 1.   0.2 ]\n",
      "100번째 학습이며 이때 가중치 W는 [0.35 1.   0.2 ]\n",
      "110번째 학습이며 이때 가중치 W는 [0.35 1.   0.2 ]\n",
      "120번째 학습이며 이때 가중치 W는 [0.35 1.   0.2 ]\n",
      "130번째 학습이며 이때 가중치 W는 [0.35 1.   0.2 ]\n",
      "140번째 학습이며 이때 가중치 W는 [0.35 1.   0.2 ]\n",
      "150번째 학습이며 이때 가중치 W는 [0.35 1.   0.2 ]\n",
      "160번째 학습이며 이때 가중치 W는 [0.35 1.   0.2 ]\n",
      "170번째 학습이며 이때 가중치 W는 [0.35 1.   0.2 ]\n",
      "180번째 학습이며 이때 가중치 W는 [0.35 1.   0.2 ]\n",
      "190번째 학습이며 이때 가중치 W는 [0.35 1.   0.2 ]\n"
     ]
    }
   ],
   "source": [
    "n = 200\n",
    "W = np.array([0, 0, 0])\n",
    "learning_rate = 0.05\n",
    "\n",
    "for i in range(n):\n",
    "    t = 0\n",
    "    X = np.random.randint(2, size = 3)\n",
    "    if X[1] == 1:\n",
    "        t = 1\n",
    "    y = activation_func(input_total(X, W))\n",
    "    e = error(y, t)\n",
    "    learning = learning_rate * e\n",
    "    W = W + learning * X\n",
    "    \n",
    "    if i % 10 == 0:\n",
    "        print ('{}번째 학습이며 이때 가중치 W는 {}'.format(i, W))"
   ]
  },
  {
   "cell_type": "markdown",
   "metadata": {},
   "source": [
    "**위 예는 R, B 불빛이 G 없이 나오면 학습이 줄어들지 않게 만들어졌습니다.**\n",
    "\n",
    "**다음 예로는 R, B가 G없이 나오면 학습이 오히려 줄어들게 만들어 보겠습니다.**\n",
    "\n",
    "이를 위해 새로운 활성화 함수를 사용해보겠습니다."
   ]
  },
  {
   "cell_type": "markdown",
   "metadata": {},
   "source": [
    "**새로운 활성화 함수**"
   ]
  },
  {
   "cell_type": "code",
   "execution_count": 20,
   "metadata": {},
   "outputs": [
    {
     "data": {
      "image/png": "[encoded data removed]",
      "text/plain": [
       "<Figure size 432x288 with 1 Axes>"
      ]
     },
     "metadata": {},
     "output_type": "display_data"
    }
   ],
   "source": [
    "xx = np.arange(-10,11)\n",
    "yy = np.zeros(len(xx))\n",
    "for i in range(len(xx)):\n",
    "    if xx[i] >= 0:\n",
    "        yy[i] = xx[i]\n",
    "plt.plot(xx,yy)\n",
    "plt.grid()"
   ]
  },
  {
   "cell_type": "markdown",
   "metadata": {},
   "source": [
    "이러한 함수를 ReLU함수라 부르며를 코딩함수로 만들어 보겠습니다."
   ]
  },
  {
   "cell_type": "code",
   "execution_count": 21,
   "metadata": {},
   "outputs": [],
   "source": [
    "def ReLU(y):\n",
    "    if y > 0:\n",
    "        return y\n",
    "    else:\n",
    "        return 0"
   ]
  },
  {
   "cell_type": "markdown",
   "metadata": {},
   "source": [
    "또한 W값이 1이 넘어가면 1로 한정하겠습니다.\n",
    "\n",
    "이를 위해서 아래 문구를 추가하여 주면 됩니다."
   ]
  },
  {
   "cell_type": "code",
   "execution_count": 22,
   "metadata": {},
   "outputs": [],
   "source": [
    "for j in range(len(W)):\n",
    "    if W[j] > 1:\n",
    "        W[j] = 1"
   ]
  },
  {
   "cell_type": "markdown",
   "metadata": {},
   "source": [
    "그럼 위에서 했던 학습을 다시 진행해 보겠습니다."
   ]
  },
  {
   "cell_type": "code",
   "execution_count": 23,
   "metadata": {},
   "outputs": [
    {
     "name": "stdout",
     "output_type": "stream",
     "text": [
      "0번째 학습이며 이때 가중치 W는 [0.   0.05 0.05]\n",
      "50번째 학습이며 이때 가중치 W는 [0.02432883 0.57987968 0.19445687]\n",
      "100번째 학습이며 이때 가중치 W는 [0.0344023  0.84635076 0.16097397]\n",
      "150번째 학습이며 이때 가중치 W는 [0.03199363 0.89754416 0.087403  ]\n",
      "200번째 학습이며 이때 가중치 W는 [-2.19212819e-04  9.38225447e-01  3.36643330e-02]\n",
      "250번째 학습이며 이때 가중치 W는 [0.00233161 0.97341602 0.02152101]\n",
      "300번째 학습이며 이때 가중치 W는 [0.00213467 0.98870083 0.01020875]\n",
      "350번째 학습이며 이때 가중치 W는 [2.91707704e-04 9.94115560e-01 5.27600811e-03]\n"
     ]
    }
   ],
   "source": [
    "n = 400\n",
    "W = np.array([0, 0, 0])\n",
    "learning_rate = 0.05\n",
    "\n",
    "for i in range(n):\n",
    "    t = 0\n",
    "    X = np.random.randint(2, size = 3)\n",
    "    if X[1] == 1:\n",
    "        t = 1\n",
    "    y = ReLU(input_total(X, W))\n",
    "    e = error(y, t)\n",
    "    learning = learning_rate * e\n",
    "    W = W + learning * X\n",
    "    \n",
    "    for j in range(len(W)):\n",
    "        if W[j] > 1:\n",
    "            W[j] = 1\n",
    "    \n",
    "    if i % 50 == 0:\n",
    "        print ('{}번째 학습이며 이때 가중치 W는 {}'.format(i, W))"
   ]
  },
  {
   "cell_type": "markdown",
   "metadata": {},
   "source": [
    "WR, WB는 학습을 할수록 0에 가까워 지고\n",
    "\n",
    "WG는 학습을 할수록 1에 가까워 지는 것을 볼 수 있습니다.\n",
    "\n",
    "학습이 잘 되고 있죠?\n",
    "\n",
    "이를 학습 횟수에 따른 그래프로 그려보겠습니다.\n",
    "\n",
    "학습할때 마다 W를 W_save에 결과를 저장하겠습니다.\n",
    "\n",
    "(W_save.append(W)) 이용"
   ]
  },
  {
   "cell_type": "code",
   "execution_count": 24,
   "metadata": {},
   "outputs": [
    {
     "name": "stdout",
     "output_type": "stream",
     "text": [
      "0번째 학습이며 이때 가중치 W는 [0. 0. 0.]\n",
      "50번째 학습이며 이때 가중치 W는 [0.13654458 0.67705186 0.1473627 ]\n",
      "100번째 학습이며 이때 가중치 W는 [0.05311435 0.80437606 0.09207528]\n",
      "150번째 학습이며 이때 가중치 W는 [0.05083906 0.91916274 0.04369482]\n",
      "200번째 학습이며 이때 가중치 W는 [0.02519519 0.95775546 0.02479417]\n",
      "250번째 학습이며 이때 가중치 W는 [0.01041945 0.97560117 0.01195636]\n",
      "300번째 학습이며 이때 가중치 W는 [0.00744984 0.98721881 0.0087959 ]\n",
      "350번째 학습이며 이때 가중치 W는 [0.00335407 0.99290791 0.0036806 ]\n"
     ]
    }
   ],
   "source": [
    "n = 400\n",
    "W = np.array([0, 0, 0])\n",
    "learning_rate = 0.05\n",
    "\n",
    "WR_save = []\n",
    "WG_save = []\n",
    "WB_save = []\n",
    "for i in range(n):\n",
    "    t = 0\n",
    "    X = np.random.randint(2, size = 3)\n",
    "    if X[1] == 1:\n",
    "        t = 1\n",
    "    y = ReLU(input_total(X, W))\n",
    "    e = error(y, t)\n",
    "    learning = learning_rate * e\n",
    "    W = W + learning * X\n",
    "    \n",
    "    for j in range(len(W)):\n",
    "        if W[j] > 1:\n",
    "            W[j] = 1\n",
    "    WR_save.append(W[0])\n",
    "    WG_save.append(W[1])\n",
    "    WB_save.append(W[2])\n",
    "    if i % 50 == 0:\n",
    "        print ('{}번째 학습이며 이때 가중치 W는 {}'.format(i, W))"
   ]
  },
  {
   "cell_type": "code",
   "execution_count": 25,
   "metadata": {},
   "outputs": [
    {
     "data": {
      "text/plain": [
       "Text(0,0.5,'Accuracy')"
      ]
     },
     "execution_count": 25,
     "metadata": {},
     "output_type": "execute_result"
    },
    {
     "data": {
      "image/png": "[encoded data removed]",
      "text/plain": [
       "<Figure size 432x288 with 1 Axes>"
      ]
     },
     "metadata": {},
     "output_type": "display_data"
    }
   ],
   "source": [
    "plt.plot(range(n), WR_save, 'r', label = 'Red learning')\n",
    "plt.plot(range(n), WG_save, 'g', label = 'Green learning')\n",
    "plt.plot(range(n), WB_save, 'b', label = 'Blue learning')\n",
    "plt.legend(fontsize = 15)\n",
    "plt.grid()\n",
    "plt.xticks(fontsize = 15)\n",
    "plt.yticks(fontsize = 15)\n",
    "plt.xlabel('number of learning', fontsize = 15)\n",
    "plt.ylabel('Accuracy', fontsize = 15)"
   ]
  },
  {
   "cell_type": "markdown",
   "metadata": {},
   "source": [
    "자 Green만 학습이 잘 되는 것을 볼 수 있죠?\n",
    "\n",
    "300번만 해도 이렇게 정확해 지는데\n",
    "\n",
    "구글의 음성인식이나 사진 속 사람 인식은 몇 백만건, 몇 억건 이상의 data를 가지니 얼마나 정확할까요?\n",
    "\n",
    "또한 알파고가 수십만건의 data로 학습하니 얼마나 정확하게 바둑을 둘 수 있을까요?\n",
    "\n",
    "이번 챕터는 deep learning이 인공신경망 기술에 대해 알아보았습니다.\n",
    "\n",
    "물론 쉽게 설명하기 위해서 지나친 많은 수학적 함의들이 있습니다.\n",
    "\n",
    "np.multiply(X, W)로 입력값과 가중치를 더한 값을 만들었습니다.\n",
    "\n",
    "하지만 이 신호들을 모으는 신경세포가 1개 이상이면 연립방정식의 확장판인 선형대수에 대한 공부가 필요합니다. \n",
    "\n",
    "이는 고등학교 수학에 나옵니다.\n",
    "\n",
    "또한 위의 예제에서 가장 간단한 error함수 (t-y)를 사용하였습니다.\n",
    "\n",
    "하지만 실제 error함수는 더 복잡한 이차함수 \n",
    "\n",
    "$error = \\frac{1}{2}\\Sigma_k(y_k - t_k)^2$\n",
    "\n",
    "혹은 고등학교에서 배울 log 함수를 사용합니다. \n",
    "\n",
    "$error = -\\Sigma_k(t_k log y_k)$\n",
    "\n",
    "활성화 함수도 위에서 배운, step function과 ReLU외에 고등학교 수학에 배우는 지수를 이용한 함수를 사용하기도 합니다.\n",
    "\n",
    "가장 중요한 것은\n",
    "\n",
    "우리는 학습을 통해 가중치의 변화를 간단하게 덧셈을 통해 배웠습니다.\n",
    "\n",
    "learning = learning_rate * e\n",
    "\n",
    "W = W + learning * X\n",
    "\n",
    "하지만 실제 인공신경망에서는 덧셈이 아니라\n",
    "\n",
    "고등학교 수학에 배우는 미분 혹은 편미분을 이용하여 가중치를 변화시킵니다.\n",
    "\n",
    "아주 어렵게 느껴지지만, 다른말로 하면 고등학교 수학만 배우면 deep learning은 어느정도 완성시킬 수 있다는 말이 되겠죠?\n",
    "\n",
    "지금까지 중학교 수학과 이에 대한 코드만으로 deep learning을 배워보았습니다."
   ]
  }
 ],
 "metadata": {
  "kernelspec": {
   "display_name": "Python 3",
   "language": "python",
   "name": "python3"
  },
  "language_info": {
   "codemirror_mode": {
    "name": "ipython",
    "version": 3
   },
   "file_extension": ".py",
   "mimetype": "text/x-python",
   "name": "python",
   "nbconvert_exporter": "python",
   "pygments_lexer": "ipython3",
   "version": "3.7.1"
  }
 },
 "nbformat": 4,
 "nbformat_minor": 2
}
