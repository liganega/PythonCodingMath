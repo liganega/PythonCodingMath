{
 "cells": [
  {
   "cell_type": "markdown",
   "metadata": {},
   "source": [
    "# 이차 방정식 및 이차 함수"
   ]
  },
  {
   "cell_type": "code",
   "execution_count": 1,
   "metadata": {},
   "outputs": [],
   "source": [
    "%matplotlib inline\n",
    "from __future__ import division\n",
    "import numpy as np\n",
    "import matplotlib.pyplot as plt\n",
    "from fractions import Fraction"
   ]
  },
  {
   "cell_type": "markdown",
   "metadata": {},
   "source": [
    "# 코딩익히기\n",
    "\n",
    "## 고차방정식 해 구하기 : numpy의 roots"
   ]
  },
  {
   "cell_type": "code",
   "execution_count": 2,
   "metadata": {},
   "outputs": [
    {
     "data": {
      "text/plain": [
       "array([ 3.])"
      ]
     },
     "execution_count": 2,
     "metadata": {},
     "output_type": "execute_result"
    }
   ],
   "source": [
    "np.roots([1,-3])"
   ]
  },
  {
   "cell_type": "code",
   "execution_count": 3,
   "metadata": {},
   "outputs": [
    {
     "data": {
      "text/plain": [
       "array([ 1.4])"
      ]
     },
     "execution_count": 3,
     "metadata": {},
     "output_type": "execute_result"
    }
   ],
   "source": [
    "np.roots([5,-7])"
   ]
  },
  {
   "cell_type": "code",
   "execution_count": 4,
   "metadata": {},
   "outputs": [
    {
     "data": {
      "text/plain": [
       "array([ 1.        , -0.66666667])"
      ]
     },
     "execution_count": 4,
     "metadata": {},
     "output_type": "execute_result"
    }
   ],
   "source": [
    "np.roots([3,-1,-2])"
   ]
  },
  {
   "cell_type": "code",
   "execution_count": 5,
   "metadata": {},
   "outputs": [
    {
     "data": {
      "text/plain": [
       "array([-4., -2.])"
      ]
     },
     "execution_count": 5,
     "metadata": {},
     "output_type": "execute_result"
    }
   ],
   "source": [
    "np.roots([1,6,8])"
   ]
  },
  {
   "cell_type": "markdown",
   "metadata": {},
   "source": [
    "## class"
   ]
  },
  {
   "cell_type": "code",
   "execution_count": 9,
   "metadata": {
    "collapsed": true
   },
   "outputs": [],
   "source": [
    "class StudentRecord:\n",
    "    def __init__(self, name, email, phone):\n",
    "        self.name = name\n",
    "        self.email = email\n",
    "        self.phone = phone\n",
    "        temp = 0"
   ]
  },
  {
   "cell_type": "code",
   "execution_count": 10,
   "metadata": {},
   "outputs": [
    {
     "ename": "TypeError",
     "evalue": "__init__() missing 3 required positional arguments: 'name', 'email', and 'phone'",
     "output_type": "error",
     "traceback": [
      "\u001b[0;31m---------------------------------------------------------------------------\u001b[0m",
      "\u001b[0;31mTypeError\u001b[0m                                 Traceback (most recent call last)",
      "\u001b[0;32m<ipython-input-10-71a3b804c4c6>\u001b[0m in \u001b[0;36m<module>\u001b[0;34m()\u001b[0m\n\u001b[0;32m----> 1\u001b[0;31m \u001b[0ma\u001b[0m \u001b[0;34m=\u001b[0m \u001b[0mStudentRecord\u001b[0m\u001b[0;34m(\u001b[0m\u001b[0;34m)\u001b[0m\u001b[0;34m\u001b[0m\u001b[0m\n\u001b[0m",
      "\u001b[0;31mTypeError\u001b[0m: __init__() missing 3 required positional arguments: 'name', 'email', and 'phone'"
     ]
    }
   ],
   "source": [
    "a = StudentRecord()"
   ]
  },
  {
   "cell_type": "code",
   "execution_count": 11,
   "metadata": {
    "collapsed": true
   },
   "outputs": [],
   "source": [
    "student1 = StudentRecord('김똑똑', 'abc@gmail.com', '01011112222')\n",
    "student2 = StudentRecord('박한별', 'efg@gmail.com', '01011113333')"
   ]
  },
  {
   "cell_type": "code",
   "execution_count": 12,
   "metadata": {},
   "outputs": [
    {
     "data": {
      "text/plain": [
       "'김똑똑'"
      ]
     },
     "execution_count": 12,
     "metadata": {},
     "output_type": "execute_result"
    }
   ],
   "source": [
    "student1.name"
   ]
  },
  {
   "cell_type": "code",
   "execution_count": 13,
   "metadata": {},
   "outputs": [
    {
     "ename": "AttributeError",
     "evalue": "'StudentRecord' object has no attribute 'temp'",
     "output_type": "error",
     "traceback": [
      "\u001b[0;31m---------------------------------------------------------------------------\u001b[0m",
      "\u001b[0;31mAttributeError\u001b[0m                            Traceback (most recent call last)",
      "\u001b[0;32m<ipython-input-13-fad9e0ee5c93>\u001b[0m in \u001b[0;36m<module>\u001b[0;34m()\u001b[0m\n\u001b[0;32m----> 1\u001b[0;31m \u001b[0mstudent1\u001b[0m\u001b[0;34m.\u001b[0m\u001b[0mtemp\u001b[0m\u001b[0;34m\u001b[0m\u001b[0m\n\u001b[0m",
      "\u001b[0;31mAttributeError\u001b[0m: 'StudentRecord' object has no attribute 'temp'"
     ]
    }
   ],
   "source": [
    "student1.temp"
   ]
  },
  {
   "cell_type": "code",
   "execution_count": 15,
   "metadata": {
    "collapsed": true
   },
   "outputs": [],
   "source": [
    "class StudentRecord:\n",
    "    def __init__(self, name, email, phone):\n",
    "        self.name = name\n",
    "        self.email = email\n",
    "        self.phone = phone\n",
    "    def math(self, score):\n",
    "        self.math_score = score\n",
    "    def english(self, score):\n",
    "        self.english_score = score\n",
    "    def show(self):\n",
    "        print ('{}의 수학 성적은 {}, 영어 성적은 {}이다.'.format(self.name, self.math_score, self.english_score))\n",
    "    def grade_both(self):\n",
    "        if np.average([self.math_score, self.english_score]) >= 90:\n",
    "            self.grade = 'A'\n",
    "        elif np.average([self.math_score, self.english_score]) >= 80:\n",
    "            self.grade = 'B'\n",
    "        else:\n",
    "            self.grade = 'C'\n",
    "        return self.grade\n",
    "    "
   ]
  },
  {
   "cell_type": "code",
   "execution_count": 16,
   "metadata": {},
   "outputs": [
    {
     "name": "stdout",
     "output_type": "stream",
     "text": [
      "김똑똑의 수학 성적은 70, 영어 성적은 85이다.\n",
      "박한별의 수학 성적은 90, 영어 성적은 80이다.\n"
     ]
    }
   ],
   "source": [
    "student1 = StudentRecord('김똑똑', 'abc@gmail.com', '01011112222')\n",
    "student2 = StudentRecord('박한별', 'efg@gmail.com', '01011113333')\n",
    "student1.math(70)\n",
    "student1.english(85)\n",
    "student2.math(90)\n",
    "student2.english(80)\n",
    "student1.show()\n",
    "student2.show()"
   ]
  },
  {
   "cell_type": "code",
   "execution_count": 17,
   "metadata": {},
   "outputs": [
    {
     "name": "stdout",
     "output_type": "stream",
     "text": [
      "김똑똑의 최종 성적은 C\n",
      "박한별의 최종 성적은 B\n"
     ]
    }
   ],
   "source": [
    "print ('{}의 최종 성적은 {}'.format(student1.name, student1.grade_both()))\n",
    "print ('{}의 최종 성적은 {}'.format(student2.name, student2.grade_both()))"
   ]
  },
  {
   "cell_type": "markdown",
   "metadata": {},
   "source": [
    "# 이차방정식\n",
    "\n",
    "## 1. 하나씩 대입해서 풀기"
   ]
  },
  {
   "cell_type": "code",
   "execution_count": 19,
   "metadata": {},
   "outputs": [
    {
     "data": {
      "image/png": "[encoded data removed]",
      "text/plain": [
       "<matplotlib.figure.Figure at 0x119911710>"
      ]
     },
     "metadata": {},
     "output_type": "display_data"
    }
   ],
   "source": [
    "x = np.arange(-2, 8)\n",
    "y = 5*x - x**2\n",
    "plt.plot(x,y)\n",
    "plt.grid()"
   ]
  },
  {
   "cell_type": "code",
   "execution_count": 21,
   "metadata": {},
   "outputs": [
    {
     "name": "stdout",
     "output_type": "stream",
     "text": [
      "(-2, -14)\n",
      "(-1, -6)\n",
      "(0, 0)\n",
      "(1, 4)\n",
      "(2, 6)\n",
      "(3, 6)\n",
      "(4, 4)\n",
      "(5, 0)\n",
      "(6, -6)\n",
      "(7, -14)\n"
     ]
    }
   ],
   "source": [
    "for i in x:\n",
    "    print ((i, 5*i-i**2))"
   ]
  },
  {
   "cell_type": "markdown",
   "metadata": {},
   "source": [
    "### 예제\n",
    "\n",
    "x가 집합 {-2, -1, 0, 1, 2}의 원소일 때, 이차방정식 $x^2 + x = 0$의 해를 구하시오."
   ]
  },
  {
   "cell_type": "code",
   "execution_count": 23,
   "metadata": {},
   "outputs": [
    {
     "name": "stdout",
     "output_type": "stream",
     "text": [
      "-2\n",
      "1\n"
     ]
    }
   ],
   "source": [
    "x = np.arange(-2,3,1)\n",
    "\n",
    "for i in x:\n",
    "    if i**2 + i -2 == 0:\n",
    "        print (i)"
   ]
  },
  {
   "cell_type": "markdown",
   "metadata": {},
   "source": [
    "### 예제\n",
    "\n",
    "$ x^2 -3x -7 = 0$"
   ]
  },
  {
   "cell_type": "code",
   "execution_count": 25,
   "metadata": {},
   "outputs": [
    {
     "name": "stdout",
     "output_type": "stream",
     "text": [
      "x = -5, y = 33\n",
      "x = -4, y = 21\n",
      "x = -3, y = 11\n",
      "x = -2, y = 3\n",
      "x = -1, y = -3\n",
      "x = 0, y = -7\n",
      "x = 1, y = -9\n",
      "x = 2, y = -9\n",
      "x = 3, y = -7\n",
      "x = 4, y = -3\n",
      "x = 5, y = 3\n"
     ]
    },
    {
     "data": {
      "image/png": "[encoded data removed]",
      "text/plain": [
       "<matplotlib.figure.Figure at 0x119a325c0>"
      ]
     },
     "metadata": {},
     "output_type": "display_data"
    }
   ],
   "source": [
    "x = np.arange(-5,6,1)\n",
    "y = x**2 - 3*x - 7\n",
    "for i in x:\n",
    "    print ('x = {}, y = {}'.format(i, i**2 - 3*i - 7))\n",
    "plt.plot(x, y)\n",
    "plt.grid()"
   ]
  },
  {
   "cell_type": "code",
   "execution_count": 26,
   "metadata": {},
   "outputs": [
    {
     "data": {
      "image/png": "[encoded data removed]",
      "text/plain": [
       "<matplotlib.figure.Figure at 0x119b75828>"
      ]
     },
     "metadata": {},
     "output_type": "display_data"
    },
    {
     "data": {
      "image/png": "[encoded data removed]",
      "text/plain": [
       "<matplotlib.figure.Figure at 0x119b759b0>"
      ]
     },
     "metadata": {},
     "output_type": "display_data"
    }
   ],
   "source": [
    "x = np.arange(-1.6,-1.5,0.01)\n",
    "y = x**2 - 3*x - 7\n",
    "#for i in x:\n",
    "#    print ('x = {}, y = {}'.format(i, i**2 - 3*i - 7))\n",
    "plt.plot(x, y)\n",
    "plt.grid()\n",
    "\n",
    "plt.figure()\n",
    "x = np.arange(4.4,4.7,0.01)\n",
    "y = x**2 - 3*x - 7\n",
    "#for i in x:\n",
    "#    print ('x = {}, y = {}'.format(i, i**2 - 3*i - 7))\n",
    "plt.plot(x, y)\n",
    "plt.grid()"
   ]
  },
  {
   "cell_type": "markdown",
   "metadata": {},
   "source": [
    "### 이차방정식 문제생성기"
   ]
  },
  {
   "cell_type": "code",
   "execution_count": 27,
   "metadata": {
    "collapsed": true
   },
   "outputs": [],
   "source": [
    "class Second_order_eq:\n",
    "    def __init__(self):\n",
    "        print ('x = {-5 부터 5까지의 정수} 다음을 이차방정식의 문제를 푸시오.')\n",
    "    def question(self):\n",
    "        self.c, self.d = np.random.randint(low = -5, high = 5, size = 2)\n",
    "        self.a = self.c + self.d\n",
    "        self.b = self.c * self.d\n",
    "        print ('x^2 + {}x + {} = 0'.format(self.a, self.b))\n",
    "        \n",
    "    def answer(self):\n",
    "        print ('x = {}, {}'.format(-self.c, -self.d))"
   ]
  },
  {
   "cell_type": "code",
   "execution_count": 34,
   "metadata": {},
   "outputs": [
    {
     "name": "stdout",
     "output_type": "stream",
     "text": [
      "x = {-5 부터 5까지의 정수} 다음을 이차방정식의 문제를 푸시오.\n",
      "x^2 + -4x + -5 = 0\n"
     ]
    }
   ],
   "source": [
    "a = Second_order_eq()\n",
    "a.question()"
   ]
  },
  {
   "cell_type": "code",
   "execution_count": 35,
   "metadata": {},
   "outputs": [
    {
     "name": "stdout",
     "output_type": "stream",
     "text": [
      "x = -1, 5\n"
     ]
    }
   ],
   "source": [
    "a.answer()"
   ]
  },
  {
   "cell_type": "markdown",
   "metadata": {},
   "source": [
    "## 2. 인수분해해서 풀기"
   ]
  },
  {
   "cell_type": "code",
   "execution_count": 36,
   "metadata": {
    "collapsed": true
   },
   "outputs": [],
   "source": [
    "def factorization(a):\n",
    "    b = range(1, a)\n",
    "    c = []\n",
    "    for i in b:\n",
    "        if a % i ==0:\n",
    "            c.append(i)\n",
    "    c.append(a)\n",
    "    return c"
   ]
  },
  {
   "cell_type": "code",
   "execution_count": 38,
   "metadata": {},
   "outputs": [
    {
     "name": "stdout",
     "output_type": "stream",
     "text": [
      "[1, 2, 3, 6]\n",
      "[1, 3, 7, 21]\n"
     ]
    }
   ],
   "source": [
    "a_factor = factorization(6)\n",
    "c_factor = factorization(21)\n",
    "\n",
    "print (a_factor)\n",
    "print (c_factor)"
   ]
  },
  {
   "cell_type": "code",
   "execution_count": 40,
   "metadata": {},
   "outputs": [
    {
     "name": "stdout",
     "output_type": "stream",
     "text": [
      "[1, 2, 3, 6, -1, -2, -3, -6]\n",
      "[1, 3, 7, 21, -1, -3, -7, -21]\n"
     ]
    }
   ],
   "source": [
    "a_minus = list(map(lambda x: x*-1, a_factor))\n",
    "c_minus = list(map(lambda x: x*-1, c_factor))\n",
    "a_factor += a_minus\n",
    "c_factor += c_minus\n",
    "\n",
    "print (a_factor)\n",
    "print (c_factor)"
   ]
  },
  {
   "cell_type": "code",
   "execution_count": 41,
   "metadata": {},
   "outputs": [
    {
     "name": "stdout",
     "output_type": "stream",
     "text": [
      "6x^2 + 23x + 21 = (2x + 3)(3.0x + 7.0)\n",
      "6x^2 + 23x + 21 = (3x + 7)(2.0x + 3.0)\n"
     ]
    }
   ],
   "source": [
    "for d in a_factor:\n",
    "    for e in c_factor:\n",
    "        f = 6/d\n",
    "        g = 21/e\n",
    "        if d*g + e*f == 23:\n",
    "            if d > 0 or e > 0:\n",
    "                print ('6x^2 + 23x + 21 = ({}x + {})({}x + {})'.format(d,e,f,g))\n",
    "                break"
   ]
  },
  {
   "cell_type": "markdown",
   "metadata": {},
   "source": [
    "### 예제\n",
    "\n",
    "이차방정식 $x^2 + 12x + 32= 0$의 해를 구하시오."
   ]
  },
  {
   "cell_type": "code",
   "execution_count": 43,
   "metadata": {},
   "outputs": [
    {
     "name": "stdout",
     "output_type": "stream",
     "text": [
      "[1]\n",
      "[1, 2, 4, 8, 16, 32]\n"
     ]
    }
   ],
   "source": [
    "a_factor = factorization(1)\n",
    "c_factor = factorization(32)\n",
    "\n",
    "print (a_factor)\n",
    "print (c_factor)"
   ]
  },
  {
   "cell_type": "code",
   "execution_count": 44,
   "metadata": {},
   "outputs": [
    {
     "name": "stdout",
     "output_type": "stream",
     "text": [
      "[1, -1]\n",
      "[1, 2, 4, 8, 16, 32, -1, -2, -4, -8, -16, -32]\n"
     ]
    }
   ],
   "source": [
    "a_minus = list(map(lambda x: x*-1, a_factor))\n",
    "c_minus = list(map(lambda x: x*-1, c_factor))\n",
    "a_factor += a_minus\n",
    "c_factor += c_minus\n",
    "\n",
    "print (a_factor)\n",
    "print (c_factor)"
   ]
  },
  {
   "cell_type": "code",
   "execution_count": 48,
   "metadata": {},
   "outputs": [
    {
     "name": "stdout",
     "output_type": "stream",
     "text": [
      "x^2 + 12x + 32 = (1x + 4)(1.0x + 8.0)\n"
     ]
    }
   ],
   "source": [
    "for d in a_factor:\n",
    "    for e in c_factor:\n",
    "        f = 1/d\n",
    "        g = 32/e\n",
    "        if d*g + e*f == 12:\n",
    "            if d > 0 or e > 0:\n",
    "                print ('x^2 + 12x + 32 = ({}x + {})({}x + {})'.format(d,e,f,g))\n",
    "                break"
   ]
  },
  {
   "cell_type": "code",
   "execution_count": 51,
   "metadata": {
    "collapsed": true
   },
   "outputs": [],
   "source": [
    "def decomposition(a,b,c):\n",
    "    if c == 0:\n",
    "        print ('x({}x+{})'.format(a, b))\n",
    "    else:\n",
    "        a_factor = factorization(a)\n",
    "        c_factor = factorization(c)\n",
    "        a_minus = list(map(lambda x: x*-1, a_factor))\n",
    "        c_minus = list(map(lambda x: x*-1, c_factor))\n",
    "        a_factor += a_minus\n",
    "        c_factor += c_minus\n",
    "        for d in a_factor:\n",
    "            for e in c_factor:\n",
    "                f = a/d\n",
    "                g = c/e\n",
    "                if d*g + e*f == b:\n",
    "                    if d > 0 or e > 0:\n",
    "                        print ('{}x^2 + {}x + {} = ({}x +{})({}x+{})'.format(a,b,c,d,e,f,g))\n",
    "                        break\n",
    "    #return i, j, ii, jj"
   ]
  },
  {
   "cell_type": "code",
   "execution_count": 52,
   "metadata": {},
   "outputs": [
    {
     "name": "stdout",
     "output_type": "stream",
     "text": [
      "1x^2 + 4x + 3 = (1x +1)(1.0x+3.0)\n"
     ]
    }
   ],
   "source": [
    "decomposition(1,4,3)"
   ]
  },
  {
   "cell_type": "code",
   "execution_count": 53,
   "metadata": {},
   "outputs": [
    {
     "name": "stdout",
     "output_type": "stream",
     "text": [
      "1x^2 + -3x + 2 = (1x +-1)(1.0x+-2.0)\n",
      "1x^2 + -3x + 2 = (-1x +1)(-1.0x+2.0)\n"
     ]
    }
   ],
   "source": [
    "decomposition(1,-3,2)"
   ]
  },
  {
   "cell_type": "code",
   "execution_count": 54,
   "metadata": {},
   "outputs": [
    {
     "name": "stdout",
     "output_type": "stream",
     "text": [
      "x(3x+-3)\n"
     ]
    }
   ],
   "source": [
    "decomposition(3,-3,0)"
   ]
  },
  {
   "cell_type": "code",
   "execution_count": 55,
   "metadata": {},
   "outputs": [
    {
     "name": "stdout",
     "output_type": "stream",
     "text": [
      "1x^2 + 0x + -1 = (1x +-1)(1.0x+1.0)\n",
      "1x^2 + 0x + -1 = (-1x +1)(-1.0x+-1.0)\n"
     ]
    }
   ],
   "source": [
    "decomposition(1,0,-1)"
   ]
  },
  {
   "cell_type": "markdown",
   "metadata": {},
   "source": [
    "## 3. 완전제곱식을 이용한 이차방정식의 풀이"
   ]
  },
  {
   "cell_type": "code",
   "execution_count": 60,
   "metadata": {
    "collapsed": true
   },
   "outputs": [],
   "source": [
    "def second_order_direct(a,b,c):\n",
    "    if b**2 - 4*a*c < 0:\n",
    "        print ('No answer')\n",
    "    else:\n",
    "        x1 = (-b + np.sqrt(b**2 - 4*a*c)) / (2*a)\n",
    "        x2 = (-b - np.sqrt(b**2 - 4*a*c)) / (2*a)\n",
    "    return x1, x2"
   ]
  },
  {
   "cell_type": "code",
   "execution_count": 62,
   "metadata": {},
   "outputs": [
    {
     "data": {
      "text/plain": [
       "(1.0, 1.0)"
      ]
     },
     "execution_count": 62,
     "metadata": {},
     "output_type": "execute_result"
    }
   ],
   "source": [
    "second_order_direct(1,-2,1)"
   ]
  },
  {
   "cell_type": "code",
   "execution_count": 63,
   "metadata": {},
   "outputs": [
    {
     "data": {
      "text/plain": [
       "(1.0, 0.0)"
      ]
     },
     "execution_count": 63,
     "metadata": {},
     "output_type": "execute_result"
    }
   ],
   "source": [
    "second_order_direct(3,-3,0)"
   ]
  },
  {
   "cell_type": "code",
   "execution_count": 64,
   "metadata": {},
   "outputs": [
    {
     "data": {
      "text/plain": [
       "(1.0, -1.0)"
      ]
     },
     "execution_count": 64,
     "metadata": {},
     "output_type": "execute_result"
    }
   ],
   "source": [
    "second_order_direct(4,0,-4)"
   ]
  },
  {
   "cell_type": "code",
   "execution_count": 2,
   "metadata": {},
   "outputs": [],
   "source": [
    "class Second_order:\n",
    "    def __init__(self):\n",
    "        print ('완전 제곱식을 이용하여 다음 이차방정식을 푸시오.')\n",
    "    def question(self):\n",
    "        self.d = 0\n",
    "        self.f = 0\n",
    "        while self.d == 0 or self.f == 0:\n",
    "            self.d, self.e, self.f, self.g = np.random.randint(-5, 6, size = 4)\n",
    "        self.a = self.d * self.f\n",
    "        self.b = self.e * self.f + self.d * self.g\n",
    "        self.c = self.e * self.g\n",
    "        print ('{}x^2 + {}x + {} = 0'.format(self.a, self.b, self.c))\n",
    "        \n",
    "    def answer(self):\n",
    "        if self.b**2 - 4*self.a*self.c < 0:\n",
    "            print ('No answer')\n",
    "        else:\n",
    "            x1 = (-self.b + np.sqrt(self.b**2 - 4*self.a*self.c)) / (2*self.a)\n",
    "            x2 = (-self.b - np.sqrt(self.b**2 - 4*self.a*self.c)) / (2*self.a)\n",
    "        return x1, x2"
   ]
  },
  {
   "cell_type": "code",
   "execution_count": 3,
   "metadata": {},
   "outputs": [
    {
     "name": "stdout",
     "output_type": "stream",
     "text": [
      "완전 제곱식을 이용하여 다음 이차방정식을 푸시오.\n",
      "-9x^2 + 3x + 20 = 0\n"
     ]
    }
   ],
   "source": [
    "a = Second_order()\n",
    "a.question()"
   ]
  },
  {
   "cell_type": "code",
   "execution_count": 20,
   "metadata": {},
   "outputs": [
    {
     "data": {
      "image/png": "[encoded data removed]",
      "text/plain": [
       "<matplotlib.figure.Figure at 0x113d64860>"
      ]
     },
     "metadata": {},
     "output_type": "display_data"
    }
   ],
   "source": [
    "a.answer()"
   ]
  },
  {
   "cell_type": "markdown",
   "metadata": {},
   "source": [
    "#### Question 6.1\n",
    "\n",
    "이차방정식 $3x^2 + 4x - 3k + 2 = 0$이 근을 갖지 않을 때,  상수 k의 값의 범위는? "
   ]
  },
  {
   "cell_type": "markdown",
   "metadata": {},
   "source": [
    "해답) \n",
    "\n",
    "$b^2 -4ac$을 계산하면\n",
    "\n",
    "$4^2 - 4*3*(-3k+2) < 0$\n",
    "\n",
    "$16 +36k - 24 < 0$\n",
    "\n",
    "$36k - 8 < 0$\n",
    "\n",
    "$k < \\frac{2}{9} $"
   ]
  },
  {
   "cell_type": "markdown",
   "metadata": {},
   "source": [
    "#### Question 6.2\n",
    "\n",
    "이차방정식 $x^2 + 14x - 12a = 0$의 두 근의 비가 3:4 일때, a는?"
   ]
  },
  {
   "cell_type": "markdown",
   "metadata": {},
   "source": [
    "해답)\n",
    "\n",
    "두 근일 3b, 4b라 하면\n",
    "\n",
    "$12b^2 = -12a$\n",
    "\n",
    "$7b = 14$\n",
    "\n",
    "b = 2\n",
    "\n",
    "따라서 두 근은 6, 8이며 a는 -4"
   ]
  },
  {
   "cell_type": "markdown",
   "metadata": {},
   "source": [
    "#### Question 6.3\n",
    "\n",
    "자연수 1부터 n까지의 합은 $\\frac{n(n+1)}{2}$이다. 1부터 n까지의 합이 78일 때, 의 값은?   "
   ]
  },
  {
   "cell_type": "markdown",
   "metadata": {},
   "source": [
    "해답)\n",
    "\n",
    "$n^2 + n = 156$"
   ]
  },
  {
   "cell_type": "code",
   "execution_count": 23,
   "metadata": {},
   "outputs": [
    {
     "data": {
      "text/plain": [
       "array([-13.,  12.])"
      ]
     },
     "execution_count": 23,
     "metadata": {},
     "output_type": "execute_result"
    }
   ],
   "source": [
    "np.roots([1,1,-156])"
   ]
  },
  {
   "cell_type": "markdown",
   "metadata": {},
   "source": [
    "# 이차함수"
   ]
  },
  {
   "cell_type": "code",
   "execution_count": 2,
   "metadata": {},
   "outputs": [
    {
     "data": {
      "image/png": "[encoded data removed]",
      "text/plain": [
       "<matplotlib.figure.Figure at 0x1102e26a0>"
      ]
     },
     "metadata": {},
     "output_type": "display_data"
    }
   ],
   "source": [
    "x = np.arange(-5,6)\n",
    "y = x**2\n",
    "plt.plot(x,y)\n",
    "plt.grid()"
   ]
  },
  {
   "cell_type": "code",
   "execution_count": 3,
   "metadata": {},
   "outputs": [
    {
     "data": {
      "image/png": "[encoded data removed]",
      "text/plain": [
       "<matplotlib.figure.Figure at 0x1136d82e8>"
      ]
     },
     "metadata": {},
     "output_type": "display_data"
    }
   ],
   "source": [
    "y2 = 2*x**2\n",
    "y3 = 0.5*x**2\n",
    "plt.plot(x,y3, label = 'a = 0.5')\n",
    "plt.plot(x,y, label = 'a = 1')\n",
    "plt.plot(x,y2, label = 'a = 2')\n",
    "plt.legend(fontsize = 14)\n",
    "plt.grid()"
   ]
  },
  {
   "cell_type": "code",
   "execution_count": 4,
   "metadata": {},
   "outputs": [
    {
     "data": {
      "image/png": "[encoded data removed]",
      "text/plain": [
       "<matplotlib.figure.Figure at 0x1137c4588>"
      ]
     },
     "metadata": {},
     "output_type": "display_data"
    }
   ],
   "source": [
    "y2 = 2*x**2\n",
    "y3 = 0.5*x**2\n",
    "plt.plot(x,-y3, label = 'a = -0.5')\n",
    "plt.plot(x,-y, label = 'a = -1')\n",
    "plt.plot(x,-y2, label = 'a = -2')\n",
    "plt.legend(fontsize = 14)\n",
    "plt.grid()"
   ]
  },
  {
   "cell_type": "markdown",
   "metadata": {},
   "source": [
    "## 이차함수의 $y = a(x-p)^2 + q$의 그래프 \n",
    "\n",
    "위 이차함수는 $y = ax^2$의 그래프를 x축으로 p만큼, y축으로 q만큼 이동시킨 그래프며\n",
    "\n",
    "(x,y) = (p,q)의 점을 지날때 최대 혹은 최소가 됩니다. \n",
    "\n",
    "\n",
    "\n",
    "### 예제\n",
    "\n",
    "x는 0부터 6까지 일때\n",
    "\n",
    "$y = 2(x-3)^2 + 4$의 그래프를 그리고, (3,4) 인 점을 scatter로 표시하시오."
   ]
  },
  {
   "cell_type": "code",
   "execution_count": 5,
   "metadata": {},
   "outputs": [
    {
     "data": {
      "image/png": "[encoded data removed]",
      "text/plain": [
       "<matplotlib.figure.Figure at 0x11390f0f0>"
      ]
     },
     "metadata": {},
     "output_type": "display_data"
    }
   ],
   "source": [
    "x = np.arange(6)\n",
    "y = 2*(x-3)**2 + 4\n",
    "plt.plot(x,y)\n",
    "plt.scatter(3,4, s = 100, color = 'r')\n",
    "plt.grid()"
   ]
  },
  {
   "cell_type": "markdown",
   "metadata": {},
   "source": [
    "#### Question 6.4\n",
    "\n",
    "$ y = 3x^2$을 x축으로 1만큼 y축으로 -2만큼 이동시킨 그래프를 그리시오. (x는 -1부터 4까지)"
   ]
  },
  {
   "cell_type": "code",
   "execution_count": 95,
   "metadata": {},
   "outputs": [
    {
     "data": {
      "image/png": "[encoded data removed]",
      "text/plain": [
       "<matplotlib.figure.Figure at 0x119e86908>"
      ]
     },
     "metadata": {},
     "output_type": "display_data"
    }
   ],
   "source": [
    "x = np.arange(-1,5)\n",
    "y = 3*(x-1)**2 - 2\n",
    "plt.plot(x,y)\n",
    "plt.grid()"
   ]
  },
  {
   "cell_type": "markdown",
   "metadata": {},
   "source": [
    "## 이차함수 $y = ax^2 + bx + c$의 그래프 \n",
    "\n",
    "이차함수 $y =ax^2+bx+c$를 아래와 같이 전개해 보겠습니다. \n",
    "\n",
    "$$ ax^2 + bx + c = 0$$\n",
    "\n",
    "$$ a(x^2 + \\frac{b}{a}x + \\frac{c}{a}) = 0$$\n",
    "\n",
    "$$ a(x + \\frac{b}{2a})^2  + \\frac{c}{a} - \\frac{b^2}{4a} = 0$$\n",
    "\n",
    "$$ a(x + \\frac{b}{2a})^2  + \\frac{4ac-b^2}{4a} = 0$$\n",
    "\n",
    "즉 위 식의 최대, 최소점은\n",
    "\n",
    "$$x = -\\frac{-b}{2a}, \\quad y = \\frac{4ac - b^2}{4a}$$\n",
    "\n",
    "\n",
    "이 됩니다. 따라서 \n",
    "\n",
    "$b^2 - 4ac <  0$ 이면 해가 없게 되고\n",
    "\n",
    "$b^2 - 4ac = 0$ 이면 해가 한개만 있게 되며 ($x = \\frac{-b}{2a}$)\n",
    "\n",
    "$b^2 - 4ac > 0$ 이면 두 개의 해가 존재합니다. \n",
    "\n",
    "<img src= 'https://upload.wikimedia.org/wikipedia/commons/thumb/6/6d/Quadratic_function_graph_key_values.svg/500px-Quadratic_function_graph_key_values.svg.png'>"
   ]
  },
  {
   "cell_type": "markdown",
   "metadata": {},
   "source": [
    "### 예제\n",
    "\n",
    "다음 이차함수의 해가 몇개인지를 판별하고, 그래프를 그리시오."
   ]
  },
  {
   "cell_type": "markdown",
   "metadata": {},
   "source": [
    "$-5x^2 + 9x+2$"
   ]
  },
  {
   "cell_type": "code",
   "execution_count": 14,
   "metadata": {},
   "outputs": [
    {
     "data": {
      "text/plain": [
       "True"
      ]
     },
     "execution_count": 14,
     "metadata": {},
     "output_type": "execute_result"
    }
   ],
   "source": [
    "9**2 - (4*-5*2) >= 0"
   ]
  },
  {
   "cell_type": "markdown",
   "metadata": {},
   "source": [
    "따라서 해가 2개입니다."
   ]
  },
  {
   "cell_type": "code",
   "execution_count": 19,
   "metadata": {},
   "outputs": [
    {
     "data": {
      "image/png": "[encoded data removed]",
      "text/plain": [
       "<matplotlib.figure.Figure at 0x113b351d0>"
      ]
     },
     "metadata": {},
     "output_type": "display_data"
    }
   ],
   "source": [
    "x = np.arange(-5,6)\n",
    "y = -5*x**2 + 9*x + 2\n",
    "plt.plot(x,y)\n",
    "plt.grid()"
   ]
  },
  {
   "cell_type": "markdown",
   "metadata": {},
   "source": [
    "#### Question 6.5\n",
    "\n",
    "이차함수 $y = \\frac{-4}{3}x^2$의 그래프를 y축의 방향으로 q만큼 평행이동한 그래프가 점 (-3, -17)을 지날 때 q의 값은?   "
   ]
  },
  {
   "cell_type": "markdown",
   "metadata": {},
   "source": [
    "해답)\n",
    "\n",
    "$y = \\frac{-4}{3}x^2 + q$ 가 (-3, -17)을 지나야 한다.\n",
    "\n",
    "-3을 대입하면\n",
    "\n",
    "-12 + q = -17\n",
    "\n",
    "따라서 q = -5"
   ]
  },
  {
   "cell_type": "markdown",
   "metadata": {},
   "source": [
    "#### Question 6.6\n",
    "\n",
    "$x_0 = 0.5, r = 3$ 일때\n",
    "\n",
    "$x_{n+1}=rx_{n}(1-x_{n})$\n",
    "\n",
    "이다. \n",
    "\n",
    "n과 x의 관계를 그래프로 그리시오. (n은 0부터 100까지)"
   ]
  },
  {
   "cell_type": "code",
   "execution_count": 27,
   "metadata": {},
   "outputs": [
    {
     "data": {
      "text/plain": [
       "[<matplotlib.lines.Line2D at 0x114099470>]"
      ]
     },
     "execution_count": 27,
     "metadata": {},
     "output_type": "execute_result"
    },
    {
     "data": {
      "image/png": "[encoded data removed]",
      "text/plain": [
       "<matplotlib.figure.Figure at 0x113fafc50>"
      ]
     },
     "metadata": {},
     "output_type": "display_data"
    }
   ],
   "source": [
    "x = [0.5]\n",
    "n = 100\n",
    "for i in range(n):\n",
    "    x.append(3*x[-1]*(1-x[-1]))\n",
    "plt.plot(range(n), x[:-1])"
   ]
  },
  {
   "cell_type": "markdown",
   "metadata": {},
   "source": [
    "#### Question 6.7\n",
    "\n",
    "첫째자리와 둘째자리수가 같은 수 (AA) 가 있다.\n",
    "\n",
    "이 수를 제곱하면, 네자리수 BBCC가 된다. B는 A보다 1이 작고 C는 A의 반이다. \n",
    "\n",
    "AA를 구하여라. "
   ]
  },
  {
   "cell_type": "markdown",
   "metadata": {},
   "source": [
    "해답1)\n",
    "\n",
    "AA = 11x\n",
    "\n",
    "$AA^2 = 121 \\times x^2$\n",
    "\n",
    "$121 \\times x^2 = 1100 \\times y + 11 \\times z$ \n",
    "\n",
    "$y = x-1$\n",
    "\n",
    "$ z = x/2 $\n",
    "\n",
    "따라서\n",
    "\n",
    "$121 \\times x^2 = 1100 (x-1) + 11(x/2)$ \n",
    "\n",
    "$121x^2 - 1100x - 5.5x + 1100 = 0 $"
   ]
  },
  {
   "cell_type": "code",
   "execution_count": 33,
   "metadata": {},
   "outputs": [
    {
     "data": {
      "text/plain": [
       "array([ 8.        ,  1.13636364])"
      ]
     },
     "execution_count": 33,
     "metadata": {},
     "output_type": "execute_result"
    }
   ],
   "source": [
    "np.roots([121, -1105.5, 1100])"
   ]
  },
  {
   "cell_type": "markdown",
   "metadata": {},
   "source": [
    "따라서 A = 88"
   ]
  },
  {
   "cell_type": "markdown",
   "metadata": {},
   "source": [
    "해답2)"
   ]
  },
  {
   "cell_type": "code",
   "execution_count": 48,
   "metadata": {},
   "outputs": [
    {
     "name": "stdout",
     "output_type": "stream",
     "text": [
      "[11 22 33 44 55 66 77 88 99]\n",
      "88\n"
     ]
    }
   ],
   "source": [
    "AA = np.arange(11, 100, 11)\n",
    "print (AA)\n",
    "for i in AA:\n",
    "    if len(str(i**2)) == 4:\n",
    "        if (int(str(i**2)[:2])/11) == (i/11 - 1):\n",
    "            if (int(str(i**2)[2:])/11) == (i/11/2):\n",
    "                print (i)"
   ]
  },
  {
   "cell_type": "markdown",
   "metadata": {},
   "source": [
    "#### Question 6.8\n",
    "\n",
    "수학책을 열었을때 두 페이지수의 곱이 1122였다. \n",
    "\n",
    "몇 페이지를 열었는가? "
   ]
  },
  {
   "cell_type": "markdown",
   "metadata": {},
   "source": [
    "해답)\n",
    "\n",
    "$x(x+1) = 1122$"
   ]
  },
  {
   "cell_type": "code",
   "execution_count": 50,
   "metadata": {},
   "outputs": [
    {
     "data": {
      "text/plain": [
       "array([-34.,  33.])"
      ]
     },
     "execution_count": 50,
     "metadata": {},
     "output_type": "execute_result"
    }
   ],
   "source": [
    "np.roots([1,1,-1122])"
   ]
  },
  {
   "cell_type": "markdown",
   "metadata": {},
   "source": [
    "33, 34p 이다."
   ]
  },
  {
   "cell_type": "markdown",
   "metadata": {},
   "source": [
    "#### Question 6.9\n",
    "\n",
    "이차함수가 (-1,0) 과 (5,0), (0,10)을 지날때 이 함수를 구하시오. \n"
   ]
  },
  {
   "cell_type": "markdown",
   "metadata": {},
   "source": [
    "해답1)\n",
    "\n",
    "$a(x+1)(x-5) = 0$\n",
    "\n",
    "$a \\times 1 \\times -5 = 10$\n",
    "\n",
    "$a = -2$"
   ]
  },
  {
   "cell_type": "markdown",
   "metadata": {},
   "source": [
    "#### Question 6.10\n",
    "\n",
    "이차함수의 변곡점이 (-1,5)이며, 또한 (-2,3)을 지날때 이 함수를 구하여라. \n"
   ]
  },
  {
   "cell_type": "markdown",
   "metadata": {},
   "source": [
    "해답)\n",
    "\n",
    "$y = a(x-p)^2 + q$ 을 이용하면\n",
    "\n",
    "$y = a(x+1)^2 + 5$\n",
    "\n",
    "$3 = a + 5$\n",
    "\n",
    "a = -2"
   ]
  },
  {
   "cell_type": "markdown",
   "metadata": {},
   "source": [
    "#### Question 6.11\n",
    "\n",
    "$y = x + \\sqrt{x-2}$의 그래프를 그려라.\n",
    "\n",
    "(x는 2부터 10까지)"
   ]
  },
  {
   "cell_type": "code",
   "execution_count": 54,
   "metadata": {},
   "outputs": [
    {
     "data": {
      "text/plain": [
       "[<matplotlib.lines.Line2D at 0x113a080f0>]"
      ]
     },
     "execution_count": 54,
     "metadata": {},
     "output_type": "execute_result"
    },
    {
     "data": {
      "image/png": "[encoded data removed]",
      "text/plain": [
       "<matplotlib.figure.Figure at 0x113c96b00>"
      ]
     },
     "metadata": {},
     "output_type": "display_data"
    }
   ],
   "source": [
    "x = np.arange(2,11)\n",
    "y = x + np.sqrt(x-2)\n",
    "plt.plot(x,y)"
   ]
  },
  {
   "cell_type": "markdown",
   "metadata": {},
   "source": [
    "#### Question 6.12\n",
    "\n",
    "$(x-2)^2 + (x-9)^2 = (x-11)^2$ 를 푸시오."
   ]
  },
  {
   "cell_type": "markdown",
   "metadata": {},
   "source": [
    "해답)\n",
    "\n",
    "$2x^2 -22x + 85 = x^2 - 22x + 121$\n",
    "\n",
    "$x^2 = 36$\n",
    "\n",
    "x = 6, -6"
   ]
  },
  {
   "cell_type": "markdown",
   "metadata": {},
   "source": [
    "#### Question 6.13\n",
    "\n",
    "$\\sqrt{x+5} - \\sqrt{5-x} = 2$일때 만족하는 자연수 x를 구하시오."
   ]
  },
  {
   "cell_type": "markdown",
   "metadata": {},
   "source": [
    "해답)\n",
    "\n",
    "양변을 제곱하면\n",
    "\n",
    "$\\sqrt{(x+5)(5-x)} = 4$\n",
    "\n",
    "$x^2-25 = -16$\n",
    "\n",
    "x = 3,-3"
   ]
  },
  {
   "cell_type": "markdown",
   "metadata": {},
   "source": [
    "#### Question 6.14\n",
    "\n",
    "$\\sqrt{x+3} -1 = \\sqrt{x-\\sqrt{x-2}}$ 을 만족하는 자연수 x를 푸시오."
   ]
  },
  {
   "cell_type": "markdown",
   "metadata": {},
   "source": [
    "해답)\n",
    "\n",
    "x > -3 과 x > 2 를 동시에 만족해야함.\n",
    "\n",
    "양변을 제곱해서 전개하여 푸는방식이 있지만, 코딩으로 풀어보겠습니다."
   ]
  },
  {
   "cell_type": "code",
   "execution_count": 55,
   "metadata": {},
   "outputs": [
    {
     "name": "stdout",
     "output_type": "stream",
     "text": [
      "6\n"
     ]
    }
   ],
   "source": [
    " = np.arange(2, 100)\n",
    "for i in x:\n",
    "    if (np.sqrt(i+3)-1) == np.sqrt(i - np.sqrt(i-2)):\n",
    "        print (i)x"
   ]
  },
  {
   "cell_type": "markdown",
   "metadata": {},
   "source": [
    "#### Question 6.15\n",
    "\n",
    "$36u^4 - 13u^2 + 1 = 0$의 해를 구하시오.\n"
   ]
  },
  {
   "cell_type": "markdown",
   "metadata": {},
   "source": [
    "해답)\n",
    "\n",
    "$u^2 = x$라 놓자."
   ]
  },
  {
   "cell_type": "code",
   "execution_count": 57,
   "metadata": {},
   "outputs": [
    {
     "data": {
      "text/plain": [
       "array([ 0.25      ,  0.11111111])"
      ]
     },
     "execution_count": 57,
     "metadata": {},
     "output_type": "execute_result"
    }
   ],
   "source": [
    "np.roots([36, -13, 1])"
   ]
  },
  {
   "cell_type": "markdown",
   "metadata": {},
   "source": [
    " $u^2 = \\frac{1}{4}, \\frac{1}{9}$이므로\n",
    " \n",
    "$ u = \\pm\\frac{1}{2}, \\pm\\frac{1}{3}$"
   ]
  },
  {
   "cell_type": "markdown",
   "metadata": {},
   "source": [
    "#### Question 6.16\n",
    "\n",
    "$$x = \\frac{4}{5-\\frac{4}{5-x}}$$\n",
    "\n",
    "를 만족하는 자연수 x를 구하시오."
   ]
  },
  {
   "cell_type": "markdown",
   "metadata": {},
   "source": [
    "해답1)\n",
    "\n",
    "$5x - \\frac{4x}{5-x} = 4$\n",
    "\n",
    "$5x(5-x) - 4x = 4(5-x)$"
   ]
  },
  {
   "cell_type": "code",
   "execution_count": 66,
   "metadata": {},
   "outputs": [
    {
     "data": {
      "text/plain": [
       "array([ 4.,  1.])"
      ]
     },
     "execution_count": 66,
     "metadata": {},
     "output_type": "execute_result"
    }
   ],
   "source": [
    "np.roots([-5, 25, -20])"
   ]
  },
  {
   "cell_type": "code",
   "execution_count": null,
   "metadata": {
    "collapsed": true
   },
   "outputs": [],
   "source": []
  }
 ],
 "metadata": {
  "kernelspec": {
   "display_name": "Python 3",
   "language": "python",
   "name": "python3"
  },
  "language_info": {
   "codemirror_mode": {
    "name": "ipython",
    "version": 3
   },
   "file_extension": ".py",
   "mimetype": "text/x-python",
   "name": "python",
   "nbconvert_exporter": "python",
   "pygments_lexer": "ipython3",
   "version": "3.7.1"
  }
 },
 "nbformat": 4,
 "nbformat_minor": 2
}
