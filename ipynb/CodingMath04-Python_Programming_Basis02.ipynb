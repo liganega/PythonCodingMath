{
 "cells": [
  {
   "cell_type": "markdown",
   "metadata": {
    "slideshow": {
     "slide_type": "slide"
    }
   },
   "source": [
    "# 파이썬 프로그래밍 기초 2부"
   ]
  },
  {
   "cell_type": "markdown",
   "metadata": {},
   "source": [
    "## 프로그램 기본 구성 요소 알아보기\n",
    "\n",
    "프로그래밍에 대한 이해를 좀 더 돕기 위해 프로그램의 기본 구성요소들을 살펴보고자 한다.\n",
    "\n",
    "아래 프로그램을 살펴보자."
   ]
  },
  {
   "cell_type": "markdown",
   "metadata": {},
   "source": [
    "### 숫자 맞추기 게임"
   ]
  },
  {
   "cell_type": "code",
   "execution_count": 2,
   "metadata": {},
   "outputs": [
    {
     "name": "stdout",
     "output_type": "stream",
     "text": [
      "Welcome\n",
      "Guess the number: 3\n",
      "You lose!\n",
      "Game over!\n"
     ]
    }
   ],
   "source": [
    "print(\"Welcome\")\n",
    "g = input(\"Guess the number: \")\n",
    "guess = int(g)\n",
    "if guess == 5:\n",
    "    print(\"You win!\")\n",
    "else:\n",
    "    print(\"You lose!\")\n",
    "print(\"Game over!\")"
   ]
  },
  {
   "cell_type": "markdown",
   "metadata": {},
   "source": [
    "위 프로그램은 숫자 5를 맞추는 게임이다.\n",
    "그런데 맞건 틀리건 한 번만 실행되고 멈춘다.\n",
    "반면에 아래 프로그램은 맞출 때까지 돌아가며, 틀린 경우 힌트도 제공한다."
   ]
  },
  {
   "cell_type": "markdown",
   "metadata": {},
   "source": [
    "#### 게임 수준 높이기 1: 무한 반복"
   ]
  },
  {
   "cell_type": "code",
   "execution_count": 3,
   "metadata": {},
   "outputs": [
    {
     "name": "stdout",
     "output_type": "stream",
     "text": [
      "Welcome\n",
      "Guess the number: 3\n",
      "Too low\n",
      "Guess the number: 6\n",
      "Too high\n",
      "Guess the number: 5\n",
      "You win!\n",
      "Game over!\n"
     ]
    }
   ],
   "source": [
    "print(\"Welcome\")\n",
    "guess = 0\n",
    "while guess != 5:\n",
    "    g = input(\"Guess the number: \")\n",
    "    guess = int(g)\n",
    "    if guess == 5:\n",
    "        print(\"You win!\")\n",
    "    else:\n",
    "        if guess > 5:\n",
    "            print(\"Too high\")\n",
    "        else:\n",
    "            print(\"Too low\")\n",
    "print(\"Game over!\")"
   ]
  },
  {
   "cell_type": "markdown",
   "metadata": {},
   "source": [
    "하지만 위 게임은 한 번만 할 수 있다.\n",
    "정답이 5로 고정되었기 때문이다.\n",
    "\n",
    "게임이 시작될 때마다 맞춰야 하는 무작위로 선정할 수 있도록 하면\n",
    "보다 재밌는 게임이 된다."
   ]
  },
  {
   "cell_type": "markdown",
   "metadata": {},
   "source": [
    "#### 게임 수준 높이기 2: `random` 모듈 이용 난수 생성"
   ]
  },
  {
   "cell_type": "markdown",
   "metadata": {},
   "source": [
    "지금까지는 파이썬의 기본패키지만 사용하였다. \n",
    "하지만 보다 전문적인 프로그래밍을 위해서는 추가 모듈과 패키지가 요구된다.\n",
    "여기서는 `random` 라는 모듈을 임포트(`import`, 추가 장착)하여 사용한다.\n",
    "\n",
    "* 모듈\n",
    "    * 우선은 함수들의 정의를 모아 놓은 파이썬 소스코드 파일이라고 생각하면 됨.\n",
    "    * 일종의 추가 도구상자 역할을 한다.\n",
    "    * 예를 들어, 아래 예제에서 사용되는 `randint()` 함수는 지정된 구간 내에서 \n",
    "        정수를 임의로 선택해 주는 함수이며 `random` 모듈(상자)에 포함되어 있다.\n",
    "        즉, 이미 누군가에 의해 구현되어 있다.\n",
    "    * `random` 모듈 안에는 `randint`, `random` 등 다양한 방식으로\n",
    "        정수 및 실수를 임의로 생성해주는 함수들이 정의되어 있다.\n",
    "\n",
    "* 모듈 임포트 방법: 아래 세 가지 방법 중에 하나를 사용한다.\n",
    "    ```python\n",
    "    import random\n",
    "    from random import randint\n",
    "    import numpy as np\n",
    "    ```\n",
    "\n",
    "* 주의: 아래와 같은 방식도 가능하지만 가능하면 사용하지 말 것. \n",
    "    ```python\n",
    "    from random import *\n",
    "    ```\n",
    "    여기서 별표 기호(`*`)는 all, 즉 모든 것을 의미한다.\n",
    "    (프로그래밍언어 분야에서 별표는 보통 모든 것을 의미한다.)\n",
    "    서로 다른 모듈이 동일한 함수 이름이 사용될 수도 있어서 \n",
    "    이름충돌이 발생할 수 있기 때문에 위 방식은 웬만하면 피하는 것이 좋다.\n",
    "    예를 들어, `math` 모듈과 `numpy` 모듈에 모두 `sqrt()` 이름으로 \n",
    "    제곱근 함수가 정의되어 있다. 하지만 두 함수가 작동하는 방식은 좀 다르다.\n",
    "    결과가 같다 하더라도 알고리즘이 다를 수 있으며, \n",
    "    경우에 따라 문제를 야기할 수 있다."
   ]
  },
  {
   "cell_type": "code",
   "execution_count": 4,
   "metadata": {},
   "outputs": [
    {
     "name": "stdout",
     "output_type": "stream",
     "text": [
      "Welcome\n",
      "Guess the number: 3\n",
      "Too high\n",
      "Guess the number: 2\n",
      "Too high\n",
      "Guess the number: 1\n",
      "You win!\n",
      "Game over!\n"
     ]
    }
   ],
   "source": [
    "from random import randint\n",
    "secret = randint(1, 10)\n",
    "\n",
    "print(\"Welcome\")\n",
    "guess = 0\n",
    "while guess != secret:\n",
    "    g = input(\"Guess the number: \")\n",
    "    guess = int(g)\n",
    "    if guess == secret:\n",
    "        print(\"You win!\")\n",
    "    else:\n",
    "        if guess > secret:\n",
    "            print(\"Too high\")\n",
    "        else:\n",
    "            print(\"Too low\")\n",
    "print(\"Game over!\")"
   ]
  },
  {
   "cell_type": "markdown",
   "metadata": {},
   "source": [
    "### 난수 생성"
   ]
  },
  {
   "cell_type": "markdown",
   "metadata": {},
   "source": [
    "난수 생성에 대해 좀 더 알아본다.\n",
    "* 데이터 분석 실험을 위해 다양한 형식의 난수(무작위로 생성된 수)를 생성하는 일이 중요하다.\n",
    "* 넘파이 모듈은 다양한 형식의 난수를 생성하는 기능을 제공한다.\n",
    "* 대표적으로 `random.randint()` 함수를 많이 활용한다.\n",
    "\n",
    "여기서는 좀 더 전문적인 난수생성을 위해 `numpy` 모듈을 임포트해서 사용한다.\n",
    "`numpy` 모듈은 파이썬 데이터분석에서 가장 많이 사용되는 모듈이다. \n",
    "\n",
    "`numpy` 모듈은 보통 `np`라는 약칭을 사용하여 불러온다."
   ]
  },
  {
   "cell_type": "code",
   "execution_count": 5,
   "metadata": {},
   "outputs": [],
   "source": [
    "import numpy as np"
   ]
  },
  {
   "cell_type": "markdown",
   "metadata": {},
   "source": [
    "입력값이 n이면 0부터 (n-1)까지의 정수 중에서 임의로 하나 선택"
   ]
  },
  {
   "cell_type": "code",
   "execution_count": 6,
   "metadata": {},
   "outputs": [
    {
     "data": {
      "text/plain": [
       "0"
      ]
     },
     "execution_count": 6,
     "metadata": {},
     "output_type": "execute_result"
    }
   ],
   "source": [
    "np.random.randint(9)"
   ]
  },
  {
   "cell_type": "code",
   "execution_count": 7,
   "metadata": {},
   "outputs": [
    {
     "data": {
      "text/plain": [
       "6"
      ]
     },
     "execution_count": 7,
     "metadata": {},
     "output_type": "execute_result"
    }
   ],
   "source": [
    "np.random.randint(9)"
   ]
  },
  {
   "cell_type": "markdown",
   "metadata": {},
   "source": [
    "입력값이 n과 m면 n부터 (m-1)까지의 정수 중에서 임의로 하나 선택"
   ]
  },
  {
   "cell_type": "code",
   "execution_count": 8,
   "metadata": {},
   "outputs": [
    {
     "data": {
      "text/plain": [
       "116"
      ]
     },
     "execution_count": 8,
     "metadata": {},
     "output_type": "execute_result"
    }
   ],
   "source": [
    "np.random.randint(100, 130)"
   ]
  },
  {
   "cell_type": "code",
   "execution_count": 9,
   "metadata": {},
   "outputs": [
    {
     "data": {
      "text/plain": [
       "120"
      ]
     },
     "execution_count": 9,
     "metadata": {},
     "output_type": "execute_result"
    }
   ],
   "source": [
    "np.random.randint(100, 130)"
   ]
  },
  {
   "cell_type": "markdown",
   "metadata": {},
   "source": [
    "선택구간과 선택 개수를 동시에 지정할 수 있다."
   ]
  },
  {
   "cell_type": "code",
   "execution_count": 10,
   "metadata": {},
   "outputs": [
    {
     "data": {
      "text/plain": [
       "array([126, 128, 103])"
      ]
     },
     "execution_count": 10,
     "metadata": {},
     "output_type": "execute_result"
    }
   ],
   "source": [
    "np.random.randint(100, 130, size = 3)"
   ]
  },
  {
   "cell_type": "code",
   "execution_count": 11,
   "metadata": {},
   "outputs": [
    {
     "data": {
      "text/plain": [
       "array([109, 103, 126, 129, 103])"
      ]
     },
     "execution_count": 11,
     "metadata": {},
     "output_type": "execute_result"
    }
   ],
   "source": [
    "np.random.randint(100, 130, size = 5)"
   ]
  },
  {
   "cell_type": "markdown",
   "metadata": {},
   "source": [
    "#### 예제"
   ]
  },
  {
   "cell_type": "code",
   "execution_count": 12,
   "metadata": {},
   "outputs": [],
   "source": [
    "def lotto():\n",
    "    number = []                               \n",
    "    for i in range(6):                        \n",
    "        new_element = np.random.randint(1,46) \n",
    "        if new_element not in number:         \n",
    "            number.append(new_element)        \n",
    "    return number"
   ]
  },
  {
   "cell_type": "code",
   "execution_count": 13,
   "metadata": {},
   "outputs": [
    {
     "data": {
      "text/plain": [
       "[21, 9, 30, 36, 4, 19]"
      ]
     },
     "execution_count": 13,
     "metadata": {},
     "output_type": "execute_result"
    }
   ],
   "source": [
    "lotto()"
   ]
  },
  {
   "cell_type": "code",
   "execution_count": 14,
   "metadata": {},
   "outputs": [
    {
     "data": {
      "text/plain": [
       "[33, 23, 14, 20, 2, 29]"
      ]
     },
     "execution_count": 14,
     "metadata": {},
     "output_type": "execute_result"
    }
   ],
   "source": [
    "lotto()"
   ]
  },
  {
   "cell_type": "markdown",
   "metadata": {},
   "source": [
    "#### 예제"
   ]
  },
  {
   "cell_type": "code",
   "execution_count": 15,
   "metadata": {},
   "outputs": [],
   "source": [
    "def random95():\n",
    "    a = 0\n",
    "    number = []\n",
    "    while a < 95:\n",
    "        a = np.random.randint(1, 101)\n",
    "        number.append(a)\n",
    "    return number"
   ]
  },
  {
   "cell_type": "code",
   "execution_count": 16,
   "metadata": {},
   "outputs": [
    {
     "name": "stdout",
     "output_type": "stream",
     "text": [
      "[94, 29, 36, 7, 88, 13, 77, 46, 90, 46, 25, 99]\n"
     ]
    }
   ],
   "source": [
    "print(random95())"
   ]
  },
  {
   "cell_type": "code",
   "execution_count": 17,
   "metadata": {},
   "outputs": [
    {
     "name": "stdout",
     "output_type": "stream",
     "text": [
      "[59, 96]\n"
     ]
    }
   ],
   "source": [
    "print(random95())"
   ]
  },
  {
   "cell_type": "markdown",
   "metadata": {},
   "source": [
    "입력값으로 최소, 최대 범위를 정하고 (위 문제에서는 1, 31), 난수 생성갯수 (위 문제에서는 10)를 받는 코딩함수를 만들겠습니다."
   ]
  },
  {
   "cell_type": "code",
   "execution_count": 18,
   "metadata": {},
   "outputs": [],
   "source": [
    "def random_exclusive(low, high, how_many):\n",
    "    number = []                             # 난수의 집합을 우선 공집합으로 만들고\n",
    "    while how_many > 0:                     # n이 0보다 클때까지 \n",
    "        a = np.random.randint(low,high)     # 1부터 30까지의 난수를 만들어 a로 놓은다음\n",
    "        if a not in number:                 # a가 number에 없으면\n",
    "            number.append(a)                # number에 a를 추가하고\n",
    "        how_many -= 1                       # n을 1 줄여라\n",
    "    return number"
   ]
  },
  {
   "cell_type": "code",
   "execution_count": 19,
   "metadata": {},
   "outputs": [
    {
     "data": {
      "text/plain": [
       "[16, 26, 22, 2, 24, 18, 15, 3]"
      ]
     },
     "execution_count": 19,
     "metadata": {},
     "output_type": "execute_result"
    }
   ],
   "source": [
    "random_exclusive(1,31,10)"
   ]
  },
  {
   "cell_type": "markdown",
   "metadata": {},
   "source": []
  },
  {
   "cell_type": "markdown",
   "metadata": {},
   "source": []
  },
  {
   "cell_type": "markdown",
   "metadata": {},
   "source": []
  },
  {
   "cell_type": "markdown",
   "metadata": {
    "slideshow": {
     "slide_type": "slide"
    }
   },
   "source": [
    "## 불리언 자료형과 비교 연산자"
   ]
  },
  {
   "cell_type": "code",
   "execution_count": 20,
   "metadata": {
    "slideshow": {
     "slide_type": "slide"
    }
   },
   "outputs": [
    {
     "name": "stdout",
     "output_type": "stream",
     "text": [
      "False\n"
     ]
    },
    {
     "data": {
      "text/plain": [
       "bool"
      ]
     },
     "execution_count": 20,
     "metadata": {},
     "output_type": "execute_result"
    }
   ],
   "source": [
    "a = 5\n",
    "print(a > 10)\n",
    "type(a<10)"
   ]
  },
  {
   "cell_type": "markdown",
   "metadata": {},
   "source": [
    "`for` 반복문에서 사용하는 'in' 연산자도 불리언 값을 반환한다.\n",
    "\n",
    "* 주의: 모든 연산자는 함수이다. 따라서 모두 반환값이 존재한다."
   ]
  },
  {
   "cell_type": "code",
   "execution_count": 21,
   "metadata": {},
   "outputs": [
    {
     "name": "stdout",
     "output_type": "stream",
     "text": [
      "True\n"
     ]
    },
    {
     "data": {
      "text/plain": [
       "bool"
      ]
     },
     "execution_count": 21,
     "metadata": {},
     "output_type": "execute_result"
    }
   ],
   "source": [
    "a = 'apple'\n",
    "b = ['tomato', 'orange', 'strawberry', 'apple']\n",
    "print(a in b)\n",
    "type(a in b)"
   ]
  },
  {
   "cell_type": "code",
   "execution_count": 22,
   "metadata": {},
   "outputs": [
    {
     "name": "stdout",
     "output_type": "stream",
     "text": [
      "4\n",
      "5\n"
     ]
    }
   ],
   "source": [
    "for i in [1,2,3,4,5]: \n",
    "    if i > 3:         \n",
    "        print(i)      "
   ]
  },
  {
   "cell_type": "code",
   "execution_count": 23,
   "metadata": {},
   "outputs": [
    {
     "name": "stdout",
     "output_type": "stream",
     "text": [
      "1\n"
     ]
    }
   ],
   "source": [
    "if True:\n",
    "    print('1')"
   ]
  },
  {
   "cell_type": "code",
   "execution_count": 24,
   "metadata": {},
   "outputs": [],
   "source": [
    "if False:\n",
    "    print('1')"
   ]
  },
  {
   "cell_type": "markdown",
   "metadata": {},
   "source": [
    "### 비교 연산자"
   ]
  },
  {
   "cell_type": "markdown",
   "metadata": {},
   "source": [
    "변수 선언문은 어떤 값을 의미하지 않음."
   ]
  },
  {
   "cell_type": "code",
   "execution_count": 25,
   "metadata": {},
   "outputs": [
    {
     "ename": "TypeError",
     "evalue": "'a' is an invalid keyword argument for this function",
     "output_type": "error",
     "traceback": [
      "\u001b[0;31m---------------------------------------------------------------------------\u001b[0m",
      "\u001b[0;31mTypeError\u001b[0m                                 Traceback (most recent call last)",
      "\u001b[0;32m<ipython-input-25-706bd4edf98e>\u001b[0m in \u001b[0;36m<module>\u001b[0;34m\u001b[0m\n\u001b[1;32m      1\u001b[0m \u001b[0ma\u001b[0m \u001b[0;34m=\u001b[0m \u001b[0;36m3\u001b[0m\u001b[0;34m\u001b[0m\u001b[0;34m\u001b[0m\u001b[0m\n\u001b[0;32m----> 2\u001b[0;31m \u001b[0mprint\u001b[0m\u001b[0;34m(\u001b[0m\u001b[0ma\u001b[0m \u001b[0;34m=\u001b[0m \u001b[0;36m3\u001b[0m\u001b[0;34m)\u001b[0m\u001b[0;34m\u001b[0m\u001b[0;34m\u001b[0m\u001b[0m\n\u001b[0m",
      "\u001b[0;31mTypeError\u001b[0m: 'a' is an invalid keyword argument for this function"
     ]
    }
   ],
   "source": [
    "a = 3\n",
    "print(a = 3)"
   ]
  },
  {
   "cell_type": "markdown",
   "metadata": {},
   "source": [
    "두 값의 동일성/비동일성 여부는 `==`/`!=` 연산자 사용"
   ]
  },
  {
   "cell_type": "code",
   "execution_count": 26,
   "metadata": {},
   "outputs": [
    {
     "name": "stdout",
     "output_type": "stream",
     "text": [
      "True\n",
      "False\n",
      "False\n",
      "True\n"
     ]
    }
   ],
   "source": [
    "print(a == 3)\n",
    "print(a == 4)\n",
    "\n",
    "print(a != 3)\n",
    "print(a != 4)"
   ]
  },
  {
   "cell_type": "code",
   "execution_count": 27,
   "metadata": {},
   "outputs": [
    {
     "name": "stdout",
     "output_type": "stream",
     "text": [
      "9는 홀수이다\n",
      "9\n",
      "4는 짝수이다\n",
      "4\n"
     ]
    }
   ],
   "source": [
    "def odd_or_even(n):\n",
    "    if n % 2 == 0:\n",
    "        print ('{}는 짝수이다'.format(n))\n",
    "        k = 'even'\n",
    "    elif n %2 != 0:\n",
    "        print ('{}는 홀수이다'.format(n))\n",
    "        k = 'odd'\n",
    "    return n\n",
    "print (odd_or_even(9))\n",
    "print (odd_or_even(4))"
   ]
  },
  {
   "cell_type": "markdown",
   "metadata": {},
   "source": [
    "## 사칙연산"
   ]
  },
  {
   "cell_type": "markdown",
   "metadata": {},
   "source": [
    "### 정수와 소수 사칙연산"
   ]
  },
  {
   "cell_type": "code",
   "execution_count": 28,
   "metadata": {},
   "outputs": [
    {
     "name": "stdout",
     "output_type": "stream",
     "text": [
      "8\n",
      "11\n",
      "15\n",
      "4.0\n",
      "<class 'float'>\n"
     ]
    }
   ],
   "source": [
    "print(3 + 5)\n",
    "print(38 - 27)\n",
    "print(3 * 5)  \n",
    "print(8 / 2)  \n",
    "print(type(8 / 2))"
   ]
  },
  {
   "cell_type": "code",
   "execution_count": 29,
   "metadata": {},
   "outputs": [
    {
     "name": "stdout",
     "output_type": "stream",
     "text": [
      "0\n",
      "3.5\n",
      "1\n",
      "3\n"
     ]
    }
   ],
   "source": [
    "print(8 % 2)   # 나머지 구하기\n",
    "print(7 / 2)   # 나누기\n",
    "print(7 % 2)   # 나머지 구하기\n",
    "print(7 // 2)  # 몫 구하기"
   ]
  },
  {
   "cell_type": "markdown",
   "metadata": {},
   "source": [
    "### 거듭제곱(지수승)"
   ]
  },
  {
   "cell_type": "code",
   "execution_count": 30,
   "metadata": {},
   "outputs": [
    {
     "name": "stdout",
     "output_type": "stream",
     "text": [
      "8\n",
      "9\n",
      "10000\n"
     ]
    }
   ],
   "source": [
    "print(2**3)\n",
    "print(3**2)\n",
    "print(100**2)"
   ]
  },
  {
   "cell_type": "markdown",
   "metadata": {},
   "source": [
    "괄호에 주의할 것"
   ]
  },
  {
   "cell_type": "code",
   "execution_count": 31,
   "metadata": {},
   "outputs": [
    {
     "name": "stdout",
     "output_type": "stream",
     "text": [
      "4\n",
      "-4\n"
     ]
    }
   ],
   "source": [
    "print((-2)**2)\n",
    "print(-2 **2)"
   ]
  },
  {
   "cell_type": "markdown",
   "metadata": {},
   "source": [
    "### 반올림 함수: `round()`"
   ]
  },
  {
   "cell_type": "code",
   "execution_count": 32,
   "metadata": {},
   "outputs": [
    {
     "name": "stdout",
     "output_type": "stream",
     "text": [
      "3\n",
      "4\n",
      "4\n"
     ]
    }
   ],
   "source": [
    "print(round(3.2))\n",
    "print(round(3.7))\n",
    "print(round(3.5))"
   ]
  },
  {
   "cell_type": "markdown",
   "metadata": {},
   "source": [
    "`round()` 함수의 리턴값은 정수 자료형이다."
   ]
  },
  {
   "cell_type": "code",
   "execution_count": 33,
   "metadata": {},
   "outputs": [
    {
     "name": "stdout",
     "output_type": "stream",
     "text": [
      "<class 'int'>\n"
     ]
    }
   ],
   "source": [
    "print(type(round(3.2)))"
   ]
  },
  {
   "cell_type": "markdown",
   "metadata": {},
   "source": [
    "## `math` 모듈 소개"
   ]
  },
  {
   "cell_type": "markdown",
   "metadata": {},
   "source": [
    "여기서는 `math` 라는 모듈을 임포트(`import`, 추가 장착)하여 사용한다.\n",
    "`math` 모듈 안에는 `sin`, `cos`, `sqrt` 등 다양한 수학 함수들이 정의되어 있다."
   ]
  },
  {
   "cell_type": "markdown",
   "metadata": {},
   "source": [
    "### 거듭제곱근"
   ]
  },
  {
   "cell_type": "code",
   "execution_count": 34,
   "metadata": {},
   "outputs": [],
   "source": [
    "import math"
   ]
  },
  {
   "cell_type": "markdown",
   "metadata": {},
   "source": [
    "임포트된 모듈에 정의된 함수들은 모듈 이름과 함께 사용해야 한다. \n",
    "```python\n",
    "모듈이름.함수이름(인자1,...,인자k)\n",
    "```"
   ]
  },
  {
   "cell_type": "code",
   "execution_count": 35,
   "metadata": {},
   "outputs": [
    {
     "name": "stdout",
     "output_type": "stream",
     "text": [
      "10.0\n",
      "4.0\n",
      "2.6457513110645907\n"
     ]
    },
    {
     "ename": "ValueError",
     "evalue": "math domain error",
     "output_type": "error",
     "traceback": [
      "\u001b[0;31m---------------------------------------------------------------------------\u001b[0m",
      "\u001b[0;31mValueError\u001b[0m                                Traceback (most recent call last)",
      "\u001b[0;32m<ipython-input-35-02424597ad2a>\u001b[0m in \u001b[0;36m<module>\u001b[0;34m\u001b[0m\n\u001b[1;32m      4\u001b[0m \u001b[0;34m\u001b[0m\u001b[0m\n\u001b[1;32m      5\u001b[0m \u001b[0;31m# 제곱근은 음수에는 정의되어 있지 않다.\u001b[0m\u001b[0;34m\u001b[0m\u001b[0;34m\u001b[0m\u001b[0;34m\u001b[0m\u001b[0m\n\u001b[0;32m----> 6\u001b[0;31m \u001b[0mprint\u001b[0m \u001b[0;34m(\u001b[0m\u001b[0mmath\u001b[0m\u001b[0;34m.\u001b[0m\u001b[0msqrt\u001b[0m\u001b[0;34m(\u001b[0m\u001b[0;34m-\u001b[0m\u001b[0;36m4\u001b[0m\u001b[0;34m)\u001b[0m\u001b[0;34m)\u001b[0m\u001b[0;34m\u001b[0m\u001b[0;34m\u001b[0m\u001b[0m\n\u001b[0m",
      "\u001b[0;31mValueError\u001b[0m: math domain error"
     ]
    }
   ],
   "source": [
    "print (math.sqrt(100))\n",
    "print (math.sqrt(16))\n",
    "print (math.sqrt(7))\n",
    "\n",
    "# 제곱근은 음수에는 정의되어 있지 않다.\n",
    "print (math.sqrt(-4))"
   ]
  },
  {
   "cell_type": "markdown",
   "metadata": {},
   "source": [
    "## `for` 반복문: `range()`와 `enumerate()` 활용"
   ]
  },
  {
   "cell_type": "markdown",
   "metadata": {},
   "source": [
    "### `range()` 함수"
   ]
  },
  {
   "cell_type": "markdown",
   "metadata": {},
   "source": [
    "* `range()` 함수의 반환값은 리스트 처럼 사용된다.\n",
    "* 반환값의 자료형은 `range`라고 불린다.\n",
    "* 우선은 `range`와 `list` 자료형을 동일한 방식으로 사용하도록 하자."
   ]
  },
  {
   "cell_type": "code",
   "execution_count": 36,
   "metadata": {},
   "outputs": [
    {
     "name": "stdout",
     "output_type": "stream",
     "text": [
      "range(0, 5)\n",
      "<class 'range'>\n"
     ]
    }
   ],
   "source": [
    "a  = range(5)\n",
    "print(a)\n",
    "print(type(a))"
   ]
  },
  {
   "cell_type": "code",
   "execution_count": 37,
   "metadata": {},
   "outputs": [
    {
     "name": "stdout",
     "output_type": "stream",
     "text": [
      "0\n",
      "1\n",
      "2\n",
      "3\n",
      "4\n"
     ]
    }
   ],
   "source": [
    "for i in range(5):\n",
    "    print (i)"
   ]
  },
  {
   "cell_type": "markdown",
   "metadata": {},
   "source": [
    "`range()` 함수의 인자들의 역할은 리스트 슬라이싱 기능과 동일하다. "
   ]
  },
  {
   "cell_type": "code",
   "execution_count": 38,
   "metadata": {},
   "outputs": [
    {
     "name": "stdout",
     "output_type": "stream",
     "text": [
      "0\n",
      "2\n",
      "4\n",
      "6\n",
      "8\n"
     ]
    }
   ],
   "source": [
    "for i in range(0,9,2):\n",
    "    print (i)"
   ]
  },
  {
   "cell_type": "markdown",
   "metadata": {},
   "source": [
    "즉, `range(0,9,2)`는 `[0, 2, 4, 6, 8]`과 거의 동일한 기능을 수행한다."
   ]
  },
  {
   "cell_type": "code",
   "execution_count": 39,
   "metadata": {},
   "outputs": [
    {
     "name": "stdout",
     "output_type": "stream",
     "text": [
      "0\n",
      "-2\n",
      "-4\n",
      "-6\n",
      "-8\n"
     ]
    }
   ],
   "source": [
    "for i in range(0,-9,-2):\n",
    "    print (i)"
   ]
  },
  {
   "cell_type": "code",
   "execution_count": 40,
   "metadata": {},
   "outputs": [
    {
     "name": "stdout",
     "output_type": "stream",
     "text": [
      "0부터 100까지 더한 값 : 5050\n"
     ]
    }
   ],
   "source": [
    "a = 0\n",
    "for i in range(0,101):\n",
    "    a += i\n",
    "print ('0부터 100까지 더한 값 : {}'.format(a))"
   ]
  },
  {
   "cell_type": "code",
   "execution_count": 41,
   "metadata": {},
   "outputs": [
    {
     "name": "stdout",
     "output_type": "stream",
     "text": [
      "0부터 100까지 홀수를 더한 값 : 2500\n"
     ]
    }
   ],
   "source": [
    "a = 0\n",
    "for i in range(0,101): \n",
    "    if i % 2 == 1:     \n",
    "        a += i         \n",
    "print ('0부터 100까지 홀수를 더한 값 : {}'.format(a))"
   ]
  },
  {
   "cell_type": "markdown",
   "metadata": {},
   "source": [
    "### `enumerate()` 함수"
   ]
  },
  {
   "cell_type": "markdown",
   "metadata": {},
   "source": [
    "* 리스트를 입력 받아 리스트의 항목과 인덱스의 쌍으로 이루어진 순서쌍들의 리스트와 \n",
    "거의 유사한 값을 생성한다.\n",
    "* 반환값의 자료형은 `enumerate` 이다."
   ]
  },
  {
   "cell_type": "code",
   "execution_count": 42,
   "metadata": {},
   "outputs": [
    {
     "name": "stdout",
     "output_type": "stream",
     "text": [
      "<enumerate object at 0x7f8d08193ea0>\n",
      "[(0, 'strawberry'), (1, 'grape'), (2, 'apple'), (3, 'mango'), (4, 'orange')]\n"
     ]
    }
   ],
   "source": [
    "fruit = ['strawberry', 'grape', 'apple', 'mango', 'orange']\n",
    "a = enumerate(fruit)\n",
    "print(a)\n",
    "print(list(a))"
   ]
  },
  {
   "cell_type": "markdown",
   "metadata": {},
   "source": [
    "리스트의 항목과 인덱스에 대한 정보를 함께 사용하고자 할 때 유용하다."
   ]
  },
  {
   "cell_type": "code",
   "execution_count": 43,
   "metadata": {},
   "outputs": [
    {
     "name": "stdout",
     "output_type": "stream",
     "text": [
      "0 strawberry\n",
      "1 grape\n",
      "2 apple\n",
      "3 mango\n",
      "4 orange\n"
     ]
    }
   ],
   "source": [
    "a = [0,1,2,3,4]\n",
    "for idx, val in enumerate(fruit): \n",
    "    print (idx, val) "
   ]
  },
  {
   "cell_type": "markdown",
   "metadata": {},
   "source": [
    "## `while` 반복문 "
   ]
  },
  {
   "cell_type": "markdown",
   "metadata": {},
   "source": [
    "* 반복 조건이 만족하는 동안 동일한 명령문을 반복 수행.\n",
    "* 반복 조건: 불리언 값을 갖는 표현식이 사용됨\n",
    "* 반복되는 명령문 자체는 동일하지만 사용되는 변수들의 값이 반복실행될 때마다 변경됨."
   ]
  },
  {
   "cell_type": "markdown",
   "metadata": {},
   "source": [
    "**주의:** \n",
    "`for` 반복문의 경우와 마찬가지로 들여쓰기 및 콜론(`:`) 사용에 주의할 것."
   ]
  },
  {
   "cell_type": "code",
   "execution_count": 44,
   "metadata": {},
   "outputs": [
    {
     "name": "stdout",
     "output_type": "stream",
     "text": [
      "55\n"
     ]
    }
   ],
   "source": [
    "a = 10\n",
    "sum = 0\n",
    "\n",
    "while a > 0:  \n",
    "    sum += a  \n",
    "    a -= 1    \n",
    "print(sum)"
   ]
  },
  {
   "cell_type": "code",
   "execution_count": 45,
   "metadata": {},
   "outputs": [
    {
     "name": "stdout",
     "output_type": "stream",
     "text": [
      "[1, 2, 3, 4, 5, 6, 7, 8, 9, 10]\n"
     ]
    }
   ],
   "source": [
    "a = True\n",
    "n = 0\n",
    "a_list = []\n",
    "while a:\n",
    "    n += 1\n",
    "    a_list.append(n)\n",
    "    if n == 10:\n",
    "        a = False\n",
    "print(a_list)"
   ]
  },
  {
   "cell_type": "markdown",
   "metadata": {},
   "source": [
    "## 자연수 "
   ]
  },
  {
   "cell_type": "markdown",
   "metadata": {},
   "source": [
    "파이썬을 포함한 대부분의 프로그래밍 언어에는 자연수 자료형은 없다.\n",
    "대신에 0보다 큰 정수를 자연수로 간주해서 프로그램을 구현한다.\n",
    "\n",
    "**주의:** 경우에 따라 0을 자연수로 포함시키기도 한다."
   ]
  },
  {
   "cell_type": "markdown",
   "metadata": {},
   "source": [
    "### 소수"
   ]
  },
  {
   "cell_type": "code",
   "execution_count": 46,
   "metadata": {},
   "outputs": [
    {
     "name": "stdout",
     "output_type": "stream",
     "text": [
      "17는 소수이다.\n"
     ]
    }
   ],
   "source": [
    "a = 17\n",
    "a_prime = True            \n",
    "for i in range(2,a):      \n",
    "    if a % i == 0:        \n",
    "        a_prime = False   \n",
    "\n",
    "if a_prime == True:\n",
    "    print ('{}는 소수이다.'.format(a)) \n",
    "else:\n",
    "    print ('{}는 소수가 아니다.'.format(a))"
   ]
  },
  {
   "cell_type": "markdown",
   "metadata": {},
   "source": [
    "소수 여부를 판별해주는 함수를 다음과 같이 작성할 수 있다."
   ]
  },
  {
   "cell_type": "code",
   "execution_count": 47,
   "metadata": {},
   "outputs": [],
   "source": [
    "def is_prime(a):\n",
    "    b = range(2, a)  #2부터 a-1까지의 list\n",
    "    c = 0\n",
    "    for i in b:    \n",
    "        if a % i == 0:  \n",
    "            c += 1   \n",
    "    if c > 0:\n",
    "        print ('{}는 소수가 아니다.'.format(a))\n",
    "        d = False   \n",
    "    else:\n",
    "        print ('{}는 소수이다.'.format(a))      \n",
    "        d = True\n",
    "    return d"
   ]
  },
  {
   "cell_type": "code",
   "execution_count": 48,
   "metadata": {},
   "outputs": [
    {
     "name": "stdout",
     "output_type": "stream",
     "text": [
      "31는 소수이다.\n"
     ]
    },
    {
     "data": {
      "text/plain": [
       "True"
      ]
     },
     "execution_count": 48,
     "metadata": {},
     "output_type": "execute_result"
    }
   ],
   "source": [
    "is_prime(31)"
   ]
  },
  {
   "cell_type": "code",
   "execution_count": 49,
   "metadata": {},
   "outputs": [
    {
     "name": "stdout",
     "output_type": "stream",
     "text": [
      "18는 소수가 아니다.\n"
     ]
    },
    {
     "data": {
      "text/plain": [
       "False"
      ]
     },
     "execution_count": 49,
     "metadata": {},
     "output_type": "execute_result"
    }
   ],
   "source": [
    "is_prime(18)"
   ]
  },
  {
   "cell_type": "markdown",
   "metadata": {},
   "source": [
    "#### 예제"
   ]
  },
  {
   "cell_type": "code",
   "execution_count": 50,
   "metadata": {},
   "outputs": [],
   "source": [
    "def is_prime2(a):\n",
    "    b = range(2, a)\n",
    "    c = 0\n",
    "    for i in b:    \n",
    "        if a % i == 0:  \n",
    "            c += 1   \n",
    "    if c > 0:\n",
    "        d = False   \n",
    "    else:\n",
    "        d = True\n",
    "    return d"
   ]
  },
  {
   "cell_type": "code",
   "execution_count": 51,
   "metadata": {},
   "outputs": [
    {
     "name": "stdout",
     "output_type": "stream",
     "text": [
      "[1, 2, 3, 5, 7, 11, 13, 17, 19, 23, 29, 31, 37, 41, 43, 47]\n"
     ]
    }
   ],
   "source": [
    "a = range(1,51)              \n",
    "prime_numbers = []            \n",
    "for i in a:                   \n",
    "    c = is_prime2(i)          \n",
    "    if c == True:             \n",
    "        prime_numbers.append(i)\n",
    "print (prime_numbers)"
   ]
  },
  {
   "cell_type": "markdown",
   "metadata": {},
   "source": [
    "#### 예제"
   ]
  },
  {
   "cell_type": "code",
   "execution_count": 52,
   "metadata": {},
   "outputs": [
    {
     "name": "stdout",
     "output_type": "stream",
     "text": [
      "소수사이 구간의 최대값 : 20\n",
      "최대구간의 소수쌍 : [887, 907]\n"
     ]
    }
   ],
   "source": [
    "a = range(2,1001)\n",
    "prime_numbers = [1]               \n",
    "diff = 0                          \n",
    "\n",
    "for i in a:                       \n",
    "    c = is_prime2(i)              \n",
    "    if c == True:                 \n",
    "        prime_numbers.append(i)   \n",
    "        if prime_numbers[-1] - prime_numbers[-2] > diff:\n",
    "            diff = prime_numbers[-1] - prime_numbers[-2]\n",
    "            max_diff_primes = [prime_numbers[-2], prime_numbers[-1]]\n",
    "\n",
    "print ('소수사이 구간의 최대값 : {}'.format(diff))\n",
    "print ('최대구간의 소수쌍 : {}'.format(max_diff_primes))"
   ]
  },
  {
   "cell_type": "markdown",
   "metadata": {},
   "source": [
    "### 소인수분해"
   ]
  },
  {
   "cell_type": "code",
   "execution_count": 53,
   "metadata": {},
   "outputs": [
    {
     "data": {
      "text/plain": [
       "[17]"
      ]
     },
     "execution_count": 53,
     "metadata": {},
     "output_type": "execute_result"
    }
   ],
   "source": [
    "a = 17\n",
    "b = range(2,a)              \n",
    "primes = []                 \n",
    "for i in b:                 \n",
    "    while a % i == 0:       \n",
    "        primes.append(i)    \n",
    "        a /= i              \n",
    "                            \n",
    "\n",
    "if primes == []:            \n",
    "    primes.append(a)        \n",
    "    \n",
    "primes        "
   ]
  },
  {
   "cell_type": "code",
   "execution_count": 54,
   "metadata": {},
   "outputs": [],
   "source": [
    "def prime_factorization(a):\n",
    "    b = range(2,a)\n",
    "    primes = []\n",
    "    for i in b:   \n",
    "        while a % i == 0: \n",
    "            primes.append(i) \n",
    "            a /= i   \n",
    "    if primes == []:\n",
    "        primes.append(a)\n",
    "    return primes"
   ]
  },
  {
   "cell_type": "code",
   "execution_count": 55,
   "metadata": {},
   "outputs": [
    {
     "name": "stdout",
     "output_type": "stream",
     "text": [
      "[2, 2, 2, 2, 2, 2, 2]\n",
      "[7, 71]\n",
      "[7, 1447981]\n",
      "[17]\n"
     ]
    }
   ],
   "source": [
    "print (prime_factorization(128))\n",
    "print (prime_factorization(497))\n",
    "print (prime_factorization(10135867))\n",
    "print (prime_factorization(17))"
   ]
  },
  {
   "cell_type": "markdown",
   "metadata": {},
   "source": [
    "### 약수"
   ]
  },
  {
   "cell_type": "code",
   "execution_count": 56,
   "metadata": {},
   "outputs": [
    {
     "name": "stdout",
     "output_type": "stream",
     "text": [
      "[1, 2, 3, 4, 6, 8, 12, 24]\n"
     ]
    }
   ],
   "source": [
    "a = 24\n",
    "b = range(1, 24)            \n",
    "factors = []                \n",
    "for i in b:                 \n",
    "    if a % i == 0:          \n",
    "        factors.append(i)   \n",
    "factors.append(a)           \n",
    "print (factors)"
   ]
  },
  {
   "cell_type": "code",
   "execution_count": 57,
   "metadata": {},
   "outputs": [],
   "source": [
    "def factorization(a):\n",
    "    b = range(1, a)   \n",
    "    factors = []\n",
    "    for i in b:\n",
    "        if a % i == 0:\n",
    "            factors.append(i)\n",
    "    factors.append(a)\n",
    "    return factors"
   ]
  },
  {
   "cell_type": "code",
   "execution_count": 58,
   "metadata": {},
   "outputs": [
    {
     "name": "stdout",
     "output_type": "stream",
     "text": [
      "[1, 2, 3, 4, 6, 9, 12, 18, 36]\n",
      "[1, 2, 4, 37, 74, 148]\n"
     ]
    }
   ],
   "source": [
    "print (factorization(36))\n",
    "print (factorization(148))"
   ]
  },
  {
   "cell_type": "markdown",
   "metadata": {},
   "source": [
    "### 최대공약수/최소공배수"
   ]
  },
  {
   "cell_type": "code",
   "execution_count": 59,
   "metadata": {},
   "outputs": [],
   "source": [
    "def intersection(a,b):\n",
    "    c = []\n",
    "    for i in a:\n",
    "        if i  in b:\n",
    "            c.append(i)\n",
    "    return c"
   ]
  },
  {
   "cell_type": "code",
   "execution_count": 60,
   "metadata": {},
   "outputs": [],
   "source": [
    "def greatest_common_factor(a, b, show = False):  \n",
    "    c = factorization(a)         \n",
    "    d = factorization(b)         \n",
    "    if show:                     \n",
    "        print (c)                \n",
    "        print (d)                \n",
    "    e = intersection(c,d)        \n",
    "    return max(e)                "
   ]
  },
  {
   "cell_type": "code",
   "execution_count": 61,
   "metadata": {},
   "outputs": [
    {
     "data": {
      "text/plain": [
       "12"
      ]
     },
     "execution_count": 61,
     "metadata": {},
     "output_type": "execute_result"
    }
   ],
   "source": [
    "a = 36\n",
    "b = 96\n",
    "greatest_common_factor(a,b)  "
   ]
  },
  {
   "cell_type": "code",
   "execution_count": 62,
   "metadata": {},
   "outputs": [
    {
     "name": "stdout",
     "output_type": "stream",
     "text": [
      "[1, 2, 3, 4, 6, 9, 12, 18, 36]\n",
      "[1, 2, 3, 4, 6, 8, 12, 16, 24, 32, 48, 96]\n"
     ]
    },
    {
     "data": {
      "text/plain": [
       "12"
      ]
     },
     "execution_count": 62,
     "metadata": {},
     "output_type": "execute_result"
    }
   ],
   "source": [
    "greatest_common_factor(a,b, show = True)  "
   ]
  },
  {
   "cell_type": "code",
   "execution_count": 63,
   "metadata": {},
   "outputs": [],
   "source": [
    "def sum_abc(a,b,c = 100):\n",
    "    return a + b + c"
   ]
  },
  {
   "cell_type": "code",
   "execution_count": 64,
   "metadata": {},
   "outputs": [
    {
     "data": {
      "text/plain": [
       "6"
      ]
     },
     "execution_count": 64,
     "metadata": {},
     "output_type": "execute_result"
    }
   ],
   "source": [
    "sum_abc(1,2,3)"
   ]
  },
  {
   "cell_type": "code",
   "execution_count": 65,
   "metadata": {},
   "outputs": [
    {
     "data": {
      "text/plain": [
       "103"
      ]
     },
     "execution_count": 65,
     "metadata": {},
     "output_type": "execute_result"
    }
   ],
   "source": [
    "sum_abc(1,2)"
   ]
  },
  {
   "cell_type": "code",
   "execution_count": 66,
   "metadata": {},
   "outputs": [
    {
     "name": "stdout",
     "output_type": "stream",
     "text": [
      "[2, 2, 3, 3]\n",
      "[2, 2, 2, 2, 2, 3]\n"
     ]
    }
   ],
   "source": [
    "print (prime_factorization(36))\n",
    "print (prime_factorization(96))"
   ]
  },
  {
   "cell_type": "code",
   "execution_count": 67,
   "metadata": {},
   "outputs": [],
   "source": [
    "def least_common_multiple(a, b):\n",
    "    c = prime_factorization(a)  \n",
    "    d = prime_factorization(b)  \n",
    "    for i in c:            \n",
    "        if i in d:              \n",
    "            d.remove(i)         \n",
    "    e = c + d                   \n",
    "    f = 1\n",
    "    for i in e:     \n",
    "        f *= i      \n",
    "    return f"
   ]
  },
  {
   "cell_type": "code",
   "execution_count": 68,
   "metadata": {},
   "outputs": [
    {
     "name": "stdout",
     "output_type": "stream",
     "text": [
      "288\n",
      "28\n"
     ]
    }
   ],
   "source": [
    "print (least_common_multiple(36,96))\n",
    "print (least_common_multiple(4,7))"
   ]
  },
  {
   "cell_type": "markdown",
   "metadata": {},
   "source": [
    "### 십진법 표현하기"
   ]
  },
  {
   "cell_type": "code",
   "execution_count": 69,
   "metadata": {},
   "outputs": [
    {
     "name": "stdout",
     "output_type": "stream",
     "text": [
      "[5, 2, 3]\n",
      "[3, 2, 5]\n"
     ]
    }
   ],
   "source": [
    "a = 325\n",
    "digit_10 = []\n",
    "while a // 10 != 0:       \n",
    "    e = a % 10            \n",
    "    digit_10.append(e)    \n",
    "    a //= 10              \n",
    "                          \n",
    "digit_10.append(a)        \n",
    "print (digit_10)\n",
    "digit_10.reverse()        \n",
    "print (digit_10)"
   ]
  },
  {
   "cell_type": "code",
   "execution_count": 70,
   "metadata": {},
   "outputs": [],
   "source": [
    "def digit_expand(a, n=10):   # n은 진법을 가리킴. 기본은 10진법\n",
    "    digit_10 = []\n",
    "    while a // n != 0: \n",
    "        e = a % n  \n",
    "        digit_10.append(e)\n",
    "        a //= n \n",
    "\n",
    "    digit_10.append(a)\n",
    "    digit_10.reverse()\n",
    "    \n",
    "    return digit_10"
   ]
  },
  {
   "cell_type": "code",
   "execution_count": 71,
   "metadata": {},
   "outputs": [
    {
     "data": {
      "text/plain": [
       "[1, 7, 3, 2]"
      ]
     },
     "execution_count": 71,
     "metadata": {},
     "output_type": "execute_result"
    }
   ],
   "source": [
    "a = digit_expand(1732, 10)\n",
    "a"
   ]
  },
  {
   "cell_type": "markdown",
   "metadata": {},
   "source": [
    "### 이진법 표현하기"
   ]
  },
  {
   "cell_type": "code",
   "execution_count": 72,
   "metadata": {},
   "outputs": [
    {
     "data": {
      "text/plain": [
       "[1, 0, 1, 1]"
      ]
     },
     "execution_count": 72,
     "metadata": {},
     "output_type": "execute_result"
    }
   ],
   "source": [
    "a = digit_expand(11, 2)\n",
    "a"
   ]
  },
  {
   "cell_type": "code",
   "execution_count": 73,
   "metadata": {},
   "outputs": [
    {
     "name": "stdout",
     "output_type": "stream",
     "text": [
      "[1, 1, 0, 1, 1, 0, 0, 0, 1, 0, 0]\n"
     ]
    }
   ],
   "source": [
    "print (digit_expand(1732,2))"
   ]
  },
  {
   "cell_type": "code",
   "execution_count": 74,
   "metadata": {},
   "outputs": [
    {
     "name": "stdout",
     "output_type": "stream",
     "text": [
      "[5, 0, 2, 3]\n",
      "[2, 3, 3, 4]\n",
      "[6, 12, 4]\n"
     ]
    }
   ],
   "source": [
    "print (digit_expand(1732,7))\n",
    "print (digit_expand(1732,9))\n",
    "print (digit_expand(1732,16))"
   ]
  },
  {
   "cell_type": "markdown",
   "metadata": {},
   "source": [
    "### 진법 변형하기 (수정 필요, docstring 포함)"
   ]
  },
  {
   "cell_type": "code",
   "execution_count": 75,
   "metadata": {},
   "outputs": [],
   "source": [
    "def Number_system_change(number, n=10, m=2):\n",
    "    \"\"\" 지정한 진법으로 숫자를 바꾼다.\n",
    "    \n",
    "    number : 변형하려는 숫자\n",
    "    n : 현재의 진법. 기본은 십진법.\n",
    "    m : 미래의 진법. 기본은 이진법\n",
    "    number의 각 숫자가 n보다 크거나 같으면 error\n",
    "    \"\"\"\n",
    "    num_str = str(number)  # 325\n",
    "    len_num = len(num_str) # 3\n",
    "    \n",
    "    # 우선 10진법으로 바꾸기\n",
    "    number_10 = 0\n",
    "    for i, num in enumerate(num_str):     # (0,'3'), (1,'2'), (2,'5') 형태의 (i,num)이 됨\n",
    "        num_int = int(num)                # 문자형'3'을 정수형 3으로 변형\n",
    "        if num_int >= n:                  # 2진법에 2보다 큰 숫자가 오면 안되므로 이 조건문을 써야함\n",
    "            print ('{}는 {}보다 크거나 같으니 {}진법의 수가 아니다.'.format(num_int, n, n))\n",
    "            break                         # 이렇게 잘못하면 break로 if와 for 반복을 끝냄\n",
    "        else:\n",
    "            number_10 += num_int*n**(len_num-i-1)  #(3 x 6**2) + (2 x 6) + (5 x 1) 하는 과정임\n",
    "\n",
    "    # 10진법을 m진법으로 바꾸기\n",
    "    number_m = digit_expand(number_10, m)  \n",
    "    return number_m"
   ]
  },
  {
   "cell_type": "code",
   "execution_count": 76,
   "metadata": {},
   "outputs": [
    {
     "data": {
      "text/plain": [
       "[6, 4, 3]"
      ]
     },
     "execution_count": 76,
     "metadata": {},
     "output_type": "execute_result"
    }
   ],
   "source": [
    "Number_system_change(325,10,7)  # 10진수인 325를 7진수로 표기하여라"
   ]
  },
  {
   "cell_type": "code",
   "execution_count": 77,
   "metadata": {},
   "outputs": [
    {
     "data": {
      "text/plain": [
       "[2, 3, 3, 4]"
      ]
     },
     "execution_count": 77,
     "metadata": {},
     "output_type": "execute_result"
    }
   ],
   "source": [
    "Number_system_change(5023,7,9)"
   ]
  }
 ],
 "metadata": {
  "kernelspec": {
   "display_name": "Python 3",
   "language": "python",
   "name": "python3"
  },
  "language_info": {
   "codemirror_mode": {
    "name": "ipython",
    "version": 3
   },
   "file_extension": ".py",
   "mimetype": "text/x-python",
   "name": "python",
   "nbconvert_exporter": "python",
   "pygments_lexer": "ipython3",
   "version": "3.6.8"
  }
 },
 "nbformat": 4,
 "nbformat_minor": 2
}
