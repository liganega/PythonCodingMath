{
 "cells": [
  {
   "cell_type": "markdown",
   "metadata": {
    "slideshow": {
     "slide_type": "slide"
    }
   },
   "source": [
    "# 2부 코딩 수학 기초"
   ]
  },
  {
   "cell_type": "markdown",
   "metadata": {
    "slideshow": {
     "slide_type": "slide"
    }
   },
   "source": [
    "## 1장 불리언 자료형과 비교 연산자"
   ]
  },
  {
   "cell_type": "code",
   "execution_count": 1,
   "metadata": {
    "slideshow": {
     "slide_type": "slide"
    }
   },
   "outputs": [
    {
     "name": "stdout",
     "output_type": "stream",
     "text": [
      "False\n"
     ]
    },
    {
     "data": {
      "text/plain": [
       "bool"
      ]
     },
     "execution_count": 1,
     "metadata": {},
     "output_type": "execute_result"
    }
   ],
   "source": [
    "a = 5\n",
    "print(a > 10)\n",
    "type(a<10)"
   ]
  },
  {
   "cell_type": "markdown",
   "metadata": {},
   "source": [
    "`for` 반복문에서 사용하는 'in' 연산자도 불리언 값을 반환한다.\n",
    "\n",
    "* 주의: 모든 연산자는 함수이다. 따라서 모두 반환값이 존재한다."
   ]
  },
  {
   "cell_type": "code",
   "execution_count": 2,
   "metadata": {},
   "outputs": [
    {
     "name": "stdout",
     "output_type": "stream",
     "text": [
      "True\n"
     ]
    },
    {
     "data": {
      "text/plain": [
       "bool"
      ]
     },
     "execution_count": 2,
     "metadata": {},
     "output_type": "execute_result"
    }
   ],
   "source": [
    "a = 'apple'\n",
    "b = ['tomato', 'orange', 'strawberry', 'apple']\n",
    "print(a in b)\n",
    "type(a in b)"
   ]
  },
  {
   "cell_type": "code",
   "execution_count": 3,
   "metadata": {},
   "outputs": [
    {
     "name": "stdout",
     "output_type": "stream",
     "text": [
      "4\n",
      "5\n"
     ]
    }
   ],
   "source": [
    "for i in [1,2,3,4,5]: \n",
    "    if i > 3:         \n",
    "        print(i)      "
   ]
  },
  {
   "cell_type": "code",
   "execution_count": 4,
   "metadata": {},
   "outputs": [
    {
     "name": "stdout",
     "output_type": "stream",
     "text": [
      "1\n"
     ]
    }
   ],
   "source": [
    "if True:\n",
    "    print('1')"
   ]
  },
  {
   "cell_type": "code",
   "execution_count": 5,
   "metadata": {},
   "outputs": [],
   "source": [
    "if False:\n",
    "    print('1')"
   ]
  },
  {
   "cell_type": "markdown",
   "metadata": {},
   "source": [
    "### 비교 연산자"
   ]
  },
  {
   "cell_type": "markdown",
   "metadata": {},
   "source": [
    "변수 선언문은 어떤 값을 의미하지 않음."
   ]
  },
  {
   "cell_type": "code",
   "execution_count": 6,
   "metadata": {},
   "outputs": [
    {
     "ename": "TypeError",
     "evalue": "'a' is an invalid keyword argument for this function",
     "output_type": "error",
     "traceback": [
      "\u001b[0;31m---------------------------------------------------------------------------\u001b[0m",
      "\u001b[0;31mTypeError\u001b[0m                                 Traceback (most recent call last)",
      "\u001b[0;32m<ipython-input-6-706bd4edf98e>\u001b[0m in \u001b[0;36m<module>\u001b[0;34m\u001b[0m\n\u001b[1;32m      1\u001b[0m \u001b[0ma\u001b[0m \u001b[0;34m=\u001b[0m \u001b[0;36m3\u001b[0m\u001b[0;34m\u001b[0m\u001b[0;34m\u001b[0m\u001b[0m\n\u001b[0;32m----> 2\u001b[0;31m \u001b[0mprint\u001b[0m\u001b[0;34m(\u001b[0m\u001b[0ma\u001b[0m \u001b[0;34m=\u001b[0m \u001b[0;36m3\u001b[0m\u001b[0;34m)\u001b[0m\u001b[0;34m\u001b[0m\u001b[0;34m\u001b[0m\u001b[0m\n\u001b[0m",
      "\u001b[0;31mTypeError\u001b[0m: 'a' is an invalid keyword argument for this function"
     ]
    }
   ],
   "source": [
    "a = 3\n",
    "print(a = 3)"
   ]
  },
  {
   "cell_type": "markdown",
   "metadata": {},
   "source": [
    "두 값의 동일성/비동일성 여부는 `==`/`!=` 연산자 사용"
   ]
  },
  {
   "cell_type": "code",
   "execution_count": 7,
   "metadata": {},
   "outputs": [
    {
     "name": "stdout",
     "output_type": "stream",
     "text": [
      "True\n",
      "False\n",
      "False\n",
      "True\n"
     ]
    }
   ],
   "source": [
    "print(a == 3)\n",
    "print(a == 4)\n",
    "\n",
    "print(a != 3)\n",
    "print(a != 4)"
   ]
  },
  {
   "cell_type": "code",
   "execution_count": 8,
   "metadata": {},
   "outputs": [
    {
     "name": "stdout",
     "output_type": "stream",
     "text": [
      "9는 홀수이다\n",
      "9\n",
      "4는 짝수이다\n",
      "4\n"
     ]
    }
   ],
   "source": [
    "def odd_or_even(n):\n",
    "    if n % 2 == 0:\n",
    "        print ('{}는 짝수이다'.format(n))\n",
    "        k = 'even'\n",
    "    elif n %2 != 0:\n",
    "        print ('{}는 홀수이다'.format(n))\n",
    "        k = 'odd'\n",
    "    return n\n",
    "print (odd_or_even(9))\n",
    "print (odd_or_even(4))"
   ]
  },
  {
   "cell_type": "markdown",
   "metadata": {},
   "source": [
    "## 2장 사칙연산"
   ]
  },
  {
   "cell_type": "markdown",
   "metadata": {},
   "source": [
    "### 정수와 소수 사칙연산"
   ]
  },
  {
   "cell_type": "code",
   "execution_count": 18,
   "metadata": {},
   "outputs": [
    {
     "name": "stdout",
     "output_type": "stream",
     "text": [
      "8\n",
      "11\n",
      "15\n",
      "4.0\n",
      "<class 'float'>\n"
     ]
    }
   ],
   "source": [
    "print(3 + 5)\n",
    "print(38 - 27)\n",
    "print(3 * 5)  \n",
    "print(8 / 2)  \n",
    "print(type(8 / 2))"
   ]
  },
  {
   "cell_type": "code",
   "execution_count": 20,
   "metadata": {},
   "outputs": [
    {
     "name": "stdout",
     "output_type": "stream",
     "text": [
      "0\n",
      "3.5\n",
      "1\n",
      "3\n"
     ]
    }
   ],
   "source": [
    "print(8 % 2)   # 나머지 구하기\n",
    "print(7 / 2)   # 나누기\n",
    "print(7 % 2)   # 나머지 구하기\n",
    "print(7 // 2)  # 몫 구하기"
   ]
  },
  {
   "cell_type": "markdown",
   "metadata": {},
   "source": [
    "### 거듭제곱(지수승)"
   ]
  },
  {
   "cell_type": "code",
   "execution_count": 21,
   "metadata": {},
   "outputs": [
    {
     "name": "stdout",
     "output_type": "stream",
     "text": [
      "8\n",
      "9\n",
      "10000\n"
     ]
    }
   ],
   "source": [
    "print(2**3)\n",
    "print(3**2)\n",
    "print(100**2)"
   ]
  },
  {
   "cell_type": "markdown",
   "metadata": {},
   "source": [
    "괄호에 주의할 것"
   ]
  },
  {
   "cell_type": "code",
   "execution_count": 22,
   "metadata": {},
   "outputs": [
    {
     "name": "stdout",
     "output_type": "stream",
     "text": [
      "4\n",
      "-4\n"
     ]
    }
   ],
   "source": [
    "print((-2)**2)\n",
    "print(-2 **2)"
   ]
  },
  {
   "cell_type": "markdown",
   "metadata": {},
   "source": [
    "### 반올림 함수: `round()`"
   ]
  },
  {
   "cell_type": "code",
   "execution_count": 31,
   "metadata": {},
   "outputs": [
    {
     "name": "stdout",
     "output_type": "stream",
     "text": [
      "3\n",
      "4\n",
      "4\n"
     ]
    }
   ],
   "source": [
    "print(round(3.2))\n",
    "print(round(3.7))\n",
    "print(round(3.5))"
   ]
  },
  {
   "cell_type": "markdown",
   "metadata": {},
   "source": [
    "`round()` 함수의 리턴값은 정수 자료형이다."
   ]
  },
  {
   "cell_type": "code",
   "execution_count": 34,
   "metadata": {},
   "outputs": [
    {
     "name": "stdout",
     "output_type": "stream",
     "text": [
      "<class 'int'>\n"
     ]
    }
   ],
   "source": [
    "print(type(round(3.2)))"
   ]
  },
  {
   "cell_type": "markdown",
   "metadata": {},
   "source": [
    "## `math` 모듈 소개"
   ]
  },
  {
   "cell_type": "markdown",
   "metadata": {},
   "source": [
    "* 지금까지는 파이썬의 기본패키지만 사용하였음.\n",
    "* 하지만 보다 전문적인 프로그래밍을 위해서는 추가 모듈과 패키지가 요구됨.\n",
    "* 여기서는 `math` 라는 모듈을 임포트(`import`, 추가 장착)하여 사용할 것임.\n",
    "    * `math` 모듈 안에는 `sin`, `cos` 등 다양한 수학 함수들이 정의되어 있다.\n",
    "* 모듈\n",
    "    * 우선은 함수들의 정의를 모아 놓은 파이썬 소스코드 파일이라고 생각하면 됨.\n",
    "    * 일종의 추가 도구상자 역할을 한다.\n",
    "    * 예를 들어, 아래 예제에서 사용되는 `sqrt()` 함수는 제곱근을 구해주는 함수인데\n",
    "        `math` 모듈(상자)에 포함되어 있다, 즉, 이미 구현되어 있다."
   ]
  },
  {
   "cell_type": "markdown",
   "metadata": {},
   "source": [
    "### 거듭제곱근"
   ]
  },
  {
   "cell_type": "markdown",
   "metadata": {},
   "source": [
    "모듈 임포트 방식은 보통 아래 모양을 갖는다.\n",
    "\n",
    "```python\n",
    "import math\n",
    "```"
   ]
  },
  {
   "cell_type": "code",
   "execution_count": 47,
   "metadata": {},
   "outputs": [],
   "source": [
    "import math"
   ]
  },
  {
   "cell_type": "markdown",
   "metadata": {},
   "source": [
    "임포트된 모듈에 정의된 함수들은 모듈 이름과 함께 사용해야 한다. \n",
    "```python\n",
    "모듈이름.함수이름(인자1,...,인자k)\n",
    "```"
   ]
  },
  {
   "cell_type": "code",
   "execution_count": 48,
   "metadata": {},
   "outputs": [
    {
     "name": "stdout",
     "output_type": "stream",
     "text": [
      "10.0\n",
      "4.0\n",
      "2.6457513110645907\n"
     ]
    },
    {
     "ename": "ValueError",
     "evalue": "math domain error",
     "output_type": "error",
     "traceback": [
      "\u001b[0;31m---------------------------------------------------------------------------\u001b[0m",
      "\u001b[0;31mValueError\u001b[0m                                Traceback (most recent call last)",
      "\u001b[0;32m<ipython-input-48-02424597ad2a>\u001b[0m in \u001b[0;36m<module>\u001b[0;34m\u001b[0m\n\u001b[1;32m      4\u001b[0m \u001b[0;34m\u001b[0m\u001b[0m\n\u001b[1;32m      5\u001b[0m \u001b[0;31m# 제곱근은 음수에는 정의되어 있지 않다.\u001b[0m\u001b[0;34m\u001b[0m\u001b[0;34m\u001b[0m\u001b[0;34m\u001b[0m\u001b[0m\n\u001b[0;32m----> 6\u001b[0;31m \u001b[0mprint\u001b[0m \u001b[0;34m(\u001b[0m\u001b[0mmath\u001b[0m\u001b[0;34m.\u001b[0m\u001b[0msqrt\u001b[0m\u001b[0;34m(\u001b[0m\u001b[0;34m-\u001b[0m\u001b[0;36m4\u001b[0m\u001b[0;34m)\u001b[0m\u001b[0;34m)\u001b[0m\u001b[0;34m\u001b[0m\u001b[0;34m\u001b[0m\u001b[0m\n\u001b[0m",
      "\u001b[0;31mValueError\u001b[0m: math domain error"
     ]
    }
   ],
   "source": [
    "print (math.sqrt(100))\n",
    "print (math.sqrt(16))\n",
    "print (math.sqrt(7))\n",
    "\n",
    "# 제곱근은 음수에는 정의되어 있지 않다.\n",
    "print (math.sqrt(-4))"
   ]
  },
  {
   "cell_type": "markdown",
   "metadata": {},
   "source": [
    "## 3장 `for` 반복문: `range()`와 `enumerate()` 활용"
   ]
  },
  {
   "cell_type": "markdown",
   "metadata": {},
   "source": [
    "### `range()` 함수"
   ]
  },
  {
   "cell_type": "markdown",
   "metadata": {},
   "source": [
    "* `range()` 함수의 반환값은 리스트 처럼 사용된다.\n",
    "* 반환값의 자료형은 `range`라고 불린다.\n",
    "* 우선은 `range`와 `list` 자료형을 동일한 방식으로 사용하도록 하자."
   ]
  },
  {
   "cell_type": "code",
   "execution_count": 36,
   "metadata": {},
   "outputs": [
    {
     "name": "stdout",
     "output_type": "stream",
     "text": [
      "range(0, 5)\n",
      "<class 'range'>\n"
     ]
    }
   ],
   "source": [
    "a  = range(5)\n",
    "print(a)\n",
    "print(type(a))"
   ]
  },
  {
   "cell_type": "code",
   "execution_count": 48,
   "metadata": {},
   "outputs": [
    {
     "name": "stdout",
     "output_type": "stream",
     "text": [
      "0\n",
      "1\n",
      "2\n",
      "3\n",
      "4\n"
     ]
    }
   ],
   "source": [
    "for i in range(5):\n",
    "    print (i)"
   ]
  },
  {
   "cell_type": "markdown",
   "metadata": {},
   "source": [
    "`range()` 함수의 인자들의 역할은 리스트 슬라이싱 기능과 동일하다. "
   ]
  },
  {
   "cell_type": "code",
   "execution_count": 50,
   "metadata": {},
   "outputs": [
    {
     "name": "stdout",
     "output_type": "stream",
     "text": [
      "0\n",
      "2\n",
      "4\n",
      "6\n",
      "8\n"
     ]
    }
   ],
   "source": [
    "for i in range(0,9,2):\n",
    "    print (i)"
   ]
  },
  {
   "cell_type": "markdown",
   "metadata": {},
   "source": [
    "즉, `range(0,9,2)`는 `[0, 2, 4, 6, 8]`과 거의 동일한 기능을 수행한다."
   ]
  },
  {
   "cell_type": "code",
   "execution_count": 38,
   "metadata": {},
   "outputs": [
    {
     "name": "stdout",
     "output_type": "stream",
     "text": [
      "0\n",
      "-2\n",
      "-4\n",
      "-6\n",
      "-8\n"
     ]
    }
   ],
   "source": [
    "for i in range(0,-9,-2):\n",
    "    print (i)"
   ]
  },
  {
   "cell_type": "code",
   "execution_count": 39,
   "metadata": {},
   "outputs": [
    {
     "name": "stdout",
     "output_type": "stream",
     "text": [
      "0부터 100까지 더한 값 : 5050\n"
     ]
    }
   ],
   "source": [
    "a = 0\n",
    "for i in range(0,101):\n",
    "    a += i\n",
    "print ('0부터 100까지 더한 값 : {}'.format(a))"
   ]
  },
  {
   "cell_type": "code",
   "execution_count": 41,
   "metadata": {},
   "outputs": [
    {
     "name": "stdout",
     "output_type": "stream",
     "text": [
      "0부터 100까지 홀수를 더한 값 : 2500\n"
     ]
    }
   ],
   "source": [
    "a = 0\n",
    "for i in range(0,101): \n",
    "    if i % 2 == 1:     \n",
    "        a += i         \n",
    "print ('0부터 100까지 홀수를 더한 값 : {}'.format(a))"
   ]
  },
  {
   "cell_type": "markdown",
   "metadata": {},
   "source": [
    "### `enumerate()` 함수"
   ]
  },
  {
   "cell_type": "markdown",
   "metadata": {},
   "source": [
    "* 리스트를 입력 받아 리스트의 항목과 인덱스의 쌍으로 이루어진 순서쌍들의 리스트와 \n",
    "거의 유사한 값을 생성한다.\n",
    "* 반환값의 자료형은 `enumerate` 이다."
   ]
  },
  {
   "cell_type": "code",
   "execution_count": 45,
   "metadata": {},
   "outputs": [
    {
     "name": "stdout",
     "output_type": "stream",
     "text": [
      "<enumerate object at 0x7f3e63e9b8b8>\n",
      "[(0, 'strawberry'), (1, 'grape'), (2, 'apple'), (3, 'mango'), (4, 'orange')]\n"
     ]
    }
   ],
   "source": [
    "fruit = ['strawberry', 'grape', 'apple', 'mango', 'orange']\n",
    "a = enumerate(fruit)\n",
    "print(a)\n",
    "print(list(a))"
   ]
  },
  {
   "cell_type": "markdown",
   "metadata": {},
   "source": [
    "리스트의 항목과 인덱스에 대한 정보를 함께 사용하고자 할 때 유용하다."
   ]
  },
  {
   "cell_type": "code",
   "execution_count": 46,
   "metadata": {},
   "outputs": [
    {
     "name": "stdout",
     "output_type": "stream",
     "text": [
      "0 strawberry\n",
      "1 grape\n",
      "2 apple\n",
      "3 mango\n",
      "4 orange\n"
     ]
    }
   ],
   "source": [
    "a = [0,1,2,3,4]\n",
    "for idx, val in enumerate(fruit): \n",
    "    print (idx, val) "
   ]
  },
  {
   "cell_type": "markdown",
   "metadata": {},
   "source": [
    "## Chapter 4 while 반복문 "
   ]
  },
  {
   "cell_type": "code",
   "execution_count": 58,
   "metadata": {},
   "outputs": [
    {
     "name": "stdout",
     "output_type": "stream",
     "text": [
      "55\n"
     ]
    }
   ],
   "source": [
    "a = 10\n",
    "c = 0\n",
    "\n",
    "while a > 0:  # a 가 0보다 클때까지\n",
    "    c += a    # c에다가는 a를 더하고\n",
    "    a -= 1    # a는 a-1의 숫자로 재정의한다. (조건에 변화를 주는 문장))\n",
    "print (c)"
   ]
  },
  {
   "cell_type": "code",
   "execution_count": 59,
   "metadata": {},
   "outputs": [
    {
     "name": "stdout",
     "output_type": "stream",
     "text": [
      "1\n",
      "2\n",
      "3\n",
      "4\n",
      "5\n",
      "6\n",
      "7\n",
      "8\n",
      "9\n",
      "10\n",
      "11\n",
      "12\n",
      "13\n",
      "14\n",
      "15\n",
      "16\n",
      "17\n",
      "18\n",
      "19\n",
      "20\n"
     ]
    }
   ],
   "source": [
    "a = 0\n",
    "while a < 20:  # a가 20보다 작을때까지\n",
    "    a += 1     # a에 1씩 더하고\n",
    "    print (a)    # a를 출력하여라"
   ]
  },
  {
   "cell_type": "code",
   "execution_count": 60,
   "metadata": {},
   "outputs": [
    {
     "name": "stdout",
     "output_type": "stream",
     "text": [
      "1\n",
      "2\n",
      "3\n",
      "4\n",
      "5\n",
      "6\n",
      "7\n",
      "8\n",
      "9\n",
      "10\n"
     ]
    }
   ],
   "source": [
    "a = True\n",
    "n = 0\n",
    "while a:\n",
    "    n += 1\n",
    "    print (n)\n",
    "    if n == 10:\n",
    "        a = False"
   ]
  },
  {
   "cell_type": "markdown",
   "metadata": {},
   "source": [
    "## 5장 `numpy` 모듈 활용"
   ]
  },
  {
   "cell_type": "markdown",
   "metadata": {},
   "source": [
    "### `numpy` 모듈 소개"
   ]
  },
  {
   "cell_type": "markdown",
   "metadata": {},
   "source": [
    "* `numpy` 라는 수치계산 전용 모듈을 임포트(`import`, 추가 장착)하여 사용할 것임.\n",
    "* 앞서 언급한 `math` 모듈보다 훨씬 다양하고 보다 효율적으로 작동하는 수학 함수들을 포함한다."
   ]
  },
  {
   "cell_type": "markdown",
   "metadata": {},
   "source": [
    "### 거듭제곱근"
   ]
  },
  {
   "cell_type": "markdown",
   "metadata": {},
   "source": [
    "* `numpy` 모듈에서 `sqrt` 함수가 정의되어 있다.\n",
    "* `numpy` 모듈은 관행적으로 `np` 약칭으로 임포트한다.\n",
    "\n",
    "**주의:** 약칭을 이용하여 임포트한 모듈은 약칭으로만 사용해야 한다."
   ]
  },
  {
   "cell_type": "code",
   "execution_count": 49,
   "metadata": {},
   "outputs": [],
   "source": [
    "import numpy as np"
   ]
  },
  {
   "cell_type": "code",
   "execution_count": 51,
   "metadata": {},
   "outputs": [
    {
     "name": "stdout",
     "output_type": "stream",
     "text": [
      "10.0\n",
      "4.0\n",
      "2.6457513110645907\n",
      "nan\n"
     ]
    },
    {
     "name": "stderr",
     "output_type": "stream",
     "text": [
      "/usr/local/lib/python3.6/dist-packages/ipykernel_launcher.py:6: RuntimeWarning: invalid value encountered in sqrt\n",
      "  \n"
     ]
    }
   ],
   "source": [
    "print (np.sqrt(100))\n",
    "print (np.sqrt(16))\n",
    "print (np.sqrt(7))\n",
    "\n",
    "# 제곱근은 음수에는 정의되어 있지 않다.\n",
    "print (np.sqrt(-4))"
   ]
  },
  {
   "cell_type": "markdown",
   "metadata": {},
   "source": [
    "###  `numpy` 모듈의 `array` 자료형"
   ]
  },
  {
   "cell_type": "markdown",
   "metadata": {},
   "source": [
    "* `numpy`와 같은 모듈이 추가되면 자료형도 확장되기도 한다. \n",
    "* `array` 자료형도 그중 하나이다.\n",
    "    * 엄밀하게는 `ndarray`이지만 보통 넘파이 어레이라 부른다.\n",
    "    * `list` 자료형과 매우 유사\n",
    "    * 좀 더 다양한 기능을 제공한다."
   ]
  },
  {
   "cell_type": "markdown",
   "metadata": {},
   "source": [
    "리스트를 이용하여 어레이 생성 가능\n",
    "\n",
    "**주의:** `print` 함수의 출력결과 모양이 다름."
   ]
  },
  {
   "cell_type": "code",
   "execution_count": 55,
   "metadata": {},
   "outputs": [
    {
     "name": "stdout",
     "output_type": "stream",
     "text": [
      "[1, 2, 3, 4, 5]\n",
      "<class 'list'>\n",
      "[1 2 3 4 5]\n",
      "<class 'numpy.ndarray'>\n"
     ]
    }
   ],
   "source": [
    "a = [1,2,3,4,5]\n",
    "b = np.array(a)\n",
    "\n",
    "print(a)\n",
    "print(type(a))\n",
    "print(b)\n",
    "print(type(b))"
   ]
  },
  {
   "cell_type": "markdown",
   "metadata": {},
   "source": [
    "인덱싱, 슬라이싱 기능은 리스트의 경우와 동일"
   ]
  },
  {
   "cell_type": "code",
   "execution_count": 53,
   "metadata": {},
   "outputs": [
    {
     "name": "stdout",
     "output_type": "stream",
     "text": [
      "1 1\n",
      "2 2\n",
      "5 5\n",
      "[2 3]\n",
      "[1 3 5]\n"
     ]
    }
   ],
   "source": [
    "print (b[0], b[-5])\n",
    "print (b[1], b[-4])\n",
    "print (b[4], b[-1])\n",
    "print (b[1:3])\n",
    "print (b[::2])"
   ]
  },
  {
   "cell_type": "markdown",
   "metadata": {},
   "source": [
    "#### 리스트와 어레이의 차이점"
   ]
  },
  {
   "cell_type": "markdown",
   "metadata": {},
   "source": [
    "* 리스트와 숫자의 연산 불가"
   ]
  },
  {
   "cell_type": "code",
   "execution_count": 56,
   "metadata": {},
   "outputs": [
    {
     "ename": "TypeError",
     "evalue": "can only concatenate list (not \"int\") to list",
     "output_type": "error",
     "traceback": [
      "\u001b[0;31m---------------------------------------------------------------------------\u001b[0m",
      "\u001b[0;31mTypeError\u001b[0m                                 Traceback (most recent call last)",
      "\u001b[0;32m<ipython-input-56-5cd40e0bb6cf>\u001b[0m in \u001b[0;36m<module>\u001b[0;34m\u001b[0m\n\u001b[0;32m----> 1\u001b[0;31m \u001b[0ma\u001b[0m \u001b[0;34m+\u001b[0m \u001b[0;36m5\u001b[0m\u001b[0;34m\u001b[0m\u001b[0;34m\u001b[0m\u001b[0m\n\u001b[0m",
      "\u001b[0;31mTypeError\u001b[0m: can only concatenate list (not \"int\") to list"
     ]
    }
   ],
   "source": [
    "a + 5"
   ]
  },
  {
   "cell_type": "markdown",
   "metadata": {},
   "source": [
    "* 어레이와 숫자의 연산 가능"
   ]
  },
  {
   "cell_type": "code",
   "execution_count": 63,
   "metadata": {},
   "outputs": [
    {
     "name": "stdout",
     "output_type": "stream",
     "text": [
      "[1 2 3 4 5]\n",
      "[ 6  7  8  9 10]\n",
      "[1, 2, 3, 4, 5, 1, 2, 3, 4, 5]\n",
      "[ 2  4  6  8 10]\n",
      "[0.25 0.5  0.75 1.   1.25]\n",
      "[ 1  4  9 16 25]\n",
      "[2.44948974 2.64575131 2.82842712 3.         3.16227766]\n"
     ]
    }
   ],
   "source": [
    "c = b + 5\n",
    "\n",
    "print(b)\n",
    "print(c)\n",
    "\n",
    "print(a*2)\n",
    "print(b*2)\n",
    "\n",
    "print(b/4)\n",
    "print(b**2)\n",
    "\n",
    "print(np.sqrt(c))"
   ]
  },
  {
   "cell_type": "markdown",
   "metadata": {},
   "source": [
    "### 어레이 사책연산: `np.multiply` 연산자"
   ]
  },
  {
   "cell_type": "code",
   "execution_count": 71,
   "metadata": {},
   "outputs": [
    {
     "data": {
      "text/plain": [
       "array([ 4, 10, 18])"
      ]
     },
     "execution_count": 71,
     "metadata": {},
     "output_type": "execute_result"
    }
   ],
   "source": [
    "a = np.array([1,2,3])\n",
    "b = np.array([4,5,6])\n",
    "np.multiply(a,b)"
   ]
  },
  {
   "cell_type": "markdown",
   "metadata": {},
   "source": [
    "### 04 np.max, np.min : array의 최대값과 최소값 구하기"
   ]
  },
  {
   "cell_type": "code",
   "execution_count": 72,
   "metadata": {},
   "outputs": [
    {
     "name": "stdout",
     "output_type": "stream",
     "text": [
      "3\n",
      "4\n"
     ]
    }
   ],
   "source": [
    "print (np.max(a))\n",
    "print (np.min(b))"
   ]
  },
  {
   "cell_type": "markdown",
   "metadata": {},
   "source": [
    "### 05 np.argmax, np.argmin으로 array의 최대값과 최소값의 index 구하기"
   ]
  },
  {
   "cell_type": "code",
   "execution_count": 73,
   "metadata": {},
   "outputs": [
    {
     "name": "stdout",
     "output_type": "stream",
     "text": [
      "2\n",
      "0\n"
     ]
    }
   ],
   "source": [
    "print (np.argmax(a))\n",
    "print (np.argmin(b))"
   ]
  },
  {
   "cell_type": "markdown",
   "metadata": {},
   "source": [
    "### 06 random으로 numpy 난수 만들기 "
   ]
  },
  {
   "cell_type": "code",
   "execution_count": 74,
   "metadata": {},
   "outputs": [
    {
     "data": {
      "text/plain": [
       "6"
      ]
     },
     "execution_count": 74,
     "metadata": {},
     "output_type": "execute_result"
    }
   ],
   "source": [
    "np.random.randint(9)"
   ]
  },
  {
   "cell_type": "code",
   "execution_count": 75,
   "metadata": {},
   "outputs": [
    {
     "data": {
      "text/plain": [
       "array([110, 106])"
      ]
     },
     "execution_count": 75,
     "metadata": {},
     "output_type": "execute_result"
    }
   ],
   "source": [
    "np.random.randint(100, 130, size = 2)"
   ]
  },
  {
   "cell_type": "markdown",
   "metadata": {},
   "source": [
    "#### Question 2.1"
   ]
  },
  {
   "cell_type": "code",
   "execution_count": 76,
   "metadata": {},
   "outputs": [],
   "source": [
    "def lotto():\n",
    "    number = []                               # lotto 6개 숫자를 넣을 공집합 number를 만들고\n",
    "    for i in range(6):                        # 6번의 숫자만들기에서\n",
    "        new_element = np.random.randint(1,46) # 1에서 45까지의 난수를 new_element로 지정하고\n",
    "        if new_element not in number:         # new_element가 number의 element에 없으면\n",
    "            number.append(new_element)        # number에다가 new_element를 추가하여라\n",
    "    return number"
   ]
  },
  {
   "cell_type": "code",
   "execution_count": 77,
   "metadata": {},
   "outputs": [
    {
     "data": {
      "text/plain": [
       "[28, 26, 21, 3, 23]"
      ]
     },
     "execution_count": 77,
     "metadata": {},
     "output_type": "execute_result"
    }
   ],
   "source": [
    "lotto()"
   ]
  },
  {
   "cell_type": "markdown",
   "metadata": {},
   "source": [
    "#### Question 2.2"
   ]
  },
  {
   "cell_type": "code",
   "execution_count": 10,
   "metadata": {},
   "outputs": [
    {
     "name": "stdout",
     "output_type": "stream",
     "text": [
      "[73, 76, 64, 65, 64, 44, 94, 74, 19, 45, 60, 92, 64, 70, 51, 70, 26, 87, 91, 73, 95]\n"
     ]
    }
   ],
   "source": [
    "def random95():\n",
    "    a = 0\n",
    "    number = []\n",
    "    while a < 95:\n",
    "        a = np.random.randint(1, 101)\n",
    "        number.append(a)\n",
    "    return number\n",
    "print(random95())"
   ]
  },
  {
   "cell_type": "markdown",
   "metadata": {},
   "source": [
    "#### Question 2.3"
   ]
  },
  {
   "cell_type": "code",
   "execution_count": 79,
   "metadata": {},
   "outputs": [],
   "source": [
    "def intersection(a,b):\n",
    "    c = []               \n",
    "    for i in a:\n",
    "        if i  in b:\n",
    "            c.append(i)\n",
    "    c.sort()\n",
    "    return c"
   ]
  },
  {
   "cell_type": "markdown",
   "metadata": {},
   "source": [
    "입력값으로 최소, 최대 범위를 정하고 (위 문제에서는 1, 31), 난수 생성갯수 (위 문제에서는 10)를 받는 코딩함수를 만들겠습니다."
   ]
  },
  {
   "cell_type": "code",
   "execution_count": 80,
   "metadata": {},
   "outputs": [],
   "source": [
    "def random_exclusive(low, high, how_many):\n",
    "    number = []                             # 난수의 집합을 우선 공집합으로 만들고\n",
    "    while how_many > 0:                     # n이 0보다 클때까지 \n",
    "        a = np.random.randint(low,high)     # 1부터 30까지의 난수를 만들어 a로 놓은다음\n",
    "        if a not in number:                 # a가 number에 없으면\n",
    "            number.append(a)                # number에 a를 추가하고\n",
    "        how_many -= 1                       # n을 1 줄여라\n",
    "    return number"
   ]
  },
  {
   "cell_type": "code",
   "execution_count": 81,
   "metadata": {},
   "outputs": [
    {
     "data": {
      "text/plain": [
       "[1, 4, 30, 12, 18, 6, 21, 27]"
      ]
     },
     "execution_count": 81,
     "metadata": {},
     "output_type": "execute_result"
    }
   ],
   "source": [
    "random_exclusive(1,31,10)"
   ]
  },
  {
   "cell_type": "markdown",
   "metadata": {},
   "source": [
    "위 처럼 1부터 30까지 10개의 난수가 만들어졌습니다.\n",
    "\n",
    "자 이제 두쌍을 만들고 교집합을 만드는 코딩함수를 만들겠습니다."
   ]
  },
  {
   "cell_type": "code",
   "execution_count": 82,
   "metadata": {},
   "outputs": [
    {
     "name": "stdout",
     "output_type": "stream",
     "text": [
      "그룹 A의 난수는 : [1, 23, 6, 4, 22, 18, 13, 11, 17]\n",
      "그룹 B의 난수는 : [11, 3, 22, 19, 15, 25, 5, 27, 30]\n",
      "그룹 A와 그룹 B의 교집합은 [11, 22]\n"
     ]
    },
    {
     "data": {
      "text/plain": [
       "[11, 22]"
      ]
     },
     "execution_count": 82,
     "metadata": {},
     "output_type": "execute_result"
    }
   ],
   "source": [
    "def random_intersection(low, high, how_many):\n",
    "    group_A = random_exclusive(low, high, how_many)\n",
    "    group_B = random_exclusive(low, high, how_many)\n",
    "    c = intersection(group_A, group_B)\n",
    "    print ('그룹 A의 난수는 : {}'.format(group_A))\n",
    "    print ('그룹 B의 난수는 : {}'.format(group_B))\n",
    "    print ('그룹 A와 그룹 B의 교집합은 {}'.format(c))\n",
    "    return c\n",
    "random_intersection(1,31,10)"
   ]
  },
  {
   "cell_type": "markdown",
   "metadata": {},
   "source": [
    "## Chapter 6 자연수 "
   ]
  },
  {
   "cell_type": "markdown",
   "metadata": {},
   "source": [
    "### 01 소수 알아보기"
   ]
  },
  {
   "cell_type": "code",
   "execution_count": 83,
   "metadata": {},
   "outputs": [
    {
     "name": "stdout",
     "output_type": "stream",
     "text": [
      "17는 소수이다.\n"
     ]
    }
   ],
   "source": [
    "a = 17\n",
    "a_prime = True                  # True는 '참'이라는 의미이며 초기값을 참으로 정의\n",
    "for i in range(2,a):            # 2부터 자기자신 -1까지의 수에대해\n",
    "    if a % i == 0:              # a를 i로 나눈 나머지가 0이면, \n",
    "        a_prime = False         # a_prime을 '거짓'의 의미인 False로 바꾸어라\n",
    "\n",
    "if a_prime == True:\n",
    "    print ('{}는 소수이다.'.format(a))  # 소수이다를 출력하라\n",
    "else:\n",
    "    print ('{}는 소수가 아니다.'.format(a))"
   ]
  },
  {
   "cell_type": "code",
   "execution_count": 84,
   "metadata": {},
   "outputs": [],
   "source": [
    "def is_prime(a):\n",
    "    b = range(2, a)  #2부터 a-1까지의 list\n",
    "    c = 0\n",
    "    for i in b:    \n",
    "        if a % i == 0:  \n",
    "            c += 1   \n",
    "    if c > 0:\n",
    "        print ('{}는 소수가 아니다.'.format(a))\n",
    "        d = False   \n",
    "    else:\n",
    "        print ('{}는 소수이다.'.format(a))      \n",
    "        d = True\n",
    "    return d"
   ]
  },
  {
   "cell_type": "code",
   "execution_count": 85,
   "metadata": {},
   "outputs": [
    {
     "name": "stdout",
     "output_type": "stream",
     "text": [
      "31는 소수이다.\n"
     ]
    },
    {
     "data": {
      "text/plain": [
       "True"
      ]
     },
     "execution_count": 85,
     "metadata": {},
     "output_type": "execute_result"
    }
   ],
   "source": [
    "is_prime(31)"
   ]
  },
  {
   "cell_type": "code",
   "execution_count": 86,
   "metadata": {},
   "outputs": [
    {
     "name": "stdout",
     "output_type": "stream",
     "text": [
      "18는 소수가 아니다.\n"
     ]
    },
    {
     "data": {
      "text/plain": [
       "False"
      ]
     },
     "execution_count": 86,
     "metadata": {},
     "output_type": "execute_result"
    }
   ],
   "source": [
    "is_prime(18)"
   ]
  },
  {
   "cell_type": "code",
   "execution_count": 87,
   "metadata": {},
   "outputs": [
    {
     "name": "stdout",
     "output_type": "stream",
     "text": [
      "597는 소수가 아니다.\n"
     ]
    },
    {
     "data": {
      "text/plain": [
       "False"
      ]
     },
     "execution_count": 87,
     "metadata": {},
     "output_type": "execute_result"
    }
   ],
   "source": [
    "is_prime(597)"
   ]
  },
  {
   "cell_type": "code",
   "execution_count": 88,
   "metadata": {},
   "outputs": [
    {
     "name": "stdout",
     "output_type": "stream",
     "text": [
      "449는 소수이다.\n"
     ]
    },
    {
     "data": {
      "text/plain": [
       "True"
      ]
     },
     "execution_count": 88,
     "metadata": {},
     "output_type": "execute_result"
    }
   ],
   "source": [
    "is_prime(449)"
   ]
  },
  {
   "cell_type": "markdown",
   "metadata": {},
   "source": [
    "#### Question 2.4 "
   ]
  },
  {
   "cell_type": "code",
   "execution_count": 89,
   "metadata": {},
   "outputs": [],
   "source": [
    "def is_prime2(a):\n",
    "    b = range(2, a)  #2부터 a-1까지의 list\n",
    "    c = 0\n",
    "    for i in b:    \n",
    "        if a % i == 0:  \n",
    "            c += 1   \n",
    "    if c > 0:\n",
    "        d = False   \n",
    "    else:\n",
    "        d = True\n",
    "    return d"
   ]
  },
  {
   "cell_type": "code",
   "execution_count": 90,
   "metadata": {},
   "outputs": [
    {
     "name": "stdout",
     "output_type": "stream",
     "text": [
      "[1, 2, 3, 5, 7, 11, 13, 17, 19, 23, 29, 31, 37, 41, 43, 47, 53, 59, 61, 67, 71, 73, 79, 83, 89, 97]\n"
     ]
    }
   ],
   "source": [
    "a = range(1,101)              # 100 까지니 101로 지정\n",
    "prime_numbers = []            # 소수 list를 공집합으로 우선 만들고\n",
    "for i in a:                   # 1부터 100까지 중,\n",
    "    c = is_prime2(i)          # i가 소수이면 c는 True, 아니면 False 생성\n",
    "    if c == True:             # c가 True이면\n",
    "        prime_numbers.append(i)  # b에다가 i를 추가하라\n",
    "print (prime_numbers)"
   ]
  },
  {
   "cell_type": "markdown",
   "metadata": {},
   "source": [
    "#### Question 2.5"
   ]
  },
  {
   "cell_type": "code",
   "execution_count": 91,
   "metadata": {},
   "outputs": [
    {
     "name": "stdout",
     "output_type": "stream",
     "text": [
      "소수사이 구간의 최대값 : 20\n",
      "최대구간의 소수쌍 : [887, 907]\n"
     ]
    }
   ],
   "source": [
    "a = range(2,1001)                   # 2부터 1000 까지 지정\n",
    "prime_numbers = [1]                # 소수 list를 1부터 시작하는 list로 만들고\n",
    "diff = 0                           # 소수와 그다음 소수까지의 차이를 우선 0으로 만들고\n",
    "\n",
    "for i in a:                        # 2부터 1000까지 중,\n",
    "    c = is_prime2(i)               # i가 소수이면 c는 True, 아니면 False 생성\n",
    "    if c == True:                  # c가 True이면\n",
    "        prime_numbers.append(i)    # b에다가 i를 추가하라\n",
    "        if prime_numbers[-1] - prime_numbers[-2] > diff:\n",
    "            diff = prime_numbers[-1] - prime_numbers[-2]\n",
    "            max_diff_primes = [prime_numbers[-2], prime_numbers[-1]]\n",
    "\n",
    "print ('소수사이 구간의 최대값 : {}'.format(diff))\n",
    "print ('최대구간의 소수쌍 : {}'.format(max_diff_primes))"
   ]
  },
  {
   "cell_type": "markdown",
   "metadata": {},
   "source": [
    "### 02 소인수 찾기"
   ]
  },
  {
   "cell_type": "code",
   "execution_count": 92,
   "metadata": {},
   "outputs": [
    {
     "data": {
      "text/plain": [
       "[17]"
      ]
     },
     "execution_count": 92,
     "metadata": {},
     "output_type": "execute_result"
    }
   ],
   "source": [
    "a = 17\n",
    "b = range(2,a)               # 2부터 23까지의 수열을 만들고\n",
    "primes = []                  # 소인수들로 이루어진 list를 만들텐데 우선 공집합으로 시작\n",
    "for i in b:                  # 2부터 23까지 자연수에 대해 i로 놓고\n",
    "    while a % i == 0:        # a를 로 나누어서 나머지가 0이면\n",
    "        primes.append(i)     # c에 i를 추가하고\n",
    "        a /= i               # a를 i로 나눈다음\n",
    "                             # 이 과정을 반복해라\n",
    "\n",
    "if primes == []:             # 만약 아무것도 나누어지지 않으면 \n",
    "    primes.append(a)         # 소인수는 그 수 자체\n",
    "    \n",
    "primes        "
   ]
  },
  {
   "cell_type": "code",
   "execution_count": 93,
   "metadata": {},
   "outputs": [],
   "source": [
    "def prime_factorization(a):\n",
    "    b = range(2,a)\n",
    "    primes = []\n",
    "    for i in b:   # b의 요소인 i에 대해\n",
    "        while a % i == 0: # a를 로 나누어서 나머지가 0이면\n",
    "            primes.append(i) # c에 i를 추가하고\n",
    "            a /= i   # a를 i로 나눈다음\n",
    "    if primes == []:\n",
    "        primes.append(a)\n",
    "    return primes"
   ]
  },
  {
   "cell_type": "code",
   "execution_count": 94,
   "metadata": {},
   "outputs": [
    {
     "name": "stdout",
     "output_type": "stream",
     "text": [
      "[2, 2, 2, 2, 2, 2, 2]\n",
      "[7, 71]\n",
      "[7, 1447981]\n",
      "[17]\n"
     ]
    }
   ],
   "source": [
    "print (prime_factorization(128))\n",
    "print (prime_factorization(497))\n",
    "print (prime_factorization(10135867))\n",
    "print (prime_factorization(17))"
   ]
  },
  {
   "cell_type": "markdown",
   "metadata": {},
   "source": [
    "### 03 약수 구하기"
   ]
  },
  {
   "cell_type": "code",
   "execution_count": 95,
   "metadata": {},
   "outputs": [
    {
     "name": "stdout",
     "output_type": "stream",
     "text": [
      "[1, 2, 3, 4, 6, 8, 12, 24]\n"
     ]
    }
   ],
   "source": [
    "a = 24\n",
    "b = range(1, 24)            # 1부터 23까지 자연수의 집합\n",
    "factors = []                # 약수 list를 공집합으로 만들어놓고\n",
    "for i in b:                 # b의 원소 i에 대해\n",
    "    if a % i == 0:          # 24가 i로 나눈 나머지가 0이면\n",
    "        factors.append(i)   # 약수집합에 i를 추가하여라\n",
    "factors.append(a)           # 자기자신인 24를 추가하여라\n",
    "print (factors)"
   ]
  },
  {
   "cell_type": "code",
   "execution_count": 96,
   "metadata": {},
   "outputs": [],
   "source": [
    "def factorization(a):\n",
    "    b = range(1, a)   \n",
    "    factors = []\n",
    "    for i in b:\n",
    "        if a % i == 0:\n",
    "            factors.append(i)\n",
    "    factors.append(a)\n",
    "    return factors"
   ]
  },
  {
   "cell_type": "code",
   "execution_count": 97,
   "metadata": {},
   "outputs": [
    {
     "name": "stdout",
     "output_type": "stream",
     "text": [
      "[1, 2, 3, 4, 6, 9, 12, 18, 36]\n",
      "[1, 2, 4, 37, 74, 148]\n"
     ]
    }
   ],
   "source": [
    "print (factorization(36))\n",
    "print (factorization(148))"
   ]
  },
  {
   "cell_type": "markdown",
   "metadata": {},
   "source": [
    "### 04 최대공약수, 최소공배수 구하기"
   ]
  },
  {
   "cell_type": "code",
   "execution_count": 98,
   "metadata": {},
   "outputs": [],
   "source": [
    "def intersection(a,b):\n",
    "    c = []\n",
    "    for i in a:\n",
    "        if i  in b:\n",
    "            c.append(i)\n",
    "    return c"
   ]
  },
  {
   "cell_type": "code",
   "execution_count": 99,
   "metadata": {},
   "outputs": [],
   "source": [
    "def greatest_common_factor(a, b, show = False):  \n",
    "    c = factorization(a)         # a의 약수를 구해 c 라는 list에 저장한다. \n",
    "    d = factorization(b)         # b의 약수를 구해 d 라는 list에 저장한다. \n",
    "    if show:                     # show 가 true이면\n",
    "        print (c)                # a의 약수인 c를 출력하고\n",
    "        print (d)                # b의 약수인 d를 출력하고\n",
    "    e = intersection(c,d)        # c와 d의 교집합을 구한다.\n",
    "    return max(e)                # 최대값을 return 한다."
   ]
  },
  {
   "cell_type": "code",
   "execution_count": 100,
   "metadata": {},
   "outputs": [
    {
     "data": {
      "text/plain": [
       "12"
      ]
     },
     "execution_count": 100,
     "metadata": {},
     "output_type": "execute_result"
    }
   ],
   "source": [
    "a = 36\n",
    "b = 96\n",
    "greatest_common_factor(a,b)  "
   ]
  },
  {
   "cell_type": "code",
   "execution_count": 101,
   "metadata": {},
   "outputs": [
    {
     "name": "stdout",
     "output_type": "stream",
     "text": [
      "[1, 2, 3, 4, 6, 9, 12, 18, 36]\n",
      "[1, 2, 3, 4, 6, 8, 12, 16, 24, 32, 48, 96]\n"
     ]
    },
    {
     "data": {
      "text/plain": [
       "12"
      ]
     },
     "execution_count": 101,
     "metadata": {},
     "output_type": "execute_result"
    }
   ],
   "source": [
    "greatest_common_factor(a,b, show = True)  "
   ]
  },
  {
   "cell_type": "code",
   "execution_count": 102,
   "metadata": {},
   "outputs": [],
   "source": [
    "def sum_abc(a,b,c = 100):\n",
    "    return a + b + c"
   ]
  },
  {
   "cell_type": "code",
   "execution_count": 103,
   "metadata": {},
   "outputs": [
    {
     "data": {
      "text/plain": [
       "6"
      ]
     },
     "execution_count": 103,
     "metadata": {},
     "output_type": "execute_result"
    }
   ],
   "source": [
    "sum_abc(1,2,3)"
   ]
  },
  {
   "cell_type": "code",
   "execution_count": 104,
   "metadata": {},
   "outputs": [
    {
     "data": {
      "text/plain": [
       "103"
      ]
     },
     "execution_count": 104,
     "metadata": {},
     "output_type": "execute_result"
    }
   ],
   "source": [
    "sum_abc(1,2)"
   ]
  },
  {
   "cell_type": "code",
   "execution_count": 105,
   "metadata": {},
   "outputs": [
    {
     "name": "stdout",
     "output_type": "stream",
     "text": [
      "[2, 2, 3, 3]\n",
      "[2, 2, 2, 2, 2, 3]\n"
     ]
    }
   ],
   "source": [
    "print (prime_factorization(36))\n",
    "print (prime_factorization(96))"
   ]
  },
  {
   "cell_type": "code",
   "execution_count": 106,
   "metadata": {},
   "outputs": [],
   "source": [
    "def least_common_multiple(a, b):\n",
    "    c = prime_factorization(a)  # a의 소인수를 구해 c 라는 list에 저장한다. \n",
    "    d = prime_factorization(b)  # b의 소인수를 구해 d 라는 list에 저장한다. \n",
    "    for i in c:            \n",
    "        if i in d:              # c와 d의 공통원소이면\n",
    "            d.remove(i)         # 1개만 취한다.\n",
    "    e = c + d                   # a, b의 소인수들의 합집합인 소인수분대를 구한다. (공통된것은 1번만 계산)\n",
    "    f = 1\n",
    "    for i in e:     # e의 모든 원소에 대해\n",
    "        f *= i      # f에다가 계속 곱해라\n",
    "    return f"
   ]
  },
  {
   "cell_type": "code",
   "execution_count": 107,
   "metadata": {},
   "outputs": [
    {
     "name": "stdout",
     "output_type": "stream",
     "text": [
      "288\n",
      "28\n"
     ]
    }
   ],
   "source": [
    "print (least_common_multiple(36,96))\n",
    "print (least_common_multiple(4,7))"
   ]
  },
  {
   "cell_type": "markdown",
   "metadata": {},
   "source": [
    "### 05 십진수 나타내기"
   ]
  },
  {
   "cell_type": "code",
   "execution_count": 108,
   "metadata": {},
   "outputs": [
    {
     "name": "stdout",
     "output_type": "stream",
     "text": [
      "[5, 2, 3]\n",
      "[3, 2, 5]\n"
     ]
    }
   ],
   "source": [
    "a = 325\n",
    "digit_10 = []\n",
    "while a // 10 != 0:       # a를 10으로 나눠서 몫이 0이 아닐때까지\n",
    "    e = a % 10            # e는 325를 10으로 나눈 나머지인 5\n",
    "    digit_10.append(e)    # 5를 d에 추가한다.\n",
    "    a //= 10              # 325를 10으로 나눈 몫 32를 새로운 a로 정의\n",
    "                          # 위 과정을 32에 대해서 하고, 또 3에 대해서 한다.\n",
    "digit_10.append(a)        # 3을 10으로 나눈 나머지인 3을 최종 추가해준다. \n",
    "print (digit_10)\n",
    "digit_10.reverse()        # 순서를 거꾸로 하기\n",
    "print (digit_10)"
   ]
  },
  {
   "cell_type": "code",
   "execution_count": 109,
   "metadata": {},
   "outputs": [],
   "source": [
    "def digit_expand(a, n):   # n은 진수를 의미합니다. 10진수면 n에 10을 넣으면 됩니다.\n",
    "    digit_10 = []\n",
    "    while a // n != 0: \n",
    "        e = a % n  \n",
    "        digit_10.append(e)\n",
    "        a //= n \n",
    "\n",
    "    digit_10.append(a)\n",
    "    digit_10.reverse()\n",
    "    \n",
    "    return digit_10"
   ]
  },
  {
   "cell_type": "code",
   "execution_count": 110,
   "metadata": {},
   "outputs": [
    {
     "data": {
      "text/plain": [
       "[1, 7, 3, 2]"
      ]
     },
     "execution_count": 110,
     "metadata": {},
     "output_type": "execute_result"
    }
   ],
   "source": [
    "a = digit_expand(1732, 10)\n",
    "a"
   ]
  },
  {
   "cell_type": "markdown",
   "metadata": {},
   "source": [
    "### 06 이진법 나타내기"
   ]
  },
  {
   "cell_type": "code",
   "execution_count": 111,
   "metadata": {},
   "outputs": [
    {
     "data": {
      "text/plain": [
       "[1, 0, 1, 1]"
      ]
     },
     "execution_count": 111,
     "metadata": {},
     "output_type": "execute_result"
    }
   ],
   "source": [
    "a = digit_expand(11, 2)\n",
    "a"
   ]
  },
  {
   "cell_type": "code",
   "execution_count": 112,
   "metadata": {},
   "outputs": [
    {
     "name": "stdout",
     "output_type": "stream",
     "text": [
      "[1, 1, 0, 1, 1, 0, 0, 0, 1, 0, 0]\n"
     ]
    }
   ],
   "source": [
    "print (digit_expand(1732,2))"
   ]
  },
  {
   "cell_type": "code",
   "execution_count": 113,
   "metadata": {},
   "outputs": [
    {
     "name": "stdout",
     "output_type": "stream",
     "text": [
      "[5, 0, 2, 3]\n",
      "[2, 3, 3, 4]\n",
      "[6, 12, 4]\n"
     ]
    }
   ],
   "source": [
    "print (digit_expand(1732,7))\n",
    "print (digit_expand(1732,9))\n",
    "print (digit_expand(1732,16))"
   ]
  },
  {
   "cell_type": "markdown",
   "metadata": {},
   "source": [
    "### 07 진법 변형하여 나타내기"
   ]
  },
  {
   "cell_type": "code",
   "execution_count": 114,
   "metadata": {},
   "outputs": [],
   "source": [
    "def Number_system_change(number, n, m):\n",
    "##################################\n",
    "# number : 변형하려는 숫자\n",
    "# n : 현재의 진법\n",
    "# m : 미래의 진법\n",
    "# number의 각 숫자가 n보다 크거나 같으면 error\n",
    "##################################\n",
    "    num_str = str(number)  # 325\n",
    "    len_num = len(num_str) # 3\n",
    "    \n",
    "    # 우선 10진법으로 바꾸기\n",
    "    number_10 = 0\n",
    "    for i, num in enumerate(num_str):     # (0,'3'), (1,'2'), (2,'5') 형태의 (i,num)이 됨\n",
    "        num_int = int(num)                # 문자형'3'을 정수형 3으로 변형\n",
    "        if num_int >= n:                  # 2진법에 2보다 큰 숫자가 오면 안되므로 이 조건문을 써야함\n",
    "            print ('{}는 {}보다 크거나 같으니 {}진법의 수가 아니다.'.format(num_int, n, n))\n",
    "            break                         # 이렇게 잘못하면 break로 if와 for 반복을 끝냄\n",
    "        else:\n",
    "            number_10 += num_int*n**(len_num-i-1)  #(3 x 6**2) + (2 x 6) + (5 x 1) 하는 과정임\n",
    "\n",
    "    # 10진법을 m진법으로 바꾸기\n",
    "    number_m = digit_expand(number_10, m)  \n",
    "    return number_m"
   ]
  },
  {
   "cell_type": "code",
   "execution_count": 115,
   "metadata": {},
   "outputs": [
    {
     "data": {
      "text/plain": [
       "[6, 4, 3]"
      ]
     },
     "execution_count": 115,
     "metadata": {},
     "output_type": "execute_result"
    }
   ],
   "source": [
    "Number_system_change(325,10,7)  # 10진수인 325를 7진수로 표기하여라"
   ]
  },
  {
   "cell_type": "code",
   "execution_count": 116,
   "metadata": {},
   "outputs": [
    {
     "data": {
      "text/plain": [
       "[2, 3, 3, 4]"
      ]
     },
     "execution_count": 116,
     "metadata": {},
     "output_type": "execute_result"
    }
   ],
   "source": [
    "Number_system_change(5023,7,9)"
   ]
  },
  {
   "cell_type": "markdown",
   "metadata": {},
   "source": [
    "### 08 클래스로 임의의 자연수 문제 만들기"
   ]
  },
  {
   "cell_type": "code",
   "execution_count": 117,
   "metadata": {},
   "outputs": [],
   "source": [
    "import numpy as np\n",
    "class Natural_number:\n",
    "    def question(self):\n",
    "        self.select = np.random.randint(5)  \n",
    "        self.n1 = np.random.randint(100)\n",
    "        self.n2 = np.random.randint(100)     \n",
    "        self.n3 = np.random.randint(low = 2, high = 10)\n",
    "        self.n4 = np.random.randint(low = 2, high = 30)\n",
    "        \n",
    "        if self.select == 0:\n",
    "            print ('{}가 소수인지 판별하고, 소수가 아니면, 약수를 구해라'.format(self.n1))\n",
    "        elif self.select ==1:\n",
    "            print ('{}와 {}의 최대공약수를 구하여라'.format(self.n1, self.n2))\n",
    "        elif self.select ==2: \n",
    "            print ('{}와 {}의 최소공배수를 구하여라'.format(self.n3, self.n4))\n",
    "        elif self.select == 3:\n",
    "            print ('{}를 2진법으로 나타내어라'.format(self.n1))\n",
    "        elif self.select == 4:\n",
    "            self.n4_2 = digit_expand(self.n4, 2)\n",
    "#            print '2진수 %i를 10진법으로 나타내어라' %self.n4\n",
    "            print ('2진수 [{}]를 10진법으로 나타내어라'.format(', '.join(map(str, self.n4_2))))\n",
    "            \n",
    "    def answer(self):\n",
    "        if self.select == 0:\n",
    "            if is_prime2(self.n1):\n",
    "                print ('{} 는 소수이다.'.format(self.n1))\n",
    "            else:\n",
    "                print (factorization(self.n1))\n",
    "        elif self.select == 1:\n",
    "            print (greatest_common_factor(self.n1,self.n2, show = True))\n",
    "        elif self.select == 2:\n",
    "            print (least_common_multiple(self.n3, self.n4))\n",
    "        elif self.select == 3:\n",
    "            print (digit_expand(self.n1, 2))\n",
    "        elif self.select == 4:\n",
    "            print (digit_expand(self.n4, 10))"
   ]
  },
  {
   "cell_type": "code",
   "execution_count": 118,
   "metadata": {},
   "outputs": [
    {
     "name": "stdout",
     "output_type": "stream",
     "text": [
      "2진수 [1, 0, 1]를 10진법으로 나타내어라\n"
     ]
    }
   ],
   "source": [
    "q1 = Natural_number()\n",
    "q1.question()"
   ]
  },
  {
   "cell_type": "code",
   "execution_count": 119,
   "metadata": {},
   "outputs": [
    {
     "name": "stdout",
     "output_type": "stream",
     "text": [
      "[5]\n"
     ]
    }
   ],
   "source": [
    "q1.answer()"
   ]
  },
  {
   "cell_type": "code",
   "execution_count": 120,
   "metadata": {},
   "outputs": [
    {
     "name": "stdout",
     "output_type": "stream",
     "text": [
      "7가 소수인지 판별하고, 소수가 아니면, 약수를 구해라\n"
     ]
    }
   ],
   "source": [
    "q2 = Natural_number()\n",
    "q2.question()"
   ]
  },
  {
   "cell_type": "code",
   "execution_count": 121,
   "metadata": {},
   "outputs": [
    {
     "name": "stdout",
     "output_type": "stream",
     "text": [
      "7 는 소수이다.\n"
     ]
    }
   ],
   "source": [
    "q2.answer()"
   ]
  },
  {
   "cell_type": "markdown",
   "metadata": {},
   "source": [
    "#### Question 2.6"
   ]
  },
  {
   "cell_type": "code",
   "execution_count": 122,
   "metadata": {},
   "outputs": [
    {
     "data": {
      "text/plain": [
       "1234"
      ]
     },
     "execution_count": 122,
     "metadata": {},
     "output_type": "execute_result"
    }
   ],
   "source": [
    "a = [1,2,3,4]\n",
    "number = ''\n",
    "for i in range(len(a)):\n",
    "    number = number + str(a[i])\n",
    "number = int(number)\n",
    "number"
   ]
  },
  {
   "cell_type": "code",
   "execution_count": 123,
   "metadata": {},
   "outputs": [],
   "source": [
    "a = [1,2,3,4]\n",
    "def list_to_number(a):\n",
    "    number = ''\n",
    "    for i in range(len(a)):\n",
    "        number = number + str(a[i])\n",
    "    number = int(number)\n",
    "    return number"
   ]
  },
  {
   "cell_type": "code",
   "execution_count": 124,
   "metadata": {},
   "outputs": [
    {
     "data": {
      "text/plain": [
       "324674269"
      ]
     },
     "execution_count": 124,
     "metadata": {},
     "output_type": "execute_result"
    }
   ],
   "source": [
    "list_to_number([3,2,4,6,7,4,2,69])"
   ]
  },
  {
   "cell_type": "code",
   "execution_count": 125,
   "metadata": {},
   "outputs": [
    {
     "data": {
      "text/plain": [
       "'1'"
      ]
     },
     "execution_count": 125,
     "metadata": {},
     "output_type": "execute_result"
    }
   ],
   "source": [
    "str(a[0])"
   ]
  },
  {
   "cell_type": "code",
   "execution_count": 126,
   "metadata": {},
   "outputs": [
    {
     "data": {
      "text/plain": [
       "'3'"
      ]
     },
     "execution_count": 126,
     "metadata": {},
     "output_type": "execute_result"
    }
   ],
   "source": [
    "number = ''\n",
    "number + str(3)"
   ]
  },
  {
   "cell_type": "markdown",
   "metadata": {},
   "source": [
    "#### Question 2.7"
   ]
  },
  {
   "cell_type": "code",
   "execution_count": 127,
   "metadata": {},
   "outputs": [],
   "source": [
    "def pibonacci(n):\n",
    "    pib = [1,2]\n",
    "    for i in range(2,n):\n",
    "        pib.append(pib[-1]+pib[-2])\n",
    "    return pib[-1]"
   ]
  },
  {
   "cell_type": "code",
   "execution_count": 128,
   "metadata": {},
   "outputs": [
    {
     "data": {
      "text/plain": [
       "8"
      ]
     },
     "execution_count": 128,
     "metadata": {},
     "output_type": "execute_result"
    }
   ],
   "source": [
    "pibonacci(5)"
   ]
  },
  {
   "cell_type": "markdown",
   "metadata": {},
   "source": [
    "#### Question 2.8"
   ]
  },
  {
   "cell_type": "code",
   "execution_count": 129,
   "metadata": {},
   "outputs": [
    {
     "name": "stdout",
     "output_type": "stream",
     "text": [
      "7\n",
      "5\n",
      "8\n",
      "6\n",
      "7\n"
     ]
    },
    {
     "data": {
      "text/plain": [
       "11760"
      ]
     },
     "execution_count": 129,
     "metadata": {},
     "output_type": "execute_result"
    }
   ],
   "source": [
    "n = 1\n",
    "for i in range(5):\n",
    "    temp = np.random.randint(1,10)\n",
    "    print (temp)\n",
    "    n *= temp\n",
    "n"
   ]
  },
  {
   "cell_type": "markdown",
   "metadata": {},
   "source": [
    "#### Question 2.9"
   ]
  },
  {
   "cell_type": "code",
   "execution_count": 130,
   "metadata": {},
   "outputs": [
    {
     "name": "stdout",
     "output_type": "stream",
     "text": [
      "54 69\n"
     ]
    },
    {
     "data": {
      "text/plain": [
       "1242"
      ]
     },
     "execution_count": 130,
     "metadata": {},
     "output_type": "execute_result"
    }
   ],
   "source": [
    "a, b = np.random.randint(10,100,size = 2)\n",
    "print (a,b)\n",
    "least_common_multiple(a, b)"
   ]
  },
  {
   "cell_type": "markdown",
   "metadata": {},
   "source": [
    "#### Question 2.10"
   ]
  },
  {
   "cell_type": "code",
   "execution_count": 131,
   "metadata": {},
   "outputs": [
    {
     "data": {
      "text/plain": [
       "[1, 2, 3, 5, 6, 7, 10, 14, 15, 21, 30, 35, 42, 70, 105, 210]"
      ]
     },
     "execution_count": 131,
     "metadata": {},
     "output_type": "execute_result"
    }
   ],
   "source": [
    "factorization(210)"
   ]
  },
  {
   "cell_type": "code",
   "execution_count": 132,
   "metadata": {},
   "outputs": [
    {
     "name": "stdout",
     "output_type": "stream",
     "text": [
      "그 수는 6\n",
      "그 수는 30\n"
     ]
    }
   ],
   "source": [
    "factors = factorization(210)\n",
    "for i in factors:\n",
    "    if greatest_common_factor(i, 42) == 6:\n",
    "        print ('그 수는 {}'.format(i))"
   ]
  },
  {
   "cell_type": "markdown",
   "metadata": {},
   "source": [
    "#### Question 2.11"
   ]
  },
  {
   "cell_type": "code",
   "execution_count": 133,
   "metadata": {},
   "outputs": [
    {
     "data": {
      "text/plain": [
       "[1, 2, 3, 4, 5, 6, 10, 12, 15, 20, 30, 60]"
      ]
     },
     "execution_count": 133,
     "metadata": {},
     "output_type": "execute_result"
    }
   ],
   "source": [
    "factorization(60)"
   ]
  },
  {
   "cell_type": "code",
   "execution_count": 134,
   "metadata": {},
   "outputs": [
    {
     "data": {
      "text/plain": [
       "[10, 12, 15, 20, 30, 60]"
      ]
     },
     "execution_count": 134,
     "metadata": {},
     "output_type": "execute_result"
    }
   ],
   "source": [
    "factors = factorization(60)[6:]\n",
    "factors"
   ]
  },
  {
   "cell_type": "code",
   "execution_count": 135,
   "metadata": {},
   "outputs": [
    {
     "name": "stdout",
     "output_type": "stream",
     "text": [
      "그 수는 12와 30\n",
      "그 수는 30와 12\n"
     ]
    }
   ],
   "source": [
    "for i in factors:\n",
    "    for j in factors:\n",
    "        if j != i:\n",
    "            if greatest_common_factor(i, j) == 6:\n",
    "                if least_common_multiple(i, j) == 60:\n",
    "                    print ('그 수는 {}와 {}'.format(i,j))"
   ]
  },
  {
   "cell_type": "markdown",
   "metadata": {},
   "source": [
    "#### Question 2.12"
   ]
  },
  {
   "cell_type": "code",
   "execution_count": 136,
   "metadata": {},
   "outputs": [
    {
     "name": "stdout",
     "output_type": "stream",
     "text": [
      "[1, 2, 3, 4, 5, 6, 10, 12, 15, 20, 30, 60]\n"
     ]
    }
   ],
   "source": [
    "factors = factorization(60)\n",
    "print (factors)"
   ]
  },
  {
   "cell_type": "code",
   "execution_count": 137,
   "metadata": {},
   "outputs": [
    {
     "name": "stdout",
     "output_type": "stream",
     "text": [
      "그 수는 20와 12\n"
     ]
    }
   ],
   "source": [
    "for i in factors:\n",
    "    for j in factors:\n",
    "        if i-j == 8:\n",
    "            if greatest_common_factor(i, j) == 4:\n",
    "                if least_common_multiple(i, j) == 60:\n",
    "                    print ('그 수는 {}와 {}'.format(i,j))"
   ]
  },
  {
   "cell_type": "markdown",
   "metadata": {},
   "source": [
    "#### Question 2.13"
   ]
  },
  {
   "cell_type": "code",
   "execution_count": 138,
   "metadata": {},
   "outputs": [
    {
     "name": "stdout",
     "output_type": "stream",
     "text": [
      "69\n"
     ]
    }
   ],
   "source": [
    "for i in range(100):\n",
    "    if (i % 6 == 3) and (i % 8 == 5) and (i % 9 == 6):\n",
    "        print (i)"
   ]
  },
  {
   "cell_type": "markdown",
   "metadata": {},
   "source": [
    "#### Question 2.14"
   ]
  },
  {
   "cell_type": "code",
   "execution_count": 139,
   "metadata": {},
   "outputs": [
    {
     "data": {
      "text/plain": [
       "[2, 2, 2, 2, 3]"
      ]
     },
     "execution_count": 139,
     "metadata": {},
     "output_type": "execute_result"
    }
   ],
   "source": [
    "prime_factorization(48)"
   ]
  },
  {
   "cell_type": "markdown",
   "metadata": {},
   "source": [
    "#### Question 2.15"
   ]
  },
  {
   "cell_type": "code",
   "execution_count": 140,
   "metadata": {},
   "outputs": [
    {
     "data": {
      "text/plain": [
       "12"
      ]
     },
     "execution_count": 140,
     "metadata": {},
     "output_type": "execute_result"
    }
   ],
   "source": [
    "greatest_common_factor(48,greatest_common_factor(60,72))"
   ]
  },
  {
   "cell_type": "code",
   "execution_count": 141,
   "metadata": {},
   "outputs": [
    {
     "data": {
      "text/plain": [
       "120.0"
      ]
     },
     "execution_count": 141,
     "metadata": {},
     "output_type": "execute_result"
    }
   ],
   "source": [
    "(48/12) * (72/12) * (60/12) "
   ]
  },
  {
   "cell_type": "markdown",
   "metadata": {},
   "source": [
    "#### Question 2.16"
   ]
  },
  {
   "cell_type": "code",
   "execution_count": 142,
   "metadata": {},
   "outputs": [
    {
     "data": {
      "text/plain": [
       "36"
      ]
     },
     "execution_count": 142,
     "metadata": {},
     "output_type": "execute_result"
    }
   ],
   "source": [
    "least_common_multiple(12,least_common_multiple(6,9))"
   ]
  },
  {
   "cell_type": "code",
   "execution_count": 143,
   "metadata": {},
   "outputs": [
    {
     "data": {
      "text/plain": [
       "72.0"
      ]
     },
     "execution_count": 143,
     "metadata": {},
     "output_type": "execute_result"
    }
   ],
   "source": [
    "(36/12) * (36/9) * (36/6)"
   ]
  },
  {
   "cell_type": "markdown",
   "metadata": {},
   "source": [
    "#### Question 2.17"
   ]
  },
  {
   "cell_type": "code",
   "execution_count": 144,
   "metadata": {},
   "outputs": [
    {
     "name": "stdout",
     "output_type": "stream",
     "text": [
      "61\n"
     ]
    }
   ],
   "source": [
    "for i in range(2,100):\n",
    "    if (i%4 == 1) and (i % 5 == 1) and (i % 6) == 1:\n",
    "        print (i)"
   ]
  },
  {
   "cell_type": "markdown",
   "metadata": {},
   "source": [
    "#### Question 2.18"
   ]
  },
  {
   "cell_type": "code",
   "execution_count": 145,
   "metadata": {},
   "outputs": [
    {
     "name": "stdout",
     "output_type": "stream",
     "text": [
      "309\n",
      "231\n",
      "78개의 수가 있다.\n"
     ]
    }
   ],
   "source": [
    "a = Number_system_change(621, 7, 10)\n",
    "b = Number_system_change(3213, 4, 10)\n",
    "a = list_to_number(a)\n",
    "b = list_to_number(b)\n",
    "print (a)\n",
    "print (b)\n",
    "print ('{}개의 수가 있다.'.format(a-b))"
   ]
  },
  {
   "cell_type": "markdown",
   "metadata": {},
   "source": [
    "## Chapter 7 정수 "
   ]
  },
  {
   "cell_type": "code",
   "execution_count": 146,
   "metadata": {},
   "outputs": [],
   "source": [
    "class Integer:\n",
    "    def question(self):\n",
    "        self.constant = np.random.randint(low = -10, high = 10, size = 2)\n",
    "        self.pm = np.random.randint(5)\n",
    "        self.exponent = np.random.randint(low = 2, high = 4)\n",
    "        if self.pm == 0:\n",
    "            print ('{} + {} = ?' .format(self.constant[0],  self.constant[1]))\n",
    "        elif self.pm == 1:\n",
    "            print ('{} - {} = ?' .format(self.constant[0],  self.constant[1]))\n",
    "        elif self.pm == 2:\n",
    "            print ('{} x {} = ?' .format(self.constant[0],  self.constant[1]))\n",
    "        elif self.pm == 3:\n",
    "            print ('{} / {} = ?' .format(self.constant[0],  self.constant[1]))\n",
    "        else:\n",
    "            print ('{}^{} = ?' .format(self.constant[0],  self.exponent))\n",
    "            \n",
    "    def answer(self):\n",
    "        if self.pm == 0:\n",
    "            return self.constant[0] + self.constant[1]\n",
    "        elif self.pm == 1:\n",
    "            return self.constant[0] - self.constant[1]\n",
    "        elif self.pm == 2:\n",
    "            return self.constant[0] * self.constant[1]\n",
    "        elif self.pm == 3:\n",
    "            return self.constant[0] / self.constant[1]\n",
    "        else:\n",
    "            return self.constant[0] ** self.exponent"
   ]
  },
  {
   "cell_type": "code",
   "execution_count": 147,
   "metadata": {},
   "outputs": [
    {
     "name": "stdout",
     "output_type": "stream",
     "text": [
      "-10^3 = ?\n"
     ]
    }
   ],
   "source": [
    "q1 = Integer()\n",
    "q1.question()"
   ]
  },
  {
   "cell_type": "code",
   "execution_count": 148,
   "metadata": {},
   "outputs": [
    {
     "data": {
      "text/plain": [
       "-1000"
      ]
     },
     "execution_count": 148,
     "metadata": {},
     "output_type": "execute_result"
    }
   ],
   "source": [
    "q1.answer()"
   ]
  },
  {
   "cell_type": "markdown",
   "metadata": {},
   "source": [
    "### 01 절대값 구하기"
   ]
  },
  {
   "cell_type": "code",
   "execution_count": 149,
   "metadata": {},
   "outputs": [
    {
     "data": {
      "text/plain": [
       "5"
      ]
     },
     "execution_count": 149,
     "metadata": {},
     "output_type": "execute_result"
    }
   ],
   "source": [
    "a = -5\n",
    "np.abs(a)"
   ]
  },
  {
   "cell_type": "markdown",
   "metadata": {},
   "source": [
    "### 02 덧셈 뺄셈 교환 법칙 및 결합 법칙 알아보기"
   ]
  },
  {
   "cell_type": "code",
   "execution_count": 150,
   "metadata": {},
   "outputs": [
    {
     "name": "stdout",
     "output_type": "stream",
     "text": [
      "5\n",
      "5\n"
     ]
    }
   ],
   "source": [
    "print ((-2) + 7)\n",
    "print (7+ (-2))"
   ]
  },
  {
   "cell_type": "code",
   "execution_count": 151,
   "metadata": {},
   "outputs": [
    {
     "name": "stdout",
     "output_type": "stream",
     "text": [
      "-1\n",
      "-1\n"
     ]
    }
   ],
   "source": [
    "print (((-2)+(-3)) + +4)\n",
    "print ((-2)+ ((-3) + +4))"
   ]
  },
  {
   "cell_type": "markdown",
   "metadata": {},
   "source": [
    "### 03 계산하기"
   ]
  },
  {
   "cell_type": "code",
   "execution_count": 152,
   "metadata": {},
   "outputs": [
    {
     "data": {
      "text/plain": [
       "-7"
      ]
     },
     "execution_count": 152,
     "metadata": {},
     "output_type": "execute_result"
    }
   ],
   "source": [
    "5 + (-3) * (-2)**2"
   ]
  },
  {
   "cell_type": "code",
   "execution_count": 153,
   "metadata": {},
   "outputs": [
    {
     "data": {
      "text/plain": [
       "-14"
      ]
     },
     "execution_count": 153,
     "metadata": {},
     "output_type": "execute_result"
    }
   ],
   "source": [
    "(3 + 2 * (5 - 7)) * 4 - 10"
   ]
  },
  {
   "cell_type": "code",
   "execution_count": 154,
   "metadata": {},
   "outputs": [
    {
     "data": {
      "text/plain": [
       "35"
      ]
     },
     "execution_count": 154,
     "metadata": {},
     "output_type": "execute_result"
    }
   ],
   "source": [
    "(8 - (-5) * 2) * 2 -1"
   ]
  },
  {
   "cell_type": "code",
   "execution_count": 155,
   "metadata": {},
   "outputs": [
    {
     "data": {
      "text/plain": [
       "-3.0"
      ]
     },
     "execution_count": 155,
     "metadata": {},
     "output_type": "execute_result"
    }
   ],
   "source": [
    "2 - (2 * ((-1)**2 + 4 / 2) -1)"
   ]
  },
  {
   "cell_type": "markdown",
   "metadata": {},
   "source": [
    "## Chapter 8 유리수와 무리수 "
   ]
  },
  {
   "cell_type": "code",
   "execution_count": 156,
   "metadata": {},
   "outputs": [],
   "source": [
    "from fractions import Fraction  # fraction이라는 module에서 Fraction이라는 "
   ]
  },
  {
   "cell_type": "code",
   "execution_count": 157,
   "metadata": {},
   "outputs": [
    {
     "name": "stdout",
     "output_type": "stream",
     "text": [
      "5/2\n",
      "5/2\n",
      "5/2\n"
     ]
    }
   ],
   "source": [
    "print (Fraction(5/2))\n",
    "print (Fraction(2.5))\n",
    "print (Fraction(5,2))"
   ]
  },
  {
   "cell_type": "code",
   "execution_count": 158,
   "metadata": {},
   "outputs": [
    {
     "data": {
      "text/plain": [
       "7"
      ]
     },
     "execution_count": 158,
     "metadata": {},
     "output_type": "execute_result"
    }
   ],
   "source": [
    "Fraction(7,9).numerator"
   ]
  },
  {
   "cell_type": "code",
   "execution_count": 159,
   "metadata": {},
   "outputs": [
    {
     "data": {
      "text/plain": [
       "9"
      ]
     },
     "execution_count": 159,
     "metadata": {},
     "output_type": "execute_result"
    }
   ],
   "source": [
    "Fraction(7,9).denominator"
   ]
  },
  {
   "cell_type": "code",
   "execution_count": 160,
   "metadata": {},
   "outputs": [
    {
     "data": {
      "text/plain": [
       "Fraction(1, 2)"
      ]
     },
     "execution_count": 160,
     "metadata": {},
     "output_type": "execute_result"
    }
   ],
   "source": [
    "Fraction(2,4)"
   ]
  },
  {
   "cell_type": "code",
   "execution_count": 161,
   "metadata": {},
   "outputs": [
    {
     "data": {
      "text/plain": [
       "Fraction(1, 7)"
      ]
     },
     "execution_count": 161,
     "metadata": {},
     "output_type": "execute_result"
    }
   ],
   "source": [
    "Fraction(1,4) * Fraction(4,7)"
   ]
  },
  {
   "cell_type": "code",
   "execution_count": 162,
   "metadata": {},
   "outputs": [
    {
     "data": {
      "text/plain": [
       "Fraction(7, 16)"
      ]
     },
     "execution_count": 162,
     "metadata": {},
     "output_type": "execute_result"
    }
   ],
   "source": [
    "Fraction(1,4) / Fraction(4,7)"
   ]
  },
  {
   "cell_type": "code",
   "execution_count": 163,
   "metadata": {},
   "outputs": [
    {
     "data": {
      "text/plain": [
       "Fraction(23, 28)"
      ]
     },
     "execution_count": 163,
     "metadata": {},
     "output_type": "execute_result"
    }
   ],
   "source": [
    "Fraction(1,4) + Fraction(4,7)"
   ]
  },
  {
   "cell_type": "code",
   "execution_count": 164,
   "metadata": {},
   "outputs": [
    {
     "data": {
      "text/plain": [
       "Fraction(-9, 28)"
      ]
     },
     "execution_count": 164,
     "metadata": {},
     "output_type": "execute_result"
    }
   ],
   "source": [
    "Fraction(1,4) - Fraction(4,7)"
   ]
  },
  {
   "cell_type": "markdown",
   "metadata": {},
   "source": [
    "제곱도 할 수 있습니다."
   ]
  },
  {
   "cell_type": "code",
   "execution_count": 165,
   "metadata": {},
   "outputs": [
    {
     "data": {
      "text/plain": [
       "Fraction(1, 16)"
      ]
     },
     "execution_count": 165,
     "metadata": {},
     "output_type": "execute_result"
    }
   ],
   "source": [
    "Fraction(1,4)**2"
   ]
  },
  {
   "cell_type": "code",
   "execution_count": 166,
   "metadata": {},
   "outputs": [
    {
     "data": {
      "text/plain": [
       "0.75"
      ]
     },
     "execution_count": 166,
     "metadata": {},
     "output_type": "execute_result"
    }
   ],
   "source": [
    "a = Fraction(9, 16)\n",
    "a = float(a)\n",
    "np.sqrt(a)"
   ]
  },
  {
   "cell_type": "markdown",
   "metadata": {},
   "source": [
    "### 01 임의의 유리수 문제 만들기"
   ]
  },
  {
   "cell_type": "code",
   "execution_count": 167,
   "metadata": {},
   "outputs": [],
   "source": [
    "class Rational_number:\n",
    "    def question(self):\n",
    "        self.constant = np.random.randint(low = -10, high = 10, size = 4)\n",
    "        self.pm = np.random.randint(4)\n",
    "        if self.pm == 0:\n",
    "            print ('({}/{}) + ({}/{}) = ?' .format(self.constant[0],self.constant[1],self.constant[2],self.constant[3]))\n",
    "        elif self.pm == 1:\n",
    "            print ('({}/{}) - ({}/{}) = ?' .format(self.constant[0],self.constant[1],self.constant[2],self.constant[3]))\n",
    "        elif self.pm == 2:\n",
    "            print ('({}/{}) * ({}/{}) = ?' .format(self.constant[0],self.constant[1],self.constant[2],self.constant[3]))\n",
    "        else:\n",
    "            print ('({}/{}) / ({}/{}) = ?' .format(self.constant[0],self.constant[1],self.constant[2],self.constant[3]))\n",
    "        \n",
    "    def answer(self):\n",
    "        if self.pm == 0:\n",
    "            return Fraction(self.constant[0],self.constant[1]) + Fraction(self.constant[2],self.constant[3])\n",
    "        elif self.pm == 1:\n",
    "            return Fraction(self.constant[0],self.constant[1]) - Fraction(self.constant[2],self.constant[3])\n",
    "        elif self.pm == 2:\n",
    "            return Fraction(self.constant[0],self.constant[1]) * Fraction(self.constant[2],self.constant[3])\n",
    "        else:\n",
    "            return Fraction(self.constant[0],self.constant[1]) / Fraction(self.constant[2],self.constant[3])"
   ]
  },
  {
   "cell_type": "code",
   "execution_count": 168,
   "metadata": {},
   "outputs": [
    {
     "name": "stdout",
     "output_type": "stream",
     "text": [
      "(-8/7) + (6/7) = ?\n"
     ]
    }
   ],
   "source": [
    "q1 = Rational_number()\n",
    "q1.question()"
   ]
  },
  {
   "cell_type": "code",
   "execution_count": 169,
   "metadata": {},
   "outputs": [
    {
     "data": {
      "text/plain": [
       "Fraction(-2, 7)"
      ]
     },
     "execution_count": 169,
     "metadata": {},
     "output_type": "execute_result"
    }
   ],
   "source": [
    "q1.answer()"
   ]
  },
  {
   "cell_type": "code",
   "execution_count": 170,
   "metadata": {},
   "outputs": [
    {
     "data": {
      "text/plain": [
       "0.14285714285714285"
      ]
     },
     "execution_count": 170,
     "metadata": {},
     "output_type": "execute_result"
    }
   ],
   "source": [
    "float(Fraction(1,7))"
   ]
  },
  {
   "cell_type": "code",
   "execution_count": 171,
   "metadata": {},
   "outputs": [
    {
     "data": {
      "text/plain": [
       "0"
      ]
     },
     "execution_count": 171,
     "metadata": {},
     "output_type": "execute_result"
    }
   ],
   "source": [
    "round(float(Fraction(1,7)))"
   ]
  },
  {
   "cell_type": "code",
   "execution_count": 172,
   "metadata": {},
   "outputs": [
    {
     "data": {
      "text/plain": [
       "0.1"
      ]
     },
     "execution_count": 172,
     "metadata": {},
     "output_type": "execute_result"
    }
   ],
   "source": [
    "round(float(Fraction(1,7)),1)"
   ]
  },
  {
   "cell_type": "code",
   "execution_count": 173,
   "metadata": {},
   "outputs": [
    {
     "data": {
      "text/plain": [
       "0.142857"
      ]
     },
     "execution_count": 173,
     "metadata": {},
     "output_type": "execute_result"
    }
   ],
   "source": [
    "round(float(Fraction(1,7)),6)"
   ]
  },
  {
   "cell_type": "markdown",
   "metadata": {},
   "source": [
    "### 02 분수를 유한 소수로 나타내기"
   ]
  },
  {
   "cell_type": "code",
   "execution_count": 8,
   "metadata": {},
   "outputs": [
    {
     "data": {
      "text/plain": [
       "0.25"
      ]
     },
     "execution_count": 8,
     "metadata": {},
     "output_type": "execute_result"
    }
   ],
   "source": [
    "def prime_factorization(a):\n",
    "    b = range(2,a)\n",
    "    primes = []\n",
    "    for i in b:   # b의 요소인 i에 대해\n",
    "        while a % i == 0: # a를 로 나누어서 나머지가 0이면\n",
    "            primes.append(i) # c에 i를 추가하고\n",
    "            a /= i   # a를 i로 나눈다음\n",
    "    if primes == []:\n",
    "        primes.append(a)\n",
    "    return primes"
   ]
  },
  {
   "cell_type": "code",
   "execution_count": 19,
   "metadata": {},
   "outputs": [
    {
     "data": {
      "text/plain": [
       "[2, 2]"
      ]
     },
     "execution_count": 19,
     "metadata": {},
     "output_type": "execute_result"
    }
   ],
   "source": [
    "a = Fraction(1,4)\n",
    "prime_factorization(a.denominator)"
   ]
  },
  {
   "cell_type": "code",
   "execution_count": 24,
   "metadata": {},
   "outputs": [
    {
     "name": "stdout",
     "output_type": "stream",
     "text": [
      "[3, 3]\n",
      "0.7777777777777778\n"
     ]
    }
   ],
   "source": [
    "a = Fraction(7,9)\n",
    "\n",
    "print (prime_factorization(a.denominator))\n",
    "print (float(a))"
   ]
  },
  {
   "cell_type": "markdown",
   "metadata": {},
   "source": [
    "#### Question 2.19 "
   ]
  },
  {
   "cell_type": "code",
   "execution_count": 51,
   "metadata": {},
   "outputs": [],
   "source": [
    "def finite_OX(a,b):\n",
    "    finite = True\n",
    "    primes = prime_factorization(Fraction(a,b).denominator)\n",
    "    for i in primes:\n",
    "        if i != 2 and i != 5:    # i가 2가 아니고 5도 아니면\n",
    "            finite = False       # finite은 거짓\n",
    "    return finite"
   ]
  },
  {
   "cell_type": "code",
   "execution_count": 49,
   "metadata": {},
   "outputs": [
    {
     "data": {
      "text/plain": [
       "False"
      ]
     },
     "execution_count": 49,
     "metadata": {},
     "output_type": "execute_result"
    }
   ],
   "source": [
    "finite_OX(17,30)"
   ]
  },
  {
   "cell_type": "code",
   "execution_count": 52,
   "metadata": {},
   "outputs": [
    {
     "data": {
      "text/plain": [
       "True"
      ]
     },
     "execution_count": 52,
     "metadata": {},
     "output_type": "execute_result"
    }
   ],
   "source": [
    "finite_OX(12,15)"
   ]
  },
  {
   "cell_type": "markdown",
   "metadata": {},
   "source": [
    "#### Question 2.20"
   ]
  },
  {
   "cell_type": "code",
   "execution_count": 57,
   "metadata": {},
   "outputs": [
    {
     "name": "stdout",
     "output_type": "stream",
     "text": [
      "31\n"
     ]
    }
   ],
   "source": [
    "x = range(80,91)\n",
    "\n",
    "for i in x:\n",
    "    if finite_OX(i,450):\n",
    "        if Fraction(i,450).numerator == 9:\n",
    "            y = Fraction(i,450).denominator\n",
    "            print (i-y)"
   ]
  },
  {
   "cell_type": "markdown",
   "metadata": {},
   "source": [
    "#### Question 2.21"
   ]
  },
  {
   "cell_type": "code",
   "execution_count": 62,
   "metadata": {},
   "outputs": [
    {
     "name": "stdout",
     "output_type": "stream",
     "text": [
      "유한소수 갯수는 : 14\n"
     ]
    }
   ],
   "source": [
    "number_of_finite = 0\n",
    "for i in range(1,101):\n",
    "    if finite_OX(1,i):\n",
    "        number_of_finite += 1\n",
    "print('유한소수 갯수는 : {}'.format(number_of_finite))"
   ]
  },
  {
   "cell_type": "markdown",
   "metadata": {},
   "source": [
    "#### Question 2.22"
   ]
  },
  {
   "cell_type": "code",
   "execution_count": 63,
   "metadata": {},
   "outputs": [
    {
     "name": "stdout",
     "output_type": "stream",
     "text": [
      "19\n"
     ]
    }
   ],
   "source": [
    "a = range(1,10)\n",
    "for i in a:\n",
    "    if finite_OX(i,90):\n",
    "        if Fraction(i,90).numerator == 1:\n",
    "            b = Fraction(i,90).denominator\n",
    "            print(i+b)"
   ]
  },
  {
   "cell_type": "markdown",
   "metadata": {},
   "source": [
    "### 03 무리수 익히기"
   ]
  },
  {
   "cell_type": "code",
   "execution_count": 7,
   "metadata": {},
   "outputs": [
    {
     "data": {
      "text/plain": [
       "1.7320508075688772"
      ]
     },
     "execution_count": 7,
     "metadata": {},
     "output_type": "execute_result"
    }
   ],
   "source": [
    "np.sqrt(3)"
   ]
  },
  {
   "cell_type": "code",
   "execution_count": 6,
   "metadata": {},
   "outputs": [
    {
     "data": {
      "text/plain": [
       "3.141592653589793"
      ]
     },
     "execution_count": 6,
     "metadata": {},
     "output_type": "execute_result"
    }
   ],
   "source": [
    "np.pi"
   ]
  },
  {
   "cell_type": "code",
   "execution_count": 64,
   "metadata": {},
   "outputs": [
    {
     "data": {
      "text/plain": [
       "5.4413980927026531"
      ]
     },
     "execution_count": 64,
     "metadata": {},
     "output_type": "execute_result"
    }
   ],
   "source": [
    "np.pi * np.sqrt(3)"
   ]
  },
  {
   "cell_type": "markdown",
   "metadata": {},
   "source": [
    "#### Question 2.23"
   ]
  },
  {
   "cell_type": "code",
   "execution_count": 76,
   "metadata": {},
   "outputs": [
    {
     "data": {
      "text/plain": [
       "[2, 2, 2, 5]"
      ]
     },
     "execution_count": 76,
     "metadata": {},
     "output_type": "execute_result"
    }
   ],
   "source": [
    "prime_factorization(40)"
   ]
  },
  {
   "cell_type": "markdown",
   "metadata": {},
   "source": [
    "#### Question 2.24"
   ]
  },
  {
   "cell_type": "code",
   "execution_count": 86,
   "metadata": {},
   "outputs": [
    {
     "name": "stdout",
     "output_type": "stream",
     "text": [
      "[2, 5]\n"
     ]
    }
   ],
   "source": [
    "a = [2,2,2,5]\n",
    "new_number = []\n",
    "for i in a:\n",
    "    if i not in new_number:\n",
    "        new_number.append(i)\n",
    "print (new_number)"
   ]
  },
  {
   "cell_type": "code",
   "execution_count": 90,
   "metadata": {},
   "outputs": [
    {
     "name": "stdout",
     "output_type": "stream",
     "text": [
      "[3, 1]\n"
     ]
    }
   ],
   "source": [
    "how_many = []\n",
    "for j in new_number:\n",
    "    how_many.append(a.count(j))\n",
    "print (how_many)"
   ]
  },
  {
   "cell_type": "code",
   "execution_count": 129,
   "metadata": {},
   "outputs": [
    {
     "data": {
      "text/plain": [
       "[2, 5]"
      ]
     },
     "execution_count": 129,
     "metadata": {},
     "output_type": "execute_result"
    }
   ],
   "source": [
    "min_n = []\n",
    "for idx, val in enumerate(how_many):\n",
    "    if val % 2 == 0:\n",
    "        min_n.append(1)\n",
    "    else:\n",
    "        min_n.append(new_number[idx])\n",
    "min_n"
   ]
  },
  {
   "cell_type": "code",
   "execution_count": 130,
   "metadata": {},
   "outputs": [
    {
     "data": {
      "text/plain": [
       "10"
      ]
     },
     "execution_count": 130,
     "metadata": {},
     "output_type": "execute_result"
    }
   ],
   "source": [
    "min_n_multiply = 1\n",
    "for i in min_n:\n",
    "    min_n_multiply *= i\n",
    "min_n_multiply"
   ]
  },
  {
   "cell_type": "code",
   "execution_count": 137,
   "metadata": {},
   "outputs": [],
   "source": [
    "def min_n_for_rational(n):\n",
    "    primes = prime_factorization(n)\n",
    "    new_number = []\n",
    "    for i in primes:\n",
    "        if i not in new_number:\n",
    "            new_number.append(i)\n",
    "    print ('소인수분해 : {}'.format(primes))\n",
    "    print ('소인수 : {}'.format(new_number))\n",
    "    \n",
    "    how_many = []\n",
    "    for j in new_number:\n",
    "        how_many.append(primes.count(j))\n",
    "    print ('몇개씩 있나 : {}'.format(how_many))\n",
    "    \n",
    "    min_n = []\n",
    "    for idx, val in enumerate(how_many):\n",
    "        if val % 2 == 0:\n",
    "            min_n.append(1)\n",
    "        else:\n",
    "            min_n.append(new_number[idx])\n",
    "    min_n\n",
    "    print ('얼마나 곱해야 하나 : {}'.format(min_n))\n",
    "    \n",
    "    min_n_multiply = 1\n",
    "    for i in min_n:\n",
    "        min_n_multiply *= i\n",
    "    \n",
    "    print ('{}에서 최소 {}을 곱하면 {}이고 이의 제곱근은 {}이다.'.format(n, min_n_multiply, n*min_n_multiply, np.sqrt(n*min_n_multiply)))\n",
    "\n",
    "    return min_n_multiply"
   ]
  },
  {
   "cell_type": "code",
   "execution_count": 142,
   "metadata": {},
   "outputs": [
    {
     "name": "stdout",
     "output_type": "stream",
     "text": [
      "소인수분해 : [2, 2, 2, 13]\n",
      "소인수 : [2, 13]\n",
      "몇개씩 있나 : [3, 1]\n",
      "얼마나 곱해야 하나 : [2, 13]\n",
      "104에서 최소 26을 곱하면 2704이고 이의 제곱근은 52.0이다.\n"
     ]
    },
    {
     "data": {
      "text/plain": [
       "26"
      ]
     },
     "execution_count": 142,
     "metadata": {},
     "output_type": "execute_result"
    }
   ],
   "source": [
    "min_n_for_rational(104)"
   ]
  },
  {
   "cell_type": "code",
   "execution_count": 143,
   "metadata": {},
   "outputs": [
    {
     "name": "stdout",
     "output_type": "stream",
     "text": [
      "소인수분해 : [3, 5, 7]\n",
      "소인수 : [3, 5, 7]\n",
      "몇개씩 있나 : [1, 1, 1]\n",
      "얼마나 곱해야 하나 : [3, 5, 7]\n",
      "105에서 최소 105을 곱하면 11025이고 이의 제곱근은 105.0이다.\n"
     ]
    },
    {
     "data": {
      "text/plain": [
       "105"
      ]
     },
     "execution_count": 143,
     "metadata": {},
     "output_type": "execute_result"
    }
   ],
   "source": [
    "min_n_for_rational(105)"
   ]
  }
 ],
 "metadata": {
  "kernelspec": {
   "display_name": "Python 3",
   "language": "python",
   "name": "python3"
  },
  "language_info": {
   "codemirror_mode": {
    "name": "ipython",
    "version": 3
   },
   "file_extension": ".py",
   "mimetype": "text/x-python",
   "name": "python",
   "nbconvert_exporter": "python",
   "pygments_lexer": "ipython3",
   "version": "3.6.8"
  }
 },
 "nbformat": 4,
 "nbformat_minor": 2
}
