{
 "cells": [
  {
   "cell_type": "markdown",
   "metadata": {},
   "source": [
    "# Part 6 이차방정식 및 이차 함수 "
   ]
  },
  {
   "cell_type": "markdown",
   "metadata": {},
   "source": [
    "## Chapter 1 고차방정식 해 - numpy의 root "
   ]
  },
  {
   "cell_type": "code",
   "execution_count": 13,
   "metadata": {},
   "outputs": [],
   "source": [
    "from __future__ import division\n",
    "%matplotlib inline\n",
    "import numpy as np\n",
    "import matplotlib.pyplot as plt\n",
    "from fractions import Fraction"
   ]
  },
  {
   "cell_type": "code",
   "execution_count": 14,
   "metadata": {},
   "outputs": [
    {
     "data": {
      "text/plain": [
       "array([3.])"
      ]
     },
     "execution_count": 14,
     "metadata": {},
     "output_type": "execute_result"
    }
   ],
   "source": [
    "np.roots([1,-3])"
   ]
  },
  {
   "cell_type": "code",
   "execution_count": 15,
   "metadata": {},
   "outputs": [
    {
     "data": {
      "text/plain": [
       "array([1.4])"
      ]
     },
     "execution_count": 15,
     "metadata": {},
     "output_type": "execute_result"
    }
   ],
   "source": [
    "np.roots([5,-7])"
   ]
  },
  {
   "cell_type": "code",
   "execution_count": 16,
   "metadata": {},
   "outputs": [
    {
     "data": {
      "text/plain": [
       "array([ 1.        , -0.66666667])"
      ]
     },
     "execution_count": 16,
     "metadata": {},
     "output_type": "execute_result"
    }
   ],
   "source": [
    "np.roots([3,-1,-2])"
   ]
  },
  {
   "cell_type": "code",
   "execution_count": 17,
   "metadata": {},
   "outputs": [
    {
     "data": {
      "text/plain": [
       "array([-4., -2.])"
      ]
     },
     "execution_count": 17,
     "metadata": {},
     "output_type": "execute_result"
    }
   ],
   "source": [
    "np.roots([1,6,8])"
   ]
  },
  {
   "cell_type": "markdown",
   "metadata": {},
   "source": [
    "## Chapter 2 이차방정식 클래스"
   ]
  },
  {
   "cell_type": "code",
   "execution_count": 23,
   "metadata": {},
   "outputs": [],
   "source": [
    "class StudentRecord:\n",
    "    def __init__(self, name, email, phone):\n",
    "        self.name = name\n",
    "        self.email = email\n",
    "        self.phone = phone\n",
    "        temp = 0"
   ]
  },
  {
   "cell_type": "code",
   "execution_count": 24,
   "metadata": {},
   "outputs": [
    {
     "ename": "TypeError",
     "evalue": "__init__() missing 3 required positional arguments: 'name', 'email', and 'phone'",
     "output_type": "error",
     "traceback": [
      "\u001b[1;31m---------------------------------------------------------------------------\u001b[0m",
      "\u001b[1;31mTypeError\u001b[0m                                 Traceback (most recent call last)",
      "\u001b[1;32m<ipython-input-24-be45c50b24ce>\u001b[0m in \u001b[0;36m<module>\u001b[1;34m\u001b[0m\n\u001b[1;32m----> 1\u001b[1;33m \u001b[0ma\u001b[0m \u001b[1;33m=\u001b[0m \u001b[0mStudentRecord\u001b[0m\u001b[1;33m(\u001b[0m\u001b[1;33m)\u001b[0m\u001b[1;33m\u001b[0m\u001b[1;33m\u001b[0m\u001b[0m\n\u001b[0m",
      "\u001b[1;31mTypeError\u001b[0m: __init__() missing 3 required positional arguments: 'name', 'email', and 'phone'"
     ]
    }
   ],
   "source": [
    "a = StudentRecord()"
   ]
  },
  {
   "cell_type": "code",
   "execution_count": 25,
   "metadata": {},
   "outputs": [],
   "source": [
    "student1 = StudentRecord('김똑똑', 'abc@gmail.com', '01011112222')\n",
    "student2 = StudentRecord('박한별', 'efg@gmail.com', '01011113333')"
   ]
  },
  {
   "cell_type": "code",
   "execution_count": 26,
   "metadata": {},
   "outputs": [
    {
     "data": {
      "text/plain": [
       "'김똑똑'"
      ]
     },
     "execution_count": 26,
     "metadata": {},
     "output_type": "execute_result"
    }
   ],
   "source": [
    "student1.name"
   ]
  },
  {
   "cell_type": "code",
   "execution_count": 27,
   "metadata": {},
   "outputs": [
    {
     "ename": "AttributeError",
     "evalue": "'StudentRecord' object has no attribute 'temp'",
     "output_type": "error",
     "traceback": [
      "\u001b[1;31m---------------------------------------------------------------------------\u001b[0m",
      "\u001b[1;31mAttributeError\u001b[0m                            Traceback (most recent call last)",
      "\u001b[1;32m<ipython-input-27-185b66c35b47>\u001b[0m in \u001b[0;36m<module>\u001b[1;34m\u001b[0m\n\u001b[1;32m----> 1\u001b[1;33m \u001b[0mstudent1\u001b[0m\u001b[1;33m.\u001b[0m\u001b[0mtemp\u001b[0m\u001b[1;33m\u001b[0m\u001b[1;33m\u001b[0m\u001b[0m\n\u001b[0m",
      "\u001b[1;31mAttributeError\u001b[0m: 'StudentRecord' object has no attribute 'temp'"
     ]
    }
   ],
   "source": [
    "student1.temp"
   ]
  },
  {
   "cell_type": "code",
   "execution_count": 28,
   "metadata": {},
   "outputs": [],
   "source": [
    "class StudentRecord:\n",
    "    def __init__(self, name, email, phone):\n",
    "        self.name = name\n",
    "        self.email = email\n",
    "        self.phone = phone\n",
    "    def math(self, score):\n",
    "        self.math_score = score\n",
    "    def english(self, score):\n",
    "        self.english_score = score\n",
    "    def show(self):\n",
    "        print ('{}의 수학 성적은 {}, 영어 성적은 {}이다.'.format(self.name, self.math_score, self.english_score))\n",
    "    def grade_both(self):\n",
    "        if np.average([self.math_score, self.english_score]) >= 90:\n",
    "            self.grade = 'A'\n",
    "        elif np.average([self.math_score, self.english_score]) >= 80:\n",
    "            self.grade = 'B'\n",
    "        else:\n",
    "            self.grade = 'C'\n",
    "        return self.grade\n",
    "    "
   ]
  },
  {
   "cell_type": "code",
   "execution_count": 29,
   "metadata": {},
   "outputs": [
    {
     "name": "stdout",
     "output_type": "stream",
     "text": [
      "김똑똑의 수학 성적은 70, 영어 성적은 85이다.\n",
      "박한별의 수학 성적은 90, 영어 성적은 80이다.\n"
     ]
    }
   ],
   "source": [
    "student1 = StudentRecord('김똑똑', 'abc@gmail.com', '01011112222')\n",
    "student2 = StudentRecord('박한별', 'efg@gmail.com', '01011113333')\n",
    "student1.math(70)\n",
    "student1.english(85)\n",
    "student2.math(90)\n",
    "student2.english(80)\n",
    "student1.show()\n",
    "student2.show()"
   ]
  },
  {
   "cell_type": "code",
   "execution_count": 30,
   "metadata": {},
   "outputs": [
    {
     "name": "stdout",
     "output_type": "stream",
     "text": [
      "김똑똑의 최종 성적은 C\n",
      "박한별의 최종 성적은 B\n"
     ]
    }
   ],
   "source": [
    "print ('{}의 최종 성적은 {}'.format(student1.name, student1.grade_both()))\n",
    "print ('{}의 최종 성적은 {}'.format(student2.name, student2.grade_both()))"
   ]
  },
  {
   "cell_type": "markdown",
   "metadata": {},
   "source": [
    "## Chapter 3 이차방정식 \n",
    "### 01 하나씩 대입해서 풀기"
   ]
  },
  {
   "cell_type": "code",
   "execution_count": 31,
   "metadata": {},
   "outputs": [
    {
     "data": {
      "image/png": "[encoded data removed]",
      "text/plain": [
       "<Figure size 432x288 with 1 Axes>"
      ]
     },
     "metadata": {
      "needs_background": "light"
     },
     "output_type": "display_data"
    }
   ],
   "source": [
    "x = np.arange(-2, 8)\n",
    "y = 5*x - x**2\n",
    "plt.plot(x,y)\n",
    "plt.grid()"
   ]
  },
  {
   "cell_type": "code",
   "execution_count": 32,
   "metadata": {},
   "outputs": [
    {
     "name": "stdout",
     "output_type": "stream",
     "text": [
      "(-2, -14)\n",
      "(-1, -6)\n",
      "(0, 0)\n",
      "(1, 4)\n",
      "(2, 6)\n",
      "(3, 6)\n",
      "(4, 4)\n",
      "(5, 0)\n",
      "(6, -6)\n",
      "(7, -14)\n"
     ]
    }
   ],
   "source": [
    "for i in x:\n",
    "    print ((i, 5*i-i**2))"
   ]
  },
  {
   "cell_type": "code",
   "execution_count": 33,
   "metadata": {},
   "outputs": [
    {
     "name": "stdout",
     "output_type": "stream",
     "text": [
      "-2\n",
      "1\n"
     ]
    }
   ],
   "source": [
    "x = np.arange(-2,3,1)\n",
    "\n",
    "for i in x:\n",
    "    if i**2 + i -2 == 0:\n",
    "        print (i)"
   ]
  },
  {
   "cell_type": "code",
   "execution_count": 34,
   "metadata": {},
   "outputs": [
    {
     "name": "stdout",
     "output_type": "stream",
     "text": [
      "x = -5, y = 33\n",
      "x = -4, y = 21\n",
      "x = -3, y = 11\n",
      "x = -2, y = 3\n",
      "x = -1, y = -3\n",
      "x = 0, y = -7\n",
      "x = 1, y = -9\n",
      "x = 2, y = -9\n",
      "x = 3, y = -7\n",
      "x = 4, y = -3\n",
      "x = 5, y = 3\n"
     ]
    },
    {
     "data": {
      "image/png": "[encoded data removed]",
      "text/plain": [
       "<Figure size 432x288 with 1 Axes>"
      ]
     },
     "metadata": {
      "needs_background": "light"
     },
     "output_type": "display_data"
    }
   ],
   "source": [
    "x = np.arange(-5,6,1)\n",
    "y = x**2 - 3*x - 7\n",
    "for i in x:\n",
    "    print ('x = {}, y = {}'.format(i, i**2 - 3*i - 7))\n",
    "plt.plot(x, y)\n",
    "plt.grid()"
   ]
  },
  {
   "cell_type": "code",
   "execution_count": 37,
   "metadata": {},
   "outputs": [
    {
     "data": {
      "image/png": "[encoded data removed]",
      "text/plain": [
       "<Figure size 432x288 with 1 Axes>"
      ]
     },
     "metadata": {
      "needs_background": "light"
     },
     "output_type": "display_data"
    },
    {
     "data": {
      "image/png": "[encoded data removed]",
      "text/plain": [
       "<Figure size 432x288 with 1 Axes>"
      ]
     },
     "metadata": {
      "needs_background": "light"
     },
     "output_type": "display_data"
    }
   ],
   "source": [
    "x = np.arange(-1.6,-1.5,0.01)\n",
    "y = x**2 - 3*x - 7\n",
    "#for i in x:\n",
    "#    print ('x = {}, y = {}'.format(i, i**2 - 3*i - 7))\n",
    "plt.plot(x, y)\n",
    "plt.grid()\n",
    "\n",
    "plt.figure()\n",
    "x = np.arange(4.4,4.7,0.01)\n",
    "y = x**2 - 3*x - 7\n",
    "#for i in x:\n",
    "#    print ('x = {}, y = {}'.format(i, i**2 - 3*i - 7))\n",
    "plt.plot(x, y)\n",
    "plt.grid()"
   ]
  },
  {
   "cell_type": "markdown",
   "metadata": {},
   "source": [
    "#### 이차방정식 문제 생성기 만들기"
   ]
  },
  {
   "cell_type": "code",
   "execution_count": 38,
   "metadata": {},
   "outputs": [],
   "source": [
    "class Second_order_eq:\n",
    "    def __init__(self):\n",
    "        print ('x = {-5 부터 5까지의 정수} 다음을 이차방정식의 문제를 푸시오.')\n",
    "    def question(self):\n",
    "        self.c, self.d = np.random.randint(low = -5, high = 5, size = 2)\n",
    "        self.a = self.c + self.d\n",
    "        self.b = self.c * self.d\n",
    "        print ('x^2 + {}x + {} = 0'.format(self.a, self.b))\n",
    "        \n",
    "    def answer(self):\n",
    "        print ('x = {}, {}'.format(-self.c, -self.d))"
   ]
  },
  {
   "cell_type": "code",
   "execution_count": 39,
   "metadata": {},
   "outputs": [
    {
     "name": "stdout",
     "output_type": "stream",
     "text": [
      "x = {-5 부터 5까지의 정수} 다음을 이차방정식의 문제를 푸시오.\n",
      "x^2 + -1x + 0 = 0\n"
     ]
    }
   ],
   "source": [
    "a = Second_order_eq()\n",
    "a.question()"
   ]
  },
  {
   "cell_type": "code",
   "execution_count": 40,
   "metadata": {},
   "outputs": [
    {
     "name": "stdout",
     "output_type": "stream",
     "text": [
      "x = 0, 1\n"
     ]
    }
   ],
   "source": [
    "a.answer()"
   ]
  },
  {
   "cell_type": "markdown",
   "metadata": {},
   "source": [
    "### 02 인수분해해서 풀기"
   ]
  },
  {
   "cell_type": "code",
   "execution_count": 41,
   "metadata": {},
   "outputs": [],
   "source": [
    "def factorization(a):\n",
    "    b = range(1, a)\n",
    "    c = []\n",
    "    for i in b:\n",
    "        if a % i ==0:\n",
    "            c.append(i)\n",
    "    c.append(a)\n",
    "    return c"
   ]
  },
  {
   "cell_type": "code",
   "execution_count": 42,
   "metadata": {},
   "outputs": [
    {
     "name": "stdout",
     "output_type": "stream",
     "text": [
      "[1, 2, 3, 6]\n",
      "[1, 3, 7, 21]\n"
     ]
    }
   ],
   "source": [
    "a_factor = factorization(6)\n",
    "c_factor = factorization(21)\n",
    "\n",
    "print (a_factor)\n",
    "print (c_factor)"
   ]
  },
  {
   "cell_type": "code",
   "execution_count": 43,
   "metadata": {},
   "outputs": [
    {
     "name": "stdout",
     "output_type": "stream",
     "text": [
      "[1, 2, 3, 6, -1, -2, -3, -6]\n",
      "[1, 3, 7, 21, -1, -3, -7, -21]\n"
     ]
    }
   ],
   "source": [
    "a_minus = list(map(lambda x: x*-1, a_factor))\n",
    "c_minus = list(map(lambda x: x*-1, c_factor))\n",
    "a_factor += a_minus\n",
    "c_factor += c_minus\n",
    "\n",
    "print (a_factor)\n",
    "print (c_factor)"
   ]
  },
  {
   "cell_type": "code",
   "execution_count": 44,
   "metadata": {},
   "outputs": [
    {
     "name": "stdout",
     "output_type": "stream",
     "text": [
      "6x^2 + 23x + 21 = (2x + 3)(3.0x + 7.0)\n",
      "6x^2 + 23x + 21 = (3x + 7)(2.0x + 3.0)\n"
     ]
    }
   ],
   "source": [
    "for d in a_factor:\n",
    "    for e in c_factor:\n",
    "        f = 6/d\n",
    "        g = 21/e\n",
    "        if d*g + e*f == 23:\n",
    "            if d > 0 or e > 0:\n",
    "                print ('6x^2 + 23x + 21 = ({}x + {})({}x + {})'.format(d,e,f,g))\n",
    "                break"
   ]
  },
  {
   "cell_type": "code",
   "execution_count": 45,
   "metadata": {},
   "outputs": [
    {
     "name": "stdout",
     "output_type": "stream",
     "text": [
      "[1]\n",
      "[1, 2, 4, 8, 16, 32]\n"
     ]
    }
   ],
   "source": [
    "a_factor = factorization(1)\n",
    "c_factor = factorization(32)\n",
    "\n",
    "print (a_factor)\n",
    "print (c_factor)"
   ]
  },
  {
   "cell_type": "code",
   "execution_count": 46,
   "metadata": {},
   "outputs": [
    {
     "name": "stdout",
     "output_type": "stream",
     "text": [
      "[1, -1]\n",
      "[1, 2, 4, 8, 16, 32, -1, -2, -4, -8, -16, -32]\n"
     ]
    }
   ],
   "source": [
    "a_minus = list(map(lambda x: x*-1, a_factor))\n",
    "c_minus = list(map(lambda x: x*-1, c_factor))\n",
    "a_factor += a_minus\n",
    "c_factor += c_minus\n",
    "\n",
    "print (a_factor)\n",
    "print (c_factor)"
   ]
  },
  {
   "cell_type": "code",
   "execution_count": 47,
   "metadata": {},
   "outputs": [
    {
     "name": "stdout",
     "output_type": "stream",
     "text": [
      "x^2 + 12x + 32 = (1x + 4)(1.0x + 8.0)\n"
     ]
    }
   ],
   "source": [
    "for d in a_factor:\n",
    "    for e in c_factor:\n",
    "        f = 1/d\n",
    "        g = 32/e\n",
    "        if d*g + e*f == 12:\n",
    "            if d > 0 or e > 0:\n",
    "                print ('x^2 + 12x + 32 = ({}x + {})({}x + {})'.format(d,e,f,g))\n",
    "                break"
   ]
  },
  {
   "cell_type": "code",
   "execution_count": 48,
   "metadata": {},
   "outputs": [],
   "source": [
    "def decomposition(a,b,c):\n",
    "    if c == 0:\n",
    "        print ('x({}x+{})'.format(a, b))\n",
    "    else:\n",
    "        a_factor = factorization(a)\n",
    "        c_factor = factorization(c)\n",
    "        a_minus = list(map(lambda x: x*-1, a_factor))\n",
    "        c_minus = list(map(lambda x: x*-1, c_factor))\n",
    "        a_factor += a_minus\n",
    "        c_factor += c_minus\n",
    "        for d in a_factor:\n",
    "            for e in c_factor:\n",
    "                f = a/d\n",
    "                g = c/e\n",
    "                if d*g + e*f == b:\n",
    "                    if d > 0 or e > 0:\n",
    "                        print ('{}x^2 + {}x + {} = ({}x +{})({}x+{})'.format(a,b,c,d,e,f,g))\n",
    "                        break\n",
    "    #return i, j, ii, jj"
   ]
  },
  {
   "cell_type": "code",
   "execution_count": 49,
   "metadata": {},
   "outputs": [
    {
     "name": "stdout",
     "output_type": "stream",
     "text": [
      "1x^2 + 4x + 3 = (1x +1)(1.0x+3.0)\n"
     ]
    }
   ],
   "source": [
    "decomposition(1,4,3)"
   ]
  },
  {
   "cell_type": "code",
   "execution_count": 50,
   "metadata": {},
   "outputs": [
    {
     "name": "stdout",
     "output_type": "stream",
     "text": [
      "1x^2 + -3x + 2 = (1x +-1)(1.0x+-2.0)\n",
      "1x^2 + -3x + 2 = (-1x +1)(-1.0x+2.0)\n"
     ]
    }
   ],
   "source": [
    "decomposition(1,-3,2)"
   ]
  },
  {
   "cell_type": "code",
   "execution_count": 51,
   "metadata": {},
   "outputs": [
    {
     "name": "stdout",
     "output_type": "stream",
     "text": [
      "x(3x+-3)\n"
     ]
    }
   ],
   "source": [
    "decomposition(3,-3,0)"
   ]
  },
  {
   "cell_type": "code",
   "execution_count": 52,
   "metadata": {},
   "outputs": [
    {
     "name": "stdout",
     "output_type": "stream",
     "text": [
      "1x^2 + 0x + -1 = (1x +-1)(1.0x+1.0)\n",
      "1x^2 + 0x + -1 = (-1x +1)(-1.0x+-1.0)\n"
     ]
    }
   ],
   "source": [
    "decomposition(1,0,-1)"
   ]
  },
  {
   "cell_type": "markdown",
   "metadata": {},
   "source": [
    "### 03 완전제곱식을 이용한 이차방정식 풀기"
   ]
  },
  {
   "cell_type": "code",
   "execution_count": 53,
   "metadata": {},
   "outputs": [],
   "source": [
    "def second_order_direct(a,b,c):\n",
    "    if b**2 - 4*a*c < 0:\n",
    "        print ('No answer')\n",
    "    else:\n",
    "        x1 = (-b + np.sqrt(b**2 - 4*a*c)) / (2*a)\n",
    "        x2 = (-b - np.sqrt(b**2 - 4*a*c)) / (2*a)\n",
    "    return x1, x2"
   ]
  },
  {
   "cell_type": "code",
   "execution_count": 54,
   "metadata": {},
   "outputs": [
    {
     "data": {
      "text/plain": [
       "(1.0, 1.0)"
      ]
     },
     "execution_count": 54,
     "metadata": {},
     "output_type": "execute_result"
    }
   ],
   "source": [
    "second_order_direct(1,-2,1)"
   ]
  },
  {
   "cell_type": "code",
   "execution_count": 55,
   "metadata": {},
   "outputs": [
    {
     "data": {
      "text/plain": [
       "(1.0, 0.0)"
      ]
     },
     "execution_count": 55,
     "metadata": {},
     "output_type": "execute_result"
    }
   ],
   "source": [
    "second_order_direct(3,-3,0)"
   ]
  },
  {
   "cell_type": "code",
   "execution_count": 56,
   "metadata": {},
   "outputs": [
    {
     "data": {
      "text/plain": [
       "(1.0, -1.0)"
      ]
     },
     "execution_count": 56,
     "metadata": {},
     "output_type": "execute_result"
    }
   ],
   "source": [
    "second_order_direct(4,0,-4)"
   ]
  },
  {
   "cell_type": "code",
   "execution_count": 57,
   "metadata": {},
   "outputs": [],
   "source": [
    "class Second_order:\n",
    "    def __init__(self):\n",
    "        print ('완전 제곱식을 이용하여 다음 이차방정식을 푸시오.')\n",
    "    def question(self):\n",
    "        self.d = 0\n",
    "        self.f = 0\n",
    "        while self.d == 0 or self.f == 0:\n",
    "            self.d, self.e, self.f, self.g = np.random.randint(-5, 6, size = 4)\n",
    "        self.a = self.d * self.f\n",
    "        self.b = self.e * self.f + self.d * self.g\n",
    "        self.c = self.e * self.g\n",
    "        print ('{}x^2 + {}x + {} = 0'.format(self.a, self.b, self.c))\n",
    "        \n",
    "    def answer(self):\n",
    "        if self.b**2 - 4*self.a*self.c < 0:\n",
    "            print ('No answer')\n",
    "        else:\n",
    "            x1 = (-self.b + np.sqrt(self.b**2 - 4*self.a*self.c)) / (2*self.a)\n",
    "            x2 = (-self.b - np.sqrt(self.b**2 - 4*self.a*self.c)) / (2*self.a)\n",
    "        return x1, x2"
   ]
  },
  {
   "cell_type": "code",
   "execution_count": 58,
   "metadata": {},
   "outputs": [
    {
     "name": "stdout",
     "output_type": "stream",
     "text": [
      "완전 제곱식을 이용하여 다음 이차방정식을 푸시오.\n",
      "4x^2 + 6x + -4 = 0\n"
     ]
    }
   ],
   "source": [
    "a = Second_order()\n",
    "a.question()"
   ]
  },
  {
   "cell_type": "code",
   "execution_count": 59,
   "metadata": {},
   "outputs": [
    {
     "data": {
      "text/plain": [
       "(0.5, -2.0)"
      ]
     },
     "execution_count": 59,
     "metadata": {},
     "output_type": "execute_result"
    }
   ],
   "source": [
    "a.answer()"
   ]
  },
  {
   "cell_type": "markdown",
   "metadata": {},
   "source": [
    "#### Question 6.1"
   ]
  },
  {
   "cell_type": "markdown",
   "metadata": {},
   "source": [
    "$b^2 -4ac$을 계산하면\n",
    "\n",
    "$4^2 - 4*3*(-3k+2) < 0$\n",
    "\n",
    "$16 +36k - 24 < 0$\n",
    "\n",
    "$36k - 8 < 0$\n",
    "\n",
    "$k < \\frac{2}{9} $"
   ]
  },
  {
   "cell_type": "markdown",
   "metadata": {},
   "source": [
    "#### Question 6.2"
   ]
  },
  {
   "cell_type": "markdown",
   "metadata": {},
   "source": [
    "두 근일 3b, 4b라 하면\n",
    "\n",
    "$12b^2 = -12a$\n",
    "\n",
    "$7b = 14$\n",
    "\n",
    "b = 2\n",
    "\n",
    "따라서 두 근은 6, 8이며 a는 -4"
   ]
  },
  {
   "cell_type": "markdown",
   "metadata": {},
   "source": [
    "#### Question 6.3"
   ]
  },
  {
   "cell_type": "markdown",
   "metadata": {},
   "source": [
    "$n^2 + n = 156$"
   ]
  },
  {
   "cell_type": "code",
   "execution_count": 60,
   "metadata": {},
   "outputs": [
    {
     "data": {
      "text/plain": [
       "array([-13.,  12.])"
      ]
     },
     "execution_count": 60,
     "metadata": {},
     "output_type": "execute_result"
    }
   ],
   "source": [
    "np.roots([1,1,-156])"
   ]
  },
  {
   "cell_type": "markdown",
   "metadata": {},
   "source": [
    "## Chapter 4 이차 함수"
   ]
  },
  {
   "cell_type": "code",
   "execution_count": 61,
   "metadata": {},
   "outputs": [
    {
     "data": {
      "image/png": "[encoded data removed]",
      "text/plain": [
       "<Figure size 432x288 with 1 Axes>"
      ]
     },
     "metadata": {
      "needs_background": "light"
     },
     "output_type": "display_data"
    }
   ],
   "source": [
    "x = np.arange(-5,6)\n",
    "y = x**2\n",
    "plt.plot(x,y)\n",
    "plt.grid()"
   ]
  },
  {
   "cell_type": "code",
   "execution_count": 62,
   "metadata": {},
   "outputs": [
    {
     "data": {
      "image/png": "[encoded data removed]",
      "text/plain": [
       "<Figure size 432x288 with 1 Axes>"
      ]
     },
     "metadata": {
      "needs_background": "light"
     },
     "output_type": "display_data"
    }
   ],
   "source": [
    "y2 = 2*x**2\n",
    "y3 = 0.5*x**2\n",
    "plt.plot(x,y3, label = 'a = 0.5')\n",
    "plt.plot(x,y, label = 'a = 1')\n",
    "plt.plot(x,y2, label = 'a = 2')\n",
    "plt.legend(fontsize = 14)\n",
    "plt.grid()"
   ]
  },
  {
   "cell_type": "code",
   "execution_count": 63,
   "metadata": {},
   "outputs": [
    {
     "data": {
      "image/png": "[encoded data removed]",
      "text/plain": [
       "<Figure size 432x288 with 1 Axes>"
      ]
     },
     "metadata": {
      "needs_background": "light"
     },
     "output_type": "display_data"
    }
   ],
   "source": [
    "y2 = 2*x**2\n",
    "y3 = 0.5*x**2\n",
    "plt.plot(x,-y3, label = 'a = -0.5')\n",
    "plt.plot(x,-y, label = 'a = -1')\n",
    "plt.plot(x,-y2, label = 'a = -2')\n",
    "plt.legend(fontsize = 14)\n",
    "plt.grid()"
   ]
  },
  {
   "cell_type": "markdown",
   "metadata": {},
   "source": [
    "## 이차함수의 $y = a(x-p)^2 + q$ 그래프 익히기"
   ]
  },
  {
   "cell_type": "code",
   "execution_count": 64,
   "metadata": {},
   "outputs": [
    {
     "data": {
      "image/png": "[encoded data removed]",
      "text/plain": [
       "<Figure size 432x288 with 1 Axes>"
      ]
     },
     "metadata": {
      "needs_background": "light"
     },
     "output_type": "display_data"
    }
   ],
   "source": [
    "x = np.arange(6)\n",
    "y = 2*(x-3)**2 + 4\n",
    "plt.plot(x,y)\n",
    "plt.scatter(3,4, s = 100, color = 'r')\n",
    "plt.grid()"
   ]
  },
  {
   "cell_type": "markdown",
   "metadata": {},
   "source": [
    "#### Question 6.4"
   ]
  },
  {
   "cell_type": "code",
   "execution_count": 65,
   "metadata": {},
   "outputs": [
    {
     "data": {
      "image/png": "[encoded data removed]",
      "text/plain": [
       "<Figure size 432x288 with 1 Axes>"
      ]
     },
     "metadata": {
      "needs_background": "light"
     },
     "output_type": "display_data"
    }
   ],
   "source": [
    "x = np.arange(-1,5)\n",
    "y = 3*(x-1)**2 - 2\n",
    "plt.plot(x,y)\n",
    "plt.grid()"
   ]
  },
  {
   "cell_type": "markdown",
   "metadata": {},
   "source": [
    "### 03 이차함수 $y = ax^2 + bx + c$ 그래프 익히기"
   ]
  },
  {
   "cell_type": "markdown",
   "metadata": {},
   "source": [
    "$-5x^2 + 9x+2$"
   ]
  },
  {
   "cell_type": "code",
   "execution_count": 66,
   "metadata": {},
   "outputs": [
    {
     "data": {
      "text/plain": [
       "True"
      ]
     },
     "execution_count": 66,
     "metadata": {},
     "output_type": "execute_result"
    }
   ],
   "source": [
    "9**2 - (4*-5*2) >= 0"
   ]
  },
  {
   "cell_type": "code",
   "execution_count": 67,
   "metadata": {},
   "outputs": [
    {
     "data": {
      "image/png": "[encoded data removed]",
      "text/plain": [
       "<Figure size 432x288 with 1 Axes>"
      ]
     },
     "metadata": {
      "needs_background": "light"
     },
     "output_type": "display_data"
    }
   ],
   "source": [
    "x = np.arange(-5,6)\n",
    "y = -5*x**2 + 9*x + 2\n",
    "plt.plot(x,y)\n",
    "plt.grid()"
   ]
  },
  {
   "cell_type": "markdown",
   "metadata": {},
   "source": [
    "#### Question 6.5"
   ]
  },
  {
   "cell_type": "markdown",
   "metadata": {},
   "source": [
    "$y = \\frac{-4}{3}x^2 + q$ 가 (-3, -17)을 지나야 한다.\n",
    "\n",
    "-3을 대입하면\n",
    "\n",
    "-12 + q = -17\n",
    "\n",
    "따라서 q = -5"
   ]
  },
  {
   "cell_type": "markdown",
   "metadata": {},
   "source": [
    "#### Question 6.6"
   ]
  },
  {
   "cell_type": "code",
   "execution_count": 68,
   "metadata": {},
   "outputs": [
    {
     "data": {
      "text/plain": [
       "[<matplotlib.lines.Line2D at 0x1be61e2f828>]"
      ]
     },
     "execution_count": 68,
     "metadata": {},
     "output_type": "execute_result"
    },
    {
     "data": {
      "image/png": "[encoded data removed]",
      "text/plain": [
       "<Figure size 432x288 with 1 Axes>"
      ]
     },
     "metadata": {
      "needs_background": "light"
     },
     "output_type": "display_data"
    }
   ],
   "source": [
    "x = [0.5]\n",
    "n = 100\n",
    "for i in range(n):\n",
    "    x.append(3*x[-1]*(1-x[-1]))\n",
    "plt.plot(range(n), x[:-1])"
   ]
  },
  {
   "cell_type": "markdown",
   "metadata": {},
   "source": [
    "#### Question 6.7"
   ]
  },
  {
   "cell_type": "markdown",
   "metadata": {},
   "source": [
    "해답1)\n",
    "\n",
    "AA = 11x\n",
    "\n",
    "$AA^2 = 121 \\times x^2$\n",
    "\n",
    "$121 \\times x^2 = 1100 \\times y + 11 \\times z$ \n",
    "\n",
    "$y = x-1$\n",
    "\n",
    "$ z = x/2 $\n",
    "\n",
    "따라서\n",
    "\n",
    "$121 \\times x^2 = 1100 (x-1) + 11(x/2)$ \n",
    "\n",
    "$121x^2 - 1100x - 5.5x + 1100 = 0 $"
   ]
  },
  {
   "cell_type": "code",
   "execution_count": 69,
   "metadata": {},
   "outputs": [
    {
     "data": {
      "text/plain": [
       "array([8.        , 1.13636364])"
      ]
     },
     "execution_count": 69,
     "metadata": {},
     "output_type": "execute_result"
    }
   ],
   "source": [
    "np.roots([121, -1105.5, 1100])"
   ]
  },
  {
   "cell_type": "markdown",
   "metadata": {},
   "source": [
    "따라서 A = 88"
   ]
  },
  {
   "cell_type": "markdown",
   "metadata": {},
   "source": [
    "해답2)"
   ]
  },
  {
   "cell_type": "code",
   "execution_count": 70,
   "metadata": {},
   "outputs": [
    {
     "name": "stdout",
     "output_type": "stream",
     "text": [
      "[11 22 33 44 55 66 77 88 99]\n",
      "88\n"
     ]
    }
   ],
   "source": [
    "AA = np.arange(11, 100, 11)\n",
    "print (AA)\n",
    "for i in AA:\n",
    "    if len(str(i**2)) == 4:\n",
    "        if (int(str(i**2)[:2])/11) == (i/11 - 1):\n",
    "            if (int(str(i**2)[2:])/11) == (i/11/2):\n",
    "                print (i)"
   ]
  },
  {
   "cell_type": "markdown",
   "metadata": {},
   "source": [
    "#### Question 6.8"
   ]
  },
  {
   "cell_type": "markdown",
   "metadata": {},
   "source": [
    "$x(x+1) = 1122$"
   ]
  },
  {
   "cell_type": "code",
   "execution_count": 71,
   "metadata": {},
   "outputs": [
    {
     "data": {
      "text/plain": [
       "array([-34.,  33.])"
      ]
     },
     "execution_count": 71,
     "metadata": {},
     "output_type": "execute_result"
    }
   ],
   "source": [
    "np.roots([1,1,-1122])"
   ]
  },
  {
   "cell_type": "markdown",
   "metadata": {},
   "source": [
    "33, 34p 이다."
   ]
  },
  {
   "cell_type": "markdown",
   "metadata": {},
   "source": [
    "#### Question 6.9\n"
   ]
  },
  {
   "cell_type": "markdown",
   "metadata": {},
   "source": [
    "$a(x+1)(x-5) = 0$\n",
    "\n",
    "$a \\times 1 \\times -5 = 10$\n",
    "\n",
    "$a = -2$"
   ]
  },
  {
   "cell_type": "markdown",
   "metadata": {},
   "source": [
    "#### Question 6.10\n"
   ]
  },
  {
   "cell_type": "markdown",
   "metadata": {},
   "source": [
    "$y = a(x-p)^2 + q$ 을 이용하면\n",
    "\n",
    "$y = a(x+1)^2 + 5$\n",
    "\n",
    "$3 = a + 5$\n",
    "\n",
    "a = -2"
   ]
  },
  {
   "cell_type": "markdown",
   "metadata": {},
   "source": [
    "#### Question 6.11"
   ]
  },
  {
   "cell_type": "code",
   "execution_count": 72,
   "metadata": {},
   "outputs": [
    {
     "data": {
      "text/plain": [
       "[<matplotlib.lines.Line2D at 0x1be61fe8048>]"
      ]
     },
     "execution_count": 72,
     "metadata": {},
     "output_type": "execute_result"
    },
    {
     "data": {
      "image/png": "[encoded data removed]",
      "text/plain": [
       "<Figure size 432x288 with 1 Axes>"
      ]
     },
     "metadata": {
      "needs_background": "light"
     },
     "output_type": "display_data"
    }
   ],
   "source": [
    "x = np.arange(2,11)\n",
    "y = x + np.sqrt(x-2)\n",
    "plt.plot(x,y)"
   ]
  },
  {
   "cell_type": "markdown",
   "metadata": {},
   "source": [
    "#### Question 6.12"
   ]
  },
  {
   "cell_type": "markdown",
   "metadata": {},
   "source": [
    "$2x^2 -22x + 85 = x^2 - 22x + 121$\n",
    "\n",
    "$x^2 = 36$\n",
    "\n",
    "x = 6, -6"
   ]
  },
  {
   "cell_type": "markdown",
   "metadata": {},
   "source": [
    "#### Question 6.13"
   ]
  },
  {
   "cell_type": "markdown",
   "metadata": {},
   "source": [
    "양변을 제곱하면\n",
    "\n",
    "$\\sqrt{(x+5)(5-x)} = 4$\n",
    "\n",
    "$x^2-25 = -16$\n",
    "\n",
    "x = 3,-3"
   ]
  },
  {
   "cell_type": "markdown",
   "metadata": {},
   "source": [
    "#### Question 6.14"
   ]
  },
  {
   "cell_type": "markdown",
   "metadata": {},
   "source": [
    "x > -3 과 x > 2 를 동시에 만족해야함.\n",
    "\n",
    "양변을 제곱해서 전개하여 푸는방식이 있지만, 코딩으로 풀어보겠습니다."
   ]
  },
  {
   "cell_type": "code",
   "execution_count": 78,
   "metadata": {},
   "outputs": [
    {
     "ename": "SyntaxError",
     "evalue": "invalid syntax (<ipython-input-78-26d5120d05ce>, line 4)",
     "output_type": "error",
     "traceback": [
      "\u001b[1;36m  File \u001b[1;32m\"<ipython-input-78-26d5120d05ce>\"\u001b[1;36m, line \u001b[1;32m4\u001b[0m\n\u001b[1;33m    print (i)x\u001b[0m\n\u001b[1;37m             ^\u001b[0m\n\u001b[1;31mSyntaxError\u001b[0m\u001b[1;31m:\u001b[0m invalid syntax\n"
     ]
    }
   ],
   "source": [
    "x = np.arange(2, 100)\n",
    "for i in x:\n",
    "    if (np.sqrt(i+3)-1) == np.sqrt(i - np.sqrt(i-2)):\n",
    "        print (i)x"
   ]
  },
  {
   "cell_type": "markdown",
   "metadata": {},
   "source": [
    "#### Question 6.15\n"
   ]
  },
  {
   "cell_type": "markdown",
   "metadata": {},
   "source": [
    "$u^2 = x$라 놓자."
   ]
  },
  {
   "cell_type": "code",
   "execution_count": 75,
   "metadata": {},
   "outputs": [
    {
     "data": {
      "text/plain": [
       "array([0.25      , 0.11111111])"
      ]
     },
     "execution_count": 75,
     "metadata": {},
     "output_type": "execute_result"
    }
   ],
   "source": [
    "np.roots([36, -13, 1])"
   ]
  },
  {
   "cell_type": "markdown",
   "metadata": {},
   "source": [
    " $u^2 = \\frac{1}{4}, \\frac{1}{9}$이므로\n",
    " \n",
    "$ u = \\pm\\frac{1}{2}, \\pm\\frac{1}{3}$"
   ]
  },
  {
   "cell_type": "markdown",
   "metadata": {},
   "source": [
    "#### Question 6.16"
   ]
  },
  {
   "cell_type": "markdown",
   "metadata": {},
   "source": [
    "$5x - \\frac{4x}{5-x} = 4$\n",
    "\n",
    "$5x(5-x) - 4x = 4(5-x)$"
   ]
  },
  {
   "cell_type": "code",
   "execution_count": 76,
   "metadata": {},
   "outputs": [
    {
     "data": {
      "text/plain": [
       "array([4., 1.])"
      ]
     },
     "execution_count": 76,
     "metadata": {},
     "output_type": "execute_result"
    }
   ],
   "source": [
    "np.roots([-5, 25, -20])"
   ]
  }
 ],
 "metadata": {
  "kernelspec": {
   "display_name": "Python 3",
   "language": "python",
   "name": "python3"
  },
  "language_info": {
   "codemirror_mode": {
    "name": "ipython",
    "version": 3
   },
   "file_extension": ".py",
   "mimetype": "text/x-python",
   "name": "python",
   "nbconvert_exporter": "python",
   "pygments_lexer": "ipython3",
   "version": "3.7.1"
  }
 },
 "nbformat": 4,
 "nbformat_minor": 2
}
