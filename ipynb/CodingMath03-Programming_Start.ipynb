{
 "cells": [
  {
   "cell_type": "markdown",
   "metadata": {},
   "source": [
    "# 첫 프로그래밍"
   ]
  },
  {
   "cell_type": "markdown",
   "metadata": {},
   "source": [
    "프로그래밍을 스스로 할줄 알면, 우선\n",
    "컴퓨터를 단순히 사용하는 것을 넘어 제어하는 방법을 배우게 된다. \n",
    "또한\n",
    "프로그래밍을 할 수록 더 창의적이 되며, 더 정확하게 생각하게 되고, 문제를 논리적으로 분석하고 해결하는 능력도 배양하게 된다. \n",
    "\n",
    "그런데 프로그래밍을 하려면 어떻게 해야 하는가? \n",
    "카카오톡, 트위터, 페이스북과 같은 소프트웨어를 구현하려면 무엇을 어떻게 배워야 하는가? \n",
    "\n",
    "물론 처음부터 그러한 위대한 소프트웨어를 프로그래밍할 수는 없다. \n",
    "하지만 그러한 소프트웨어를 구현하기 위해서는 프로그래밍을 제대로 할 수 있어야 한다는 사실은 너무나도 자명하다. \n",
    "결국, 프로그래밍을 먼저 배워야 한다. \n",
    "쉽고 간단한 것부터 시작해보자."
   ]
  },
  {
   "cell_type": "markdown",
   "metadata": {},
   "source": [
    "먼저, 아래 파이썬 코드를 읽어 보면서 아래 코드의 의미, 즉\n",
    "아래 코드를 실행하면 어떤 일을 하는지 알아본다.\n",
    "찬찬히 읽으면 파이썬 언어를 전혀 모른다 해도 코드가 하는 일을 이해할 수 있다.\n",
    "\n",
    "---\n",
    "```python\n",
    "print(\"Welcome\")\n",
    "g = input(\"Guess the number: \")\n",
    "guess = int(g)\n",
    "if guess == 5:\n",
    "    print(\"You win!\")\n",
    "else:\n",
    "    print(\"You lose!\")\n",
    "print(\"Game over!\")\n",
    "```\n",
    "\n",
    "---"
   ]
  },
  {
   "cell_type": "markdown",
   "metadata": {},
   "source": [
    "__코드설명__\n",
    "\n",
    "* 위 코드는 숫자 5를 맞추는 게임이다.\n",
    "* 참여자가 임의의 숫자를 입력하여 숫자 5를 맞추면 \"You win\"을,\n",
    "    아니면 \"You lose!\"를 출력한다. \n",
    "* `if`, `else`는 파이썬 키워드, \n",
    "* `g`, `guess`는 변수,\n",
    "* `print`, `input`, `int`는 함수이다.\n",
    "* 이중에 아마도 `int`의 의미만 불확실할 것이며 다른 것들은 의미가 명확하다. (`int` 함수의 의미는 나중에 배운다.)"
   ]
  },
  {
   "cell_type": "markdown",
   "metadata": {},
   "source": [
    "## 파이썬 프로그램 실행하기"
   ]
  },
  {
   "cell_type": "markdown",
   "metadata": {},
   "source": [
    "### 파이썬 코드 실행하기\n",
    "\n",
    "파이썬은 소스코드를 컴파일 없이 바로 실행시킬 수 있다.\n",
    "물론 파이썬 언어를 컴퓨터 CPU가 바로 이해하지는 못한다.\n",
    "따라서 파이썬 소스코드를 컴퓨터가 이해할 수 있는 언어로 해석을 해주어야 하는 데,\n",
    "이 기능을 수행하는 것을 해석기(인터프리터)라고 한다.\n",
    "즉, 파이썬 언어는 컴파일러 대신에 해석기를 이용하여 코드의 의미를 CPU에 전달하며, \n",
    "CPU는 전달된 내용을 바로 실행한다.\n",
    "C 언어 또는 Java와 달리 소스코드를 한줄한줄 실행시킬 수도 있다. \n",
    "예를 들어 위 코드의 처음 몇 줄을 따로따로 실행하면 다음과 같다."
   ]
  },
  {
   "cell_type": "code",
   "execution_count": 1,
   "metadata": {},
   "outputs": [
    {
     "name": "stdout",
     "output_type": "stream",
     "text": [
      "Welcome\n"
     ]
    }
   ],
   "source": [
    "print(\"Welcome\")"
   ]
  },
  {
   "cell_type": "code",
   "execution_count": 2,
   "metadata": {},
   "outputs": [
    {
     "name": "stdout",
     "output_type": "stream",
     "text": [
      "Guess the number: 6\n"
     ]
    }
   ],
   "source": [
    "g = input(\"Guess the number: \")"
   ]
  },
  {
   "cell_type": "markdown",
   "metadata": {},
   "source": [
    "`input` 함수는 키보드를 이용하여 입력받은 임의의 키보드 조합을 __문자열__로 리턴하는 함수이다.\n",
    "위 코드에서 변수 `g`에는 `input` 함수에 의해 리턴되는 값이 할당된다.\n",
    "\n",
    "__주의사항:__\n",
    "\n",
    "* `input`은 입력된 값을 모두 문자열로 처리해서 리턴한다.\n",
    "* 따라서 숫자 8을 입력하다라도 숫자가 아닌 문자열 `\"8\"`이 변수 `g`에 할당된다.\n",
    "    이것은 `g`의 자료형을 `type` 함수를 이용하여 확인할 수 있다."
   ]
  },
  {
   "cell_type": "code",
   "execution_count": 3,
   "metadata": {},
   "outputs": [
    {
     "data": {
      "text/plain": [
       "int"
      ]
     },
     "execution_count": 3,
     "metadata": {},
     "output_type": "execute_result"
    }
   ],
   "source": [
    "type(g)"
   ]
  },
  {
   "cell_type": "markdown",
   "metadata": {},
   "source": [
    "실제로 `g`에 할당된 값을 확인해도 문자열 `8`이 보여진다."
   ]
  },
  {
   "cell_type": "code",
   "execution_count": 4,
   "metadata": {},
   "outputs": [
    {
     "data": {
      "text/plain": [
       "6"
      ]
     },
     "execution_count": 4,
     "metadata": {},
     "output_type": "execute_result"
    }
   ],
   "source": [
    "g"
   ]
  },
  {
   "cell_type": "markdown",
   "metadata": {},
   "source": [
    "반면에 숫자 5의 자료형은 `int`, 즉 정수형이다."
   ]
  },
  {
   "cell_type": "code",
   "execution_count": 5,
   "metadata": {},
   "outputs": [
    {
     "data": {
      "text/plain": [
       "int"
      ]
     },
     "execution_count": 5,
     "metadata": {},
     "output_type": "execute_result"
    }
   ],
   "source": [
    "type(5)"
   ]
  },
  {
   "cell_type": "markdown",
   "metadata": {},
   "source": [
    "따라서 서로 자료형이 다른 문자열 `'8'`과 숫자 5는 비교할 수 없는 대상이다. \n",
    "실제로 동일여부를 확인하면 틀리다라도 답이 나온다."
   ]
  },
  {
   "cell_type": "code",
   "execution_count": 6,
   "metadata": {},
   "outputs": [
    {
     "data": {
      "text/plain": [
       "False"
      ]
     },
     "execution_count": 6,
     "metadata": {},
     "output_type": "execute_result"
    }
   ],
   "source": [
    "'8' == 5"
   ]
  },
  {
   "cell_type": "markdown",
   "metadata": {},
   "source": [
    "__주의사항:__\n",
    "\n",
    "* `'8'`과 5가 숫자가 다르다고 해서 `False`가 나온 것이 아니라 두 값의 자료형이 다르기 때문이다.\n",
    "* `'8'`과 8을 비교해도 다르다고 나온다."
   ]
  },
  {
   "cell_type": "code",
   "execution_count": 7,
   "metadata": {},
   "outputs": [
    {
     "data": {
      "text/plain": [
       "False"
      ]
     },
     "execution_count": 7,
     "metadata": {},
     "output_type": "execute_result"
    }
   ],
   "source": [
    "'8' == 8"
   ]
  },
  {
   "cell_type": "markdown",
   "metadata": {},
   "source": [
    "문자열과 정수는 문법적으로 서로 다른 자료형이고\n",
    "서로 다른 자료형에 속하는 값들은 무조건 다르다고 판단된다.\n",
    "\n",
    "따라서, `input`을 이용하여 입력된 값을 정수 `5`와 비교하려면 먼저 두 값의 자료형을 통일시켜야 한다.\n",
    "여기서는 `int` 함수를 이용하여 숫자로만 이루어진 문자열을 정수 자료형으로 변환하는 것을 선택하였다."
   ]
  },
  {
   "cell_type": "code",
   "execution_count": 8,
   "metadata": {
    "collapsed": true
   },
   "outputs": [],
   "source": [
    "guess = int(g)"
   ]
  },
  {
   "cell_type": "markdown",
   "metadata": {},
   "source": [
    "여기까지 실행하고 `guess` 변수에 할당된 값을 확인하면 앞서 입력한 값을 확인할 수 있다."
   ]
  },
  {
   "cell_type": "code",
   "execution_count": 9,
   "metadata": {},
   "outputs": [
    {
     "data": {
      "text/plain": [
       "6"
      ]
     },
     "execution_count": 9,
     "metadata": {},
     "output_type": "execute_result"
    }
   ],
   "source": [
    "guess"
   ]
  },
  {
   "cell_type": "markdown",
   "metadata": {},
   "source": [
    "`guess`에 저장된 값의 자료형을 확인하면 정수형임을 알 수 있다."
   ]
  },
  {
   "cell_type": "code",
   "execution_count": 10,
   "metadata": {},
   "outputs": [
    {
     "data": {
      "text/plain": [
       "int"
      ]
     },
     "execution_count": 10,
     "metadata": {},
     "output_type": "execute_result"
    }
   ],
   "source": [
    "type(guess)"
   ]
  },
  {
   "cell_type": "markdown",
   "metadata": {},
   "source": [
    "__주의:__\n",
    "* `int` 함수는 자연수로만 구성된 문자열을 처리할 수 있다.\n",
    "* 입력값이 실수 모양의 문자열이거나 다른 종류의 문자열이면 오류가 발생한다."
   ]
  },
  {
   "cell_type": "code",
   "execution_count": 11,
   "metadata": {},
   "outputs": [
    {
     "ename": "ValueError",
     "evalue": "invalid literal for int() with base 10: '11.3'",
     "output_type": "error",
     "traceback": [
      "\u001b[0;31m---------------------------------------------------------------------------\u001b[0m",
      "\u001b[0;31mValueError\u001b[0m                                Traceback (most recent call last)",
      "\u001b[0;32m<ipython-input-11-e63dedef32e0>\u001b[0m in \u001b[0;36m<module>\u001b[0;34m()\u001b[0m\n\u001b[0;32m----> 1\u001b[0;31m \u001b[0mint\u001b[0m\u001b[0;34m(\u001b[0m\u001b[0;34m\"11.3\"\u001b[0m\u001b[0;34m)\u001b[0m\u001b[0;34m\u001b[0m\u001b[0m\n\u001b[0m",
      "\u001b[0;31mValueError\u001b[0m: invalid literal for int() with base 10: '11.3'"
     ]
    }
   ],
   "source": [
    "int(\"11.3\")"
   ]
  },
  {
   "cell_type": "code",
   "execution_count": 12,
   "metadata": {},
   "outputs": [
    {
     "ename": "ValueError",
     "evalue": "invalid literal for int() with base 10: 'abc'",
     "output_type": "error",
     "traceback": [
      "\u001b[0;31m---------------------------------------------------------------------------\u001b[0m",
      "\u001b[0;31mValueError\u001b[0m                                Traceback (most recent call last)",
      "\u001b[0;32m<ipython-input-12-908f2fe4faa4>\u001b[0m in \u001b[0;36m<module>\u001b[0;34m()\u001b[0m\n\u001b[0;32m----> 1\u001b[0;31m \u001b[0mint\u001b[0m\u001b[0;34m(\u001b[0m\u001b[0;34m\"abc\"\u001b[0m\u001b[0;34m)\u001b[0m\u001b[0;34m\u001b[0m\u001b[0m\n\u001b[0m",
      "\u001b[0;31mValueError\u001b[0m: invalid literal for int() with base 10: 'abc'"
     ]
    }
   ],
   "source": [
    "int(\"abc\")"
   ]
  },
  {
   "cell_type": "markdown",
   "metadata": {},
   "source": [
    "### 인터프리터 vs 컴파일러"
   ]
  },
  {
   "cell_type": "markdown",
   "metadata": {},
   "source": [
    "#### 인터프리터 사용 언어\n",
    "앞서 설명한 것과 같이 코드를 한줄한줄 실행할 수 있는 언어를 __해석기 사용 언어__ \n",
    "또는 __스크립트 언어__라고 부르며,\n",
    "파이썬 코드를 해석하여 실행할 수 있도록 하는 것을 __해석기(인터프리터)__라고 한다.\n",
    "해석기가 작동하는 방식은 아래 그림과 같다.\n",
    "\n",
    "<p>\n",
    "<table cellspacing=\"20\">\n",
    "<tr>\n",
    "<td>\n",
    "<img src=\"../images/thinkpython001.png\" style=\"width:430\">\n",
    "</td>\n",
    "</tr>\n",
    "</table>\n",
    "</p>\n",
    "\n",
    "그림 출처: [Think Python: How to Think Like a Computer Scientist](http://www.greenteapress.com/thinkpython/html/thinkpython002.html#toc4)"
   ]
  },
  {
   "cell_type": "markdown",
   "metadata": {},
   "source": [
    "__예제:__ 앞서 언급한 \"숫자 맞추기 게임\"을 해석기를 이용하여 바로 실행할 수 있다."
   ]
  },
  {
   "cell_type": "code",
   "execution_count": 13,
   "metadata": {},
   "outputs": [
    {
     "name": "stdout",
     "output_type": "stream",
     "text": [
      "Welcome\n",
      "Guess the number: 6\n",
      "You lose!\n",
      "Game over!\n"
     ]
    }
   ],
   "source": [
    "print(\"Welcome\")\n",
    "g = input(\"Guess the number: \")\n",
    "guess = int(g)\n",
    "if guess == 5:\n",
    "    print(\"You win!\")\n",
    "else:\n",
    "    print(\"You lose!\")\n",
    "print(\"Game over!\")"
   ]
  },
  {
   "cell_type": "markdown",
   "metadata": {},
   "source": [
    "#### 컴파일러 사용 언어\n",
    "반면에 C 언어와 Java 언어의 경우는 __컴파일러 사용 언어__라 불린다.\n",
    "컴파이러는 소스코드를 일괄적으로 대상코드(object code)로 변환시킨다.\n",
    "변화 과정에서 소스코드 전체를 기계가 이해할 수 있는 저수준 언어로 번역하면서 링크과정 등 기타 다른 일들을 수행한다. \n",
    "파이썬의 경우와는 달리 소스코드가 아닌 대상코드를 실행하게 된다. \n",
    "컴파일 과정은 그림으로 나타내면 아래와 같다.\n",
    "\n",
    "<p>\n",
    "<table cellspacing=\"20\">\n",
    "<tr>\n",
    "<td>\n",
    "<img src=\"../images/thinkpython002.png\" style=\"width:600\">\n",
    "</td>\n",
    "</tr>\n",
    "</table>\n",
    "</p>\n",
    "\n",
    "그림 출처: [Think Python: How to Think Like a Computer Scientist](http://www.greenteapress.com/thinkpython/html/thinkpython002.html#toc4)"
   ]
  },
  {
   "cell_type": "markdown",
   "metadata": {},
   "source": [
    "__예제: C 코드 예제__\n",
    "\n",
    "C 언어의 경우 코드 상단에 헤더, 그 다음에는 main 함수 등이 있어야 한다.\n",
    "또한 먼저 소스코드를 컴파일하여 목적코드로 변환한 다음에야 실행할 수 있다.\n",
    "\n",
    "\"숫자 맞추기 게임\"을 C 코드로 다음과 같이 구현할 수 있다.\n",
    "\n",
    "---\n",
    "```c\n",
    "#include <stdio.h>\n",
    "#include <stdlib.h>\n",
    "\n",
    "int main(void) {\n",
    "\tint guess;\n",
    "\n",
    "\tprintf(\"Welcome!\\n\");\n",
    "\tprintf(\"Guess the number: \");\n",
    "\tscanf(\"%d\", &guess); \n",
    "\tif(guess == 5) \n",
    "\t\tprintf(\"You win!\\n\"); \n",
    "\telse\n",
    "        printf(\"You lose!\\n\");\n",
    "\tprintf(\"Game over!\\n\");\n",
    "//\tsystem(\"pause\");\n",
    "\treturn 0;\n",
    "}\n",
    "```\n",
    "\n",
    "---"
   ]
  },
  {
   "cell_type": "markdown",
   "metadata": {},
   "source": [
    "__주의:__ 아래 코드는 코드의 실행이 너무 빠르게 종료될 경우 콘솔창이 사라지지 않도록 하는 명령어이며, \n",
    "    일반적으로는 필요하지 않은 코드이다.    \n",
    "```c\n",
    "system(\"pause\");\n",
    "```"
   ]
  },
  {
   "cell_type": "markdown",
   "metadata": {},
   "source": [
    "## 프로그램 구상하기"
   ]
  },
  {
   "cell_type": "markdown",
   "metadata": {},
   "source": [
    "* 목표: 숫자 맞추기 게임 개발\n",
    "\n",
    "* 목표를 달성하기 위해 프로그램을 어떻게 구현할지 구상을 먼저 해야 함.\n",
    "\n",
    "* 게임 구현에 필요 요소 확인\n",
    "    * 사용자로부터 입력 받아 저장하는 수단: `input` 함수 활용\n",
    "    * 두 개의 숫자를 비교하는 수단: 동일 값 여부 비교(`==`) 불리언 연산자 활용\n",
    "    * 판단을 하고 판단 결과에 따라 다른 일을 하도록 하는 수단: `if ... else ...` 명령문 활용\n",
    "    * 출력 수단: `print` 함수 활용"
   ]
  },
  {
   "cell_type": "markdown",
   "metadata": {},
   "source": [
    "앞서 언급한 \"숫자 맞추기 게임\"의 필수요소를 적절히 활용하여 배치해야 하며, 이 부분을 배우고 기억해야 한다.\n",
    "아래 코드는 앞서 실행한 코드와 동일하다. \n",
    "대신에 각각의 명령문이 왜 그곳에 위치하였는가를 앞서 설명한 필수요소를 주석으로 함께 표시하고 있다."
   ]
  },
  {
   "cell_type": "code",
   "execution_count": 14,
   "metadata": {},
   "outputs": [
    {
     "name": "stdout",
     "output_type": "stream",
     "text": [
      "Welcome\n",
      "Guess the number: 6\n",
      "You lose!\n",
      "Game over!\n"
     ]
    }
   ],
   "source": [
    "# 환영인사 출력\n",
    "print(\"Welcome\")\n",
    "\n",
    "# 사용자로부터 값 입력받기\n",
    "g = input(\"Guess the number: \")\n",
    "guess = int(g)\n",
    "\n",
    "# 값을 비교하여 결과에 따라 다른 명령문 실행하기\n",
    "if guess == 5:\n",
    "    print(\"You win!\")\n",
    "else:\n",
    "    print(\"You lose!\")\n",
    "    \n",
    "# 종료 확인 출력    \n",
    "print(\"Game over!\")"
   ]
  },
  {
   "cell_type": "markdown",
   "metadata": {},
   "source": [
    "## 프로그램 수준 높이기 1\n",
    "\n",
    "앞서 사용한 \"숫자 맞추기 게임\" 코드는 사용자에게 불공평한 게임을 제공한다. \n",
    "맞춰야 하는 숫자에 대한 아무런 정보를 주지 않기 때문이다.\n",
    "\n",
    "형평성을 높이기 위해 사용자가 입력한 값이 맞추어야 하는 숫자와 비교해서 \n",
    "큰지, 작은지, 같은지 여부를 알려줄 수 있도록 프로그램을 작성하면 아래와 같다.\n",
    "\n",
    "예를 들어, 3을 입력하면 \"너무 작다\"(\"Too low\")를, \n",
    "7을 입력하면 \"너무 크다\"(\"Too high\")를 출력한다."
   ]
  },
  {
   "cell_type": "code",
   "execution_count": 15,
   "metadata": {},
   "outputs": [
    {
     "name": "stdout",
     "output_type": "stream",
     "text": [
      "Welcome\n",
      "Guess the number: 3\n",
      "Too low\n",
      "Game over!\n"
     ]
    }
   ],
   "source": [
    "print(\"Welcome\")\n",
    "g = input(\"Guess the number: \")\n",
    "guess = int(g)\n",
    "if guess == 5:\n",
    "    print(\"You win!\")\n",
    "else:\n",
    "    if guess > 5:\n",
    "        print(\"Too high\")\n",
    "    else:\n",
    "        print(\"Too low\")\n",
    "print(\"Game over!\")"
   ]
  },
  {
   "cell_type": "code",
   "execution_count": 16,
   "metadata": {},
   "outputs": [
    {
     "name": "stdout",
     "output_type": "stream",
     "text": [
      "Welcome\n",
      "Guess the number: 7\n",
      "Too high\n",
      "Game over!\n"
     ]
    }
   ],
   "source": [
    "print(\"Welcome\")\n",
    "g = input(\"Guess the number: \")\n",
    "guess = int(g)\n",
    "if guess == 5:\n",
    "    print(\"You win!\")\n",
    "else:\n",
    "    if guess > 5:\n",
    "        print(\"Too high\")\n",
    "    else:\n",
    "        print(\"Too low\")\n",
    "print(\"Game over!\")"
   ]
  },
  {
   "cell_type": "markdown",
   "metadata": {},
   "source": [
    "__주의사항: 들여쓰기__\n",
    "\n",
    "* 파이썬에서는 들여쓰기가 선택사항이 아니다.\n",
    "* 위 코드에서 5번 줄은 `if`문의 본체이므로 반드시 한 번 들여쓰기를 해야 한다.\n",
    "* 7번, 9번 줄도 `else`문의 본체이므로 동일하게 들여쓰기를 해야 한다.\n",
    "* 반면에 8번 줄의 경우 중첩된 `if` 문의 본체이므로 들여쓰기를 두 번 해야한다.\n",
    "* 10번 줄도 동일한 규칙이 적용된다.\n",
    "* `if`, `else`, `while`, `for` 문은 기본적으로 콜론(`:`)을 문장 끝에 사용해야 하고 본체는 들여 써야 한다.\n",
    "* 들여쓰기는 기본적으로 탭키를 이용한다."
   ]
  },
  {
   "cell_type": "markdown",
   "metadata": {},
   "source": [
    "## 프로그램 수준 높이기 2\n",
    "\n",
    "바로 위에서 수정한 코드는 원래 코드보다 형평성을 좀 더 보장한다.\n",
    "그런데 추측한 값이 틀려도 게임이 바로 멈춘다.\n",
    "새로운 추측을 하려면 게임을 다시 실행시켜야 해서 불편하다.\n",
    "답을 맞출 때까지 게임이 반복되도록 코드를 수정해보자.\n",
    "\n",
    "__힌트:__  `while` 명령문을 이용하면 된다."
   ]
  },
  {
   "cell_type": "markdown",
   "metadata": {},
   "source": [
    "### `while` 명령문\n",
    "\n",
    "`while` 명령문은 특정 조건이 성립하는 조건에서 특정 코드를 반복해서 실행하기 위해서 사용되며,\n",
    "아래와 같은 모양을 갖는다.\n",
    "\n",
    "```python\n",
    "while 조건문:\n",
    "    본체\n",
    "```\n",
    "\n",
    "* 조건문: 참(`True`)과 거짓(`False`)으로 판별될 수 있는 문장 의미\n",
    "* 본체: 임의의 파이썬 코드가 사용됨\n",
    "    * 반드시 들여쓰기를 사용해야 함\n",
    "\n",
    "이제 우리가 원하는 대로 `while` 문을 작성하기 위해서는 조건문과 본체에 들어갈 코드를 선택해야 한다. \n",
    "\n",
    "* 본체 선택 기준: 무슨 일을 반복할 것인지 판단해야 함.\n",
    "* 조건문 선택 기준: 동일한 일을 어떤 조건하에서 반복할지 판단해야 함.\n",
    "\n",
    "__예제:__ 숫자 맞추기 게임\n",
    "\n",
    "* 본체: 숫자를 선택하고 선택된 숫자를 정수 5와 비교하여 이겼다, 너무 크다, 너무 작다를 판단하는 일.\n",
    "* 조건문: 선택된 숫자가 정수 5와 다르다는 조건. 그래야만 새로운 숫자를 선택할 수 있기 때문.\n",
    "\n",
    "따라서 아래와 같이 `while` 명령문을 이용하여 코드를 작성할 수 있다."
   ]
  },
  {
   "cell_type": "code",
   "execution_count": 17,
   "metadata": {},
   "outputs": [
    {
     "name": "stdout",
     "output_type": "stream",
     "text": [
      "Welcome\n",
      "Guess the number: 3\n",
      "Too low\n",
      "Guess the number: 7\n",
      "Too high\n",
      "Guess the number: 5\n",
      "You win!\n",
      "Game over!\n"
     ]
    }
   ],
   "source": [
    "print(\"Welcome\")\n",
    "guess = 0\n",
    "while guess != 5:\n",
    "    g = input(\"Guess the number: \")\n",
    "    guess = int(g)\n",
    "    if guess == 5:\n",
    "        print(\"You win!\")\n",
    "    else:\n",
    "        if guess > 5:\n",
    "            print(\"Too high\")\n",
    "        else:\n",
    "            print(\"Too low\")\n",
    "print(\"Game over!\")"
   ]
  },
  {
   "cell_type": "markdown",
   "metadata": {},
   "source": [
    "__주의사항:__\n",
    "\n",
    "* 위 코드에서 2번 줄에서 `guess` 변수를 초기화 하는 과정이 필요함에 주의한다.\n",
    "* `while` 조건문에서 `guess` 변수의 값을 확인하려면 `guess` 변수가 이미 선언되어 있어야 하기 때문이다."
   ]
  },
  {
   "cell_type": "markdown",
   "metadata": {},
   "source": [
    "## 프로그램 수준 높이기 3\n",
    "\n",
    "앞서 '프로그램 수준 높이기 2'에서 개선한 코드는 상당히 훌륭하다. \n",
    "사용자가 숨은 값을 맞출 수 있도록 유도하며, 숫자 5을 맞추어야만 종료된다.\n",
    "\n",
    "그런데 위 게임은 한 번 하면 더 이상 사용하지 않는다. \n",
    "맞추어야 하는 숫자가 항상 5이기 때문이다.\n",
    "따라서 위 게임을 좀 더 흥미롭게 만들기 위해서 맞추어야 하는 숫자를 게임이 실행될 때마다 임의로 변하도록 바꿀 필요가 있다.\n",
    "파이썬에서 정수 숫자를 임의로 만들어주는 `randint` 라는 함수를 이용할 수 있다.\n",
    "\n",
    "나머지 과정은 앞서의 코드와 동일하다. 다만, 정수 `5` 대신에 `randint`가 임의로 생성하는 값을 기억해 두고 \n",
    "그것을 맞추는 게임이 되도록 코드 일부만 수정하면 된다.\n",
    "아래 코드에서는 숫자 `5` 대신에 `secret` 이란 변수가 임의로 생성되어 맞추어야 하는 숫자를 담는 그릇 역할을 수행한다.\n",
    "\n",
    "__주의사항:__\n",
    "* `randint` 함수는 두 개의 정수 인자를 받으면 두 정수를 양끝으로 갖는 구간에서 임의의 값을 정하여 리턴한다.\n",
    "    예를 들어, 1부터 10사이의 정수 중에서 임의의 값을 선택하려면 `randint(1, 10)`이라 작성하면 된다.\n",
    "* `randint` 함수를 사용하기 위해서 `random` 이라는 모듈을 사용하겠다는 명령을 내려야 한다.\n",
    "* 전문용어로 `random` 모듈을 임포트(import)한다 또는 _불러 들인다_ 라고 하며 \n",
    "    아래와 같이 `import` 키워드를 이용한다.\n",
    "* 특정 모듈을 임포트하는 방법엔 여러 방식이 있다. 여기서는 특정 모듈에서 특정 함수만을 임포트하는 방법을 배운다.\n",
    "\n",
    "        from random import randint"
   ]
  },
  {
   "cell_type": "code",
   "execution_count": 18,
   "metadata": {
    "collapsed": true
   },
   "outputs": [],
   "source": [
    "from random import randint"
   ]
  },
  {
   "cell_type": "code",
   "execution_count": 19,
   "metadata": {},
   "outputs": [
    {
     "data": {
      "text/plain": [
       "2"
      ]
     },
     "execution_count": 19,
     "metadata": {},
     "output_type": "execute_result"
    }
   ],
   "source": [
    "secret = randint(1, 10)\n",
    "secret            "
   ]
  },
  {
   "cell_type": "markdown",
   "metadata": {},
   "source": [
    "`rantint` 함수는 실행될 때마다 다른 값을 되돌려준다."
   ]
  },
  {
   "cell_type": "code",
   "execution_count": 20,
   "metadata": {},
   "outputs": [
    {
     "data": {
      "text/plain": [
       "5"
      ]
     },
     "execution_count": 20,
     "metadata": {},
     "output_type": "execute_result"
    }
   ],
   "source": [
    "secret = randint(1, 10)\n",
    "secret            "
   ]
  },
  {
   "cell_type": "code",
   "execution_count": 21,
   "metadata": {},
   "outputs": [
    {
     "data": {
      "text/plain": [
       "8"
      ]
     },
     "execution_count": 21,
     "metadata": {},
     "output_type": "execute_result"
    }
   ],
   "source": [
    "secret = randint(1, 10)\n",
    "secret            "
   ]
  },
  {
   "cell_type": "markdown",
   "metadata": {},
   "source": [
    "이제 수준 높은 \"숫자 맞추기 게임\"을 구현할 수 있다."
   ]
  },
  {
   "cell_type": "code",
   "execution_count": 22,
   "metadata": {},
   "outputs": [
    {
     "name": "stdout",
     "output_type": "stream",
     "text": [
      "Welcome\n",
      "Guess the number: 3\n",
      "Too low\n",
      "Guess the number: 7\n",
      "Too low\n",
      "Guess the number: 9\n",
      "You win!\n",
      "Game over!\n"
     ]
    }
   ],
   "source": [
    "from random import randint\n",
    "secret = randint(1, 10)\n",
    "\n",
    "print(\"Welcome\")\n",
    "guess = 0\n",
    "while guess != secret:\n",
    "    g = input(\"Guess the number: \")\n",
    "    guess = int(g)\n",
    "    if guess == secret:\n",
    "        print(\"You win!\")\n",
    "    else:\n",
    "        if guess > secret:\n",
    "            print(\"Too high\")\n",
    "        else:\n",
    "            print(\"Too low\")\n",
    "print(\"Game over!\")"
   ]
  },
  {
   "cell_type": "markdown",
   "metadata": {},
   "source": [
    "## 정리: 이번에 사용한 파이썬 도구\n",
    "\n",
    "* 조건문: `if`/`else` 명령문\n",
    "* 반복문: `while` 명령문\n",
    "* 할당 연산자: `=`\n",
    "* 동치비교 연산자: `==`\n",
    "* 비동치비교 연산자: `!=`\n",
    "* 크기비교 연산자: `>`\n",
    "* `print()` 함수: 문자열을 터미널에 출력\n",
    "* `input()` 함수: 사용자의 입력값을 받아 문자열로 처리해서 리턴함 \n",
    "* `int()` 함수: 순수하게 숫자로만 이루어진 문자열을 정수형 자료형으로 변화하여 리턴함.\n",
    "* `randint()` 함수: 정해진 구간 내에서 난수를 생성하여 리턴함"
   ]
  }
 ],
 "metadata": {
  "kernelspec": {
   "display_name": "Python 3",
   "language": "python",
   "name": "python3"
  },
  "language_info": {
   "codemirror_mode": {
    "name": "ipython",
    "version": 3
   },
   "file_extension": ".py",
   "mimetype": "text/x-python",
   "name": "python",
   "nbconvert_exporter": "python",
   "pygments_lexer": "ipython3",
   "version": "3.6.8"
  }
 },
 "nbformat": 4,
 "nbformat_minor": 1
}
